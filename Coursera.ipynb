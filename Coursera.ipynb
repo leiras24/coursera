{
 "cells": [
  {
   "cell_type": "markdown",
   "metadata": {},
   "source": [
    "# Coursera Courses"
   ]
  },
  {
   "cell_type": "code",
   "execution_count": null,
   "metadata": {},
   "outputs": [],
   "source": [
    "#Import all the libraries \n",
    "import pandas as pd\n",
    "import numpy as np\n",
    "import chart_studio.plotly as py\n",
    "import cufflinks as cf\n",
    "import seaborn as sns\n",
    "import plotly.express as px\n",
    "import matplotlib.pyplot as plt\n",
    "from scipy import stats\n",
    "%matplotlib inline"
   ]
  },
  {
   "cell_type": "code",
   "execution_count": 1,
   "metadata": {},
   "outputs": [
    {
     "ename": "NameError",
     "evalue": "name 'os' is not defined",
     "output_type": "error",
     "traceback": [
      "\u001b[1;31m---------------------------------------------------------------------------\u001b[0m",
      "\u001b[1;31mNameError\u001b[0m                                 Traceback (most recent call last)",
      "Cell \u001b[1;32mIn[1], line 4\u001b[0m\n\u001b[0;32m      1\u001b[0m \u001b[38;5;66;03m#file_path = r'C:\\Users\\joaol\\Desktop\\Coursera_data\\coursea_data.csv' #Use the correct path in your pc \u001b[39;00m\n\u001b[0;32m      2\u001b[0m \u001b[38;5;66;03m#df = pd.read_csv(file_path)\u001b[39;00m\n\u001b[1;32m----> 4\u001b[0m dataset_path \u001b[38;5;241m=\u001b[39m os\u001b[38;5;241m.\u001b[39mpath\u001b[38;5;241m.\u001b[39mjoin(\u001b[38;5;124m'\u001b[39m\u001b[38;5;124mc:\u001b[39m\u001b[38;5;124m'\u001b[39m, \u001b[38;5;124m'\u001b[39m\u001b[38;5;124mUsers\u001b[39m\u001b[38;5;124m'\u001b[39m, \u001b[38;5;124m'\u001b[39m\u001b[38;5;124mjoaol\u001b[39m\u001b[38;5;124m'\u001b[39m, \u001b[38;5;124m'\u001b[39m\u001b[38;5;124mDesktop\u001b[39m\u001b[38;5;124m'\u001b[39m, \u001b[38;5;124m'\u001b[39m\u001b[38;5;124mtrain.csv\u001b[39m\u001b[38;5;124m'\u001b[39m)\n\u001b[0;32m      6\u001b[0m \u001b[38;5;66;03m# Load the dataset\u001b[39;00m\n\u001b[0;32m      7\u001b[0m df \u001b[38;5;241m=\u001b[39m pd\u001b[38;5;241m.\u001b[39mread_csv(dataset_path)\n",
      "\u001b[1;31mNameError\u001b[0m: name 'os' is not defined"
     ]
    }
   ],
   "source": [
    "file_path = r'C:\\Users\\joaol\\Desktop\\Coursera_data\\coursea_data.csv' #Use the correct path in your pc \n",
    "df = pd.read_csv(file_path)\n"
   ]
  },
  {
   "cell_type": "code",
   "execution_count": null,
   "metadata": {},
   "outputs": [
    {
     "data": {
      "text/html": [
       "<div>\n",
       "<style scoped>\n",
       "    .dataframe tbody tr th:only-of-type {\n",
       "        vertical-align: middle;\n",
       "    }\n",
       "\n",
       "    .dataframe tbody tr th {\n",
       "        vertical-align: top;\n",
       "    }\n",
       "\n",
       "    .dataframe thead th {\n",
       "        text-align: right;\n",
       "    }\n",
       "</style>\n",
       "<table border=\"1\" class=\"dataframe\">\n",
       "  <thead>\n",
       "    <tr style=\"text-align: right;\">\n",
       "      <th></th>\n",
       "      <th>Unnamed: 0</th>\n",
       "      <th>course_title</th>\n",
       "      <th>course_organization</th>\n",
       "      <th>course_Certificate_type</th>\n",
       "      <th>course_rating</th>\n",
       "      <th>course_difficulty</th>\n",
       "      <th>course_students_enrolled</th>\n",
       "    </tr>\n",
       "  </thead>\n",
       "  <tbody>\n",
       "    <tr>\n",
       "      <th>0</th>\n",
       "      <td>134</td>\n",
       "      <td>(ISC)² Systems Security Certified Practitioner...</td>\n",
       "      <td>(ISC)²</td>\n",
       "      <td>SPECIALIZATION</td>\n",
       "      <td>4.7</td>\n",
       "      <td>Beginner</td>\n",
       "      <td>5.3k</td>\n",
       "    </tr>\n",
       "    <tr>\n",
       "      <th>1</th>\n",
       "      <td>743</td>\n",
       "      <td>A Crash Course in Causality:  Inferring Causal...</td>\n",
       "      <td>University of Pennsylvania</td>\n",
       "      <td>COURSE</td>\n",
       "      <td>4.7</td>\n",
       "      <td>Intermediate</td>\n",
       "      <td>17k</td>\n",
       "    </tr>\n",
       "    <tr>\n",
       "      <th>2</th>\n",
       "      <td>874</td>\n",
       "      <td>A Crash Course in Data Science</td>\n",
       "      <td>Johns Hopkins University</td>\n",
       "      <td>COURSE</td>\n",
       "      <td>4.5</td>\n",
       "      <td>Mixed</td>\n",
       "      <td>130k</td>\n",
       "    </tr>\n",
       "    <tr>\n",
       "      <th>3</th>\n",
       "      <td>413</td>\n",
       "      <td>A Law Student's Toolkit</td>\n",
       "      <td>Yale University</td>\n",
       "      <td>COURSE</td>\n",
       "      <td>4.7</td>\n",
       "      <td>Mixed</td>\n",
       "      <td>91k</td>\n",
       "    </tr>\n",
       "    <tr>\n",
       "      <th>4</th>\n",
       "      <td>635</td>\n",
       "      <td>A Life of Happiness and Fulfillment</td>\n",
       "      <td>Indian School of Business</td>\n",
       "      <td>COURSE</td>\n",
       "      <td>4.8</td>\n",
       "      <td>Mixed</td>\n",
       "      <td>320k</td>\n",
       "    </tr>\n",
       "  </tbody>\n",
       "</table>\n",
       "</div>"
      ],
      "text/plain": [
       "   Unnamed: 0                                       course_title  \\\n",
       "0         134  (ISC)² Systems Security Certified Practitioner...   \n",
       "1         743  A Crash Course in Causality:  Inferring Causal...   \n",
       "2         874                     A Crash Course in Data Science   \n",
       "3         413                            A Law Student's Toolkit   \n",
       "4         635                A Life of Happiness and Fulfillment   \n",
       "\n",
       "          course_organization course_Certificate_type  course_rating  \\\n",
       "0                      (ISC)²          SPECIALIZATION            4.7   \n",
       "1  University of Pennsylvania                  COURSE            4.7   \n",
       "2    Johns Hopkins University                  COURSE            4.5   \n",
       "3             Yale University                  COURSE            4.7   \n",
       "4   Indian School of Business                  COURSE            4.8   \n",
       "\n",
       "  course_difficulty course_students_enrolled  \n",
       "0          Beginner                     5.3k  \n",
       "1      Intermediate                      17k  \n",
       "2             Mixed                     130k  \n",
       "3             Mixed                      91k  \n",
       "4             Mixed                     320k  "
      ]
     },
     "execution_count": 3,
     "metadata": {},
     "output_type": "execute_result"
    }
   ],
   "source": [
    "#To check the data set \n",
    "df.head()"
   ]
  },
  {
   "cell_type": "markdown",
   "metadata": {},
   "source": [
    "# Hypothesis: \n",
    "### Courses that are Non-Beginner have greater impact in student's enrollment and course ratings"
   ]
  },
  {
   "cell_type": "code",
   "execution_count": null,
   "metadata": {},
   "outputs": [
    {
     "name": "stdout",
     "output_type": "stream",
     "text": [
      "Unnamed: 0                    int64\n",
      "course_title                 object\n",
      "course_organization          object\n",
      "course_Certificate_type      object\n",
      "course_rating               float64\n",
      "course_difficulty            object\n",
      "course_students_enrolled     object\n",
      "dtype: object\n"
     ]
    }
   ],
   "source": [
    "#To check for the data types of the data set\n",
    "print(df.dtypes)\n"
   ]
  },
  {
   "cell_type": "code",
   "execution_count": null,
   "metadata": {},
   "outputs": [
    {
     "name": "stdout",
     "output_type": "stream",
     "text": [
      "Unnamed: 0                  0\n",
      "course_title                0\n",
      "course_organization         0\n",
      "course_Certificate_type     0\n",
      "course_rating               0\n",
      "course_difficulty           0\n",
      "course_students_enrolled    0\n",
      "dtype: int64\n"
     ]
    }
   ],
   "source": [
    "#To check for missing values \n",
    "print(df.isnull().sum())\n"
   ]
  },
  {
   "cell_type": "code",
   "execution_count": null,
   "metadata": {},
   "outputs": [
    {
     "name": "stdout",
     "output_type": "stream",
     "text": [
      "0\n"
     ]
    }
   ],
   "source": [
    "#To check for duplicated values\n",
    "print(df.duplicated().sum())"
   ]
  },
  {
   "cell_type": "code",
   "execution_count": null,
   "metadata": {},
   "outputs": [
    {
     "name": "stdout",
     "output_type": "stream",
     "text": [
      "course_title\n",
      "Developing Your Musicianship    2\n",
      "Marketing Digital               2\n",
      "Machine Learning                2\n",
      "Name: count, dtype: int64\n"
     ]
    }
   ],
   "source": [
    "#To check for duplicated values in specific columns\n",
    "duplicates = df['course_title'].value_counts()\n",
    "print(duplicates[duplicates > 1])\n"
   ]
  },
  {
   "cell_type": "code",
   "execution_count": null,
   "metadata": {},
   "outputs": [
    {
     "data": {
      "text/html": [
       "<div>\n",
       "<style scoped>\n",
       "    .dataframe tbody tr th:only-of-type {\n",
       "        vertical-align: middle;\n",
       "    }\n",
       "\n",
       "    .dataframe tbody tr th {\n",
       "        vertical-align: top;\n",
       "    }\n",
       "\n",
       "    .dataframe thead th {\n",
       "        text-align: right;\n",
       "    }\n",
       "</style>\n",
       "<table border=\"1\" class=\"dataframe\">\n",
       "  <thead>\n",
       "    <tr style=\"text-align: right;\">\n",
       "      <th></th>\n",
       "      <th>course_id</th>\n",
       "      <th>course_title</th>\n",
       "      <th>course_organization</th>\n",
       "      <th>course_Certificate_type</th>\n",
       "      <th>course_rating</th>\n",
       "      <th>course_difficulty</th>\n",
       "      <th>course_students_enrolled</th>\n",
       "    </tr>\n",
       "  </thead>\n",
       "  <tbody>\n",
       "    <tr>\n",
       "      <th>0</th>\n",
       "      <td>134</td>\n",
       "      <td>(ISC)² Systems Security Certified Practitioner...</td>\n",
       "      <td>(ISC)²</td>\n",
       "      <td>SPECIALIZATION</td>\n",
       "      <td>4.7</td>\n",
       "      <td>Beginner</td>\n",
       "      <td>5.3k</td>\n",
       "    </tr>\n",
       "    <tr>\n",
       "      <th>1</th>\n",
       "      <td>743</td>\n",
       "      <td>A Crash Course in Causality:  Inferring Causal...</td>\n",
       "      <td>University of Pennsylvania</td>\n",
       "      <td>COURSE</td>\n",
       "      <td>4.7</td>\n",
       "      <td>Intermediate</td>\n",
       "      <td>17k</td>\n",
       "    </tr>\n",
       "    <tr>\n",
       "      <th>2</th>\n",
       "      <td>874</td>\n",
       "      <td>A Crash Course in Data Science</td>\n",
       "      <td>Johns Hopkins University</td>\n",
       "      <td>COURSE</td>\n",
       "      <td>4.5</td>\n",
       "      <td>Mixed</td>\n",
       "      <td>130k</td>\n",
       "    </tr>\n",
       "    <tr>\n",
       "      <th>3</th>\n",
       "      <td>413</td>\n",
       "      <td>A Law Student's Toolkit</td>\n",
       "      <td>Yale University</td>\n",
       "      <td>COURSE</td>\n",
       "      <td>4.7</td>\n",
       "      <td>Mixed</td>\n",
       "      <td>91k</td>\n",
       "    </tr>\n",
       "    <tr>\n",
       "      <th>4</th>\n",
       "      <td>635</td>\n",
       "      <td>A Life of Happiness and Fulfillment</td>\n",
       "      <td>Indian School of Business</td>\n",
       "      <td>COURSE</td>\n",
       "      <td>4.8</td>\n",
       "      <td>Mixed</td>\n",
       "      <td>320k</td>\n",
       "    </tr>\n",
       "  </tbody>\n",
       "</table>\n",
       "</div>"
      ],
      "text/plain": [
       "   course_id                                       course_title  \\\n",
       "0        134  (ISC)² Systems Security Certified Practitioner...   \n",
       "1        743  A Crash Course in Causality:  Inferring Causal...   \n",
       "2        874                     A Crash Course in Data Science   \n",
       "3        413                            A Law Student's Toolkit   \n",
       "4        635                A Life of Happiness and Fulfillment   \n",
       "\n",
       "          course_organization course_Certificate_type  course_rating  \\\n",
       "0                      (ISC)²          SPECIALIZATION            4.7   \n",
       "1  University of Pennsylvania                  COURSE            4.7   \n",
       "2    Johns Hopkins University                  COURSE            4.5   \n",
       "3             Yale University                  COURSE            4.7   \n",
       "4   Indian School of Business                  COURSE            4.8   \n",
       "\n",
       "  course_difficulty course_students_enrolled  \n",
       "0          Beginner                     5.3k  \n",
       "1      Intermediate                      17k  \n",
       "2             Mixed                     130k  \n",
       "3             Mixed                      91k  \n",
       "4             Mixed                     320k  "
      ]
     },
     "execution_count": 4,
     "metadata": {},
     "output_type": "execute_result"
    }
   ],
   "source": [
    "#Chnage the name of the column to an ID column\n",
    "df.rename(columns={'Unnamed: 0': 'course_id'}, \n",
    "          inplace=True)\n",
    "df.head()\n"
   ]
  },
  {
   "cell_type": "code",
   "execution_count": null,
   "metadata": {},
   "outputs": [
    {
     "data": {
      "text/plain": [
       "array(['5.3k', '17k', '130k', '91k', '320k', '39k', '350k', '2.4k', '61k',\n",
       "       '12k', '4k', '13k', '11k', '27k', '110k', '6.6k', '540k', '22k',\n",
       "       '2.9k', '80k', '9.9k', '23k', '9.2k', '78k', '190k', '35k', '29k',\n",
       "       '14k', '21k', '94k', '69k', '40k', '220k', '150k', '18k', '270k',\n",
       "       '7.9k', '30k', '36k', '20k', '8.1k', '120k', '71k', '63k', '42k',\n",
       "       '480k', '97k', '200k', '180k', '4.2k', '310k', '3.9k', '79k',\n",
       "       '31k', '15k', '10k', '66k', '33k', '56k', '7.3k', '9.7k', '210k',\n",
       "       '28k', '6.5k', '55k', '2.3k', '8.8k', '88k', '1.9k', '68k', '1.6k',\n",
       "       '9.5k', '57k', '26k', '84k', '95k', '5.8k', '24k', '67k', '280k',\n",
       "       '38k', '77k', '510k', '89k', '48k', '160k', '32k', '340k', '82k',\n",
       "       '790k', '19k', '51k', '4.8k', '37k', '43k', '6.4k', '49k', '240k',\n",
       "       '46k', '7.8k', '75k', '81k', '140k', '5.5k', '99k', '100k', '3k',\n",
       "       '830k', '740k', '60k', '96k', '690k', '44k', '4.5k', '8.2k', '16k',\n",
       "       '300k', '8k', '41k', '54k', '9k', '380k', '58k', '5.6k', '7.1k',\n",
       "       '83k', '3.4k', '1.5k', '230k', '760k', '86k', '45k', '7.2k',\n",
       "       '1.8k', '4.1k', '76k', '490k', '170k', '260k', '65k', '470k',\n",
       "       '400k', '4.4k', '62k', '64k', '3.2k', '52k', '290k', '25k', '47k',\n",
       "       '4.9k', '9.4k', '34k', '59k', '73k', '3.6k', '7.6k', '3.8k', '93k',\n",
       "       '430k', '7.4k', '5.4k', '1.7k', '98k', '3.5k', '3.3k', '2.2k',\n",
       "       '610k', '72k', '85k', '8.7k', '53k', '2.6k', '390k', '74k', '6k',\n",
       "       '87k', '370k', '6.3k', '5.9k', '3.2m', '8.4k', '9.1k', '70k',\n",
       "       '630k', '250k', '330k', '6.2k', '92k', '8.9k', '50k', '1.3m',\n",
       "       '440k', '420k', '1.5m', '7.7k', '5.2k', '7k', '6.8k', '750k',\n",
       "       '8.5k', '90k', '2.5m', '6.1k', '9.8k'], dtype=object)"
      ]
     },
     "execution_count": 51,
     "metadata": {},
     "output_type": "execute_result"
    }
   ],
   "source": [
    "#To check for how the nº of students enrolled has been put \n",
    "df['course_students_enrolled'].unique()"
   ]
  },
  {
   "cell_type": "code",
   "execution_count": null,
   "metadata": {},
   "outputs": [
    {
     "data": {
      "text/html": [
       "<div>\n",
       "<style scoped>\n",
       "    .dataframe tbody tr th:only-of-type {\n",
       "        vertical-align: middle;\n",
       "    }\n",
       "\n",
       "    .dataframe tbody tr th {\n",
       "        vertical-align: top;\n",
       "    }\n",
       "\n",
       "    .dataframe thead th {\n",
       "        text-align: right;\n",
       "    }\n",
       "</style>\n",
       "<table border=\"1\" class=\"dataframe\">\n",
       "  <thead>\n",
       "    <tr style=\"text-align: right;\">\n",
       "      <th></th>\n",
       "      <th>course_id</th>\n",
       "      <th>course_title</th>\n",
       "      <th>course_organization</th>\n",
       "      <th>course_Certificate_type</th>\n",
       "      <th>course_rating</th>\n",
       "      <th>course_difficulty</th>\n",
       "      <th>course_students_enrolled</th>\n",
       "    </tr>\n",
       "  </thead>\n",
       "  <tbody>\n",
       "    <tr>\n",
       "      <th>0</th>\n",
       "      <td>134</td>\n",
       "      <td>(ISC)² Systems Security Certified Practitioner...</td>\n",
       "      <td>(ISC)²</td>\n",
       "      <td>SPECIALIZATION</td>\n",
       "      <td>4.7</td>\n",
       "      <td>Beginner</td>\n",
       "      <td>5300</td>\n",
       "    </tr>\n",
       "    <tr>\n",
       "      <th>1</th>\n",
       "      <td>743</td>\n",
       "      <td>A Crash Course in Causality:  Inferring Causal...</td>\n",
       "      <td>University of Pennsylvania</td>\n",
       "      <td>COURSE</td>\n",
       "      <td>4.7</td>\n",
       "      <td>Intermediate</td>\n",
       "      <td>17000</td>\n",
       "    </tr>\n",
       "    <tr>\n",
       "      <th>2</th>\n",
       "      <td>874</td>\n",
       "      <td>A Crash Course in Data Science</td>\n",
       "      <td>Johns Hopkins University</td>\n",
       "      <td>COURSE</td>\n",
       "      <td>4.5</td>\n",
       "      <td>Mixed</td>\n",
       "      <td>130000</td>\n",
       "    </tr>\n",
       "    <tr>\n",
       "      <th>3</th>\n",
       "      <td>413</td>\n",
       "      <td>A Law Student's Toolkit</td>\n",
       "      <td>Yale University</td>\n",
       "      <td>COURSE</td>\n",
       "      <td>4.7</td>\n",
       "      <td>Mixed</td>\n",
       "      <td>91000</td>\n",
       "    </tr>\n",
       "    <tr>\n",
       "      <th>4</th>\n",
       "      <td>635</td>\n",
       "      <td>A Life of Happiness and Fulfillment</td>\n",
       "      <td>Indian School of Business</td>\n",
       "      <td>COURSE</td>\n",
       "      <td>4.8</td>\n",
       "      <td>Mixed</td>\n",
       "      <td>320000</td>\n",
       "    </tr>\n",
       "  </tbody>\n",
       "</table>\n",
       "</div>"
      ],
      "text/plain": [
       "   course_id                                       course_title  \\\n",
       "0        134  (ISC)² Systems Security Certified Practitioner...   \n",
       "1        743  A Crash Course in Causality:  Inferring Causal...   \n",
       "2        874                     A Crash Course in Data Science   \n",
       "3        413                            A Law Student's Toolkit   \n",
       "4        635                A Life of Happiness and Fulfillment   \n",
       "\n",
       "          course_organization course_Certificate_type  course_rating  \\\n",
       "0                      (ISC)²          SPECIALIZATION            4.7   \n",
       "1  University of Pennsylvania                  COURSE            4.7   \n",
       "2    Johns Hopkins University                  COURSE            4.5   \n",
       "3             Yale University                  COURSE            4.7   \n",
       "4   Indian School of Business                  COURSE            4.8   \n",
       "\n",
       "  course_difficulty  course_students_enrolled  \n",
       "0          Beginner                      5300  \n",
       "1      Intermediate                     17000  \n",
       "2             Mixed                    130000  \n",
       "3             Mixed                     91000  \n",
       "4             Mixed                    320000  "
      ]
     },
     "execution_count": 5,
     "metadata": {},
     "output_type": "execute_result"
    }
   ],
   "source": [
    "#To change the values of K to thousands and M to millions\n",
    "def n_students(x):\n",
    "    if isinstance(x, str):  \n",
    "        if x[-1] == 'k':\n",
    "            return int(float(x.replace('k', '')) * 1000)  \n",
    "        elif x[-1] == 'm':\n",
    "            return int(float(x.replace('m', '')) * 1000000)\n",
    "        else:\n",
    "            return int(float(x))  \n",
    "    else:  \n",
    "        return int(x)\n",
    "\n",
    "df['course_students_enrolled'] = df['course_students_enrolled'].apply(n_students)\n",
    "df.head()  "
   ]
  },
  {
   "cell_type": "code",
   "execution_count": null,
   "metadata": {},
   "outputs": [
    {
     "data": {
      "text/plain": [
       "891"
      ]
     },
     "execution_count": 115,
     "metadata": {},
     "output_type": "execute_result"
    }
   ],
   "source": [
    "#To check for the nº of rows in the data set\n",
    "df['course_id'].count()"
   ]
  },
  {
   "cell_type": "code",
   "execution_count": null,
   "metadata": {},
   "outputs": [
    {
     "data": {
      "text/plain": [
       "course_Certificate_type\n",
       "COURSE                      582\n",
       "SPECIALIZATION              297\n",
       "PROFESSIONAL CERTIFICATE     12\n",
       "Name: count, dtype: int64"
      ]
     },
     "execution_count": 53,
     "metadata": {},
     "output_type": "execute_result"
    }
   ],
   "source": [
    "#To check for the different types of certificates\n",
    "df['course_Certificate_type'].value_counts()"
   ]
  },
  {
   "cell_type": "code",
   "execution_count": null,
   "metadata": {},
   "outputs": [
    {
     "data": {
      "text/plain": [
       "course_difficulty\n",
       "Beginner        487\n",
       "Intermediate    198\n",
       "Mixed           187\n",
       "Advanced         19\n",
       "Name: count, dtype: int64"
      ]
     },
     "execution_count": 99,
     "metadata": {},
     "output_type": "execute_result"
    }
   ],
   "source": [
    "#To check for different types of difficulties\n",
    "df['course_difficulty'].value_counts()"
   ]
  },
  {
   "cell_type": "code",
   "execution_count": 124,
   "metadata": {},
   "outputs": [
    {
     "name": "stdout",
     "output_type": "stream",
     "text": [
      "  difficulty_groups  course_students_enrolled  course_rating\n",
      "0          Beginner                  81974.95           4.68\n",
      "1      Non-beginner                 100891.34           4.67\n"
     ]
    },
    {
     "data": {
      "text/html": [
       "<div>\n",
       "<style scoped>\n",
       "    .dataframe tbody tr th:only-of-type {\n",
       "        vertical-align: middle;\n",
       "    }\n",
       "\n",
       "    .dataframe tbody tr th {\n",
       "        vertical-align: top;\n",
       "    }\n",
       "\n",
       "    .dataframe thead th {\n",
       "        text-align: right;\n",
       "    }\n",
       "</style>\n",
       "<table border=\"1\" class=\"dataframe\">\n",
       "  <thead>\n",
       "    <tr style=\"text-align: right;\">\n",
       "      <th></th>\n",
       "      <th>count</th>\n",
       "      <th>mean</th>\n",
       "      <th>std</th>\n",
       "      <th>min</th>\n",
       "      <th>25%</th>\n",
       "      <th>50%</th>\n",
       "      <th>75%</th>\n",
       "      <th>max</th>\n",
       "    </tr>\n",
       "    <tr>\n",
       "      <th>difficulty_groups</th>\n",
       "      <th></th>\n",
       "      <th></th>\n",
       "      <th></th>\n",
       "      <th></th>\n",
       "      <th></th>\n",
       "      <th></th>\n",
       "      <th></th>\n",
       "      <th></th>\n",
       "    </tr>\n",
       "  </thead>\n",
       "  <tbody>\n",
       "    <tr>\n",
       "      <th>Beginner</th>\n",
       "      <td>487.0</td>\n",
       "      <td>81974.948665</td>\n",
       "      <td>127270.770733</td>\n",
       "      <td>1500.0</td>\n",
       "      <td>15000.0</td>\n",
       "      <td>37000.0</td>\n",
       "      <td>98500.0</td>\n",
       "      <td>1500000.0</td>\n",
       "    </tr>\n",
       "    <tr>\n",
       "      <th>Non-beginner</th>\n",
       "      <td>404.0</td>\n",
       "      <td>100891.336634</td>\n",
       "      <td>231022.152159</td>\n",
       "      <td>1600.0</td>\n",
       "      <td>21000.0</td>\n",
       "      <td>47000.0</td>\n",
       "      <td>100000.0</td>\n",
       "      <td>3200000.0</td>\n",
       "    </tr>\n",
       "  </tbody>\n",
       "</table>\n",
       "</div>"
      ],
      "text/plain": [
       "                   count           mean            std     min      25%  \\\n",
       "difficulty_groups                                                         \n",
       "Beginner           487.0   81974.948665  127270.770733  1500.0  15000.0   \n",
       "Non-beginner       404.0  100891.336634  231022.152159  1600.0  21000.0   \n",
       "\n",
       "                       50%       75%        max  \n",
       "difficulty_groups                                \n",
       "Beginner           37000.0   98500.0  1500000.0  \n",
       "Non-beginner       47000.0  100000.0  3200000.0  "
      ]
     },
     "execution_count": 124,
     "metadata": {},
     "output_type": "execute_result"
    }
   ],
   "source": [
    "#To join non-beginners levels of difficulties to compare it with beginner and non-beginner courses\n",
    "df['difficulty_groups'] = df['course_difficulty'].apply(\n",
    "    lambda x: 'Beginner' if x == 'Beginner' else 'Non-beginner')\n",
    "\n",
    "difficulty_groups = df.groupby('difficulty_groups').agg(\n",
    "    {'course_students_enrolled': 'mean',\n",
    "     'course_rating': 'mean'}\n",
    "     ).reset_index()\n",
    "\n",
    "difficulty_groups = difficulty_groups.round({'course_students_enrolled': 2, 'course_rating': 2})\n",
    "print(difficulty_groups)\n",
    "df.groupby('difficulty_groups')['course_students_enrolled'].describe()"
   ]
  },
  {
   "cell_type": "code",
   "execution_count": 125,
   "metadata": {},
   "outputs": [
    {
     "data": {
      "text/html": [
       "<div>\n",
       "<style scoped>\n",
       "    .dataframe tbody tr th:only-of-type {\n",
       "        vertical-align: middle;\n",
       "    }\n",
       "\n",
       "    .dataframe tbody tr th {\n",
       "        vertical-align: top;\n",
       "    }\n",
       "\n",
       "    .dataframe thead th {\n",
       "        text-align: right;\n",
       "    }\n",
       "</style>\n",
       "<table border=\"1\" class=\"dataframe\">\n",
       "  <thead>\n",
       "    <tr style=\"text-align: right;\">\n",
       "      <th></th>\n",
       "      <th>count</th>\n",
       "      <th>mean</th>\n",
       "      <th>std</th>\n",
       "      <th>min</th>\n",
       "      <th>25%</th>\n",
       "      <th>50%</th>\n",
       "      <th>75%</th>\n",
       "      <th>max</th>\n",
       "    </tr>\n",
       "    <tr>\n",
       "      <th>difficulty_groups</th>\n",
       "      <th></th>\n",
       "      <th></th>\n",
       "      <th></th>\n",
       "      <th></th>\n",
       "      <th></th>\n",
       "      <th></th>\n",
       "      <th></th>\n",
       "      <th></th>\n",
       "    </tr>\n",
       "  </thead>\n",
       "  <tbody>\n",
       "    <tr>\n",
       "      <th>Beginner</th>\n",
       "      <td>487.0</td>\n",
       "      <td>4.680903</td>\n",
       "      <td>0.141947</td>\n",
       "      <td>4.1</td>\n",
       "      <td>4.6</td>\n",
       "      <td>4.7</td>\n",
       "      <td>4.8</td>\n",
       "      <td>5.0</td>\n",
       "    </tr>\n",
       "    <tr>\n",
       "      <th>Non-beginner</th>\n",
       "      <td>404.0</td>\n",
       "      <td>4.673020</td>\n",
       "      <td>0.183811</td>\n",
       "      <td>3.3</td>\n",
       "      <td>4.6</td>\n",
       "      <td>4.7</td>\n",
       "      <td>4.8</td>\n",
       "      <td>5.0</td>\n",
       "    </tr>\n",
       "  </tbody>\n",
       "</table>\n",
       "</div>"
      ],
      "text/plain": [
       "                   count      mean       std  min  25%  50%  75%  max\n",
       "difficulty_groups                                                    \n",
       "Beginner           487.0  4.680903  0.141947  4.1  4.6  4.7  4.8  5.0\n",
       "Non-beginner       404.0  4.673020  0.183811  3.3  4.6  4.7  4.8  5.0"
      ]
     },
     "execution_count": 125,
     "metadata": {},
     "output_type": "execute_result"
    }
   ],
   "source": [
    "df.groupby('difficulty_groups')['course_rating'].describe()"
   ]
  },
  {
   "cell_type": "markdown",
   "metadata": {},
   "source": [
    "# Hypothesis considerations:\n",
    "- In this dataset, there are 891 different courses\n",
    "- There are 4 different difficulty levels:\n",
    "    - Beginner\n",
    "    - Intermediate \n",
    "    - Mixed \n",
    "    - Advanced \n",
    "- The Non-beginner course are the ones in the intermediate, mixed and advanced levels. \n",
    "- There are 404 non-beginner courses and 487 beginner courses.\n"
   ]
  },
  {
   "cell_type": "code",
   "execution_count": 127,
   "metadata": {},
   "outputs": [
    {
     "name": "stdout",
     "output_type": "stream",
     "text": [
      "Number of outliers in Beginner group: 42\n",
      "Number of outliers in Non-beginner group: 36\n"
     ]
    }
   ],
   "source": [
    "#With this code, I will look for the nº of outliers in beginners and non-beginners courses\n",
    "Q1 = df['course_students_enrolled'].quantile(0.25)\n",
    "Q3 = df['course_students_enrolled'].quantile(0.75)\n",
    "IQR = Q3 - Q1\n",
    "\n",
    "lower_bound = Q1 - 1.5 * IQR\n",
    "upper_bound = Q3 + 1.5 * IQR\n",
    "\n",
    "beginner_outliers = df[(df['difficulty_groups'] == 'Beginner') &\n",
    "                       ((df['course_students_enrolled'] < lower_bound) |\n",
    "                        (df['course_students_enrolled'] > upper_bound))]\n",
    "\n",
    "non_beginner_outliers = df[(df['difficulty_groups'] == 'Non-beginner') &\n",
    "                           ((df['course_students_enrolled'] < lower_bound) |\n",
    "                            (df['course_students_enrolled'] > upper_bound))]\n",
    "\n",
    "n_beginner_outliers = beginner_outliers.shape[0]\n",
    "n_non_beginner_outliers = non_beginner_outliers.shape[0]\n",
    "\n",
    "\n",
    "print(f\"Number of outliers in Beginner group: {n_beginner_outliers}\")\n",
    "print(f\"Number of outliers in Non-beginner group: {n_non_beginner_outliers}\")"
   ]
  },
  {
   "cell_type": "code",
   "execution_count": 128,
   "metadata": {},
   "outputs": [
    {
     "data": {
      "application/vnd.plotly.v1+json": {
       "config": {
        "plotlyServerURL": "https://plot.ly"
       },
       "data": [
        {
         "alignmentgroup": "True",
         "boxpoints": "suspectedoutliers",
         "hovertemplate": "Difficulty=%{x}<br>Nº of students enrolled=%{y}<extra></extra>",
         "legendgroup": "Beginner",
         "marker": {
          "color": "#008080"
         },
         "name": "Beginner",
         "notched": false,
         "offsetgroup": "Beginner",
         "orientation": "v",
         "showlegend": true,
         "type": "box",
         "x": [
          "Beginner",
          "Beginner",
          "Beginner",
          "Beginner",
          "Beginner",
          "Beginner",
          "Beginner",
          "Beginner",
          "Beginner",
          "Beginner",
          "Beginner",
          "Beginner",
          "Beginner",
          "Beginner",
          "Beginner",
          "Beginner",
          "Beginner",
          "Beginner",
          "Beginner",
          "Beginner",
          "Beginner",
          "Beginner",
          "Beginner",
          "Beginner",
          "Beginner",
          "Beginner",
          "Beginner",
          "Beginner",
          "Beginner",
          "Beginner",
          "Beginner",
          "Beginner",
          "Beginner",
          "Beginner",
          "Beginner",
          "Beginner",
          "Beginner",
          "Beginner",
          "Beginner",
          "Beginner",
          "Beginner",
          "Beginner",
          "Beginner",
          "Beginner",
          "Beginner",
          "Beginner",
          "Beginner",
          "Beginner",
          "Beginner",
          "Beginner",
          "Beginner",
          "Beginner",
          "Beginner",
          "Beginner",
          "Beginner",
          "Beginner",
          "Beginner",
          "Beginner",
          "Beginner",
          "Beginner",
          "Beginner",
          "Beginner",
          "Beginner",
          "Beginner",
          "Beginner",
          "Beginner",
          "Beginner",
          "Beginner",
          "Beginner",
          "Beginner",
          "Beginner",
          "Beginner",
          "Beginner",
          "Beginner",
          "Beginner",
          "Beginner",
          "Beginner",
          "Beginner",
          "Beginner",
          "Beginner",
          "Beginner",
          "Beginner",
          "Beginner",
          "Beginner",
          "Beginner",
          "Beginner",
          "Beginner",
          "Beginner",
          "Beginner",
          "Beginner",
          "Beginner",
          "Beginner",
          "Beginner",
          "Beginner",
          "Beginner",
          "Beginner",
          "Beginner",
          "Beginner",
          "Beginner",
          "Beginner",
          "Beginner",
          "Beginner",
          "Beginner",
          "Beginner",
          "Beginner",
          "Beginner",
          "Beginner",
          "Beginner",
          "Beginner",
          "Beginner",
          "Beginner",
          "Beginner",
          "Beginner",
          "Beginner",
          "Beginner",
          "Beginner",
          "Beginner",
          "Beginner",
          "Beginner",
          "Beginner",
          "Beginner",
          "Beginner",
          "Beginner",
          "Beginner",
          "Beginner",
          "Beginner",
          "Beginner",
          "Beginner",
          "Beginner",
          "Beginner",
          "Beginner",
          "Beginner",
          "Beginner",
          "Beginner",
          "Beginner",
          "Beginner",
          "Beginner",
          "Beginner",
          "Beginner",
          "Beginner",
          "Beginner",
          "Beginner",
          "Beginner",
          "Beginner",
          "Beginner",
          "Beginner",
          "Beginner",
          "Beginner",
          "Beginner",
          "Beginner",
          "Beginner",
          "Beginner",
          "Beginner",
          "Beginner",
          "Beginner",
          "Beginner",
          "Beginner",
          "Beginner",
          "Beginner",
          "Beginner",
          "Beginner",
          "Beginner",
          "Beginner",
          "Beginner",
          "Beginner",
          "Beginner",
          "Beginner",
          "Beginner",
          "Beginner",
          "Beginner",
          "Beginner",
          "Beginner",
          "Beginner",
          "Beginner",
          "Beginner",
          "Beginner",
          "Beginner",
          "Beginner",
          "Beginner",
          "Beginner",
          "Beginner",
          "Beginner",
          "Beginner",
          "Beginner",
          "Beginner",
          "Beginner",
          "Beginner",
          "Beginner",
          "Beginner",
          "Beginner",
          "Beginner",
          "Beginner",
          "Beginner",
          "Beginner",
          "Beginner",
          "Beginner",
          "Beginner",
          "Beginner",
          "Beginner",
          "Beginner",
          "Beginner",
          "Beginner",
          "Beginner",
          "Beginner",
          "Beginner",
          "Beginner",
          "Beginner",
          "Beginner",
          "Beginner",
          "Beginner",
          "Beginner",
          "Beginner",
          "Beginner",
          "Beginner",
          "Beginner",
          "Beginner",
          "Beginner",
          "Beginner",
          "Beginner",
          "Beginner",
          "Beginner",
          "Beginner",
          "Beginner",
          "Beginner",
          "Beginner",
          "Beginner",
          "Beginner",
          "Beginner",
          "Beginner",
          "Beginner",
          "Beginner",
          "Beginner",
          "Beginner",
          "Beginner",
          "Beginner",
          "Beginner",
          "Beginner",
          "Beginner",
          "Beginner",
          "Beginner",
          "Beginner",
          "Beginner",
          "Beginner",
          "Beginner",
          "Beginner",
          "Beginner",
          "Beginner",
          "Beginner",
          "Beginner",
          "Beginner",
          "Beginner",
          "Beginner",
          "Beginner",
          "Beginner",
          "Beginner",
          "Beginner",
          "Beginner",
          "Beginner",
          "Beginner",
          "Beginner",
          "Beginner",
          "Beginner",
          "Beginner",
          "Beginner",
          "Beginner",
          "Beginner",
          "Beginner",
          "Beginner",
          "Beginner",
          "Beginner",
          "Beginner",
          "Beginner",
          "Beginner",
          "Beginner",
          "Beginner",
          "Beginner",
          "Beginner",
          "Beginner",
          "Beginner",
          "Beginner",
          "Beginner",
          "Beginner",
          "Beginner",
          "Beginner",
          "Beginner",
          "Beginner",
          "Beginner",
          "Beginner",
          "Beginner",
          "Beginner",
          "Beginner",
          "Beginner",
          "Beginner",
          "Beginner",
          "Beginner",
          "Beginner",
          "Beginner",
          "Beginner",
          "Beginner",
          "Beginner",
          "Beginner",
          "Beginner",
          "Beginner",
          "Beginner",
          "Beginner",
          "Beginner",
          "Beginner",
          "Beginner",
          "Beginner",
          "Beginner",
          "Beginner",
          "Beginner",
          "Beginner",
          "Beginner",
          "Beginner",
          "Beginner",
          "Beginner",
          "Beginner",
          "Beginner",
          "Beginner",
          "Beginner",
          "Beginner",
          "Beginner",
          "Beginner",
          "Beginner",
          "Beginner",
          "Beginner",
          "Beginner",
          "Beginner",
          "Beginner",
          "Beginner",
          "Beginner",
          "Beginner",
          "Beginner",
          "Beginner",
          "Beginner",
          "Beginner",
          "Beginner",
          "Beginner",
          "Beginner",
          "Beginner",
          "Beginner",
          "Beginner",
          "Beginner",
          "Beginner",
          "Beginner",
          "Beginner",
          "Beginner",
          "Beginner",
          "Beginner",
          "Beginner",
          "Beginner",
          "Beginner",
          "Beginner",
          "Beginner",
          "Beginner",
          "Beginner",
          "Beginner",
          "Beginner",
          "Beginner",
          "Beginner",
          "Beginner",
          "Beginner",
          "Beginner",
          "Beginner",
          "Beginner",
          "Beginner",
          "Beginner",
          "Beginner",
          "Beginner",
          "Beginner",
          "Beginner",
          "Beginner",
          "Beginner",
          "Beginner",
          "Beginner",
          "Beginner",
          "Beginner",
          "Beginner",
          "Beginner",
          "Beginner",
          "Beginner",
          "Beginner",
          "Beginner",
          "Beginner",
          "Beginner",
          "Beginner",
          "Beginner",
          "Beginner",
          "Beginner",
          "Beginner",
          "Beginner",
          "Beginner",
          "Beginner",
          "Beginner",
          "Beginner",
          "Beginner",
          "Beginner",
          "Beginner",
          "Beginner",
          "Beginner",
          "Beginner",
          "Beginner",
          "Beginner",
          "Beginner",
          "Beginner",
          "Beginner",
          "Beginner",
          "Beginner",
          "Beginner",
          "Beginner",
          "Beginner",
          "Beginner",
          "Beginner",
          "Beginner",
          "Beginner",
          "Beginner",
          "Beginner",
          "Beginner",
          "Beginner",
          "Beginner",
          "Beginner",
          "Beginner",
          "Beginner",
          "Beginner",
          "Beginner",
          "Beginner",
          "Beginner",
          "Beginner",
          "Beginner",
          "Beginner",
          "Beginner",
          "Beginner",
          "Beginner",
          "Beginner",
          "Beginner",
          "Beginner",
          "Beginner",
          "Beginner",
          "Beginner",
          "Beginner",
          "Beginner",
          "Beginner",
          "Beginner",
          "Beginner",
          "Beginner",
          "Beginner",
          "Beginner",
          "Beginner",
          "Beginner",
          "Beginner",
          "Beginner",
          "Beginner",
          "Beginner",
          "Beginner",
          "Beginner",
          "Beginner",
          "Beginner",
          "Beginner",
          "Beginner",
          "Beginner",
          "Beginner",
          "Beginner",
          "Beginner",
          "Beginner",
          "Beginner",
          "Beginner",
          "Beginner",
          "Beginner",
          "Beginner",
          "Beginner",
          "Beginner",
          "Beginner",
          "Beginner",
          "Beginner",
          "Beginner",
          "Beginner",
          "Beginner",
          "Beginner",
          "Beginner",
          "Beginner",
          "Beginner",
          "Beginner",
          "Beginner",
          "Beginner",
          "Beginner",
          "Beginner"
         ],
         "x0": " ",
         "xaxis": "x",
         "y": [
          5300,
          39000,
          350000,
          61000,
          130000,
          11000,
          27000,
          110000,
          540000,
          2900,
          110000,
          9200,
          21000,
          94000,
          69000,
          40000,
          12000,
          18000,
          23000,
          69000,
          270000,
          7900,
          30000,
          20000,
          120000,
          11000,
          220000,
          6600,
          180000,
          3900,
          150000,
          10000,
          13000,
          180000,
          28000,
          6500,
          61000,
          8800,
          35000,
          88000,
          14000,
          21000,
          1600,
          31000,
          9500,
          57000,
          26000,
          15000,
          22000,
          280000,
          510000,
          110000,
          24000,
          89000,
          67000,
          10000,
          48000,
          160000,
          31000,
          36000,
          220000,
          32000,
          340000,
          790000,
          31000,
          23000,
          30000,
          22000,
          57000,
          51000,
          4800,
          32000,
          37000,
          120000,
          15000,
          43000,
          6400,
          43000,
          5800,
          33000,
          27000,
          66000,
          19000,
          61000,
          43000,
          15000,
          220000,
          27000,
          26000,
          7800,
          75000,
          15000,
          81000,
          140000,
          150000,
          17000,
          5500,
          18000,
          140000,
          23000,
          55000,
          100000,
          220000,
          110000,
          24000,
          42000,
          830000,
          140000,
          89000,
          740000,
          60000,
          96000,
          18000,
          120000,
          110000,
          150000,
          44000,
          4500,
          8200,
          240000,
          17000,
          54000,
          9000,
          21000,
          37000,
          380000,
          140000,
          58000,
          35000,
          4000,
          21000,
          5600,
          17000,
          39000,
          110000,
          7100,
          46000,
          1500,
          12000,
          17000,
          37000,
          14000,
          23000,
          200000,
          230000,
          110000,
          2400,
          110000,
          31000,
          20000,
          69000,
          6400,
          31000,
          7200,
          1800,
          14000,
          27000,
          13000,
          11000,
          86000,
          240000,
          200000,
          490000,
          56000,
          54000,
          170000,
          28000,
          180000,
          18000,
          9700,
          13000,
          12000,
          260000,
          69000,
          65000,
          10000,
          470000,
          60000,
          6500,
          36000,
          20000,
          400000,
          14000,
          63000,
          31000,
          64000,
          89000,
          3200,
          26000,
          52000,
          30000,
          39000,
          200000,
          86000,
          290000,
          180000,
          120000,
          81000,
          25000,
          56000,
          150000,
          110000,
          47000,
          4900,
          9400,
          10000,
          140000,
          260000,
          14000,
          97000,
          14000,
          59000,
          18000,
          22000,
          29000,
          10000,
          3800,
          93000,
          350000,
          10000,
          56000,
          43000,
          8100,
          36000,
          5500,
          5500,
          28000,
          34000,
          98000,
          220000,
          3300,
          480000,
          35000,
          62000,
          1700,
          23000,
          2200,
          610000,
          270000,
          18000,
          79000,
          34000,
          22000,
          32000,
          10000,
          16000,
          40000,
          10000,
          25000,
          72000,
          14000,
          6500,
          22000,
          26000,
          20000,
          2200,
          35000,
          11000,
          36000,
          140000,
          100000,
          44000,
          16000,
          46000,
          2600,
          20000,
          32000,
          27000,
          32000,
          30000,
          310000,
          25000,
          75000,
          54000,
          6000,
          140000,
          160000,
          82000,
          270000,
          270000,
          49000,
          12000,
          4100,
          72000,
          87000,
          16000,
          76000,
          110000,
          4500,
          120000,
          99000,
          14000,
          49000,
          4400,
          380000,
          160000,
          22000,
          8000,
          6300,
          17000,
          16000,
          220000,
          43000,
          22000,
          39000,
          160000,
          80000,
          180000,
          120000,
          68000,
          10000,
          14000,
          19000,
          78000,
          43000,
          11000,
          55000,
          23000,
          27000,
          47000,
          22000,
          81000,
          39000,
          93000,
          57000,
          310000,
          8400,
          52000,
          12000,
          150000,
          140000,
          51000,
          4800,
          13000,
          260000,
          73000,
          230000,
          120000,
          310000,
          14000,
          42000,
          70000,
          22000,
          12000,
          5300,
          100000,
          330000,
          13000,
          76000,
          22000,
          3200,
          9100,
          8800,
          12000,
          8900,
          160000,
          83000,
          34000,
          23000,
          50000,
          40000,
          10000,
          22000,
          47000,
          20000,
          36000,
          250000,
          19000,
          70000,
          190000,
          440000,
          230000,
          52000,
          110000,
          26000,
          170000,
          1500000,
          3000,
          7700,
          24000,
          5200,
          7200,
          170000,
          120000,
          30000,
          3200,
          7000,
          370000,
          2600,
          160000,
          5600,
          16000,
          9100,
          140000,
          14000,
          110000,
          61000,
          20000,
          22000,
          13000,
          130000,
          78000,
          4200,
          220000,
          60000,
          110000,
          17000,
          68000,
          8800,
          71000,
          370000,
          17000,
          16000,
          34000,
          220000,
          9500,
          100000,
          68000,
          11000,
          220000,
          38000,
          11000,
          7900,
          66000,
          82000,
          24000,
          45000,
          9400,
          3900,
          62000,
          100000,
          62000,
          49000,
          280000,
          90000,
          130000,
          23000,
          73000,
          130000,
          22000,
          84000,
          11000,
          120000,
          130000,
          47000,
          1700,
          59000,
          13000,
          320000,
          26000,
          5200,
          28000,
          14000,
          200000,
          120000,
          68000,
          110000,
          44000,
          68000,
          25000,
          29000,
          89000,
          24000,
          49000,
          30000,
          130000,
          12000,
          9500,
          23000,
          19000,
          37000,
          23000,
          280000,
          34000,
          120000,
          260000,
          32000,
          12000,
          18000,
          140000,
          25000,
          69000,
          14000,
          16000,
          67000,
          83000,
          38000
         ],
         "y0": " ",
         "yaxis": "y"
        },
        {
         "alignmentgroup": "True",
         "boxpoints": "suspectedoutliers",
         "hovertemplate": "Difficulty=%{x}<br>Nº of students enrolled=%{y}<extra></extra>",
         "legendgroup": "Non-beginner",
         "marker": {
          "color": "#808000"
         },
         "name": "Non-beginner",
         "notched": false,
         "offsetgroup": "Non-beginner",
         "orientation": "v",
         "showlegend": true,
         "type": "box",
         "x": [
          "Non-beginner",
          "Non-beginner",
          "Non-beginner",
          "Non-beginner",
          "Non-beginner",
          "Non-beginner",
          "Non-beginner",
          "Non-beginner",
          "Non-beginner",
          "Non-beginner",
          "Non-beginner",
          "Non-beginner",
          "Non-beginner",
          "Non-beginner",
          "Non-beginner",
          "Non-beginner",
          "Non-beginner",
          "Non-beginner",
          "Non-beginner",
          "Non-beginner",
          "Non-beginner",
          "Non-beginner",
          "Non-beginner",
          "Non-beginner",
          "Non-beginner",
          "Non-beginner",
          "Non-beginner",
          "Non-beginner",
          "Non-beginner",
          "Non-beginner",
          "Non-beginner",
          "Non-beginner",
          "Non-beginner",
          "Non-beginner",
          "Non-beginner",
          "Non-beginner",
          "Non-beginner",
          "Non-beginner",
          "Non-beginner",
          "Non-beginner",
          "Non-beginner",
          "Non-beginner",
          "Non-beginner",
          "Non-beginner",
          "Non-beginner",
          "Non-beginner",
          "Non-beginner",
          "Non-beginner",
          "Non-beginner",
          "Non-beginner",
          "Non-beginner",
          "Non-beginner",
          "Non-beginner",
          "Non-beginner",
          "Non-beginner",
          "Non-beginner",
          "Non-beginner",
          "Non-beginner",
          "Non-beginner",
          "Non-beginner",
          "Non-beginner",
          "Non-beginner",
          "Non-beginner",
          "Non-beginner",
          "Non-beginner",
          "Non-beginner",
          "Non-beginner",
          "Non-beginner",
          "Non-beginner",
          "Non-beginner",
          "Non-beginner",
          "Non-beginner",
          "Non-beginner",
          "Non-beginner",
          "Non-beginner",
          "Non-beginner",
          "Non-beginner",
          "Non-beginner",
          "Non-beginner",
          "Non-beginner",
          "Non-beginner",
          "Non-beginner",
          "Non-beginner",
          "Non-beginner",
          "Non-beginner",
          "Non-beginner",
          "Non-beginner",
          "Non-beginner",
          "Non-beginner",
          "Non-beginner",
          "Non-beginner",
          "Non-beginner",
          "Non-beginner",
          "Non-beginner",
          "Non-beginner",
          "Non-beginner",
          "Non-beginner",
          "Non-beginner",
          "Non-beginner",
          "Non-beginner",
          "Non-beginner",
          "Non-beginner",
          "Non-beginner",
          "Non-beginner",
          "Non-beginner",
          "Non-beginner",
          "Non-beginner",
          "Non-beginner",
          "Non-beginner",
          "Non-beginner",
          "Non-beginner",
          "Non-beginner",
          "Non-beginner",
          "Non-beginner",
          "Non-beginner",
          "Non-beginner",
          "Non-beginner",
          "Non-beginner",
          "Non-beginner",
          "Non-beginner",
          "Non-beginner",
          "Non-beginner",
          "Non-beginner",
          "Non-beginner",
          "Non-beginner",
          "Non-beginner",
          "Non-beginner",
          "Non-beginner",
          "Non-beginner",
          "Non-beginner",
          "Non-beginner",
          "Non-beginner",
          "Non-beginner",
          "Non-beginner",
          "Non-beginner",
          "Non-beginner",
          "Non-beginner",
          "Non-beginner",
          "Non-beginner",
          "Non-beginner",
          "Non-beginner",
          "Non-beginner",
          "Non-beginner",
          "Non-beginner",
          "Non-beginner",
          "Non-beginner",
          "Non-beginner",
          "Non-beginner",
          "Non-beginner",
          "Non-beginner",
          "Non-beginner",
          "Non-beginner",
          "Non-beginner",
          "Non-beginner",
          "Non-beginner",
          "Non-beginner",
          "Non-beginner",
          "Non-beginner",
          "Non-beginner",
          "Non-beginner",
          "Non-beginner",
          "Non-beginner",
          "Non-beginner",
          "Non-beginner",
          "Non-beginner",
          "Non-beginner",
          "Non-beginner",
          "Non-beginner",
          "Non-beginner",
          "Non-beginner",
          "Non-beginner",
          "Non-beginner",
          "Non-beginner",
          "Non-beginner",
          "Non-beginner",
          "Non-beginner",
          "Non-beginner",
          "Non-beginner",
          "Non-beginner",
          "Non-beginner",
          "Non-beginner",
          "Non-beginner",
          "Non-beginner",
          "Non-beginner",
          "Non-beginner",
          "Non-beginner",
          "Non-beginner",
          "Non-beginner",
          "Non-beginner",
          "Non-beginner",
          "Non-beginner",
          "Non-beginner",
          "Non-beginner",
          "Non-beginner",
          "Non-beginner",
          "Non-beginner",
          "Non-beginner",
          "Non-beginner",
          "Non-beginner",
          "Non-beginner",
          "Non-beginner",
          "Non-beginner",
          "Non-beginner",
          "Non-beginner",
          "Non-beginner",
          "Non-beginner",
          "Non-beginner",
          "Non-beginner",
          "Non-beginner",
          "Non-beginner",
          "Non-beginner",
          "Non-beginner",
          "Non-beginner",
          "Non-beginner",
          "Non-beginner",
          "Non-beginner",
          "Non-beginner",
          "Non-beginner",
          "Non-beginner",
          "Non-beginner",
          "Non-beginner",
          "Non-beginner",
          "Non-beginner",
          "Non-beginner",
          "Non-beginner",
          "Non-beginner",
          "Non-beginner",
          "Non-beginner",
          "Non-beginner",
          "Non-beginner",
          "Non-beginner",
          "Non-beginner",
          "Non-beginner",
          "Non-beginner",
          "Non-beginner",
          "Non-beginner",
          "Non-beginner",
          "Non-beginner",
          "Non-beginner",
          "Non-beginner",
          "Non-beginner",
          "Non-beginner",
          "Non-beginner",
          "Non-beginner",
          "Non-beginner",
          "Non-beginner",
          "Non-beginner",
          "Non-beginner",
          "Non-beginner",
          "Non-beginner",
          "Non-beginner",
          "Non-beginner",
          "Non-beginner",
          "Non-beginner",
          "Non-beginner",
          "Non-beginner",
          "Non-beginner",
          "Non-beginner",
          "Non-beginner",
          "Non-beginner",
          "Non-beginner",
          "Non-beginner",
          "Non-beginner",
          "Non-beginner",
          "Non-beginner",
          "Non-beginner",
          "Non-beginner",
          "Non-beginner",
          "Non-beginner",
          "Non-beginner",
          "Non-beginner",
          "Non-beginner",
          "Non-beginner",
          "Non-beginner",
          "Non-beginner",
          "Non-beginner",
          "Non-beginner",
          "Non-beginner",
          "Non-beginner",
          "Non-beginner",
          "Non-beginner",
          "Non-beginner",
          "Non-beginner",
          "Non-beginner",
          "Non-beginner",
          "Non-beginner",
          "Non-beginner",
          "Non-beginner",
          "Non-beginner",
          "Non-beginner",
          "Non-beginner",
          "Non-beginner",
          "Non-beginner",
          "Non-beginner",
          "Non-beginner",
          "Non-beginner",
          "Non-beginner",
          "Non-beginner",
          "Non-beginner",
          "Non-beginner",
          "Non-beginner",
          "Non-beginner",
          "Non-beginner",
          "Non-beginner",
          "Non-beginner",
          "Non-beginner",
          "Non-beginner",
          "Non-beginner",
          "Non-beginner",
          "Non-beginner",
          "Non-beginner",
          "Non-beginner",
          "Non-beginner",
          "Non-beginner",
          "Non-beginner",
          "Non-beginner",
          "Non-beginner",
          "Non-beginner",
          "Non-beginner",
          "Non-beginner",
          "Non-beginner",
          "Non-beginner",
          "Non-beginner",
          "Non-beginner",
          "Non-beginner",
          "Non-beginner",
          "Non-beginner",
          "Non-beginner",
          "Non-beginner",
          "Non-beginner",
          "Non-beginner",
          "Non-beginner",
          "Non-beginner",
          "Non-beginner",
          "Non-beginner",
          "Non-beginner",
          "Non-beginner",
          "Non-beginner",
          "Non-beginner",
          "Non-beginner",
          "Non-beginner",
          "Non-beginner",
          "Non-beginner",
          "Non-beginner",
          "Non-beginner",
          "Non-beginner",
          "Non-beginner",
          "Non-beginner",
          "Non-beginner",
          "Non-beginner",
          "Non-beginner",
          "Non-beginner",
          "Non-beginner",
          "Non-beginner",
          "Non-beginner",
          "Non-beginner",
          "Non-beginner",
          "Non-beginner",
          "Non-beginner",
          "Non-beginner",
          "Non-beginner",
          "Non-beginner",
          "Non-beginner",
          "Non-beginner",
          "Non-beginner",
          "Non-beginner",
          "Non-beginner",
          "Non-beginner",
          "Non-beginner",
          "Non-beginner",
          "Non-beginner",
          "Non-beginner",
          "Non-beginner",
          "Non-beginner",
          "Non-beginner",
          "Non-beginner",
          "Non-beginner",
          "Non-beginner",
          "Non-beginner",
          "Non-beginner",
          "Non-beginner",
          "Non-beginner",
          "Non-beginner",
          "Non-beginner",
          "Non-beginner",
          "Non-beginner",
          "Non-beginner",
          "Non-beginner",
          "Non-beginner",
          "Non-beginner",
          "Non-beginner",
          "Non-beginner",
          "Non-beginner",
          "Non-beginner",
          "Non-beginner",
          "Non-beginner",
          "Non-beginner",
          "Non-beginner",
          "Non-beginner",
          "Non-beginner",
          "Non-beginner",
          "Non-beginner",
          "Non-beginner",
          "Non-beginner"
         ],
         "x0": " ",
         "xaxis": "x",
         "y": [
          17000,
          130000,
          91000,
          320000,
          2400,
          12000,
          4000,
          13000,
          13000,
          6600,
          22000,
          80000,
          9900,
          23000,
          78000,
          320000,
          190000,
          35000,
          29000,
          14000,
          220000,
          150000,
          14000,
          36000,
          8100,
          71000,
          11000,
          63000,
          42000,
          480000,
          150000,
          97000,
          200000,
          4200,
          310000,
          79000,
          31000,
          15000,
          15000,
          66000,
          33000,
          56000,
          7300,
          9200,
          22000,
          9700,
          91000,
          29000,
          210000,
          4200,
          55000,
          2300,
          1900,
          68000,
          84000,
          95000,
          7300,
          5800,
          24000,
          67000,
          38000,
          120000,
          77000,
          13000,
          130000,
          82000,
          19000,
          51000,
          110000,
          310000,
          37000,
          350000,
          49000,
          240000,
          46000,
          10000,
          56000,
          10000,
          43000,
          140000,
          120000,
          26000,
          22000,
          99000,
          23000,
          19000,
          3000,
          120000,
          120000,
          140000,
          210000,
          130000,
          66000,
          140000,
          31000,
          690000,
          67000,
          97000,
          19000,
          16000,
          300000,
          4000,
          8000,
          41000,
          54000,
          57000,
          40000,
          130000,
          150000,
          18000,
          110000,
          83000,
          16000,
          3400,
          57000,
          110000,
          760000,
          130000,
          42000,
          7900,
          86000,
          38000,
          45000,
          23000,
          130000,
          35000,
          68000,
          83000,
          4100,
          54000,
          31000,
          39000,
          76000,
          39000,
          12000,
          100000,
          76000,
          12000,
          24000,
          30000,
          310000,
          57000,
          42000,
          4400,
          62000,
          27000,
          45000,
          89000,
          150000,
          140000,
          170000,
          220000,
          49000,
          20000,
          18000,
          110000,
          22000,
          100000,
          110000,
          80000,
          19000,
          34000,
          47000,
          73000,
          59000,
          75000,
          79000,
          22000,
          37000,
          3600,
          7600,
          44000,
          120000,
          36000,
          430000,
          260000,
          210000,
          62000,
          240000,
          62000,
          7400,
          39000,
          5400,
          1700,
          46000,
          170000,
          140000,
          140000,
          3500,
          51000,
          1600,
          12000,
          180000,
          97000,
          85000,
          12000,
          9700,
          8700,
          150000,
          22000,
          25000,
          36000,
          19000,
          41000,
          38000,
          66000,
          46000,
          60000,
          160000,
          27000,
          14000,
          84000,
          53000,
          150000,
          130000,
          99000,
          390000,
          110000,
          41000,
          150000,
          34000,
          200000,
          47000,
          79000,
          74000,
          42000,
          220000,
          82000,
          220000,
          270000,
          87000,
          370000,
          11000,
          39000,
          76000,
          69000,
          67000,
          33000,
          150000,
          13000,
          270000,
          37000,
          34000,
          5900,
          16000,
          78000,
          52000,
          120000,
          7200,
          23000,
          29000,
          290000,
          3200000,
          240000,
          29000,
          58000,
          15000,
          120000,
          72000,
          120000,
          71000,
          49000,
          58000,
          60000,
          280000,
          48000,
          33000,
          170000,
          34000,
          130000,
          36000,
          21000,
          9100,
          100000,
          40000,
          44000,
          59000,
          34000,
          21000,
          40000,
          95000,
          17000,
          290000,
          630000,
          41000,
          35000,
          250000,
          21000,
          33000,
          57000,
          80000,
          6200,
          92000,
          30000,
          42000,
          84000,
          79000,
          72000,
          180000,
          67000,
          39000,
          68000,
          280000,
          79000,
          68000,
          39000,
          1300000,
          18000,
          190000,
          21000,
          420000,
          41000,
          69000,
          480000,
          29000,
          35000,
          23000,
          16000,
          15000,
          36000,
          17000,
          33000,
          6800,
          12000,
          47000,
          6400,
          300000,
          39000,
          14000,
          16000,
          18000,
          15000,
          42000,
          34000,
          60000,
          12000,
          430000,
          12000,
          16000,
          28000,
          60000,
          58000,
          9200,
          30000,
          750000,
          4900,
          29000,
          50000,
          48000,
          33000,
          81000,
          8500,
          53000,
          170000,
          12000,
          47000,
          23000,
          420000,
          7200,
          84000,
          29000,
          47000,
          9400,
          180000,
          120000,
          50000,
          12000,
          2500000,
          19000,
          100000,
          33000,
          45000,
          5400,
          12000,
          78000,
          11000,
          120000,
          6100,
          3900,
          43000,
          220000,
          310000,
          63000,
          40000,
          150000,
          190000,
          120000,
          35000,
          6200,
          94000,
          17000,
          270000,
          17000,
          76000,
          190000,
          68000,
          77000,
          19000,
          41000,
          45000,
          52000,
          21000,
          30000,
          9800
         ],
         "y0": " ",
         "yaxis": "y"
        }
       ],
       "layout": {
        "boxmode": "overlay",
        "legend": {
         "title": {
          "text": "Difficulty"
         },
         "tracegroupgap": 0
        },
        "paper_bgcolor": "rgb(250, 250, 238)",
        "plot_bgcolor": "rgb(250, 250, 238)",
        "template": {
         "data": {
          "bar": [
           {
            "error_x": {
             "color": "#2a3f5f"
            },
            "error_y": {
             "color": "#2a3f5f"
            },
            "marker": {
             "line": {
              "color": "#E5ECF6",
              "width": 0.5
             },
             "pattern": {
              "fillmode": "overlay",
              "size": 10,
              "solidity": 0.2
             }
            },
            "type": "bar"
           }
          ],
          "barpolar": [
           {
            "marker": {
             "line": {
              "color": "#E5ECF6",
              "width": 0.5
             },
             "pattern": {
              "fillmode": "overlay",
              "size": 10,
              "solidity": 0.2
             }
            },
            "type": "barpolar"
           }
          ],
          "carpet": [
           {
            "aaxis": {
             "endlinecolor": "#2a3f5f",
             "gridcolor": "white",
             "linecolor": "white",
             "minorgridcolor": "white",
             "startlinecolor": "#2a3f5f"
            },
            "baxis": {
             "endlinecolor": "#2a3f5f",
             "gridcolor": "white",
             "linecolor": "white",
             "minorgridcolor": "white",
             "startlinecolor": "#2a3f5f"
            },
            "type": "carpet"
           }
          ],
          "choropleth": [
           {
            "colorbar": {
             "outlinewidth": 0,
             "ticks": ""
            },
            "type": "choropleth"
           }
          ],
          "contour": [
           {
            "colorbar": {
             "outlinewidth": 0,
             "ticks": ""
            },
            "colorscale": [
             [
              0,
              "#0d0887"
             ],
             [
              0.1111111111111111,
              "#46039f"
             ],
             [
              0.2222222222222222,
              "#7201a8"
             ],
             [
              0.3333333333333333,
              "#9c179e"
             ],
             [
              0.4444444444444444,
              "#bd3786"
             ],
             [
              0.5555555555555556,
              "#d8576b"
             ],
             [
              0.6666666666666666,
              "#ed7953"
             ],
             [
              0.7777777777777778,
              "#fb9f3a"
             ],
             [
              0.8888888888888888,
              "#fdca26"
             ],
             [
              1,
              "#f0f921"
             ]
            ],
            "type": "contour"
           }
          ],
          "contourcarpet": [
           {
            "colorbar": {
             "outlinewidth": 0,
             "ticks": ""
            },
            "type": "contourcarpet"
           }
          ],
          "heatmap": [
           {
            "colorbar": {
             "outlinewidth": 0,
             "ticks": ""
            },
            "colorscale": [
             [
              0,
              "#0d0887"
             ],
             [
              0.1111111111111111,
              "#46039f"
             ],
             [
              0.2222222222222222,
              "#7201a8"
             ],
             [
              0.3333333333333333,
              "#9c179e"
             ],
             [
              0.4444444444444444,
              "#bd3786"
             ],
             [
              0.5555555555555556,
              "#d8576b"
             ],
             [
              0.6666666666666666,
              "#ed7953"
             ],
             [
              0.7777777777777778,
              "#fb9f3a"
             ],
             [
              0.8888888888888888,
              "#fdca26"
             ],
             [
              1,
              "#f0f921"
             ]
            ],
            "type": "heatmap"
           }
          ],
          "heatmapgl": [
           {
            "colorbar": {
             "outlinewidth": 0,
             "ticks": ""
            },
            "colorscale": [
             [
              0,
              "#0d0887"
             ],
             [
              0.1111111111111111,
              "#46039f"
             ],
             [
              0.2222222222222222,
              "#7201a8"
             ],
             [
              0.3333333333333333,
              "#9c179e"
             ],
             [
              0.4444444444444444,
              "#bd3786"
             ],
             [
              0.5555555555555556,
              "#d8576b"
             ],
             [
              0.6666666666666666,
              "#ed7953"
             ],
             [
              0.7777777777777778,
              "#fb9f3a"
             ],
             [
              0.8888888888888888,
              "#fdca26"
             ],
             [
              1,
              "#f0f921"
             ]
            ],
            "type": "heatmapgl"
           }
          ],
          "histogram": [
           {
            "marker": {
             "pattern": {
              "fillmode": "overlay",
              "size": 10,
              "solidity": 0.2
             }
            },
            "type": "histogram"
           }
          ],
          "histogram2d": [
           {
            "colorbar": {
             "outlinewidth": 0,
             "ticks": ""
            },
            "colorscale": [
             [
              0,
              "#0d0887"
             ],
             [
              0.1111111111111111,
              "#46039f"
             ],
             [
              0.2222222222222222,
              "#7201a8"
             ],
             [
              0.3333333333333333,
              "#9c179e"
             ],
             [
              0.4444444444444444,
              "#bd3786"
             ],
             [
              0.5555555555555556,
              "#d8576b"
             ],
             [
              0.6666666666666666,
              "#ed7953"
             ],
             [
              0.7777777777777778,
              "#fb9f3a"
             ],
             [
              0.8888888888888888,
              "#fdca26"
             ],
             [
              1,
              "#f0f921"
             ]
            ],
            "type": "histogram2d"
           }
          ],
          "histogram2dcontour": [
           {
            "colorbar": {
             "outlinewidth": 0,
             "ticks": ""
            },
            "colorscale": [
             [
              0,
              "#0d0887"
             ],
             [
              0.1111111111111111,
              "#46039f"
             ],
             [
              0.2222222222222222,
              "#7201a8"
             ],
             [
              0.3333333333333333,
              "#9c179e"
             ],
             [
              0.4444444444444444,
              "#bd3786"
             ],
             [
              0.5555555555555556,
              "#d8576b"
             ],
             [
              0.6666666666666666,
              "#ed7953"
             ],
             [
              0.7777777777777778,
              "#fb9f3a"
             ],
             [
              0.8888888888888888,
              "#fdca26"
             ],
             [
              1,
              "#f0f921"
             ]
            ],
            "type": "histogram2dcontour"
           }
          ],
          "mesh3d": [
           {
            "colorbar": {
             "outlinewidth": 0,
             "ticks": ""
            },
            "type": "mesh3d"
           }
          ],
          "parcoords": [
           {
            "line": {
             "colorbar": {
              "outlinewidth": 0,
              "ticks": ""
             }
            },
            "type": "parcoords"
           }
          ],
          "pie": [
           {
            "automargin": true,
            "type": "pie"
           }
          ],
          "scatter": [
           {
            "fillpattern": {
             "fillmode": "overlay",
             "size": 10,
             "solidity": 0.2
            },
            "type": "scatter"
           }
          ],
          "scatter3d": [
           {
            "line": {
             "colorbar": {
              "outlinewidth": 0,
              "ticks": ""
             }
            },
            "marker": {
             "colorbar": {
              "outlinewidth": 0,
              "ticks": ""
             }
            },
            "type": "scatter3d"
           }
          ],
          "scattercarpet": [
           {
            "marker": {
             "colorbar": {
              "outlinewidth": 0,
              "ticks": ""
             }
            },
            "type": "scattercarpet"
           }
          ],
          "scattergeo": [
           {
            "marker": {
             "colorbar": {
              "outlinewidth": 0,
              "ticks": ""
             }
            },
            "type": "scattergeo"
           }
          ],
          "scattergl": [
           {
            "marker": {
             "colorbar": {
              "outlinewidth": 0,
              "ticks": ""
             }
            },
            "type": "scattergl"
           }
          ],
          "scattermapbox": [
           {
            "marker": {
             "colorbar": {
              "outlinewidth": 0,
              "ticks": ""
             }
            },
            "type": "scattermapbox"
           }
          ],
          "scatterpolar": [
           {
            "marker": {
             "colorbar": {
              "outlinewidth": 0,
              "ticks": ""
             }
            },
            "type": "scatterpolar"
           }
          ],
          "scatterpolargl": [
           {
            "marker": {
             "colorbar": {
              "outlinewidth": 0,
              "ticks": ""
             }
            },
            "type": "scatterpolargl"
           }
          ],
          "scatterternary": [
           {
            "marker": {
             "colorbar": {
              "outlinewidth": 0,
              "ticks": ""
             }
            },
            "type": "scatterternary"
           }
          ],
          "surface": [
           {
            "colorbar": {
             "outlinewidth": 0,
             "ticks": ""
            },
            "colorscale": [
             [
              0,
              "#0d0887"
             ],
             [
              0.1111111111111111,
              "#46039f"
             ],
             [
              0.2222222222222222,
              "#7201a8"
             ],
             [
              0.3333333333333333,
              "#9c179e"
             ],
             [
              0.4444444444444444,
              "#bd3786"
             ],
             [
              0.5555555555555556,
              "#d8576b"
             ],
             [
              0.6666666666666666,
              "#ed7953"
             ],
             [
              0.7777777777777778,
              "#fb9f3a"
             ],
             [
              0.8888888888888888,
              "#fdca26"
             ],
             [
              1,
              "#f0f921"
             ]
            ],
            "type": "surface"
           }
          ],
          "table": [
           {
            "cells": {
             "fill": {
              "color": "#EBF0F8"
             },
             "line": {
              "color": "white"
             }
            },
            "header": {
             "fill": {
              "color": "#C8D4E3"
             },
             "line": {
              "color": "white"
             }
            },
            "type": "table"
           }
          ]
         },
         "layout": {
          "annotationdefaults": {
           "arrowcolor": "#2a3f5f",
           "arrowhead": 0,
           "arrowwidth": 1
          },
          "autotypenumbers": "strict",
          "coloraxis": {
           "colorbar": {
            "outlinewidth": 0,
            "ticks": ""
           }
          },
          "colorscale": {
           "diverging": [
            [
             0,
             "#8e0152"
            ],
            [
             0.1,
             "#c51b7d"
            ],
            [
             0.2,
             "#de77ae"
            ],
            [
             0.3,
             "#f1b6da"
            ],
            [
             0.4,
             "#fde0ef"
            ],
            [
             0.5,
             "#f7f7f7"
            ],
            [
             0.6,
             "#e6f5d0"
            ],
            [
             0.7,
             "#b8e186"
            ],
            [
             0.8,
             "#7fbc41"
            ],
            [
             0.9,
             "#4d9221"
            ],
            [
             1,
             "#276419"
            ]
           ],
           "sequential": [
            [
             0,
             "#0d0887"
            ],
            [
             0.1111111111111111,
             "#46039f"
            ],
            [
             0.2222222222222222,
             "#7201a8"
            ],
            [
             0.3333333333333333,
             "#9c179e"
            ],
            [
             0.4444444444444444,
             "#bd3786"
            ],
            [
             0.5555555555555556,
             "#d8576b"
            ],
            [
             0.6666666666666666,
             "#ed7953"
            ],
            [
             0.7777777777777778,
             "#fb9f3a"
            ],
            [
             0.8888888888888888,
             "#fdca26"
            ],
            [
             1,
             "#f0f921"
            ]
           ],
           "sequentialminus": [
            [
             0,
             "#0d0887"
            ],
            [
             0.1111111111111111,
             "#46039f"
            ],
            [
             0.2222222222222222,
             "#7201a8"
            ],
            [
             0.3333333333333333,
             "#9c179e"
            ],
            [
             0.4444444444444444,
             "#bd3786"
            ],
            [
             0.5555555555555556,
             "#d8576b"
            ],
            [
             0.6666666666666666,
             "#ed7953"
            ],
            [
             0.7777777777777778,
             "#fb9f3a"
            ],
            [
             0.8888888888888888,
             "#fdca26"
            ],
            [
             1,
             "#f0f921"
            ]
           ]
          },
          "colorway": [
           "#636efa",
           "#EF553B",
           "#00cc96",
           "#ab63fa",
           "#FFA15A",
           "#19d3f3",
           "#FF6692",
           "#B6E880",
           "#FF97FF",
           "#FECB52"
          ],
          "font": {
           "color": "#2a3f5f"
          },
          "geo": {
           "bgcolor": "white",
           "lakecolor": "white",
           "landcolor": "#E5ECF6",
           "showlakes": true,
           "showland": true,
           "subunitcolor": "white"
          },
          "hoverlabel": {
           "align": "left"
          },
          "hovermode": "closest",
          "mapbox": {
           "style": "light"
          },
          "paper_bgcolor": "white",
          "plot_bgcolor": "#E5ECF6",
          "polar": {
           "angularaxis": {
            "gridcolor": "white",
            "linecolor": "white",
            "ticks": ""
           },
           "bgcolor": "#E5ECF6",
           "radialaxis": {
            "gridcolor": "white",
            "linecolor": "white",
            "ticks": ""
           }
          },
          "scene": {
           "xaxis": {
            "backgroundcolor": "#E5ECF6",
            "gridcolor": "white",
            "gridwidth": 2,
            "linecolor": "white",
            "showbackground": true,
            "ticks": "",
            "zerolinecolor": "white"
           },
           "yaxis": {
            "backgroundcolor": "#E5ECF6",
            "gridcolor": "white",
            "gridwidth": 2,
            "linecolor": "white",
            "showbackground": true,
            "ticks": "",
            "zerolinecolor": "white"
           },
           "zaxis": {
            "backgroundcolor": "#E5ECF6",
            "gridcolor": "white",
            "gridwidth": 2,
            "linecolor": "white",
            "showbackground": true,
            "ticks": "",
            "zerolinecolor": "white"
           }
          },
          "shapedefaults": {
           "line": {
            "color": "#2a3f5f"
           }
          },
          "ternary": {
           "aaxis": {
            "gridcolor": "white",
            "linecolor": "white",
            "ticks": ""
           },
           "baxis": {
            "gridcolor": "white",
            "linecolor": "white",
            "ticks": ""
           },
           "bgcolor": "#E5ECF6",
           "caxis": {
            "gridcolor": "white",
            "linecolor": "white",
            "ticks": ""
           }
          },
          "title": {
           "x": 0.05
          },
          "xaxis": {
           "automargin": true,
           "gridcolor": "white",
           "linecolor": "white",
           "ticks": "",
           "title": {
            "standoff": 15
           },
           "zerolinecolor": "white",
           "zerolinewidth": 2
          },
          "yaxis": {
           "automargin": true,
           "gridcolor": "white",
           "linecolor": "white",
           "ticks": "",
           "title": {
            "standoff": 15
           },
           "zerolinecolor": "white",
           "zerolinewidth": 2
          }
         }
        },
        "title": {
         "text": "Distribution of Students Enrolled by Difficulty Group"
        },
        "xaxis": {
         "anchor": "y",
         "categoryarray": [
          "Beginner",
          "Non-beginner"
         ],
         "categoryorder": "array",
         "domain": [
          0,
          1
         ],
         "title": {
          "text": "Difficulty"
         }
        },
        "yaxis": {
         "anchor": "x",
         "domain": [
          0,
          1
         ],
         "range": [
          0,
          230000
         ],
         "title": {
          "text": "Nº of students enrolled"
         }
        }
       }
      }
     },
     "metadata": {},
     "output_type": "display_data"
    }
   ],
   "source": [
    "#To check for distributions in beginner and  non-beginner courses\n",
    "fig = px.box(df, \n",
    "             x='difficulty_groups', \n",
    "             y='course_students_enrolled', \n",
    "             points='suspectedoutliers', \n",
    "             title='Distribution of Students Enrolled by Difficulty Group',\n",
    "             labels={'difficulty_groups': 'Difficulty', 'course_students_enrolled': 'Nº of students enrolled'},\n",
    "             color='difficulty_groups',\n",
    "             color_discrete_map={'Beginner': '#008080', 'Non-beginner': '#808000'})  \n",
    "\n",
    "fig.update_yaxes(range=[0,230000])\n",
    "\n",
    "fig.update_layout(\n",
    "    paper_bgcolor='rgb(250, 250, 238)',  \n",
    "    plot_bgcolor='rgb(250, 250, 238)')  \n",
    "\n",
    "fig.show()\n",
    "\n"
   ]
  },
  {
   "cell_type": "code",
   "execution_count": 129,
   "metadata": {},
   "outputs": [
    {
     "data": {
      "application/vnd.plotly.v1+json": {
       "config": {
        "plotlyServerURL": "https://plot.ly"
       },
       "data": [
        {
         "alignmentgroup": "True",
         "box": {
          "visible": true
         },
         "hovertemplate": "Difficulty=%{x}<br>Nº of students enrolled=%{y}<extra></extra>",
         "legendgroup": "Beginner",
         "marker": {
          "color": "#008080"
         },
         "name": "Beginner",
         "offsetgroup": "Beginner",
         "orientation": "v",
         "points": "all",
         "scalegroup": "True",
         "showlegend": true,
         "type": "violin",
         "x": [
          "Beginner",
          "Beginner",
          "Beginner",
          "Beginner",
          "Beginner",
          "Beginner",
          "Beginner",
          "Beginner",
          "Beginner",
          "Beginner",
          "Beginner",
          "Beginner",
          "Beginner",
          "Beginner",
          "Beginner",
          "Beginner",
          "Beginner",
          "Beginner",
          "Beginner",
          "Beginner",
          "Beginner",
          "Beginner",
          "Beginner",
          "Beginner",
          "Beginner",
          "Beginner",
          "Beginner",
          "Beginner",
          "Beginner",
          "Beginner",
          "Beginner",
          "Beginner",
          "Beginner",
          "Beginner",
          "Beginner",
          "Beginner",
          "Beginner",
          "Beginner",
          "Beginner",
          "Beginner",
          "Beginner",
          "Beginner",
          "Beginner",
          "Beginner",
          "Beginner",
          "Beginner",
          "Beginner",
          "Beginner",
          "Beginner",
          "Beginner",
          "Beginner",
          "Beginner",
          "Beginner",
          "Beginner",
          "Beginner",
          "Beginner",
          "Beginner",
          "Beginner",
          "Beginner",
          "Beginner",
          "Beginner",
          "Beginner",
          "Beginner",
          "Beginner",
          "Beginner",
          "Beginner",
          "Beginner",
          "Beginner",
          "Beginner",
          "Beginner",
          "Beginner",
          "Beginner",
          "Beginner",
          "Beginner",
          "Beginner",
          "Beginner",
          "Beginner",
          "Beginner",
          "Beginner",
          "Beginner",
          "Beginner",
          "Beginner",
          "Beginner",
          "Beginner",
          "Beginner",
          "Beginner",
          "Beginner",
          "Beginner",
          "Beginner",
          "Beginner",
          "Beginner",
          "Beginner",
          "Beginner",
          "Beginner",
          "Beginner",
          "Beginner",
          "Beginner",
          "Beginner",
          "Beginner",
          "Beginner",
          "Beginner",
          "Beginner",
          "Beginner",
          "Beginner",
          "Beginner",
          "Beginner",
          "Beginner",
          "Beginner",
          "Beginner",
          "Beginner",
          "Beginner",
          "Beginner",
          "Beginner",
          "Beginner",
          "Beginner",
          "Beginner",
          "Beginner",
          "Beginner",
          "Beginner",
          "Beginner",
          "Beginner",
          "Beginner",
          "Beginner",
          "Beginner",
          "Beginner",
          "Beginner",
          "Beginner",
          "Beginner",
          "Beginner",
          "Beginner",
          "Beginner",
          "Beginner",
          "Beginner",
          "Beginner",
          "Beginner",
          "Beginner",
          "Beginner",
          "Beginner",
          "Beginner",
          "Beginner",
          "Beginner",
          "Beginner",
          "Beginner",
          "Beginner",
          "Beginner",
          "Beginner",
          "Beginner",
          "Beginner",
          "Beginner",
          "Beginner",
          "Beginner",
          "Beginner",
          "Beginner",
          "Beginner",
          "Beginner",
          "Beginner",
          "Beginner",
          "Beginner",
          "Beginner",
          "Beginner",
          "Beginner",
          "Beginner",
          "Beginner",
          "Beginner",
          "Beginner",
          "Beginner",
          "Beginner",
          "Beginner",
          "Beginner",
          "Beginner",
          "Beginner",
          "Beginner",
          "Beginner",
          "Beginner",
          "Beginner",
          "Beginner",
          "Beginner",
          "Beginner",
          "Beginner",
          "Beginner",
          "Beginner",
          "Beginner",
          "Beginner",
          "Beginner",
          "Beginner",
          "Beginner",
          "Beginner",
          "Beginner",
          "Beginner",
          "Beginner",
          "Beginner",
          "Beginner",
          "Beginner",
          "Beginner",
          "Beginner",
          "Beginner",
          "Beginner",
          "Beginner",
          "Beginner",
          "Beginner",
          "Beginner",
          "Beginner",
          "Beginner",
          "Beginner",
          "Beginner",
          "Beginner",
          "Beginner",
          "Beginner",
          "Beginner",
          "Beginner",
          "Beginner",
          "Beginner",
          "Beginner",
          "Beginner",
          "Beginner",
          "Beginner",
          "Beginner",
          "Beginner",
          "Beginner",
          "Beginner",
          "Beginner",
          "Beginner",
          "Beginner",
          "Beginner",
          "Beginner",
          "Beginner",
          "Beginner",
          "Beginner",
          "Beginner",
          "Beginner",
          "Beginner",
          "Beginner",
          "Beginner",
          "Beginner",
          "Beginner",
          "Beginner",
          "Beginner",
          "Beginner",
          "Beginner",
          "Beginner",
          "Beginner",
          "Beginner",
          "Beginner",
          "Beginner",
          "Beginner",
          "Beginner",
          "Beginner",
          "Beginner",
          "Beginner",
          "Beginner",
          "Beginner",
          "Beginner",
          "Beginner",
          "Beginner",
          "Beginner",
          "Beginner",
          "Beginner",
          "Beginner",
          "Beginner",
          "Beginner",
          "Beginner",
          "Beginner",
          "Beginner",
          "Beginner",
          "Beginner",
          "Beginner",
          "Beginner",
          "Beginner",
          "Beginner",
          "Beginner",
          "Beginner",
          "Beginner",
          "Beginner",
          "Beginner",
          "Beginner",
          "Beginner",
          "Beginner",
          "Beginner",
          "Beginner",
          "Beginner",
          "Beginner",
          "Beginner",
          "Beginner",
          "Beginner",
          "Beginner",
          "Beginner",
          "Beginner",
          "Beginner",
          "Beginner",
          "Beginner",
          "Beginner",
          "Beginner",
          "Beginner",
          "Beginner",
          "Beginner",
          "Beginner",
          "Beginner",
          "Beginner",
          "Beginner",
          "Beginner",
          "Beginner",
          "Beginner",
          "Beginner",
          "Beginner",
          "Beginner",
          "Beginner",
          "Beginner",
          "Beginner",
          "Beginner",
          "Beginner",
          "Beginner",
          "Beginner",
          "Beginner",
          "Beginner",
          "Beginner",
          "Beginner",
          "Beginner",
          "Beginner",
          "Beginner",
          "Beginner",
          "Beginner",
          "Beginner",
          "Beginner",
          "Beginner",
          "Beginner",
          "Beginner",
          "Beginner",
          "Beginner",
          "Beginner",
          "Beginner",
          "Beginner",
          "Beginner",
          "Beginner",
          "Beginner",
          "Beginner",
          "Beginner",
          "Beginner",
          "Beginner",
          "Beginner",
          "Beginner",
          "Beginner",
          "Beginner",
          "Beginner",
          "Beginner",
          "Beginner",
          "Beginner",
          "Beginner",
          "Beginner",
          "Beginner",
          "Beginner",
          "Beginner",
          "Beginner",
          "Beginner",
          "Beginner",
          "Beginner",
          "Beginner",
          "Beginner",
          "Beginner",
          "Beginner",
          "Beginner",
          "Beginner",
          "Beginner",
          "Beginner",
          "Beginner",
          "Beginner",
          "Beginner",
          "Beginner",
          "Beginner",
          "Beginner",
          "Beginner",
          "Beginner",
          "Beginner",
          "Beginner",
          "Beginner",
          "Beginner",
          "Beginner",
          "Beginner",
          "Beginner",
          "Beginner",
          "Beginner",
          "Beginner",
          "Beginner",
          "Beginner",
          "Beginner",
          "Beginner",
          "Beginner",
          "Beginner",
          "Beginner",
          "Beginner",
          "Beginner",
          "Beginner",
          "Beginner",
          "Beginner",
          "Beginner",
          "Beginner",
          "Beginner",
          "Beginner",
          "Beginner",
          "Beginner",
          "Beginner",
          "Beginner",
          "Beginner",
          "Beginner",
          "Beginner",
          "Beginner",
          "Beginner",
          "Beginner",
          "Beginner",
          "Beginner",
          "Beginner",
          "Beginner",
          "Beginner",
          "Beginner",
          "Beginner",
          "Beginner",
          "Beginner",
          "Beginner",
          "Beginner",
          "Beginner",
          "Beginner",
          "Beginner",
          "Beginner",
          "Beginner",
          "Beginner",
          "Beginner",
          "Beginner",
          "Beginner",
          "Beginner",
          "Beginner",
          "Beginner",
          "Beginner",
          "Beginner",
          "Beginner",
          "Beginner",
          "Beginner",
          "Beginner",
          "Beginner",
          "Beginner",
          "Beginner",
          "Beginner",
          "Beginner",
          "Beginner",
          "Beginner",
          "Beginner",
          "Beginner",
          "Beginner",
          "Beginner",
          "Beginner",
          "Beginner",
          "Beginner",
          "Beginner",
          "Beginner",
          "Beginner",
          "Beginner",
          "Beginner",
          "Beginner",
          "Beginner",
          "Beginner",
          "Beginner",
          "Beginner",
          "Beginner",
          "Beginner",
          "Beginner",
          "Beginner",
          "Beginner",
          "Beginner",
          "Beginner",
          "Beginner",
          "Beginner",
          "Beginner",
          "Beginner",
          "Beginner",
          "Beginner",
          "Beginner",
          "Beginner",
          "Beginner",
          "Beginner",
          "Beginner",
          "Beginner",
          "Beginner",
          "Beginner",
          "Beginner",
          "Beginner",
          "Beginner",
          "Beginner",
          "Beginner",
          "Beginner"
         ],
         "x0": " ",
         "xaxis": "x",
         "y": [
          5300,
          39000,
          350000,
          61000,
          130000,
          11000,
          27000,
          110000,
          540000,
          2900,
          110000,
          9200,
          21000,
          94000,
          69000,
          40000,
          12000,
          18000,
          23000,
          69000,
          270000,
          7900,
          30000,
          20000,
          120000,
          11000,
          220000,
          6600,
          180000,
          3900,
          150000,
          10000,
          13000,
          180000,
          28000,
          6500,
          61000,
          8800,
          35000,
          88000,
          14000,
          21000,
          1600,
          31000,
          9500,
          57000,
          26000,
          15000,
          22000,
          280000,
          510000,
          110000,
          24000,
          89000,
          67000,
          10000,
          48000,
          160000,
          31000,
          36000,
          220000,
          32000,
          340000,
          790000,
          31000,
          23000,
          30000,
          22000,
          57000,
          51000,
          4800,
          32000,
          37000,
          120000,
          15000,
          43000,
          6400,
          43000,
          5800,
          33000,
          27000,
          66000,
          19000,
          61000,
          43000,
          15000,
          220000,
          27000,
          26000,
          7800,
          75000,
          15000,
          81000,
          140000,
          150000,
          17000,
          5500,
          18000,
          140000,
          23000,
          55000,
          100000,
          220000,
          110000,
          24000,
          42000,
          830000,
          140000,
          89000,
          740000,
          60000,
          96000,
          18000,
          120000,
          110000,
          150000,
          44000,
          4500,
          8200,
          240000,
          17000,
          54000,
          9000,
          21000,
          37000,
          380000,
          140000,
          58000,
          35000,
          4000,
          21000,
          5600,
          17000,
          39000,
          110000,
          7100,
          46000,
          1500,
          12000,
          17000,
          37000,
          14000,
          23000,
          200000,
          230000,
          110000,
          2400,
          110000,
          31000,
          20000,
          69000,
          6400,
          31000,
          7200,
          1800,
          14000,
          27000,
          13000,
          11000,
          86000,
          240000,
          200000,
          490000,
          56000,
          54000,
          170000,
          28000,
          180000,
          18000,
          9700,
          13000,
          12000,
          260000,
          69000,
          65000,
          10000,
          470000,
          60000,
          6500,
          36000,
          20000,
          400000,
          14000,
          63000,
          31000,
          64000,
          89000,
          3200,
          26000,
          52000,
          30000,
          39000,
          200000,
          86000,
          290000,
          180000,
          120000,
          81000,
          25000,
          56000,
          150000,
          110000,
          47000,
          4900,
          9400,
          10000,
          140000,
          260000,
          14000,
          97000,
          14000,
          59000,
          18000,
          22000,
          29000,
          10000,
          3800,
          93000,
          350000,
          10000,
          56000,
          43000,
          8100,
          36000,
          5500,
          5500,
          28000,
          34000,
          98000,
          220000,
          3300,
          480000,
          35000,
          62000,
          1700,
          23000,
          2200,
          610000,
          270000,
          18000,
          79000,
          34000,
          22000,
          32000,
          10000,
          16000,
          40000,
          10000,
          25000,
          72000,
          14000,
          6500,
          22000,
          26000,
          20000,
          2200,
          35000,
          11000,
          36000,
          140000,
          100000,
          44000,
          16000,
          46000,
          2600,
          20000,
          32000,
          27000,
          32000,
          30000,
          310000,
          25000,
          75000,
          54000,
          6000,
          140000,
          160000,
          82000,
          270000,
          270000,
          49000,
          12000,
          4100,
          72000,
          87000,
          16000,
          76000,
          110000,
          4500,
          120000,
          99000,
          14000,
          49000,
          4400,
          380000,
          160000,
          22000,
          8000,
          6300,
          17000,
          16000,
          220000,
          43000,
          22000,
          39000,
          160000,
          80000,
          180000,
          120000,
          68000,
          10000,
          14000,
          19000,
          78000,
          43000,
          11000,
          55000,
          23000,
          27000,
          47000,
          22000,
          81000,
          39000,
          93000,
          57000,
          310000,
          8400,
          52000,
          12000,
          150000,
          140000,
          51000,
          4800,
          13000,
          260000,
          73000,
          230000,
          120000,
          310000,
          14000,
          42000,
          70000,
          22000,
          12000,
          5300,
          100000,
          330000,
          13000,
          76000,
          22000,
          3200,
          9100,
          8800,
          12000,
          8900,
          160000,
          83000,
          34000,
          23000,
          50000,
          40000,
          10000,
          22000,
          47000,
          20000,
          36000,
          250000,
          19000,
          70000,
          190000,
          440000,
          230000,
          52000,
          110000,
          26000,
          170000,
          1500000,
          3000,
          7700,
          24000,
          5200,
          7200,
          170000,
          120000,
          30000,
          3200,
          7000,
          370000,
          2600,
          160000,
          5600,
          16000,
          9100,
          140000,
          14000,
          110000,
          61000,
          20000,
          22000,
          13000,
          130000,
          78000,
          4200,
          220000,
          60000,
          110000,
          17000,
          68000,
          8800,
          71000,
          370000,
          17000,
          16000,
          34000,
          220000,
          9500,
          100000,
          68000,
          11000,
          220000,
          38000,
          11000,
          7900,
          66000,
          82000,
          24000,
          45000,
          9400,
          3900,
          62000,
          100000,
          62000,
          49000,
          280000,
          90000,
          130000,
          23000,
          73000,
          130000,
          22000,
          84000,
          11000,
          120000,
          130000,
          47000,
          1700,
          59000,
          13000,
          320000,
          26000,
          5200,
          28000,
          14000,
          200000,
          120000,
          68000,
          110000,
          44000,
          68000,
          25000,
          29000,
          89000,
          24000,
          49000,
          30000,
          130000,
          12000,
          9500,
          23000,
          19000,
          37000,
          23000,
          280000,
          34000,
          120000,
          260000,
          32000,
          12000,
          18000,
          140000,
          25000,
          69000,
          14000,
          16000,
          67000,
          83000,
          38000
         ],
         "y0": " ",
         "yaxis": "y"
        },
        {
         "alignmentgroup": "True",
         "box": {
          "visible": true
         },
         "hovertemplate": "Difficulty=%{x}<br>Nº of students enrolled=%{y}<extra></extra>",
         "legendgroup": "Non-beginner",
         "marker": {
          "color": "#808000"
         },
         "name": "Non-beginner",
         "offsetgroup": "Non-beginner",
         "orientation": "v",
         "points": "all",
         "scalegroup": "True",
         "showlegend": true,
         "type": "violin",
         "x": [
          "Non-beginner",
          "Non-beginner",
          "Non-beginner",
          "Non-beginner",
          "Non-beginner",
          "Non-beginner",
          "Non-beginner",
          "Non-beginner",
          "Non-beginner",
          "Non-beginner",
          "Non-beginner",
          "Non-beginner",
          "Non-beginner",
          "Non-beginner",
          "Non-beginner",
          "Non-beginner",
          "Non-beginner",
          "Non-beginner",
          "Non-beginner",
          "Non-beginner",
          "Non-beginner",
          "Non-beginner",
          "Non-beginner",
          "Non-beginner",
          "Non-beginner",
          "Non-beginner",
          "Non-beginner",
          "Non-beginner",
          "Non-beginner",
          "Non-beginner",
          "Non-beginner",
          "Non-beginner",
          "Non-beginner",
          "Non-beginner",
          "Non-beginner",
          "Non-beginner",
          "Non-beginner",
          "Non-beginner",
          "Non-beginner",
          "Non-beginner",
          "Non-beginner",
          "Non-beginner",
          "Non-beginner",
          "Non-beginner",
          "Non-beginner",
          "Non-beginner",
          "Non-beginner",
          "Non-beginner",
          "Non-beginner",
          "Non-beginner",
          "Non-beginner",
          "Non-beginner",
          "Non-beginner",
          "Non-beginner",
          "Non-beginner",
          "Non-beginner",
          "Non-beginner",
          "Non-beginner",
          "Non-beginner",
          "Non-beginner",
          "Non-beginner",
          "Non-beginner",
          "Non-beginner",
          "Non-beginner",
          "Non-beginner",
          "Non-beginner",
          "Non-beginner",
          "Non-beginner",
          "Non-beginner",
          "Non-beginner",
          "Non-beginner",
          "Non-beginner",
          "Non-beginner",
          "Non-beginner",
          "Non-beginner",
          "Non-beginner",
          "Non-beginner",
          "Non-beginner",
          "Non-beginner",
          "Non-beginner",
          "Non-beginner",
          "Non-beginner",
          "Non-beginner",
          "Non-beginner",
          "Non-beginner",
          "Non-beginner",
          "Non-beginner",
          "Non-beginner",
          "Non-beginner",
          "Non-beginner",
          "Non-beginner",
          "Non-beginner",
          "Non-beginner",
          "Non-beginner",
          "Non-beginner",
          "Non-beginner",
          "Non-beginner",
          "Non-beginner",
          "Non-beginner",
          "Non-beginner",
          "Non-beginner",
          "Non-beginner",
          "Non-beginner",
          "Non-beginner",
          "Non-beginner",
          "Non-beginner",
          "Non-beginner",
          "Non-beginner",
          "Non-beginner",
          "Non-beginner",
          "Non-beginner",
          "Non-beginner",
          "Non-beginner",
          "Non-beginner",
          "Non-beginner",
          "Non-beginner",
          "Non-beginner",
          "Non-beginner",
          "Non-beginner",
          "Non-beginner",
          "Non-beginner",
          "Non-beginner",
          "Non-beginner",
          "Non-beginner",
          "Non-beginner",
          "Non-beginner",
          "Non-beginner",
          "Non-beginner",
          "Non-beginner",
          "Non-beginner",
          "Non-beginner",
          "Non-beginner",
          "Non-beginner",
          "Non-beginner",
          "Non-beginner",
          "Non-beginner",
          "Non-beginner",
          "Non-beginner",
          "Non-beginner",
          "Non-beginner",
          "Non-beginner",
          "Non-beginner",
          "Non-beginner",
          "Non-beginner",
          "Non-beginner",
          "Non-beginner",
          "Non-beginner",
          "Non-beginner",
          "Non-beginner",
          "Non-beginner",
          "Non-beginner",
          "Non-beginner",
          "Non-beginner",
          "Non-beginner",
          "Non-beginner",
          "Non-beginner",
          "Non-beginner",
          "Non-beginner",
          "Non-beginner",
          "Non-beginner",
          "Non-beginner",
          "Non-beginner",
          "Non-beginner",
          "Non-beginner",
          "Non-beginner",
          "Non-beginner",
          "Non-beginner",
          "Non-beginner",
          "Non-beginner",
          "Non-beginner",
          "Non-beginner",
          "Non-beginner",
          "Non-beginner",
          "Non-beginner",
          "Non-beginner",
          "Non-beginner",
          "Non-beginner",
          "Non-beginner",
          "Non-beginner",
          "Non-beginner",
          "Non-beginner",
          "Non-beginner",
          "Non-beginner",
          "Non-beginner",
          "Non-beginner",
          "Non-beginner",
          "Non-beginner",
          "Non-beginner",
          "Non-beginner",
          "Non-beginner",
          "Non-beginner",
          "Non-beginner",
          "Non-beginner",
          "Non-beginner",
          "Non-beginner",
          "Non-beginner",
          "Non-beginner",
          "Non-beginner",
          "Non-beginner",
          "Non-beginner",
          "Non-beginner",
          "Non-beginner",
          "Non-beginner",
          "Non-beginner",
          "Non-beginner",
          "Non-beginner",
          "Non-beginner",
          "Non-beginner",
          "Non-beginner",
          "Non-beginner",
          "Non-beginner",
          "Non-beginner",
          "Non-beginner",
          "Non-beginner",
          "Non-beginner",
          "Non-beginner",
          "Non-beginner",
          "Non-beginner",
          "Non-beginner",
          "Non-beginner",
          "Non-beginner",
          "Non-beginner",
          "Non-beginner",
          "Non-beginner",
          "Non-beginner",
          "Non-beginner",
          "Non-beginner",
          "Non-beginner",
          "Non-beginner",
          "Non-beginner",
          "Non-beginner",
          "Non-beginner",
          "Non-beginner",
          "Non-beginner",
          "Non-beginner",
          "Non-beginner",
          "Non-beginner",
          "Non-beginner",
          "Non-beginner",
          "Non-beginner",
          "Non-beginner",
          "Non-beginner",
          "Non-beginner",
          "Non-beginner",
          "Non-beginner",
          "Non-beginner",
          "Non-beginner",
          "Non-beginner",
          "Non-beginner",
          "Non-beginner",
          "Non-beginner",
          "Non-beginner",
          "Non-beginner",
          "Non-beginner",
          "Non-beginner",
          "Non-beginner",
          "Non-beginner",
          "Non-beginner",
          "Non-beginner",
          "Non-beginner",
          "Non-beginner",
          "Non-beginner",
          "Non-beginner",
          "Non-beginner",
          "Non-beginner",
          "Non-beginner",
          "Non-beginner",
          "Non-beginner",
          "Non-beginner",
          "Non-beginner",
          "Non-beginner",
          "Non-beginner",
          "Non-beginner",
          "Non-beginner",
          "Non-beginner",
          "Non-beginner",
          "Non-beginner",
          "Non-beginner",
          "Non-beginner",
          "Non-beginner",
          "Non-beginner",
          "Non-beginner",
          "Non-beginner",
          "Non-beginner",
          "Non-beginner",
          "Non-beginner",
          "Non-beginner",
          "Non-beginner",
          "Non-beginner",
          "Non-beginner",
          "Non-beginner",
          "Non-beginner",
          "Non-beginner",
          "Non-beginner",
          "Non-beginner",
          "Non-beginner",
          "Non-beginner",
          "Non-beginner",
          "Non-beginner",
          "Non-beginner",
          "Non-beginner",
          "Non-beginner",
          "Non-beginner",
          "Non-beginner",
          "Non-beginner",
          "Non-beginner",
          "Non-beginner",
          "Non-beginner",
          "Non-beginner",
          "Non-beginner",
          "Non-beginner",
          "Non-beginner",
          "Non-beginner",
          "Non-beginner",
          "Non-beginner",
          "Non-beginner",
          "Non-beginner",
          "Non-beginner",
          "Non-beginner",
          "Non-beginner",
          "Non-beginner",
          "Non-beginner",
          "Non-beginner",
          "Non-beginner",
          "Non-beginner",
          "Non-beginner",
          "Non-beginner",
          "Non-beginner",
          "Non-beginner",
          "Non-beginner",
          "Non-beginner",
          "Non-beginner",
          "Non-beginner",
          "Non-beginner",
          "Non-beginner",
          "Non-beginner",
          "Non-beginner",
          "Non-beginner",
          "Non-beginner",
          "Non-beginner",
          "Non-beginner",
          "Non-beginner",
          "Non-beginner",
          "Non-beginner",
          "Non-beginner",
          "Non-beginner",
          "Non-beginner",
          "Non-beginner",
          "Non-beginner",
          "Non-beginner",
          "Non-beginner",
          "Non-beginner",
          "Non-beginner",
          "Non-beginner",
          "Non-beginner",
          "Non-beginner",
          "Non-beginner",
          "Non-beginner",
          "Non-beginner",
          "Non-beginner",
          "Non-beginner",
          "Non-beginner",
          "Non-beginner",
          "Non-beginner",
          "Non-beginner",
          "Non-beginner",
          "Non-beginner",
          "Non-beginner",
          "Non-beginner",
          "Non-beginner",
          "Non-beginner",
          "Non-beginner",
          "Non-beginner",
          "Non-beginner",
          "Non-beginner",
          "Non-beginner",
          "Non-beginner",
          "Non-beginner",
          "Non-beginner",
          "Non-beginner",
          "Non-beginner",
          "Non-beginner",
          "Non-beginner",
          "Non-beginner",
          "Non-beginner",
          "Non-beginner",
          "Non-beginner",
          "Non-beginner",
          "Non-beginner",
          "Non-beginner",
          "Non-beginner",
          "Non-beginner",
          "Non-beginner",
          "Non-beginner",
          "Non-beginner",
          "Non-beginner",
          "Non-beginner",
          "Non-beginner",
          "Non-beginner",
          "Non-beginner",
          "Non-beginner",
          "Non-beginner",
          "Non-beginner",
          "Non-beginner"
         ],
         "x0": " ",
         "xaxis": "x",
         "y": [
          17000,
          130000,
          91000,
          320000,
          2400,
          12000,
          4000,
          13000,
          13000,
          6600,
          22000,
          80000,
          9900,
          23000,
          78000,
          320000,
          190000,
          35000,
          29000,
          14000,
          220000,
          150000,
          14000,
          36000,
          8100,
          71000,
          11000,
          63000,
          42000,
          480000,
          150000,
          97000,
          200000,
          4200,
          310000,
          79000,
          31000,
          15000,
          15000,
          66000,
          33000,
          56000,
          7300,
          9200,
          22000,
          9700,
          91000,
          29000,
          210000,
          4200,
          55000,
          2300,
          1900,
          68000,
          84000,
          95000,
          7300,
          5800,
          24000,
          67000,
          38000,
          120000,
          77000,
          13000,
          130000,
          82000,
          19000,
          51000,
          110000,
          310000,
          37000,
          350000,
          49000,
          240000,
          46000,
          10000,
          56000,
          10000,
          43000,
          140000,
          120000,
          26000,
          22000,
          99000,
          23000,
          19000,
          3000,
          120000,
          120000,
          140000,
          210000,
          130000,
          66000,
          140000,
          31000,
          690000,
          67000,
          97000,
          19000,
          16000,
          300000,
          4000,
          8000,
          41000,
          54000,
          57000,
          40000,
          130000,
          150000,
          18000,
          110000,
          83000,
          16000,
          3400,
          57000,
          110000,
          760000,
          130000,
          42000,
          7900,
          86000,
          38000,
          45000,
          23000,
          130000,
          35000,
          68000,
          83000,
          4100,
          54000,
          31000,
          39000,
          76000,
          39000,
          12000,
          100000,
          76000,
          12000,
          24000,
          30000,
          310000,
          57000,
          42000,
          4400,
          62000,
          27000,
          45000,
          89000,
          150000,
          140000,
          170000,
          220000,
          49000,
          20000,
          18000,
          110000,
          22000,
          100000,
          110000,
          80000,
          19000,
          34000,
          47000,
          73000,
          59000,
          75000,
          79000,
          22000,
          37000,
          3600,
          7600,
          44000,
          120000,
          36000,
          430000,
          260000,
          210000,
          62000,
          240000,
          62000,
          7400,
          39000,
          5400,
          1700,
          46000,
          170000,
          140000,
          140000,
          3500,
          51000,
          1600,
          12000,
          180000,
          97000,
          85000,
          12000,
          9700,
          8700,
          150000,
          22000,
          25000,
          36000,
          19000,
          41000,
          38000,
          66000,
          46000,
          60000,
          160000,
          27000,
          14000,
          84000,
          53000,
          150000,
          130000,
          99000,
          390000,
          110000,
          41000,
          150000,
          34000,
          200000,
          47000,
          79000,
          74000,
          42000,
          220000,
          82000,
          220000,
          270000,
          87000,
          370000,
          11000,
          39000,
          76000,
          69000,
          67000,
          33000,
          150000,
          13000,
          270000,
          37000,
          34000,
          5900,
          16000,
          78000,
          52000,
          120000,
          7200,
          23000,
          29000,
          290000,
          3200000,
          240000,
          29000,
          58000,
          15000,
          120000,
          72000,
          120000,
          71000,
          49000,
          58000,
          60000,
          280000,
          48000,
          33000,
          170000,
          34000,
          130000,
          36000,
          21000,
          9100,
          100000,
          40000,
          44000,
          59000,
          34000,
          21000,
          40000,
          95000,
          17000,
          290000,
          630000,
          41000,
          35000,
          250000,
          21000,
          33000,
          57000,
          80000,
          6200,
          92000,
          30000,
          42000,
          84000,
          79000,
          72000,
          180000,
          67000,
          39000,
          68000,
          280000,
          79000,
          68000,
          39000,
          1300000,
          18000,
          190000,
          21000,
          420000,
          41000,
          69000,
          480000,
          29000,
          35000,
          23000,
          16000,
          15000,
          36000,
          17000,
          33000,
          6800,
          12000,
          47000,
          6400,
          300000,
          39000,
          14000,
          16000,
          18000,
          15000,
          42000,
          34000,
          60000,
          12000,
          430000,
          12000,
          16000,
          28000,
          60000,
          58000,
          9200,
          30000,
          750000,
          4900,
          29000,
          50000,
          48000,
          33000,
          81000,
          8500,
          53000,
          170000,
          12000,
          47000,
          23000,
          420000,
          7200,
          84000,
          29000,
          47000,
          9400,
          180000,
          120000,
          50000,
          12000,
          2500000,
          19000,
          100000,
          33000,
          45000,
          5400,
          12000,
          78000,
          11000,
          120000,
          6100,
          3900,
          43000,
          220000,
          310000,
          63000,
          40000,
          150000,
          190000,
          120000,
          35000,
          6200,
          94000,
          17000,
          270000,
          17000,
          76000,
          190000,
          68000,
          77000,
          19000,
          41000,
          45000,
          52000,
          21000,
          30000,
          9800
         ],
         "y0": " ",
         "yaxis": "y"
        }
       ],
       "layout": {
        "legend": {
         "title": {
          "text": "Difficulty"
         },
         "tracegroupgap": 0
        },
        "paper_bgcolor": "rgb(250, 250, 238)",
        "plot_bgcolor": "rgb(250, 250, 238)",
        "template": {
         "data": {
          "bar": [
           {
            "error_x": {
             "color": "#2a3f5f"
            },
            "error_y": {
             "color": "#2a3f5f"
            },
            "marker": {
             "line": {
              "color": "#E5ECF6",
              "width": 0.5
             },
             "pattern": {
              "fillmode": "overlay",
              "size": 10,
              "solidity": 0.2
             }
            },
            "type": "bar"
           }
          ],
          "barpolar": [
           {
            "marker": {
             "line": {
              "color": "#E5ECF6",
              "width": 0.5
             },
             "pattern": {
              "fillmode": "overlay",
              "size": 10,
              "solidity": 0.2
             }
            },
            "type": "barpolar"
           }
          ],
          "carpet": [
           {
            "aaxis": {
             "endlinecolor": "#2a3f5f",
             "gridcolor": "white",
             "linecolor": "white",
             "minorgridcolor": "white",
             "startlinecolor": "#2a3f5f"
            },
            "baxis": {
             "endlinecolor": "#2a3f5f",
             "gridcolor": "white",
             "linecolor": "white",
             "minorgridcolor": "white",
             "startlinecolor": "#2a3f5f"
            },
            "type": "carpet"
           }
          ],
          "choropleth": [
           {
            "colorbar": {
             "outlinewidth": 0,
             "ticks": ""
            },
            "type": "choropleth"
           }
          ],
          "contour": [
           {
            "colorbar": {
             "outlinewidth": 0,
             "ticks": ""
            },
            "colorscale": [
             [
              0,
              "#0d0887"
             ],
             [
              0.1111111111111111,
              "#46039f"
             ],
             [
              0.2222222222222222,
              "#7201a8"
             ],
             [
              0.3333333333333333,
              "#9c179e"
             ],
             [
              0.4444444444444444,
              "#bd3786"
             ],
             [
              0.5555555555555556,
              "#d8576b"
             ],
             [
              0.6666666666666666,
              "#ed7953"
             ],
             [
              0.7777777777777778,
              "#fb9f3a"
             ],
             [
              0.8888888888888888,
              "#fdca26"
             ],
             [
              1,
              "#f0f921"
             ]
            ],
            "type": "contour"
           }
          ],
          "contourcarpet": [
           {
            "colorbar": {
             "outlinewidth": 0,
             "ticks": ""
            },
            "type": "contourcarpet"
           }
          ],
          "heatmap": [
           {
            "colorbar": {
             "outlinewidth": 0,
             "ticks": ""
            },
            "colorscale": [
             [
              0,
              "#0d0887"
             ],
             [
              0.1111111111111111,
              "#46039f"
             ],
             [
              0.2222222222222222,
              "#7201a8"
             ],
             [
              0.3333333333333333,
              "#9c179e"
             ],
             [
              0.4444444444444444,
              "#bd3786"
             ],
             [
              0.5555555555555556,
              "#d8576b"
             ],
             [
              0.6666666666666666,
              "#ed7953"
             ],
             [
              0.7777777777777778,
              "#fb9f3a"
             ],
             [
              0.8888888888888888,
              "#fdca26"
             ],
             [
              1,
              "#f0f921"
             ]
            ],
            "type": "heatmap"
           }
          ],
          "heatmapgl": [
           {
            "colorbar": {
             "outlinewidth": 0,
             "ticks": ""
            },
            "colorscale": [
             [
              0,
              "#0d0887"
             ],
             [
              0.1111111111111111,
              "#46039f"
             ],
             [
              0.2222222222222222,
              "#7201a8"
             ],
             [
              0.3333333333333333,
              "#9c179e"
             ],
             [
              0.4444444444444444,
              "#bd3786"
             ],
             [
              0.5555555555555556,
              "#d8576b"
             ],
             [
              0.6666666666666666,
              "#ed7953"
             ],
             [
              0.7777777777777778,
              "#fb9f3a"
             ],
             [
              0.8888888888888888,
              "#fdca26"
             ],
             [
              1,
              "#f0f921"
             ]
            ],
            "type": "heatmapgl"
           }
          ],
          "histogram": [
           {
            "marker": {
             "pattern": {
              "fillmode": "overlay",
              "size": 10,
              "solidity": 0.2
             }
            },
            "type": "histogram"
           }
          ],
          "histogram2d": [
           {
            "colorbar": {
             "outlinewidth": 0,
             "ticks": ""
            },
            "colorscale": [
             [
              0,
              "#0d0887"
             ],
             [
              0.1111111111111111,
              "#46039f"
             ],
             [
              0.2222222222222222,
              "#7201a8"
             ],
             [
              0.3333333333333333,
              "#9c179e"
             ],
             [
              0.4444444444444444,
              "#bd3786"
             ],
             [
              0.5555555555555556,
              "#d8576b"
             ],
             [
              0.6666666666666666,
              "#ed7953"
             ],
             [
              0.7777777777777778,
              "#fb9f3a"
             ],
             [
              0.8888888888888888,
              "#fdca26"
             ],
             [
              1,
              "#f0f921"
             ]
            ],
            "type": "histogram2d"
           }
          ],
          "histogram2dcontour": [
           {
            "colorbar": {
             "outlinewidth": 0,
             "ticks": ""
            },
            "colorscale": [
             [
              0,
              "#0d0887"
             ],
             [
              0.1111111111111111,
              "#46039f"
             ],
             [
              0.2222222222222222,
              "#7201a8"
             ],
             [
              0.3333333333333333,
              "#9c179e"
             ],
             [
              0.4444444444444444,
              "#bd3786"
             ],
             [
              0.5555555555555556,
              "#d8576b"
             ],
             [
              0.6666666666666666,
              "#ed7953"
             ],
             [
              0.7777777777777778,
              "#fb9f3a"
             ],
             [
              0.8888888888888888,
              "#fdca26"
             ],
             [
              1,
              "#f0f921"
             ]
            ],
            "type": "histogram2dcontour"
           }
          ],
          "mesh3d": [
           {
            "colorbar": {
             "outlinewidth": 0,
             "ticks": ""
            },
            "type": "mesh3d"
           }
          ],
          "parcoords": [
           {
            "line": {
             "colorbar": {
              "outlinewidth": 0,
              "ticks": ""
             }
            },
            "type": "parcoords"
           }
          ],
          "pie": [
           {
            "automargin": true,
            "type": "pie"
           }
          ],
          "scatter": [
           {
            "fillpattern": {
             "fillmode": "overlay",
             "size": 10,
             "solidity": 0.2
            },
            "type": "scatter"
           }
          ],
          "scatter3d": [
           {
            "line": {
             "colorbar": {
              "outlinewidth": 0,
              "ticks": ""
             }
            },
            "marker": {
             "colorbar": {
              "outlinewidth": 0,
              "ticks": ""
             }
            },
            "type": "scatter3d"
           }
          ],
          "scattercarpet": [
           {
            "marker": {
             "colorbar": {
              "outlinewidth": 0,
              "ticks": ""
             }
            },
            "type": "scattercarpet"
           }
          ],
          "scattergeo": [
           {
            "marker": {
             "colorbar": {
              "outlinewidth": 0,
              "ticks": ""
             }
            },
            "type": "scattergeo"
           }
          ],
          "scattergl": [
           {
            "marker": {
             "colorbar": {
              "outlinewidth": 0,
              "ticks": ""
             }
            },
            "type": "scattergl"
           }
          ],
          "scattermapbox": [
           {
            "marker": {
             "colorbar": {
              "outlinewidth": 0,
              "ticks": ""
             }
            },
            "type": "scattermapbox"
           }
          ],
          "scatterpolar": [
           {
            "marker": {
             "colorbar": {
              "outlinewidth": 0,
              "ticks": ""
             }
            },
            "type": "scatterpolar"
           }
          ],
          "scatterpolargl": [
           {
            "marker": {
             "colorbar": {
              "outlinewidth": 0,
              "ticks": ""
             }
            },
            "type": "scatterpolargl"
           }
          ],
          "scatterternary": [
           {
            "marker": {
             "colorbar": {
              "outlinewidth": 0,
              "ticks": ""
             }
            },
            "type": "scatterternary"
           }
          ],
          "surface": [
           {
            "colorbar": {
             "outlinewidth": 0,
             "ticks": ""
            },
            "colorscale": [
             [
              0,
              "#0d0887"
             ],
             [
              0.1111111111111111,
              "#46039f"
             ],
             [
              0.2222222222222222,
              "#7201a8"
             ],
             [
              0.3333333333333333,
              "#9c179e"
             ],
             [
              0.4444444444444444,
              "#bd3786"
             ],
             [
              0.5555555555555556,
              "#d8576b"
             ],
             [
              0.6666666666666666,
              "#ed7953"
             ],
             [
              0.7777777777777778,
              "#fb9f3a"
             ],
             [
              0.8888888888888888,
              "#fdca26"
             ],
             [
              1,
              "#f0f921"
             ]
            ],
            "type": "surface"
           }
          ],
          "table": [
           {
            "cells": {
             "fill": {
              "color": "#EBF0F8"
             },
             "line": {
              "color": "white"
             }
            },
            "header": {
             "fill": {
              "color": "#C8D4E3"
             },
             "line": {
              "color": "white"
             }
            },
            "type": "table"
           }
          ]
         },
         "layout": {
          "annotationdefaults": {
           "arrowcolor": "#2a3f5f",
           "arrowhead": 0,
           "arrowwidth": 1
          },
          "autotypenumbers": "strict",
          "coloraxis": {
           "colorbar": {
            "outlinewidth": 0,
            "ticks": ""
           }
          },
          "colorscale": {
           "diverging": [
            [
             0,
             "#8e0152"
            ],
            [
             0.1,
             "#c51b7d"
            ],
            [
             0.2,
             "#de77ae"
            ],
            [
             0.3,
             "#f1b6da"
            ],
            [
             0.4,
             "#fde0ef"
            ],
            [
             0.5,
             "#f7f7f7"
            ],
            [
             0.6,
             "#e6f5d0"
            ],
            [
             0.7,
             "#b8e186"
            ],
            [
             0.8,
             "#7fbc41"
            ],
            [
             0.9,
             "#4d9221"
            ],
            [
             1,
             "#276419"
            ]
           ],
           "sequential": [
            [
             0,
             "#0d0887"
            ],
            [
             0.1111111111111111,
             "#46039f"
            ],
            [
             0.2222222222222222,
             "#7201a8"
            ],
            [
             0.3333333333333333,
             "#9c179e"
            ],
            [
             0.4444444444444444,
             "#bd3786"
            ],
            [
             0.5555555555555556,
             "#d8576b"
            ],
            [
             0.6666666666666666,
             "#ed7953"
            ],
            [
             0.7777777777777778,
             "#fb9f3a"
            ],
            [
             0.8888888888888888,
             "#fdca26"
            ],
            [
             1,
             "#f0f921"
            ]
           ],
           "sequentialminus": [
            [
             0,
             "#0d0887"
            ],
            [
             0.1111111111111111,
             "#46039f"
            ],
            [
             0.2222222222222222,
             "#7201a8"
            ],
            [
             0.3333333333333333,
             "#9c179e"
            ],
            [
             0.4444444444444444,
             "#bd3786"
            ],
            [
             0.5555555555555556,
             "#d8576b"
            ],
            [
             0.6666666666666666,
             "#ed7953"
            ],
            [
             0.7777777777777778,
             "#fb9f3a"
            ],
            [
             0.8888888888888888,
             "#fdca26"
            ],
            [
             1,
             "#f0f921"
            ]
           ]
          },
          "colorway": [
           "#636efa",
           "#EF553B",
           "#00cc96",
           "#ab63fa",
           "#FFA15A",
           "#19d3f3",
           "#FF6692",
           "#B6E880",
           "#FF97FF",
           "#FECB52"
          ],
          "font": {
           "color": "#2a3f5f"
          },
          "geo": {
           "bgcolor": "white",
           "lakecolor": "white",
           "landcolor": "#E5ECF6",
           "showlakes": true,
           "showland": true,
           "subunitcolor": "white"
          },
          "hoverlabel": {
           "align": "left"
          },
          "hovermode": "closest",
          "mapbox": {
           "style": "light"
          },
          "paper_bgcolor": "white",
          "plot_bgcolor": "#E5ECF6",
          "polar": {
           "angularaxis": {
            "gridcolor": "white",
            "linecolor": "white",
            "ticks": ""
           },
           "bgcolor": "#E5ECF6",
           "radialaxis": {
            "gridcolor": "white",
            "linecolor": "white",
            "ticks": ""
           }
          },
          "scene": {
           "xaxis": {
            "backgroundcolor": "#E5ECF6",
            "gridcolor": "white",
            "gridwidth": 2,
            "linecolor": "white",
            "showbackground": true,
            "ticks": "",
            "zerolinecolor": "white"
           },
           "yaxis": {
            "backgroundcolor": "#E5ECF6",
            "gridcolor": "white",
            "gridwidth": 2,
            "linecolor": "white",
            "showbackground": true,
            "ticks": "",
            "zerolinecolor": "white"
           },
           "zaxis": {
            "backgroundcolor": "#E5ECF6",
            "gridcolor": "white",
            "gridwidth": 2,
            "linecolor": "white",
            "showbackground": true,
            "ticks": "",
            "zerolinecolor": "white"
           }
          },
          "shapedefaults": {
           "line": {
            "color": "#2a3f5f"
           }
          },
          "ternary": {
           "aaxis": {
            "gridcolor": "white",
            "linecolor": "white",
            "ticks": ""
           },
           "baxis": {
            "gridcolor": "white",
            "linecolor": "white",
            "ticks": ""
           },
           "bgcolor": "#E5ECF6",
           "caxis": {
            "gridcolor": "white",
            "linecolor": "white",
            "ticks": ""
           }
          },
          "title": {
           "x": 0.05
          },
          "xaxis": {
           "automargin": true,
           "gridcolor": "white",
           "linecolor": "white",
           "ticks": "",
           "title": {
            "standoff": 15
           },
           "zerolinecolor": "white",
           "zerolinewidth": 2
          },
          "yaxis": {
           "automargin": true,
           "gridcolor": "white",
           "linecolor": "white",
           "ticks": "",
           "title": {
            "standoff": 15
           },
           "zerolinecolor": "white",
           "zerolinewidth": 2
          }
         }
        },
        "title": {
         "text": "Distribution of Students Enrolled by Difficulty Group"
        },
        "violinmode": "overlay",
        "xaxis": {
         "anchor": "y",
         "categoryarray": [
          "Beginner",
          "Non-beginner"
         ],
         "categoryorder": "array",
         "domain": [
          0,
          1
         ],
         "title": {
          "text": "Difficulty"
         }
        },
        "yaxis": {
         "anchor": "x",
         "domain": [
          0,
          1
         ],
         "title": {
          "text": "Nº of students enrolled"
         }
        }
       }
      }
     },
     "metadata": {},
     "output_type": "display_data"
    }
   ],
   "source": [
    "#To check for distributions in beginner and non-beginner courses but with outliers \n",
    "fig = px.violin(df, \n",
    "             x='difficulty_groups', \n",
    "             y='course_students_enrolled',  \n",
    "             title='Distribution of Students Enrolled by Difficulty Group',\n",
    "             labels={'difficulty_groups': 'Difficulty', 'course_students_enrolled': 'Nº of students enrolled'},\n",
    "             color='difficulty_groups',\n",
    "             color_discrete_map={'Beginner': '#008080', 'Non-beginner': '#808000'},\n",
    "             box=True,\n",
    "             points= 'all')  \n",
    "\n",
    "fig.update_layout(\n",
    "    paper_bgcolor='rgb(250, 250, 238)',  \n",
    "    plot_bgcolor='rgb(250, 250, 238)')  \n",
    "\n",
    "fig.show()"
   ]
  },
  {
   "cell_type": "code",
   "execution_count": 130,
   "metadata": {},
   "outputs": [
    {
     "data": {
      "application/vnd.plotly.v1+json": {
       "config": {
        "plotlyServerURL": "https://plot.ly"
       },
       "data": [
        {
         "alignmentgroup": "True",
         "hovertemplate": "Difficulty=%{x}<br>Nº of students enrolled=%{y}<extra></extra>",
         "legendgroup": "",
         "marker": {
          "color": [
           "#008080",
           "#808000"
          ],
          "pattern": {
           "shape": ""
          }
         },
         "name": "",
         "offsetgroup": "",
         "orientation": "v",
         "showlegend": false,
         "text": [
          81974.95,
          100891.34
         ],
         "textposition": "outside",
         "type": "bar",
         "x": [
          "Beginner",
          "Non-beginner"
         ],
         "xaxis": "x",
         "y": [
          81974.95,
          100891.34
         ],
         "yaxis": "y"
        }
       ],
       "layout": {
        "barmode": "relative",
        "legend": {
         "tracegroupgap": 0
        },
        "paper_bgcolor": "rgb(250, 250, 238)",
        "plot_bgcolor": "rgb(250, 250, 238)",
        "template": {
         "data": {
          "bar": [
           {
            "error_x": {
             "color": "#2a3f5f"
            },
            "error_y": {
             "color": "#2a3f5f"
            },
            "marker": {
             "line": {
              "color": "#E5ECF6",
              "width": 0.5
             },
             "pattern": {
              "fillmode": "overlay",
              "size": 10,
              "solidity": 0.2
             }
            },
            "type": "bar"
           }
          ],
          "barpolar": [
           {
            "marker": {
             "line": {
              "color": "#E5ECF6",
              "width": 0.5
             },
             "pattern": {
              "fillmode": "overlay",
              "size": 10,
              "solidity": 0.2
             }
            },
            "type": "barpolar"
           }
          ],
          "carpet": [
           {
            "aaxis": {
             "endlinecolor": "#2a3f5f",
             "gridcolor": "white",
             "linecolor": "white",
             "minorgridcolor": "white",
             "startlinecolor": "#2a3f5f"
            },
            "baxis": {
             "endlinecolor": "#2a3f5f",
             "gridcolor": "white",
             "linecolor": "white",
             "minorgridcolor": "white",
             "startlinecolor": "#2a3f5f"
            },
            "type": "carpet"
           }
          ],
          "choropleth": [
           {
            "colorbar": {
             "outlinewidth": 0,
             "ticks": ""
            },
            "type": "choropleth"
           }
          ],
          "contour": [
           {
            "colorbar": {
             "outlinewidth": 0,
             "ticks": ""
            },
            "colorscale": [
             [
              0,
              "#0d0887"
             ],
             [
              0.1111111111111111,
              "#46039f"
             ],
             [
              0.2222222222222222,
              "#7201a8"
             ],
             [
              0.3333333333333333,
              "#9c179e"
             ],
             [
              0.4444444444444444,
              "#bd3786"
             ],
             [
              0.5555555555555556,
              "#d8576b"
             ],
             [
              0.6666666666666666,
              "#ed7953"
             ],
             [
              0.7777777777777778,
              "#fb9f3a"
             ],
             [
              0.8888888888888888,
              "#fdca26"
             ],
             [
              1,
              "#f0f921"
             ]
            ],
            "type": "contour"
           }
          ],
          "contourcarpet": [
           {
            "colorbar": {
             "outlinewidth": 0,
             "ticks": ""
            },
            "type": "contourcarpet"
           }
          ],
          "heatmap": [
           {
            "colorbar": {
             "outlinewidth": 0,
             "ticks": ""
            },
            "colorscale": [
             [
              0,
              "#0d0887"
             ],
             [
              0.1111111111111111,
              "#46039f"
             ],
             [
              0.2222222222222222,
              "#7201a8"
             ],
             [
              0.3333333333333333,
              "#9c179e"
             ],
             [
              0.4444444444444444,
              "#bd3786"
             ],
             [
              0.5555555555555556,
              "#d8576b"
             ],
             [
              0.6666666666666666,
              "#ed7953"
             ],
             [
              0.7777777777777778,
              "#fb9f3a"
             ],
             [
              0.8888888888888888,
              "#fdca26"
             ],
             [
              1,
              "#f0f921"
             ]
            ],
            "type": "heatmap"
           }
          ],
          "heatmapgl": [
           {
            "colorbar": {
             "outlinewidth": 0,
             "ticks": ""
            },
            "colorscale": [
             [
              0,
              "#0d0887"
             ],
             [
              0.1111111111111111,
              "#46039f"
             ],
             [
              0.2222222222222222,
              "#7201a8"
             ],
             [
              0.3333333333333333,
              "#9c179e"
             ],
             [
              0.4444444444444444,
              "#bd3786"
             ],
             [
              0.5555555555555556,
              "#d8576b"
             ],
             [
              0.6666666666666666,
              "#ed7953"
             ],
             [
              0.7777777777777778,
              "#fb9f3a"
             ],
             [
              0.8888888888888888,
              "#fdca26"
             ],
             [
              1,
              "#f0f921"
             ]
            ],
            "type": "heatmapgl"
           }
          ],
          "histogram": [
           {
            "marker": {
             "pattern": {
              "fillmode": "overlay",
              "size": 10,
              "solidity": 0.2
             }
            },
            "type": "histogram"
           }
          ],
          "histogram2d": [
           {
            "colorbar": {
             "outlinewidth": 0,
             "ticks": ""
            },
            "colorscale": [
             [
              0,
              "#0d0887"
             ],
             [
              0.1111111111111111,
              "#46039f"
             ],
             [
              0.2222222222222222,
              "#7201a8"
             ],
             [
              0.3333333333333333,
              "#9c179e"
             ],
             [
              0.4444444444444444,
              "#bd3786"
             ],
             [
              0.5555555555555556,
              "#d8576b"
             ],
             [
              0.6666666666666666,
              "#ed7953"
             ],
             [
              0.7777777777777778,
              "#fb9f3a"
             ],
             [
              0.8888888888888888,
              "#fdca26"
             ],
             [
              1,
              "#f0f921"
             ]
            ],
            "type": "histogram2d"
           }
          ],
          "histogram2dcontour": [
           {
            "colorbar": {
             "outlinewidth": 0,
             "ticks": ""
            },
            "colorscale": [
             [
              0,
              "#0d0887"
             ],
             [
              0.1111111111111111,
              "#46039f"
             ],
             [
              0.2222222222222222,
              "#7201a8"
             ],
             [
              0.3333333333333333,
              "#9c179e"
             ],
             [
              0.4444444444444444,
              "#bd3786"
             ],
             [
              0.5555555555555556,
              "#d8576b"
             ],
             [
              0.6666666666666666,
              "#ed7953"
             ],
             [
              0.7777777777777778,
              "#fb9f3a"
             ],
             [
              0.8888888888888888,
              "#fdca26"
             ],
             [
              1,
              "#f0f921"
             ]
            ],
            "type": "histogram2dcontour"
           }
          ],
          "mesh3d": [
           {
            "colorbar": {
             "outlinewidth": 0,
             "ticks": ""
            },
            "type": "mesh3d"
           }
          ],
          "parcoords": [
           {
            "line": {
             "colorbar": {
              "outlinewidth": 0,
              "ticks": ""
             }
            },
            "type": "parcoords"
           }
          ],
          "pie": [
           {
            "automargin": true,
            "type": "pie"
           }
          ],
          "scatter": [
           {
            "fillpattern": {
             "fillmode": "overlay",
             "size": 10,
             "solidity": 0.2
            },
            "type": "scatter"
           }
          ],
          "scatter3d": [
           {
            "line": {
             "colorbar": {
              "outlinewidth": 0,
              "ticks": ""
             }
            },
            "marker": {
             "colorbar": {
              "outlinewidth": 0,
              "ticks": ""
             }
            },
            "type": "scatter3d"
           }
          ],
          "scattercarpet": [
           {
            "marker": {
             "colorbar": {
              "outlinewidth": 0,
              "ticks": ""
             }
            },
            "type": "scattercarpet"
           }
          ],
          "scattergeo": [
           {
            "marker": {
             "colorbar": {
              "outlinewidth": 0,
              "ticks": ""
             }
            },
            "type": "scattergeo"
           }
          ],
          "scattergl": [
           {
            "marker": {
             "colorbar": {
              "outlinewidth": 0,
              "ticks": ""
             }
            },
            "type": "scattergl"
           }
          ],
          "scattermapbox": [
           {
            "marker": {
             "colorbar": {
              "outlinewidth": 0,
              "ticks": ""
             }
            },
            "type": "scattermapbox"
           }
          ],
          "scatterpolar": [
           {
            "marker": {
             "colorbar": {
              "outlinewidth": 0,
              "ticks": ""
             }
            },
            "type": "scatterpolar"
           }
          ],
          "scatterpolargl": [
           {
            "marker": {
             "colorbar": {
              "outlinewidth": 0,
              "ticks": ""
             }
            },
            "type": "scatterpolargl"
           }
          ],
          "scatterternary": [
           {
            "marker": {
             "colorbar": {
              "outlinewidth": 0,
              "ticks": ""
             }
            },
            "type": "scatterternary"
           }
          ],
          "surface": [
           {
            "colorbar": {
             "outlinewidth": 0,
             "ticks": ""
            },
            "colorscale": [
             [
              0,
              "#0d0887"
             ],
             [
              0.1111111111111111,
              "#46039f"
             ],
             [
              0.2222222222222222,
              "#7201a8"
             ],
             [
              0.3333333333333333,
              "#9c179e"
             ],
             [
              0.4444444444444444,
              "#bd3786"
             ],
             [
              0.5555555555555556,
              "#d8576b"
             ],
             [
              0.6666666666666666,
              "#ed7953"
             ],
             [
              0.7777777777777778,
              "#fb9f3a"
             ],
             [
              0.8888888888888888,
              "#fdca26"
             ],
             [
              1,
              "#f0f921"
             ]
            ],
            "type": "surface"
           }
          ],
          "table": [
           {
            "cells": {
             "fill": {
              "color": "#EBF0F8"
             },
             "line": {
              "color": "white"
             }
            },
            "header": {
             "fill": {
              "color": "#C8D4E3"
             },
             "line": {
              "color": "white"
             }
            },
            "type": "table"
           }
          ]
         },
         "layout": {
          "annotationdefaults": {
           "arrowcolor": "#2a3f5f",
           "arrowhead": 0,
           "arrowwidth": 1
          },
          "autotypenumbers": "strict",
          "coloraxis": {
           "colorbar": {
            "outlinewidth": 0,
            "ticks": ""
           }
          },
          "colorscale": {
           "diverging": [
            [
             0,
             "#8e0152"
            ],
            [
             0.1,
             "#c51b7d"
            ],
            [
             0.2,
             "#de77ae"
            ],
            [
             0.3,
             "#f1b6da"
            ],
            [
             0.4,
             "#fde0ef"
            ],
            [
             0.5,
             "#f7f7f7"
            ],
            [
             0.6,
             "#e6f5d0"
            ],
            [
             0.7,
             "#b8e186"
            ],
            [
             0.8,
             "#7fbc41"
            ],
            [
             0.9,
             "#4d9221"
            ],
            [
             1,
             "#276419"
            ]
           ],
           "sequential": [
            [
             0,
             "#0d0887"
            ],
            [
             0.1111111111111111,
             "#46039f"
            ],
            [
             0.2222222222222222,
             "#7201a8"
            ],
            [
             0.3333333333333333,
             "#9c179e"
            ],
            [
             0.4444444444444444,
             "#bd3786"
            ],
            [
             0.5555555555555556,
             "#d8576b"
            ],
            [
             0.6666666666666666,
             "#ed7953"
            ],
            [
             0.7777777777777778,
             "#fb9f3a"
            ],
            [
             0.8888888888888888,
             "#fdca26"
            ],
            [
             1,
             "#f0f921"
            ]
           ],
           "sequentialminus": [
            [
             0,
             "#0d0887"
            ],
            [
             0.1111111111111111,
             "#46039f"
            ],
            [
             0.2222222222222222,
             "#7201a8"
            ],
            [
             0.3333333333333333,
             "#9c179e"
            ],
            [
             0.4444444444444444,
             "#bd3786"
            ],
            [
             0.5555555555555556,
             "#d8576b"
            ],
            [
             0.6666666666666666,
             "#ed7953"
            ],
            [
             0.7777777777777778,
             "#fb9f3a"
            ],
            [
             0.8888888888888888,
             "#fdca26"
            ],
            [
             1,
             "#f0f921"
            ]
           ]
          },
          "colorway": [
           "#636efa",
           "#EF553B",
           "#00cc96",
           "#ab63fa",
           "#FFA15A",
           "#19d3f3",
           "#FF6692",
           "#B6E880",
           "#FF97FF",
           "#FECB52"
          ],
          "font": {
           "color": "#2a3f5f"
          },
          "geo": {
           "bgcolor": "white",
           "lakecolor": "white",
           "landcolor": "#E5ECF6",
           "showlakes": true,
           "showland": true,
           "subunitcolor": "white"
          },
          "hoverlabel": {
           "align": "left"
          },
          "hovermode": "closest",
          "mapbox": {
           "style": "light"
          },
          "paper_bgcolor": "white",
          "plot_bgcolor": "#E5ECF6",
          "polar": {
           "angularaxis": {
            "gridcolor": "white",
            "linecolor": "white",
            "ticks": ""
           },
           "bgcolor": "#E5ECF6",
           "radialaxis": {
            "gridcolor": "white",
            "linecolor": "white",
            "ticks": ""
           }
          },
          "scene": {
           "xaxis": {
            "backgroundcolor": "#E5ECF6",
            "gridcolor": "white",
            "gridwidth": 2,
            "linecolor": "white",
            "showbackground": true,
            "ticks": "",
            "zerolinecolor": "white"
           },
           "yaxis": {
            "backgroundcolor": "#E5ECF6",
            "gridcolor": "white",
            "gridwidth": 2,
            "linecolor": "white",
            "showbackground": true,
            "ticks": "",
            "zerolinecolor": "white"
           },
           "zaxis": {
            "backgroundcolor": "#E5ECF6",
            "gridcolor": "white",
            "gridwidth": 2,
            "linecolor": "white",
            "showbackground": true,
            "ticks": "",
            "zerolinecolor": "white"
           }
          },
          "shapedefaults": {
           "line": {
            "color": "#2a3f5f"
           }
          },
          "ternary": {
           "aaxis": {
            "gridcolor": "white",
            "linecolor": "white",
            "ticks": ""
           },
           "baxis": {
            "gridcolor": "white",
            "linecolor": "white",
            "ticks": ""
           },
           "bgcolor": "#E5ECF6",
           "caxis": {
            "gridcolor": "white",
            "linecolor": "white",
            "ticks": ""
           }
          },
          "title": {
           "x": 0.05
          },
          "xaxis": {
           "automargin": true,
           "gridcolor": "white",
           "linecolor": "white",
           "ticks": "",
           "title": {
            "standoff": 15
           },
           "zerolinecolor": "white",
           "zerolinewidth": 2
          },
          "yaxis": {
           "automargin": true,
           "gridcolor": "white",
           "linecolor": "white",
           "ticks": "",
           "title": {
            "standoff": 15
           },
           "zerolinecolor": "white",
           "zerolinewidth": 2
          }
         }
        },
        "title": {
         "text": "Mean of students enrolled in Beginer vs Non-beginer"
        },
        "xaxis": {
         "anchor": "y",
         "domain": [
          0,
          1
         ],
         "title": {
          "text": "Difficulty"
         }
        },
        "yaxis": {
         "anchor": "x",
         "domain": [
          0,
          1
         ],
         "range": [
          0,
          120000
         ],
         "title": {
          "text": "Nº of students enrolled"
         }
        }
       }
      }
     },
     "metadata": {},
     "output_type": "display_data"
    }
   ],
   "source": [
    "#To check for the mean of students enrolled in beginners and non-beginners courses\n",
    "#The descending function was to make sure that the columns are always on the same side\n",
    "difficulty_groups_des = difficulty_groups.sort_values(by='course_rating', ascending=False)\n",
    "\n",
    "fig=px.bar(difficulty_groups_des, \n",
    "           x='difficulty_groups', \n",
    "           y='course_students_enrolled',\n",
    "           title='Mean of students enrolled in Beginer vs Non-beginer',\n",
    "           labels={'difficulty_groups': 'Difficulty', 'course_students_enrolled': 'Nº of students enrolled'})\n",
    "\n",
    "fig.update_yaxes(range=[0, 120000])  \n",
    "fig.update_traces(text=difficulty_groups_des['course_students_enrolled'],  \n",
    "                  textposition='outside',  \n",
    "                  marker=dict(color=['#008080', '#808000']))\n",
    "\n",
    "fig.update_layout(paper_bgcolor='rgb(250, 250, 238)', plot_bgcolor='rgb(250, 250, 238)') \n",
    "\n",
    "\n",
    "fig.show()"
   ]
  },
  {
   "cell_type": "code",
   "execution_count": 155,
   "metadata": {},
   "outputs": [
    {
     "data": {
      "application/vnd.plotly.v1+json": {
       "config": {
        "plotlyServerURL": "https://plot.ly"
       },
       "data": [
        {
         "domain": {
          "x": [
           0,
           1
          ],
          "y": [
           0,
           1
          ]
         },
         "hovertemplate": "difficulty_groups=%{label}<br>course_rating=%{value}<extra></extra>",
         "labels": [
          "Beginner",
          "Non-beginner"
         ],
         "legendgroup": "",
         "marker": {
          "colors": [
           "#008080",
           "#808000"
          ]
         },
         "name": "",
         "showlegend": true,
         "textinfo": "label+percent+value",
         "textposition": "inside",
         "type": "pie",
         "values": [
          4.68,
          4.67
         ]
        }
       ],
       "layout": {
        "legend": {
         "tracegroupgap": 0
        },
        "paper_bgcolor": "rgb(250, 250, 238)",
        "template": {
         "data": {
          "bar": [
           {
            "error_x": {
             "color": "#2a3f5f"
            },
            "error_y": {
             "color": "#2a3f5f"
            },
            "marker": {
             "line": {
              "color": "#E5ECF6",
              "width": 0.5
             },
             "pattern": {
              "fillmode": "overlay",
              "size": 10,
              "solidity": 0.2
             }
            },
            "type": "bar"
           }
          ],
          "barpolar": [
           {
            "marker": {
             "line": {
              "color": "#E5ECF6",
              "width": 0.5
             },
             "pattern": {
              "fillmode": "overlay",
              "size": 10,
              "solidity": 0.2
             }
            },
            "type": "barpolar"
           }
          ],
          "carpet": [
           {
            "aaxis": {
             "endlinecolor": "#2a3f5f",
             "gridcolor": "white",
             "linecolor": "white",
             "minorgridcolor": "white",
             "startlinecolor": "#2a3f5f"
            },
            "baxis": {
             "endlinecolor": "#2a3f5f",
             "gridcolor": "white",
             "linecolor": "white",
             "minorgridcolor": "white",
             "startlinecolor": "#2a3f5f"
            },
            "type": "carpet"
           }
          ],
          "choropleth": [
           {
            "colorbar": {
             "outlinewidth": 0,
             "ticks": ""
            },
            "type": "choropleth"
           }
          ],
          "contour": [
           {
            "colorbar": {
             "outlinewidth": 0,
             "ticks": ""
            },
            "colorscale": [
             [
              0,
              "#0d0887"
             ],
             [
              0.1111111111111111,
              "#46039f"
             ],
             [
              0.2222222222222222,
              "#7201a8"
             ],
             [
              0.3333333333333333,
              "#9c179e"
             ],
             [
              0.4444444444444444,
              "#bd3786"
             ],
             [
              0.5555555555555556,
              "#d8576b"
             ],
             [
              0.6666666666666666,
              "#ed7953"
             ],
             [
              0.7777777777777778,
              "#fb9f3a"
             ],
             [
              0.8888888888888888,
              "#fdca26"
             ],
             [
              1,
              "#f0f921"
             ]
            ],
            "type": "contour"
           }
          ],
          "contourcarpet": [
           {
            "colorbar": {
             "outlinewidth": 0,
             "ticks": ""
            },
            "type": "contourcarpet"
           }
          ],
          "heatmap": [
           {
            "colorbar": {
             "outlinewidth": 0,
             "ticks": ""
            },
            "colorscale": [
             [
              0,
              "#0d0887"
             ],
             [
              0.1111111111111111,
              "#46039f"
             ],
             [
              0.2222222222222222,
              "#7201a8"
             ],
             [
              0.3333333333333333,
              "#9c179e"
             ],
             [
              0.4444444444444444,
              "#bd3786"
             ],
             [
              0.5555555555555556,
              "#d8576b"
             ],
             [
              0.6666666666666666,
              "#ed7953"
             ],
             [
              0.7777777777777778,
              "#fb9f3a"
             ],
             [
              0.8888888888888888,
              "#fdca26"
             ],
             [
              1,
              "#f0f921"
             ]
            ],
            "type": "heatmap"
           }
          ],
          "heatmapgl": [
           {
            "colorbar": {
             "outlinewidth": 0,
             "ticks": ""
            },
            "colorscale": [
             [
              0,
              "#0d0887"
             ],
             [
              0.1111111111111111,
              "#46039f"
             ],
             [
              0.2222222222222222,
              "#7201a8"
             ],
             [
              0.3333333333333333,
              "#9c179e"
             ],
             [
              0.4444444444444444,
              "#bd3786"
             ],
             [
              0.5555555555555556,
              "#d8576b"
             ],
             [
              0.6666666666666666,
              "#ed7953"
             ],
             [
              0.7777777777777778,
              "#fb9f3a"
             ],
             [
              0.8888888888888888,
              "#fdca26"
             ],
             [
              1,
              "#f0f921"
             ]
            ],
            "type": "heatmapgl"
           }
          ],
          "histogram": [
           {
            "marker": {
             "pattern": {
              "fillmode": "overlay",
              "size": 10,
              "solidity": 0.2
             }
            },
            "type": "histogram"
           }
          ],
          "histogram2d": [
           {
            "colorbar": {
             "outlinewidth": 0,
             "ticks": ""
            },
            "colorscale": [
             [
              0,
              "#0d0887"
             ],
             [
              0.1111111111111111,
              "#46039f"
             ],
             [
              0.2222222222222222,
              "#7201a8"
             ],
             [
              0.3333333333333333,
              "#9c179e"
             ],
             [
              0.4444444444444444,
              "#bd3786"
             ],
             [
              0.5555555555555556,
              "#d8576b"
             ],
             [
              0.6666666666666666,
              "#ed7953"
             ],
             [
              0.7777777777777778,
              "#fb9f3a"
             ],
             [
              0.8888888888888888,
              "#fdca26"
             ],
             [
              1,
              "#f0f921"
             ]
            ],
            "type": "histogram2d"
           }
          ],
          "histogram2dcontour": [
           {
            "colorbar": {
             "outlinewidth": 0,
             "ticks": ""
            },
            "colorscale": [
             [
              0,
              "#0d0887"
             ],
             [
              0.1111111111111111,
              "#46039f"
             ],
             [
              0.2222222222222222,
              "#7201a8"
             ],
             [
              0.3333333333333333,
              "#9c179e"
             ],
             [
              0.4444444444444444,
              "#bd3786"
             ],
             [
              0.5555555555555556,
              "#d8576b"
             ],
             [
              0.6666666666666666,
              "#ed7953"
             ],
             [
              0.7777777777777778,
              "#fb9f3a"
             ],
             [
              0.8888888888888888,
              "#fdca26"
             ],
             [
              1,
              "#f0f921"
             ]
            ],
            "type": "histogram2dcontour"
           }
          ],
          "mesh3d": [
           {
            "colorbar": {
             "outlinewidth": 0,
             "ticks": ""
            },
            "type": "mesh3d"
           }
          ],
          "parcoords": [
           {
            "line": {
             "colorbar": {
              "outlinewidth": 0,
              "ticks": ""
             }
            },
            "type": "parcoords"
           }
          ],
          "pie": [
           {
            "automargin": true,
            "type": "pie"
           }
          ],
          "scatter": [
           {
            "fillpattern": {
             "fillmode": "overlay",
             "size": 10,
             "solidity": 0.2
            },
            "type": "scatter"
           }
          ],
          "scatter3d": [
           {
            "line": {
             "colorbar": {
              "outlinewidth": 0,
              "ticks": ""
             }
            },
            "marker": {
             "colorbar": {
              "outlinewidth": 0,
              "ticks": ""
             }
            },
            "type": "scatter3d"
           }
          ],
          "scattercarpet": [
           {
            "marker": {
             "colorbar": {
              "outlinewidth": 0,
              "ticks": ""
             }
            },
            "type": "scattercarpet"
           }
          ],
          "scattergeo": [
           {
            "marker": {
             "colorbar": {
              "outlinewidth": 0,
              "ticks": ""
             }
            },
            "type": "scattergeo"
           }
          ],
          "scattergl": [
           {
            "marker": {
             "colorbar": {
              "outlinewidth": 0,
              "ticks": ""
             }
            },
            "type": "scattergl"
           }
          ],
          "scattermapbox": [
           {
            "marker": {
             "colorbar": {
              "outlinewidth": 0,
              "ticks": ""
             }
            },
            "type": "scattermapbox"
           }
          ],
          "scatterpolar": [
           {
            "marker": {
             "colorbar": {
              "outlinewidth": 0,
              "ticks": ""
             }
            },
            "type": "scatterpolar"
           }
          ],
          "scatterpolargl": [
           {
            "marker": {
             "colorbar": {
              "outlinewidth": 0,
              "ticks": ""
             }
            },
            "type": "scatterpolargl"
           }
          ],
          "scatterternary": [
           {
            "marker": {
             "colorbar": {
              "outlinewidth": 0,
              "ticks": ""
             }
            },
            "type": "scatterternary"
           }
          ],
          "surface": [
           {
            "colorbar": {
             "outlinewidth": 0,
             "ticks": ""
            },
            "colorscale": [
             [
              0,
              "#0d0887"
             ],
             [
              0.1111111111111111,
              "#46039f"
             ],
             [
              0.2222222222222222,
              "#7201a8"
             ],
             [
              0.3333333333333333,
              "#9c179e"
             ],
             [
              0.4444444444444444,
              "#bd3786"
             ],
             [
              0.5555555555555556,
              "#d8576b"
             ],
             [
              0.6666666666666666,
              "#ed7953"
             ],
             [
              0.7777777777777778,
              "#fb9f3a"
             ],
             [
              0.8888888888888888,
              "#fdca26"
             ],
             [
              1,
              "#f0f921"
             ]
            ],
            "type": "surface"
           }
          ],
          "table": [
           {
            "cells": {
             "fill": {
              "color": "#EBF0F8"
             },
             "line": {
              "color": "white"
             }
            },
            "header": {
             "fill": {
              "color": "#C8D4E3"
             },
             "line": {
              "color": "white"
             }
            },
            "type": "table"
           }
          ]
         },
         "layout": {
          "annotationdefaults": {
           "arrowcolor": "#2a3f5f",
           "arrowhead": 0,
           "arrowwidth": 1
          },
          "autotypenumbers": "strict",
          "coloraxis": {
           "colorbar": {
            "outlinewidth": 0,
            "ticks": ""
           }
          },
          "colorscale": {
           "diverging": [
            [
             0,
             "#8e0152"
            ],
            [
             0.1,
             "#c51b7d"
            ],
            [
             0.2,
             "#de77ae"
            ],
            [
             0.3,
             "#f1b6da"
            ],
            [
             0.4,
             "#fde0ef"
            ],
            [
             0.5,
             "#f7f7f7"
            ],
            [
             0.6,
             "#e6f5d0"
            ],
            [
             0.7,
             "#b8e186"
            ],
            [
             0.8,
             "#7fbc41"
            ],
            [
             0.9,
             "#4d9221"
            ],
            [
             1,
             "#276419"
            ]
           ],
           "sequential": [
            [
             0,
             "#0d0887"
            ],
            [
             0.1111111111111111,
             "#46039f"
            ],
            [
             0.2222222222222222,
             "#7201a8"
            ],
            [
             0.3333333333333333,
             "#9c179e"
            ],
            [
             0.4444444444444444,
             "#bd3786"
            ],
            [
             0.5555555555555556,
             "#d8576b"
            ],
            [
             0.6666666666666666,
             "#ed7953"
            ],
            [
             0.7777777777777778,
             "#fb9f3a"
            ],
            [
             0.8888888888888888,
             "#fdca26"
            ],
            [
             1,
             "#f0f921"
            ]
           ],
           "sequentialminus": [
            [
             0,
             "#0d0887"
            ],
            [
             0.1111111111111111,
             "#46039f"
            ],
            [
             0.2222222222222222,
             "#7201a8"
            ],
            [
             0.3333333333333333,
             "#9c179e"
            ],
            [
             0.4444444444444444,
             "#bd3786"
            ],
            [
             0.5555555555555556,
             "#d8576b"
            ],
            [
             0.6666666666666666,
             "#ed7953"
            ],
            [
             0.7777777777777778,
             "#fb9f3a"
            ],
            [
             0.8888888888888888,
             "#fdca26"
            ],
            [
             1,
             "#f0f921"
            ]
           ]
          },
          "colorway": [
           "#636efa",
           "#EF553B",
           "#00cc96",
           "#ab63fa",
           "#FFA15A",
           "#19d3f3",
           "#FF6692",
           "#B6E880",
           "#FF97FF",
           "#FECB52"
          ],
          "font": {
           "color": "#2a3f5f"
          },
          "geo": {
           "bgcolor": "white",
           "lakecolor": "white",
           "landcolor": "#E5ECF6",
           "showlakes": true,
           "showland": true,
           "subunitcolor": "white"
          },
          "hoverlabel": {
           "align": "left"
          },
          "hovermode": "closest",
          "mapbox": {
           "style": "light"
          },
          "paper_bgcolor": "white",
          "plot_bgcolor": "#E5ECF6",
          "polar": {
           "angularaxis": {
            "gridcolor": "white",
            "linecolor": "white",
            "ticks": ""
           },
           "bgcolor": "#E5ECF6",
           "radialaxis": {
            "gridcolor": "white",
            "linecolor": "white",
            "ticks": ""
           }
          },
          "scene": {
           "xaxis": {
            "backgroundcolor": "#E5ECF6",
            "gridcolor": "white",
            "gridwidth": 2,
            "linecolor": "white",
            "showbackground": true,
            "ticks": "",
            "zerolinecolor": "white"
           },
           "yaxis": {
            "backgroundcolor": "#E5ECF6",
            "gridcolor": "white",
            "gridwidth": 2,
            "linecolor": "white",
            "showbackground": true,
            "ticks": "",
            "zerolinecolor": "white"
           },
           "zaxis": {
            "backgroundcolor": "#E5ECF6",
            "gridcolor": "white",
            "gridwidth": 2,
            "linecolor": "white",
            "showbackground": true,
            "ticks": "",
            "zerolinecolor": "white"
           }
          },
          "shapedefaults": {
           "line": {
            "color": "#2a3f5f"
           }
          },
          "ternary": {
           "aaxis": {
            "gridcolor": "white",
            "linecolor": "white",
            "ticks": ""
           },
           "baxis": {
            "gridcolor": "white",
            "linecolor": "white",
            "ticks": ""
           },
           "bgcolor": "#E5ECF6",
           "caxis": {
            "gridcolor": "white",
            "linecolor": "white",
            "ticks": ""
           }
          },
          "title": {
           "x": 0.05
          },
          "xaxis": {
           "automargin": true,
           "gridcolor": "white",
           "linecolor": "white",
           "ticks": "",
           "title": {
            "standoff": 15
           },
           "zerolinecolor": "white",
           "zerolinewidth": 2
          },
          "yaxis": {
           "automargin": true,
           "gridcolor": "white",
           "linecolor": "white",
           "ticks": "",
           "title": {
            "standoff": 15
           },
           "zerolinecolor": "white",
           "zerolinewidth": 2
          }
         }
        },
        "title": {
         "text": "Course ratings by difficulties"
        }
       }
      }
     },
     "metadata": {},
     "output_type": "display_data"
    }
   ],
   "source": [
    "#The pie chart is for us to see if there's a difference in the mean of ratings for beginners and non-begginers\n",
    "\n",
    "fig = px.pie(difficulty_groups,\n",
    "    values='course_rating',\n",
    "    names='difficulty_groups',\n",
    "    title='Course ratings by difficulties')\n",
    "\n",
    "fig.update_traces(textinfo='label+percent+value',  \n",
    "    textposition='inside',\n",
    "    marker=dict(colors=['#008080','#808000'])  \n",
    ")\n",
    "fig.update_layout(paper_bgcolor='rgb(250, 250, 238)', )\n",
    "\n",
    "fig.show()"
   ]
  },
  {
   "cell_type": "code",
   "execution_count": 157,
   "metadata": {},
   "outputs": [
    {
     "data": {
      "application/vnd.plotly.v1+json": {
       "config": {
        "plotlyServerURL": "https://plot.ly"
       },
       "data": [
        {
         "customdata": [
          [
           "(ISC)² Systems Security Certified Practitioner (SSCP)",
           "(ISC)²"
          ],
          [
           "ADHD: Everyday Strategies for Elementary Students",
           "University at Buffalo"
          ],
          [
           "AI For Everyone",
           "deeplearning.ai"
          ],
          [
           "AI Foundations for Everyone",
           "IBM"
          ],
          [
           "AWS Fundamentals",
           "Amazon Web Services"
          ],
          [
           "AWS Fundamentals: Addressing Security Risk",
           "Amazon Web Services"
          ],
          [
           "AWS Fundamentals: Building Serverless Applications",
           "Amazon Web Services"
          ],
          [
           "AWS Fundamentals: Going Cloud-Native",
           "Amazon Web Services"
          ],
          [
           "Academic English: Writing",
           "University of California, Irvine"
          ],
          [
           "Access Controls",
           "(ISC)²"
          ],
          [
           "Achieving Personal and Professional Success",
           "University of Pennsylvania"
          ],
          [
           "Addiction Treatment: Clinical Skills for Healthcare Providers",
           "Yale University"
          ],
          [
           "Age of Cathedrals",
           "Yale University"
          ],
          [
           "Agile Development",
           "University of Virginia"
          ],
          [
           "Agile Meets Design Thinking",
           "University of Virginia"
          ],
          [
           "Agile with Atlassian Jira",
           "Atlassian"
          ],
          [
           "Agile и Scrum в работе над проектами и продуктами",
           "ScrumTrek"
          ],
          [
           "American Contract Law I",
           "Yale University"
          ],
          [
           "An Introduction to American Law",
           "University of Pennsylvania"
          ],
          [
           "An Introduction to Consumer Neuroscience & Neuromarketing",
           "Copenhagen Business School"
          ],
          [
           "An Introduction to Programming the Internet of Things (IOT)",
           "University of California, Irvine"
          ],
          [
           "Analysing: Numeric and digital literacies",
           "Macquarie University"
          ],
          [
           "Anatomy",
           "University of Michigan"
          ],
          [
           "Anatomy: Musculoskeletal and Integumentary Systems",
           "University of Michigan"
          ],
          [
           "Android App Development",
           "Vanderbilt University"
          ],
          [
           "Anticorrupción: Introducción a conceptos y perspectiva práctica",
           "Universidad Nacional Autónoma de México"
          ],
          [
           "Applied Data Science",
           "IBM"
          ],
          [
           "Aprende a programar con Python",
           "Universidad Austral"
          ],
          [
           "Aprendiendo a aprender: Poderosas herramientas mentales con las que podrás dominar temas difíciles (Learning How to Learn)",
           "University of California San Diego"
          ],
          [
           "Architecting with Google Kubernetes Engine 日本語版",
           "Google Cloud"
          ],
          [
           "Arizona State University TESOL",
           "Arizona State University"
          ],
          [
           "Aspectos básicos de la planificación y la gestión de proyectos",
           "University of Virginia"
          ],
          [
           "BIM Fundamentals for Engineers",
           "National Taiwan University"
          ],
          [
           "Basic Statistics",
           "University of Amsterdam"
          ],
          [
           "Become a Journalist: Report the News!",
           "Michigan State University"
          ],
          [
           "Becoming a Sports Agent",
           "Case Western Reserve University"
          ],
          [
           "Becoming a changemaker: Introduction to Social Innovation",
           "University of Cape Town"
          ],
          [
           "Big Data – Introducción al uso práctico de datos masivos",
           "Universitat Autònoma de Barcelona"
          ],
          [
           "Biohacking Your Brain's Health",
           "Emory University"
          ],
          [
           "Biology Meets Programming: Bioinformatics for Beginners",
           "University of California San Diego"
          ],
          [
           "Biostatistics in Public Health",
           "Johns Hopkins University"
          ],
          [
           "Blockchain Revolution",
           "INSEAD"
          ],
          [
           "Blockchain Revolution in Financial Services",
           "INSEAD"
          ],
          [
           "Blockchain: Foundations and Use Cases",
           "ConsenSys Academy"
          ],
          [
           "Boosting Creativity for Innovation",
           "HEC Paris"
          ],
          [
           "Brand Management: Aligning Business, Brand and Behaviour",
           "London Business School"
          ],
          [
           "Branding: The Creative Journey",
           "IE Business School"
          ],
          [
           "Bugs 101: Insect-Human Interactions",
           "University of Alberta"
          ],
          [
           "Building Conversational Experiences with Dialogflow",
           "Google Cloud"
          ],
          [
           "Business Analytics",
           "University of Pennsylvania"
          ],
          [
           "Business Foundations",
           "University of Pennsylvania"
          ],
          [
           "Business Statistics and Analysis",
           "Rice University"
          ],
          [
           "Business Strategies for A Better World",
           "University of Pennsylvania"
          ],
          [
           "Business Strategy",
           "University of Virginia"
          ],
          [
           "Business Technology Management",
           "Indian School of Business"
          ],
          [
           "Business Transformation with Google Cloud",
           "Google Cloud"
          ],
          [
           "Business Writing",
           "University of Colorado Boulder"
          ],
          [
           "Business and Financial Modeling",
           "University of Pennsylvania"
          ],
          [
           "C for Everyone: Programming Fundamentals",
           "University of California, Santa Cruz"
          ],
          [
           "C# Programming for Unity Game Development",
           "University of Colorado System"
          ],
          [
           "COVID-19 Contact Tracing",
           "Johns Hopkins University"
          ],
          [
           "COVID-19: What You Need to Know (CME Eligible)",
           "Osmosis"
          ],
          [
           "Camino a la Excelencia en Gestión de Proyectos",
           "Pontificia Universidad Católica de Chile"
          ],
          [
           "Career Success",
           "University of California, Irvine"
          ],
          [
           "Challenging Forensic Science: How Science Should Speak to Court",
           "University of Lausanne"
          ],
          [
           "Chemicals and Health",
           "Johns Hopkins University"
          ],
          [
           "Child Nutrition and Cooking",
           "Stanford University"
          ],
          [
           "Chinese for HSK 1",
           "Peking University"
          ],
          [
           "Cisco Networking Basics",
           "Cisco"
          ],
          [
           "Claves de la Dirección de Empresas",
           "IESE Business School"
          ],
          [
           "Climate Change and Health: From Science to Action",
           "Yale University"
          ],
          [
           "Clinical Terminology for International and U.S. Students",
           "University of Pittsburgh"
          ],
          [
           "Cloud Computing Basics (Cloud 101)",
           "LearnQuest"
          ],
          [
           "Code Yourself! An Introduction to Programming",
           "The University of Edinburgh"
          ],
          [
           "Communication Skills for Engineers",
           "Rice University"
          ],
          [
           "Communication Strategies for a Virtual Age",
           "University of Toronto"
          ],
          [
           "Compassionate Leadership Through Service Learning with Jane Goodall and Roots & Shoots",
           "University of Colorado Boulder"
          ],
          [
           "Competencias digitales. Herramientas de ofimática (Microsoft Word, Excel, Power Point)",
           "Universitat Autònoma de Barcelona"
          ],
          [
           "Computational Social Science",
           "University of California, Davis"
          ],
          [
           "Computational Thinking for Problem Solving",
           "University of Pennsylvania"
          ],
          [
           "Computer Security and Systems Management",
           "University of Colorado System"
          ],
          [
           "Conflict Management",
           "University of California, Irvine"
          ],
          [
           "Construction Cost Estimating and Cost Control",
           "Columbia University"
          ],
          [
           "Construction Management",
           "Columbia University"
          ],
          [
           "Construction Project Management",
           "Columbia University"
          ],
          [
           "Construction Scheduling",
           "Columbia University"
          ],
          [
           "Contabilidad para no contadores",
           "Universidad Nacional Autónoma de México"
          ],
          [
           "Content Strategy for Professionals",
           "Northwestern University"
          ],
          [
           "Continuous Delivery & DevOps",
           "University of Virginia"
          ],
          [
           "Corporate Strategy",
           "UCL School of Management"
          ],
          [
           "Corrección, estilo y  variaciones de la lengua española",
           "Universitat Autònoma de Barcelona"
          ],
          [
           "Cost and Economics in Pricing Strategy",
           "University of Virginia"
          ],
          [
           "Crash Course on Python",
           "Google"
          ],
          [
           "Creative Writing",
           "Wesleyan University"
          ],
          [
           "Creatividad, diseño e innovación: Técnicas y herramientas",
           "Arizona State University"
          ],
          [
           "Culture-Driven Team Building",
           "University of Pennsylvania"
          ],
          [
           "Curanderismo: Traditional Healing Using Plants",
           "University of New Mexico"
          ],
          [
           "Customer Segmentation and Prospecting",
           "Northwestern University"
          ],
          [
           "Cybersecurity and Its Ten Domains",
           "University System of Georgia"
          ],
          [
           "Cybersecurity for Business",
           "University of Colorado System"
          ],
          [
           "Cómo hablar bien en público",
           "Universitat Autònoma de Barcelona"
          ],
          [
           "Data Analysis and Interpretation",
           "Wesleyan University"
          ],
          [
           "Data Analysis and Presentation Skills: the PwC Approach",
           "PwC"
          ],
          [
           "Data Analysis with Python",
           "IBM"
          ],
          [
           "Data Analytics for Lean Six Sigma",
           "University of Amsterdam"
          ],
          [
           "Data Management for Clinical Research",
           "Vanderbilt University"
          ],
          [
           "Data Science",
           "Johns Hopkins University"
          ],
          [
           "Data Science Math Skills",
           "Duke University"
          ],
          [
           "Data Science Methodology",
           "IBM"
          ],
          [
           "Data Science: Foundations using R",
           "Johns Hopkins University"
          ],
          [
           "Data Visualization with Advanced Excel",
           "PwC"
          ],
          [
           "Data Visualization with Tableau",
           "University of California, Davis"
          ],
          [
           "Data and Health Indicators in Public Health Practice",
           "Johns Hopkins University"
          ],
          [
           "Data-driven Decision Making",
           "PwC"
          ],
          [
           "Databases and SQL for Data Science",
           "IBM"
          ],
          [
           "De-Mystifying Mindfulness",
           "Universiteit Leiden"
          ],
          [
           "Democracia y decisiones públicas. Introducción al análisis de políticas públicas",
           "Universitat Autònoma de Barcelona"
          ],
          [
           "Dentistry 101",
           "University of Michigan"
          ],
          [
           "Dermatology: Trip to skin",
           "Novosibirsk State University "
          ],
          [
           "Design Thinking for Innovation",
           "University of Virginia"
          ],
          [
           "Design Thinking for the Greater Good: Innovation in the Social Sector",
           "University of Virginia"
          ],
          [
           "Developing Your Musicianship",
           "Berklee College of Music"
          ],
          [
           "Digital Advertising Strategy",
           "University of Colorado Boulder"
          ],
          [
           "Digital Business Models",
           "Lund University"
          ],
          [
           "Digital Manufacturing & Design Technology",
           "University at Buffalo"
          ],
          [
           "Digital Marketing",
           "University of Illinois at Urbana-Champaign"
          ],
          [
           "Digital Product Management",
           "University of Virginia"
          ],
          [
           "Digital Product Management: Modern Fundamentals",
           "University of Virginia"
          ],
          [
           "Dino 101: Dinosaur Paleobiology",
           "University of Alberta"
          ],
          [
           "Diseño Instruccional: Aprendizaje activo y Pedagogía digital",
           "Tecnológico de Monterrey"
          ],
          [
           "Diseño y Creación de un Emprendimiento Social",
           "Pontificia Universidad Católica de Chile"
          ],
          [
           "Driving business towards the Sustainable Development Goals",
           "Erasmus University Rotterdam"
          ],
          [
           "Drug Commercialization",
           "University of California San Diego"
          ],
          [
           "Drug Discovery",
           "University of California San Diego"
          ],
          [
           "Dynamic Public Speaking",
           "University of Washington"
          ],
          [
           "EMT Foundations",
           "University of Colorado System"
          ],
          [
           "Egiptología (Egyptology)",
           "Universitat Autònoma de Barcelona"
          ],
          [
           "El Abogado del Futuro: Legaltech y la Transformación Digital del Derecho",
           "Universidad Austral"
          ],
          [
           "Electric Industry Operations and Markets",
           "Duke University"
          ],
          [
           "Emerging Technologies: From Smartphones to IoT to Big Data",
           "Yonsei University"
          ],
          [
           "Energy Production, Distribution & Safety",
           "University at Buffalo"
          ],
          [
           "Engineering Health: Introduction to Yoga and Physiology",
           "New York University"
          ],
          [
           "Engineering Project Management: Initiating and Planning",
           "Rice University"
          ],
          [
           "English Composition I",
           "Duke University"
          ],
          [
           "English for Business and Entrepreneurship",
           "University of Pennsylvania"
          ],
          [
           "English for Science, Technology, Engineering, and Mathematics",
           "University of Pennsylvania"
          ],
          [
           "Enterprise Architecture",
           "Peter the Great St. Petersburg Polytechnic University"
          ],
          [
           "Entrepreneurship",
           "University of Pennsylvania"
          ],
          [
           "Entrepreneurship 3: Growth Strategies",
           "University of Pennsylvania"
          ],
          [
           "Entrepreneurship Strategy: From Ideation to Exit",
           "HEC Paris"
          ],
          [
           "Entrepreneurship: Launching an Innovative Business",
           "University of Maryland, College Park"
          ],
          [
           "Epidemiology for Public Health",
           "Imperial College London"
          ],
          [
           "Epidemiology in Public Health Practice",
           "Johns Hopkins University"
          ],
          [
           "Equine Welfare and Management",
           "University of California, Davis"
          ],
          [
           "Esports",
           "University of California, Irvine"
          ],
          [
           "Essential Epidemiologic Tools for Public Health Practice",
           "Johns Hopkins University"
          ],
          [
           "Estadística y probabilidad",
           "Universidad Nacional Autónoma de México"
          ],
          [
           "Evaluación educativa",
           "Universidad Nacional Autónoma de México"
          ],
          [
           "Everyday Excel, Part 1",
           "University of Colorado Boulder"
          ],
          [
           "Everyday Parenting: The ABCs of Child Rearing",
           "Yale University"
          ],
          [
           "Excel Skills for Business",
           "Macquarie University"
          ],
          [
           "Excel Skills for Business: Essentials",
           "Macquarie University"
          ],
          [
           "Excel to MySQL: Analytic Techniques for Business",
           "Duke University"
          ],
          [
           "Excel/VBA for Creative Problem Solving",
           "University of Colorado Boulder"
          ],
          [
           "Excel/VBA for Creative Problem Solving, Part 1",
           "University of Colorado Boulder"
          ],
          [
           "Executive Data Science",
           "Johns Hopkins University"
          ],
          [
           "Explorando la Energía Sustentable",
           "Pontificia Universidad Católica de Chile"
          ],
          [
           "Fashion as Design",
           "The Museum of Modern Art"
          ],
          [
           "Feminism and Social Justice",
           "University of California, Santa Cruz"
          ],
          [
           "FinTech Law and Policy",
           "Duke University"
          ],
          [
           "FinTech: Finance Industry Transformation and Regulation",
           "The Hong Kong University of Science and Technology"
          ],
          [
           "FinTech: Foundations, Payments, and Regulations",
           "University of Pennsylvania"
          ],
          [
           "Finance & Quantitative Modeling for Analysts",
           "University of Pennsylvania"
          ],
          [
           "Finance for Non-Finance Professionals",
           "Rice University"
          ],
          [
           "Financial Accounting Fundamentals",
           "University of Virginia"
          ],
          [
           "Financial Acumen for Non-Financial Managers",
           "University of Pennsylvania"
          ],
          [
           "Financial Markets",
           "Yale University"
          ],
          [
           "Financial Markets and Investment Strategy",
           "Indian School of Business"
          ],
          [
           "Financial Technology (Fintech) Innovations",
           "University of Michigan"
          ],
          [
           "Finding Purpose and Meaning In Life: Living for What Matters Most",
           "University of Michigan"
          ],
          [
           "Fintech: Foundations & Applications of Financial Technology",
           "University of Pennsylvania"
          ],
          [
           "First Step Korean",
           "Yonsei University"
          ],
          [
           "Foundational Finance for Strategic Decision Making",
           "University of Michigan"
          ],
          [
           "Foundations of Business Strategy",
           "University of Virginia"
          ],
          [
           "Foundations of Global Health",
           "Johns Hopkins University"
          ],
          [
           "Foundations of Management",
           "IESE Business School"
          ],
          [
           "Foundations of Positive Psychology",
           "University of Pennsylvania"
          ],
          [
           "Foundations of Public Health Practice",
           "Imperial College London"
          ],
          [
           "From Data to Insights with Google Cloud Platform",
           "Google Cloud"
          ],
          [
           "From the Big Bang to Dark Energy",
           "The University of Tokyo"
          ],
          [
           "Fundamental Neuroscience for Neuroimaging",
           "Johns Hopkins University"
          ],
          [
           "Fundamentals of Accounting",
           "University of Illinois at Urbana-Champaign"
          ],
          [
           "Fundamentals of Computing",
           "Rice University"
          ],
          [
           "Fundamentals of GIS",
           "University of California, Davis"
          ],
          [
           "Fundamentals of Graphic Design",
           "California Institute of the Arts"
          ],
          [
           "Fundamentals of Music Theory",
           "The University of Edinburgh"
          ],
          [
           "Fundamentals of Project Planning and Management",
           "University of Virginia"
          ],
          [
           "Fundamentals of Visualization with Tableau",
           "University of California, Davis"
          ],
          [
           "Fundamentos Empresariales",
           "University of Pennsylvania"
          ],
          [
           "Fundamentos Estratégicos Empresariales",
           "Universidad Nacional Autónoma de México"
          ],
          [
           "Fundamentos de Excel para Negocios",
           "Universidad Austral"
          ],
          [
           "Fundamentos de Finanzas Empresariales",
           "Universidad de los Andes"
          ],
          [
           "Fundamentos de la escritura",
           "Tecnológico de Monterrey"
          ],
          [
           "Fundraising and Development",
           "University of California, Davis"
          ],
          [
           "Futures Thinking",
           "Institute for the Future"
          ],
          [
           "G Suite Administration",
           "Google Cloud"
          ],
          [
           "GIS, Mapping, and Spatial Analysis",
           "University of Toronto"
          ],
          [
           "Game Theory",
           "Stanford University"
          ],
          [
           "Gender and Sexuality: Diversity and Inclusion in the Workplace",
           "University of Pittsburgh"
          ],
          [
           "Geographic Information Systems  (GIS)",
           "University of California, Davis"
          ],
          [
           "Get Interactive: Practical Teaching with Technology",
           "Bloomsbury Learning Exchange"
          ],
          [
           "Getting Started With Music Theory",
           "Michigan State University"
          ],
          [
           "Getting Started with Google Sheets",
           "Google Cloud"
          ],
          [
           "Getting Started with SAS Programming",
           "SAS"
          ],
          [
           "Global Diplomacy: the United Nations in the World",
           "SOAS University of London"
          ],
          [
           "Global Energy and Climate Policy",
           "SOAS University of London"
          ],
          [
           "Good with Words: Writing and Editing",
           "University of Michigan"
          ],
          [
           "Google IT Automation with Python",
           "Google"
          ],
          [
           "Google IT Support",
           "Google"
          ],
          [
           "Graphic Design Elements for Non-Designers",
           "University of Colorado Boulder"
          ],
          [
           "Greening the Economy: Sustainable Cities",
           "Lund University"
          ],
          [
           "Habilidades Gerenciales",
           "Universidad Nacional Autónoma de México"
          ],
          [
           "Health Informatics",
           "Johns Hopkins University"
          ],
          [
           "Healthcare Marketplace",
           "University of Minnesota"
          ],
          [
           "Healthcare Organization Operations",
           "Rutgers the State University of New Jersey"
          ],
          [
           "Homeland Security and Cybersecurity",
           "University of Colorado System"
          ],
          [
           "Hotel Management: Distribution, Revenue and Demand Management",
           "ESSEC Business School"
          ],
          [
           "How to Start Your Own Business",
           "Michigan State University"
          ],
          [
           "Human Resource Management: HR for People Managers",
           "University of Minnesota"
          ],
          [
           "IBM Applied AI",
           "IBM"
          ],
          [
           "IBM Customer Engagement Specialist Professional Certificate",
           "IBM"
          ],
          [
           "IBM Data Science",
           "IBM"
          ],
          [
           "IT Fundamentals for Cybersecurity",
           "IBM"
          ],
          [
           "IT Security: Defense against the digital dark arts",
           "Google"
          ],
          [
           "Identifying, Monitoring, and Analyzing Risk and Incident Response and Recovery",
           "(ISC)²"
          ],
          [
           "Implementación del Marketing Mix",
           "IE Business School"
          ],
          [
           "Implementing RPA with Cognitive Automation and Analytics",
           "Automation Anywhere"
          ],
          [
           "Improve Your English Communication Skills",
           "Georgia Institute of Technology"
          ],
          [
           "Improving Deep Neural Networks: Hyperparameter tuning, Regularization and Optimization",
           "deeplearning.ai"
          ],
          [
           "Improving Leadership & Governance in Nonprofit Organizations",
           "Luther College at the University of Regina"
          ],
          [
           "In the Studio: Postwar Abstract Painting",
           "The Museum of Modern Art"
          ],
          [
           "Industrial IoT on Google Cloud Platform",
           "Google Cloud"
          ],
          [
           "Influencing: Storytelling, Change Management and Governance",
           "Macquarie University"
          ],
          [
           "Information Security: Context and Introduction",
           "Royal Holloway, University of London"
          ],
          [
           "Information Visualization",
           "New York University"
          ],
          [
           "Information​ ​Systems",
           "University of Minnesota"
          ],
          [
           "Innovation Management",
           "Erasmus University Rotterdam"
          ],
          [
           "Innovation Through Design: Think, Make, Break, Repeat",
           "The University of Sydney"
          ],
          [
           "Innovation: From Creativity to Entrepreneurship",
           "University of Illinois at Urbana-Champaign"
          ],
          [
           "Inspirational Leadership: Leading with Sense",
           "HEC Paris"
          ],
          [
           "Integrative Health and Medicine",
           "University of Minnesota"
          ],
          [
           "Intercultural Management",
           "ESCP Business School"
          ],
          [
           "International Humanitarian Law in Theory and Practice",
           "Kalshoven-Gieskes Forum"
          ],
          [
           "International Marketing & Cross Industry Growth",
           "Yonsei University"
          ],
          [
           "International Organizations Management",
           "University of Geneva"
          ],
          [
           "International Security Management",
           "Erasmus University Rotterdam"
          ],
          [
           "International Women's Health and Human Rights",
           "Stanford University"
          ],
          [
           "International migrations: a global issue",
           "Sciences Po"
          ],
          [
           "Internet Connection: How to Get Online?",
           "Cisco"
          ],
          [
           "Introducción a Data Science: Programación Estadística con R",
           "Universidad Nacional Autónoma de México"
          ],
          [
           "Introducción a la programación en Python I: Aprendiendo a programar con Python",
           "Pontificia Universidad Católica de Chile"
          ],
          [
           "Introduction to Artificial Intelligence (AI)",
           "IBM"
          ],
          [
           "Introduction to Blockchain Technologies",
           "INSEAD"
          ],
          [
           "Introduction to Chemistry:  Reactions and Ratios",
           "Duke University"
          ],
          [
           "Introduction to Cloud Computing",
           "IBM"
          ],
          [
           "Introduction to Computer Programming",
           "Goldsmiths, University of London"
          ],
          [
           "Introduction to Computer Science and Programming",
           "Goldsmiths, University of London"
          ],
          [
           "Introduction to Cyber Attacks",
           "New York University"
          ],
          [
           "Introduction to Cyber Security",
           "New York University"
          ],
          [
           "Introduction to Cybersecurity Tools & Cyber Attacks",
           "IBM"
          ],
          [
           "Introduction to Data Science",
           "IBM"
          ],
          [
           "Introduction to Dental Medicine",
           "University of Pennsylvania"
          ],
          [
           "Introduction to Discrete Mathematics for Computer Science",
           "National Research University Higher School of Economics"
          ],
          [
           "Introduction to Imagemaking",
           "California Institute of the Arts"
          ],
          [
           "Introduction to Intellectual Property",
           "University of Pennsylvania"
          ],
          [
           "Introduction to Personal Branding",
           "University of Virginia"
          ],
          [
           "Introduction to Probability and Data",
           "Duke University"
          ],
          [
           "Introduction to Programming in C",
           "Duke University"
          ],
          [
           "Introduction to Programming with MATLAB",
           "Vanderbilt University"
          ],
          [
           "Introduction to Psychology",
           "Yale University"
          ],
          [
           "Introduction to Scripting in Python",
           "Rice University"
          ],
          [
           "Introduction to Statistics & Data Analysis in Public Health",
           "Imperial College London"
          ],
          [
           "Introduction to Thermodynamics: Transferring Energy from Here to There",
           "University of Michigan"
          ],
          [
           "Introduction to Typography",
           "California Institute of the Arts"
          ],
          [
           "Introduction to User Experience Design",
           "Georgia Institute of Technology"
          ],
          [
           "Introduction to User Experience Principles and Processes",
           "University of Michigan"
          ],
          [
           "Introduction to Web Development",
           "University of California, Davis"
          ],
          [
           "Introduction to the Biology of Cancer",
           "Johns Hopkins University"
          ],
          [
           "Introdução aos Princípios e Práticas da Gestão De Projetos",
           "Universidade de São Paulo"
          ],
          [
           "Introdução à Ciência da Computação com Python Parte 1",
           "Universidade de São Paulo"
          ],
          [
           "Investment Management",
           "University of Geneva"
          ],
          [
           "Investment Management with Python and Machine Learning",
           "EDHEC Business School"
          ],
          [
           "Investment and Portfolio Management",
           "Rice University"
          ],
          [
           "Japanese for beginners 1",
           "Saint Petersburg State University"
          ],
          [
           "Java Programming and Software Engineering Fundamentals",
           "Duke University"
          ],
          [
           "Java Programming: Solving Problems with Software",
           "Duke University"
          ],
          [
           "Julia Scientific Programming",
           "University of Cape Town"
          ],
          [
           "L'excellence opérationnelle en pratique",
           "ESSEC Business School"
          ],
          [
           "L'impact investing, la finance qui change le monde",
           "ESSEC Business School"
          ],
          [
           "Leadership Development for Engineers",
           "Rice University"
          ],
          [
           "Leading Healthcare Quality and Safety",
           "The George Washington University"
          ],
          [
           "Leading People and Teams",
           "University of Michigan"
          ],
          [
           "Learn Chinese: HSK Test Preparation",
           "Peking University"
          ],
          [
           "Learn English",
           "Tsinghua University"
          ],
          [
           "Learn Mandarin Chinese",
           "Shanghai Jiao Tong University"
          ],
          [
           "Learn SQL Basics for Data Science",
           "University of California, Davis"
          ],
          [
           "Learn Spanish: Basic Spanish Vocabulary",
           "University of California, Davis"
          ],
          [
           "Learn to Program: The Fundamentals",
           "University of Toronto"
          ],
          [
           "Learn to Speak Korean 1",
           "Yonsei University"
          ],
          [
           "Learning to Teach Online",
           "UNSW Sydney (The University of New South Wales)"
          ],
          [
           "Les Fondamentaux de la Négociation",
           "ESSEC Business School"
          ],
          [
           "Love as a Force for Social Justice",
           "Stanford University"
          ],
          [
           "Machine Learning for All",
           "University of London"
          ],
          [
           "Magic in the Middle Ages",
           "Universitat de Barcelona"
          ],
          [
           "Making Architecture",
           "IE School of Architecture & Design"
          ],
          [
           "Managerial Accounting Fundamentals",
           "University of Virginia"
          ],
          [
           "Managerial Economics and Business Analysis",
           "University of Illinois at Urbana-Champaign"
          ],
          [
           "Managing Innovation and Design Thinking",
           "HEC Paris"
          ],
          [
           "Managing Social and Human Capital",
           "University of Pennsylvania"
          ],
          [
           "Managing Your Health: The Role of Physical Therapy and Exercise",
           "University of Toronto"
          ],
          [
           "Market Research",
           "University of California, Davis"
          ],
          [
           "Marketing Digital",
           "Universidade de São Paulo"
          ],
          [
           "Marketing Digital",
           "Universidad Austral"
          ],
          [
           "Marketing Mix Implementation",
           "IE Business School"
          ],
          [
           "Marketing Strategy",
           "IE Business School"
          ],
          [
           "Marketing in a Digital World",
           "University of Illinois at Urbana-Champaign"
          ],
          [
           "Mastering Final Cut Pro",
           "LearnQuest"
          ],
          [
           "Mastering Software Development in R",
           "Johns Hopkins University"
          ],
          [
           "Mathematics for Data Science",
           "National Research University Higher School of Economics"
          ],
          [
           "Mathematics for Machine Learning",
           "Imperial College London"
          ],
          [
           "Mathematics for Machine Learning: Linear Algebra",
           "Imperial College London"
          ],
          [
           "Mathematics for Machine Learning: Multivariate Calculus",
           "Imperial College London"
          ],
          [
           "Medical Cannabis: The Health Effects of THC and CBD",
           "University of Colorado Boulder"
          ],
          [
           "Memoir and Personal Essay: Write About Yourself",
           "Wesleyan University"
          ],
          [
           "Methods and Statistics in Social Sciences",
           "University of Amsterdam"
          ],
          [
           "Microeconomics Principles",
           "University of Illinois at Urbana-Champaign"
          ],
          [
           "Mindshift: Break Through Obstacles to Learning and Discover Your Hidden Potential",
           "McMaster University"
          ],
          [
           "Miracles of Human Language: An Introduction to Linguistics",
           "Universiteit Leiden"
          ],
          [
           "Modern Art & Ideas",
           "The Museum of Modern Art"
          ],
          [
           "Modern Big Data Analysis with SQL",
           "Cloudera"
          ],
          [
           "Music Business",
           "Berklee College of Music"
          ],
          [
           "Music Production",
           "Berklee College of Music"
          ],
          [
           "Negotiation, Mediation and Conflict Resolution",
           "ESSEC Business School"
          ],
          [
           "New Approaches to Countering Terror: Countering Violent Extremism",
           "University of Maryland, College Park"
          ],
          [
           "Newborn Baby Care",
           "University of Colorado System"
          ],
          [
           "Nutrición y obesidad: control de sobrepeso",
           "Universidad Nacional Autónoma de México"
          ],
          [
           "Object Oriented Programming in Java",
           "Duke University"
          ],
          [
           "Open Source Software Development, Linux and Git",
           "The Linux Foundation"
          ],
          [
           "Operating Systems and You: Becoming a Power User",
           "Google"
          ],
          [
           "Osteoarchaeology: The Truth in Our Bones",
           "Universiteit Leiden"
          ],
          [
           "Palliative Care: It's Not Just Hospice Anymore",
           "University of Colorado System"
          ],
          [
           "Palo Alto Networks Cybersecurity",
           "Palo Alto Networks"
          ],
          [
           "Patient Safety",
           "Johns Hopkins University"
          ],
          [
           "Patrocinio Deportivo",
           "Universitat Autònoma de Barcelona"
          ],
          [
           "Periodismo digital y combate a las fake news",
           "Universidad Nacional Autónoma de México"
          ],
          [
           "Photography Basics and Beyond: From Smartphone to DSLR",
           "Michigan State University"
          ],
          [
           "Plant Bioinformatic Methods",
           "University of Toronto"
          ],
          [
           "Politics and Economics of International Energy",
           "Sciences Po"
          ],
          [
           "Positive Psychology: Applications and Interventions",
           "University of Pennsylvania"
          ],
          [
           "Positive Psychology: Martin E. P. Seligman’s Visionary Science",
           "University of Pennsylvania"
          ],
          [
           "Positive Psychology: Resilience Skills",
           "University of Pennsylvania"
          ],
          [
           "Practical Data Science with MATLAB",
           "MathWorks"
          ],
          [
           "Preparing for the Google Cloud Associate Cloud Engineer Exam",
           "Google Cloud"
          ],
          [
           "Presentation Skills: Speechwriting, Slides and Delivery",
           "E-Learning Development Fund"
          ],
          [
           "Pricing Strategy Optimization",
           "BCG"
          ],
          [
           "Probability and Statistics: To p or not to p?",
           "University of London"
          ],
          [
           "Programming Foundations with JavaScript, HTML and CSS",
           "Duke University"
          ],
          [
           "Programming Fundamentals",
           "Duke University"
          ],
          [
           "Project Execution",
           "University of California, Irvine"
          ],
          [
           "Project Launch",
           "University of California, Irvine"
          ],
          [
           "Project Management & Other Tools for Career Development",
           "University of California, Irvine"
          ],
          [
           "Project Management Principles and Practices",
           "University of California, Irvine"
          ],
          [
           "Public Policy Challenges of the 21st Century",
           "University of Virginia"
          ],
          [
           "Python Basics",
           "University of Michigan"
          ],
          [
           "Python Functions, Files, and Dictionaries",
           "University of Michigan"
          ],
          [
           "Python for Data Science and AI",
           "IBM"
          ],
          [
           "Python for Everybody",
           "University of Michigan"
          ],
          [
           "Queering Identities: LGBTQ+ Sexuality and Gender Identity",
           "University of Colorado System"
          ],
          [
           "Ready, Set, Future! Introduction to Futures Thinking",
           "Institute for the Future"
          ],
          [
           "Renewable Energy and Green Building Entrepreneurship",
           "Duke University"
          ],
          [
           "Reporting extra-financier et stratégie RSE",
           "ESSEC Business School"
          ],
          [
           "Requirements Engineering: Secure Software  Specifications",
           "University of Colorado System"
          ],
          [
           "Responsive Website Development and Design",
           "Goldsmiths, University of London"
          ],
          [
           "Robotics",
           "University of Pennsylvania"
          ],
          [
           "Roman Architecture",
           "Yale University"
          ],
          [
           "Russian Alphabet",
           "Saint Petersburg State University"
          ],
          [
           "Russian for beginners А1. Русский язык: A1",
           "Saint Petersburg State University"
          ],
          [
           "SAS Programmer",
           "SAS"
          ],
          [
           "SAS Visual Business Analytics",
           "SAS"
          ],
          [
           "SQL for Data Science",
           "University of California, Davis"
          ],
          [
           "Sales Operations/Management",
           "West Virginia University"
          ],
          [
           "Sales Training for High Performing Teams",
           "HubSpot Academy"
          ],
          [
           "School Health for Children and Adolescents",
           "University of Colorado System"
          ],
          [
           "Science of Exercise",
           "University of Colorado Boulder"
          ],
          [
           "Security & Safety Challenges in a Globalized World",
           "Universiteit Leiden"
          ],
          [
           "Sexualidad...mucho más que sexo",
           "Universidad de los Andes"
          ],
          [
           "Sharpened Visions: A Poetry Workshop",
           "California Institute of the Arts"
          ],
          [
           "Sleep: Neurobiology, Medicine, and Society",
           "University of Michigan"
          ],
          [
           "Smart Cities – Management of Smart Urban Infrastructures",
           "École Polytechnique Fédérale de Lausanne"
          ],
          [
           "Social Entrepreneurship",
           "Copenhagen Business School"
          ],
          [
           "Social Media Marketing",
           "Northwestern University"
          ],
          [
           "Social Norms, Social Change I",
           "University of Pennsylvania"
          ],
          [
           "Social Policy for Social Services & Health Practitioners",
           "Columbia University"
          ],
          [
           "Social Psychology",
           "Wesleyan University"
          ],
          [
           "Software Design and Architecture",
           "University of Alberta"
          ],
          [
           "Software Product Management",
           "University of Alberta"
          ],
          [
           "Solar Energy Basics",
           "The State University of New York"
          ],
          [
           "Songwriting: Writing the Lyrics",
           "Berklee College of Music"
          ],
          [
           "Soporte de Tecnologías de la Información de Google",
           "Crece con Google"
          ],
          [
           "Spanish Vocabulary: Meeting People",
           "University of California, Davis"
          ],
          [
           "Stanford Introduction to Food and Health",
           "Stanford University"
          ],
          [
           "Stanford's Short Course on Breastfeeding",
           "Stanford University"
          ],
          [
           "Statistical Analysis with R for Public Health",
           "Imperial College London"
          ],
          [
           "Statistics with Python",
           "University of Michigan"
          ],
          [
           "Statistics with R",
           "Duke University"
          ],
          [
           "Strategic Business Management - Microeconomics",
           "University of California, Irvine"
          ],
          [
           "Strategic Leadership and Management",
           "University of Illinois at Urbana-Champaign"
          ],
          [
           "Strategic Management and Innovation",
           "Copenhagen Business School"
          ],
          [
           "Strategy and Sustainability",
           "IESE Business School"
          ],
          [
           "Structuring Machine Learning Projects",
           "deeplearning.ai"
          ],
          [
           "Success",
           "University of Pennsylvania"
          ],
          [
           "Summary Statistics in Public Health",
           "Johns Hopkins University"
          ],
          [
           "Supply Chain Analytics",
           "Rutgers the State University of New Jersey"
          ],
          [
           "Supply Chain Logistics",
           "Rutgers the State University of New Jersey"
          ],
          [
           "Supply Chain Management",
           "Rutgers the State University of New Jersey"
          ],
          [
           "Supply Chain Operations",
           "Rutgers the State University of New Jersey"
          ],
          [
           "Survey Data Collection and Analytics",
           "University of Maryland, College Park"
          ],
          [
           "Sustainable Tourism – promoting environmental public health",
           "University of Copenhagen"
          ],
          [
           "Swift 5 iOS Application Developer",
           "LearnQuest"
          ],
          [
           "System Administration and IT Infrastructure Services",
           "Google"
          ],
          [
           "TESOL Certificate, Part 1: Teach English Now!",
           "Arizona State University"
          ],
          [
           "TESOL Certificate, Part 2: Teach English Now!",
           "Arizona State University"
          ],
          [
           "Teamwork Skills: Communicating Effectively in Groups",
           "University of Colorado Boulder"
          ],
          [
           "Technical Support Fundamentals",
           "Google"
          ],
          [
           "Terrorism and Counterterrorism: Comparing Theory and Practice",
           "Universiteit Leiden"
          ],
          [
           "The Addicted Brain",
           "Emory University"
          ],
          [
           "The Art of Sales: Mastering the Selling Process",
           "Northwestern University"
          ],
          [
           "The Arts and Science of Relationships: Understanding Human Needs",
           "University of Toronto"
          ],
          [
           "The Bits and Bytes of Computer Networking",
           "Google"
          ],
          [
           "The Business of Health Care",
           "University of Pennsylvania"
          ],
          [
           "The Business of Music Production",
           "Berklee College of Music"
          ],
          [
           "The Cycle: Management of Successful Arts and Cultural Organizations",
           "University of Maryland, College Park"
          ],
          [
           "The DIY Musician",
           "Berklee College of Music"
          ],
          [
           "The Modern World, Part One: Global History from 1760 to 1910",
           "University of Virginia"
          ],
          [
           "The Modern World, Part Two: Global History since 1910",
           "University of Virginia"
          ],
          [
           "The Pronunciation of American English",
           "University of California, Irvine"
          ],
          [
           "The Science of Success: What Researchers Know that You Should Know",
           "University of Michigan"
          ],
          [
           "The Science of Training Young Athletes",
           "University of Florida"
          ],
          [
           "The Singer Songwriter",
           "Berklee College of Music"
          ],
          [
           "The Sustainable Development Goals – A global, transdisciplinary vision for the future",
           "University of Copenhagen"
          ],
          [
           "The Teacher and Social and Emotional Learning (SEL)",
           "University of Colorado Boulder"
          ],
          [
           "The Technology of Music Production",
           "Berklee College of Music"
          ],
          [
           "The hidden value – Lean in manufacturing and services",
           "École des Ponts ParisTech"
          ],
          [
           "Think Again I: How to Understand Arguments",
           "Duke University"
          ],
          [
           "Tools for Data Science",
           "IBM"
          ],
          [
           "Trading Strategies in Emerging Markets",
           "Indian School of Business"
          ],
          [
           "Tricky American English Pronunciation",
           "University of California, Irvine"
          ],
          [
           "UCI Project Management",
           "University of California, Irvine"
          ],
          [
           "UI / UX Design",
           "California Institute of the Arts"
          ],
          [
           "UX Design Fundamentals",
           "California Institute of the Arts"
          ],
          [
           "Understanding Cancer Metastasis",
           "Johns Hopkins University"
          ],
          [
           "Understanding Einstein: The Special Theory of Relativity",
           "Stanford University"
          ],
          [
           "Understanding Medical Research: Your Facebook Friend is Wrong",
           "Yale University"
          ],
          [
           "Understanding Plants - Part I: What a Plant Knows",
           "Tel Aviv University"
          ],
          [
           "Understanding and Visualizing Data with Python",
           "University of Michigan"
          ],
          [
           "Understanding the Brain: The Neurobiology of Everyday Life",
           "The University of Chicago"
          ],
          [
           "Unity XR: How to Build AR and VR Apps",
           "Unity"
          ],
          [
           "University Teaching",
           "The University of Hong Kong"
          ],
          [
           "User Experience Research and Design",
           "University of Michigan"
          ],
          [
           "Using Python to Interact with the Operating System",
           "Google"
          ],
          [
           "Virtual Reality",
           "Goldsmiths, University of London"
          ],
          [
           "Virtual Teacher",
           "University of California, Irvine"
          ],
          [
           "Web Design for Everybody: Basics of Web Development & Coding",
           "University of Michigan"
          ],
          [
           "Weight Management: Beyond Balancing Calories",
           "Emory University"
          ],
          [
           "What Is Contemporary Art?",
           "The Museum of Modern Art"
          ],
          [
           "What is Data Science?",
           "IBM"
          ],
          [
           "Wine Tasting: Sensory Techniques for Wine Analysis",
           "University of California, Davis"
          ],
          [
           "Write A Feature Length Screenplay For Film Or Television",
           "Michigan State University"
          ],
          [
           "Write Your First Novel",
           "Michigan State University"
          ],
          [
           "Writing in the Sciences",
           "Stanford University"
          ],
          [
           "¿Qué hacen los buenos directivos? Prioridades de la Alta Dirección",
           "IESE Business School"
          ],
          [
           "Éxito Profesional",
           "University of California, Irvine"
          ],
          [
           "Искусство ведения бизнеса",
           "Saint Petersburg State University"
          ],
          [
           "Корпоративные финансы и стоимость компании",
           "National Research University Higher School of Economics"
          ],
          [
           "Математика и Python для анализа данных",
           "E-Learning Development Fund"
          ],
          [
           "Основы программирования на Python",
           "National Research University Higher School of Economics"
          ],
          [
           "Финансовые инструменты для частного инвестора",
           "National Research University Higher School of Economics"
          ]
         ],
         "hovertemplate": "Difficulty=Beginner<br>Nº of students enrolled=%{marker.size}<br>Rating=%{y}<br>course_title=%{customdata[0]}<br>course_organization=%{customdata[1]}<extra></extra>",
         "legendgroup": "Beginner",
         "marker": {
          "color": "#008080",
          "size": [
           5300,
           39000,
           350000,
           61000,
           130000,
           11000,
           27000,
           110000,
           540000,
           2900,
           110000,
           9200,
           21000,
           94000,
           69000,
           40000,
           12000,
           18000,
           23000,
           69000,
           270000,
           7900,
           30000,
           20000,
           120000,
           11000,
           220000,
           6600,
           180000,
           3900,
           150000,
           10000,
           13000,
           180000,
           28000,
           6500,
           61000,
           8800,
           35000,
           88000,
           14000,
           21000,
           1600,
           31000,
           9500,
           57000,
           26000,
           15000,
           22000,
           280000,
           510000,
           110000,
           24000,
           89000,
           67000,
           10000,
           48000,
           160000,
           31000,
           36000,
           220000,
           32000,
           340000,
           790000,
           31000,
           23000,
           30000,
           22000,
           57000,
           51000,
           4800,
           32000,
           37000,
           120000,
           15000,
           43000,
           6400,
           43000,
           5800,
           33000,
           27000,
           66000,
           19000,
           61000,
           43000,
           15000,
           220000,
           27000,
           26000,
           7800,
           75000,
           15000,
           81000,
           140000,
           150000,
           17000,
           5500,
           18000,
           140000,
           23000,
           55000,
           100000,
           220000,
           110000,
           24000,
           42000,
           830000,
           140000,
           89000,
           740000,
           60000,
           96000,
           18000,
           120000,
           110000,
           150000,
           44000,
           4500,
           8200,
           240000,
           17000,
           54000,
           9000,
           21000,
           37000,
           380000,
           140000,
           58000,
           35000,
           4000,
           21000,
           5600,
           17000,
           39000,
           110000,
           7100,
           46000,
           1500,
           12000,
           17000,
           37000,
           14000,
           23000,
           200000,
           230000,
           110000,
           2400,
           110000,
           31000,
           20000,
           69000,
           6400,
           31000,
           7200,
           1800,
           14000,
           27000,
           13000,
           11000,
           86000,
           240000,
           200000,
           490000,
           56000,
           54000,
           170000,
           28000,
           180000,
           18000,
           9700,
           13000,
           12000,
           260000,
           69000,
           65000,
           10000,
           470000,
           60000,
           6500,
           36000,
           20000,
           400000,
           14000,
           63000,
           31000,
           64000,
           89000,
           3200,
           26000,
           52000,
           30000,
           39000,
           200000,
           86000,
           290000,
           180000,
           120000,
           81000,
           25000,
           56000,
           150000,
           110000,
           47000,
           4900,
           9400,
           10000,
           140000,
           260000,
           14000,
           97000,
           14000,
           59000,
           18000,
           22000,
           29000,
           10000,
           3800,
           93000,
           350000,
           10000,
           56000,
           43000,
           8100,
           36000,
           5500,
           5500,
           28000,
           34000,
           98000,
           220000,
           3300,
           480000,
           35000,
           62000,
           1700,
           23000,
           2200,
           610000,
           270000,
           18000,
           79000,
           34000,
           22000,
           32000,
           10000,
           16000,
           40000,
           10000,
           25000,
           72000,
           14000,
           6500,
           22000,
           26000,
           20000,
           2200,
           35000,
           11000,
           36000,
           140000,
           100000,
           44000,
           16000,
           46000,
           2600,
           20000,
           32000,
           27000,
           32000,
           30000,
           310000,
           25000,
           75000,
           54000,
           6000,
           140000,
           160000,
           82000,
           270000,
           270000,
           49000,
           12000,
           4100,
           72000,
           87000,
           16000,
           76000,
           110000,
           4500,
           120000,
           99000,
           14000,
           49000,
           4400,
           380000,
           160000,
           22000,
           8000,
           6300,
           17000,
           16000,
           220000,
           43000,
           22000,
           39000,
           160000,
           80000,
           180000,
           120000,
           68000,
           10000,
           14000,
           19000,
           78000,
           43000,
           11000,
           55000,
           23000,
           27000,
           47000,
           22000,
           81000,
           39000,
           93000,
           57000,
           310000,
           8400,
           52000,
           12000,
           150000,
           140000,
           51000,
           4800,
           13000,
           260000,
           73000,
           230000,
           120000,
           310000,
           14000,
           42000,
           70000,
           22000,
           12000,
           5300,
           100000,
           330000,
           13000,
           76000,
           22000,
           3200,
           9100,
           8800,
           12000,
           8900,
           160000,
           83000,
           34000,
           23000,
           50000,
           40000,
           10000,
           22000,
           47000,
           20000,
           36000,
           250000,
           19000,
           70000,
           190000,
           440000,
           230000,
           52000,
           110000,
           26000,
           170000,
           1500000,
           3000,
           7700,
           24000,
           5200,
           7200,
           170000,
           120000,
           30000,
           3200,
           7000,
           370000,
           2600,
           160000,
           5600,
           16000,
           9100,
           140000,
           14000,
           110000,
           61000,
           20000,
           22000,
           13000,
           130000,
           78000,
           4200,
           220000,
           60000,
           110000,
           17000,
           68000,
           8800,
           71000,
           370000,
           17000,
           16000,
           34000,
           220000,
           9500,
           100000,
           68000,
           11000,
           220000,
           38000,
           11000,
           7900,
           66000,
           82000,
           24000,
           45000,
           9400,
           3900,
           62000,
           100000,
           62000,
           49000,
           280000,
           90000,
           130000,
           23000,
           73000,
           130000,
           22000,
           84000,
           11000,
           120000,
           130000,
           47000,
           1700,
           59000,
           13000,
           320000,
           26000,
           5200,
           28000,
           14000,
           200000,
           120000,
           68000,
           110000,
           44000,
           68000,
           25000,
           29000,
           89000,
           24000,
           49000,
           30000,
           130000,
           12000,
           9500,
           23000,
           19000,
           37000,
           23000,
           280000,
           34000,
           120000,
           260000,
           32000,
           12000,
           18000,
           140000,
           25000,
           69000,
           14000,
           16000,
           67000,
           83000,
           38000
          ],
          "sizemode": "area",
          "sizeref": 8000,
          "symbol": "circle"
         },
         "mode": "markers",
         "name": "Beginner",
         "orientation": "v",
         "showlegend": true,
         "type": "scatter",
         "x": [
          5300,
          39000,
          350000,
          61000,
          130000,
          11000,
          27000,
          110000,
          540000,
          2900,
          110000,
          9200,
          21000,
          94000,
          69000,
          40000,
          12000,
          18000,
          23000,
          69000,
          270000,
          7900,
          30000,
          20000,
          120000,
          11000,
          220000,
          6600,
          180000,
          3900,
          150000,
          10000,
          13000,
          180000,
          28000,
          6500,
          61000,
          8800,
          35000,
          88000,
          14000,
          21000,
          1600,
          31000,
          9500,
          57000,
          26000,
          15000,
          22000,
          280000,
          510000,
          110000,
          24000,
          89000,
          67000,
          10000,
          48000,
          160000,
          31000,
          36000,
          220000,
          32000,
          340000,
          790000,
          31000,
          23000,
          30000,
          22000,
          57000,
          51000,
          4800,
          32000,
          37000,
          120000,
          15000,
          43000,
          6400,
          43000,
          5800,
          33000,
          27000,
          66000,
          19000,
          61000,
          43000,
          15000,
          220000,
          27000,
          26000,
          7800,
          75000,
          15000,
          81000,
          140000,
          150000,
          17000,
          5500,
          18000,
          140000,
          23000,
          55000,
          100000,
          220000,
          110000,
          24000,
          42000,
          830000,
          140000,
          89000,
          740000,
          60000,
          96000,
          18000,
          120000,
          110000,
          150000,
          44000,
          4500,
          8200,
          240000,
          17000,
          54000,
          9000,
          21000,
          37000,
          380000,
          140000,
          58000,
          35000,
          4000,
          21000,
          5600,
          17000,
          39000,
          110000,
          7100,
          46000,
          1500,
          12000,
          17000,
          37000,
          14000,
          23000,
          200000,
          230000,
          110000,
          2400,
          110000,
          31000,
          20000,
          69000,
          6400,
          31000,
          7200,
          1800,
          14000,
          27000,
          13000,
          11000,
          86000,
          240000,
          200000,
          490000,
          56000,
          54000,
          170000,
          28000,
          180000,
          18000,
          9700,
          13000,
          12000,
          260000,
          69000,
          65000,
          10000,
          470000,
          60000,
          6500,
          36000,
          20000,
          400000,
          14000,
          63000,
          31000,
          64000,
          89000,
          3200,
          26000,
          52000,
          30000,
          39000,
          200000,
          86000,
          290000,
          180000,
          120000,
          81000,
          25000,
          56000,
          150000,
          110000,
          47000,
          4900,
          9400,
          10000,
          140000,
          260000,
          14000,
          97000,
          14000,
          59000,
          18000,
          22000,
          29000,
          10000,
          3800,
          93000,
          350000,
          10000,
          56000,
          43000,
          8100,
          36000,
          5500,
          5500,
          28000,
          34000,
          98000,
          220000,
          3300,
          480000,
          35000,
          62000,
          1700,
          23000,
          2200,
          610000,
          270000,
          18000,
          79000,
          34000,
          22000,
          32000,
          10000,
          16000,
          40000,
          10000,
          25000,
          72000,
          14000,
          6500,
          22000,
          26000,
          20000,
          2200,
          35000,
          11000,
          36000,
          140000,
          100000,
          44000,
          16000,
          46000,
          2600,
          20000,
          32000,
          27000,
          32000,
          30000,
          310000,
          25000,
          75000,
          54000,
          6000,
          140000,
          160000,
          82000,
          270000,
          270000,
          49000,
          12000,
          4100,
          72000,
          87000,
          16000,
          76000,
          110000,
          4500,
          120000,
          99000,
          14000,
          49000,
          4400,
          380000,
          160000,
          22000,
          8000,
          6300,
          17000,
          16000,
          220000,
          43000,
          22000,
          39000,
          160000,
          80000,
          180000,
          120000,
          68000,
          10000,
          14000,
          19000,
          78000,
          43000,
          11000,
          55000,
          23000,
          27000,
          47000,
          22000,
          81000,
          39000,
          93000,
          57000,
          310000,
          8400,
          52000,
          12000,
          150000,
          140000,
          51000,
          4800,
          13000,
          260000,
          73000,
          230000,
          120000,
          310000,
          14000,
          42000,
          70000,
          22000,
          12000,
          5300,
          100000,
          330000,
          13000,
          76000,
          22000,
          3200,
          9100,
          8800,
          12000,
          8900,
          160000,
          83000,
          34000,
          23000,
          50000,
          40000,
          10000,
          22000,
          47000,
          20000,
          36000,
          250000,
          19000,
          70000,
          190000,
          440000,
          230000,
          52000,
          110000,
          26000,
          170000,
          1500000,
          3000,
          7700,
          24000,
          5200,
          7200,
          170000,
          120000,
          30000,
          3200,
          7000,
          370000,
          2600,
          160000,
          5600,
          16000,
          9100,
          140000,
          14000,
          110000,
          61000,
          20000,
          22000,
          13000,
          130000,
          78000,
          4200,
          220000,
          60000,
          110000,
          17000,
          68000,
          8800,
          71000,
          370000,
          17000,
          16000,
          34000,
          220000,
          9500,
          100000,
          68000,
          11000,
          220000,
          38000,
          11000,
          7900,
          66000,
          82000,
          24000,
          45000,
          9400,
          3900,
          62000,
          100000,
          62000,
          49000,
          280000,
          90000,
          130000,
          23000,
          73000,
          130000,
          22000,
          84000,
          11000,
          120000,
          130000,
          47000,
          1700,
          59000,
          13000,
          320000,
          26000,
          5200,
          28000,
          14000,
          200000,
          120000,
          68000,
          110000,
          44000,
          68000,
          25000,
          29000,
          89000,
          24000,
          49000,
          30000,
          130000,
          12000,
          9500,
          23000,
          19000,
          37000,
          23000,
          280000,
          34000,
          120000,
          260000,
          32000,
          12000,
          18000,
          140000,
          25000,
          69000,
          14000,
          16000,
          67000,
          83000,
          38000
         ],
         "xaxis": "x",
         "y": [
          4.7,
          4.7,
          4.8,
          4.7,
          4.6,
          4.3,
          4.7,
          4.7,
          4.7,
          4.6,
          4.7,
          4.8,
          4.7,
          4.7,
          4.7,
          4.7,
          4.9,
          4.9,
          4.8,
          4.7,
          4.6,
          4.6,
          4.8,
          4.8,
          4.5,
          4.8,
          4.6,
          4.2,
          4.9,
          4.5,
          4.9,
          4.9,
          4.6,
          4.6,
          4.7,
          4.7,
          4.8,
          4.5,
          4.6,
          4.4,
          4.8,
          4.7,
          4.6,
          4.7,
          4.9,
          4.9,
          4.6,
          4.9,
          4.5,
          4.6,
          4.7,
          4.7,
          4.7,
          4.7,
          4.5,
          4.7,
          4.8,
          4.5,
          4.5,
          4.7,
          4.9,
          4.8,
          4.7,
          4.4,
          4.8,
          4.7,
          4.7,
          4.8,
          4.7,
          4.8,
          4.6,
          4.8,
          4.5,
          4.7,
          4.7,
          4.8,
          4.9,
          4.7,
          4.6,
          4.8,
          4.6,
          4.3,
          4.7,
          4.7,
          4.8,
          4.8,
          4.7,
          4.5,
          4.6,
          4.8,
          4.6,
          4.8,
          4.8,
          4.6,
          4.7,
          4.6,
          4.6,
          4.7,
          4.2,
          4.6,
          4.8,
          4.4,
          4.6,
          4.7,
          4.8,
          4.7,
          4.5,
          4.5,
          4.6,
          4.6,
          4.8,
          4.5,
          4.7,
          4.6,
          4.7,
          4.8,
          4.8,
          4.7,
          4.4,
          4.6,
          4.6,
          4.8,
          4.4,
          4.5,
          4.6,
          4.6,
          4.7,
          4.7,
          4.5,
          4.6,
          4.9,
          4.8,
          4.7,
          4.6,
          4.7,
          4.8,
          4.9,
          5,
          4.8,
          4.6,
          4.7,
          4.8,
          4.7,
          4.6,
          4.8,
          4.8,
          4.4,
          4.8,
          4.7,
          4.8,
          4.6,
          4.7,
          4.7,
          4.8,
          4.5,
          4.7,
          4.7,
          4.8,
          4.8,
          4.9,
          4.9,
          4.9,
          4.6,
          4.8,
          4.8,
          4.5,
          4.8,
          4.8,
          4.8,
          4.8,
          4.6,
          4.7,
          4.5,
          4.8,
          4.8,
          4.5,
          4.8,
          4.5,
          4.7,
          4.7,
          4.6,
          4.9,
          4.8,
          4.8,
          4.7,
          4.8,
          4.8,
          4.8,
          4.6,
          4.8,
          4.6,
          4.6,
          4.8,
          4.8,
          4.8,
          4.6,
          4.7,
          4.5,
          4.6,
          4.6,
          4.7,
          4.8,
          4.6,
          4.6,
          4.8,
          4.7,
          4.8,
          4.6,
          4.7,
          4.8,
          4.7,
          4.5,
          4.6,
          4.9,
          4.7,
          4.5,
          4.6,
          4.7,
          4.8,
          4.7,
          4.6,
          4.7,
          4.5,
          4.4,
          4.6,
          4.7,
          4.6,
          4.1,
          4.7,
          4.6,
          4.8,
          4.6,
          4.5,
          4.8,
          4.9,
          4.7,
          4.6,
          4.7,
          4.9,
          4.4,
          4.9,
          4.5,
          4.8,
          4.6,
          4.6,
          4.7,
          4.6,
          4.8,
          4.8,
          4.5,
          4.8,
          4.6,
          4.8,
          4.6,
          4.8,
          4.5,
          4.9,
          4.6,
          4.7,
          4.7,
          4.4,
          4.7,
          4.7,
          4.8,
          4.6,
          4.3,
          4.3,
          4.7,
          4.7,
          4.5,
          4.6,
          4.8,
          4.4,
          4.5,
          4.8,
          4.4,
          4.7,
          4.7,
          4.8,
          4.9,
          4.7,
          4.7,
          4.8,
          4.8,
          4.5,
          4.8,
          4.7,
          4.8,
          4.9,
          4.9,
          4.7,
          4.6,
          4.5,
          4.6,
          4.6,
          4.6,
          4.5,
          4.7,
          4.6,
          4.7,
          4.8,
          4.7,
          4.8,
          4.3,
          4.8,
          4.6,
          4.6,
          4.8,
          4.9,
          4.7,
          4.7,
          4.7,
          4.6,
          4.6,
          4.7,
          4.9,
          4.7,
          4.7,
          4.5,
          4.6,
          4.5,
          4.8,
          4.7,
          4.6,
          4.4,
          4.7,
          4.6,
          4.3,
          4.5,
          4.6,
          4.7,
          4.7,
          4.8,
          4.3,
          4.6,
          4.9,
          4.8,
          4.7,
          4.7,
          4.8,
          4.8,
          4.8,
          4.7,
          4.7,
          4.8,
          4.8,
          4.6,
          4.4,
          4.6,
          4.7,
          4.8,
          4.6,
          4.8,
          4.6,
          4.9,
          4.7,
          4.7,
          4.7,
          4.8,
          4.8,
          4.6,
          4.7,
          4.7,
          4.6,
          4.8,
          4.6,
          4.6,
          4.7,
          4.2,
          4.7,
          4.6,
          4.7,
          4.6,
          4.8,
          4.8,
          4.6,
          4.8,
          4.9,
          4.8,
          4.7,
          4.7,
          4.6,
          4.5,
          4.4,
          4.9,
          4.7,
          4.7,
          4.8,
          4.6,
          4.6,
          4.4,
          4.7,
          4.8,
          4.8,
          4.7,
          4.8,
          4.7,
          4.8,
          4.6,
          4.6,
          4.6,
          4.6,
          4.8,
          4.7,
          4.6,
          4.6,
          4.8,
          4.8,
          4.9,
          4.6,
          4.7,
          4.7,
          4.7,
          4.6,
          4.7,
          4.7,
          4.7,
          4.7,
          4.6,
          4.8,
          4.8,
          4.8,
          4.7,
          4.7,
          4.7,
          4.8,
          4.3,
          4.6,
          4.5,
          4.7,
          4.9,
          4.9,
          4.8,
          4.8,
          4.8,
          4.6,
          4.7,
          4.5,
          4.7,
          4.6,
          4.8,
          4.8,
          4.8,
          4.8,
          4.8,
          4.6,
          4.8,
          4.9,
          4.8,
          4.8,
          4.7,
          4.8,
          4.7,
          4.6,
          4.6,
          4.3,
          4.7,
          4.6,
          4.7,
          4.8,
          4.8,
          4.9,
          4.8,
          4.8,
          4.7,
          4.9,
          4.2,
          4.8,
          4.8,
          4.7,
          4.7,
          4.3,
          4.7,
          4.7,
          4.7,
          4.7,
          4.7,
          4.9,
          4.4,
          4.9,
          4.7,
          4.5,
          4.6,
          4.5,
          4.8,
          4.6,
          4.7
         ],
         "yaxis": "y"
        },
        {
         "customdata": [
          [
           "A Crash Course in Causality:  Inferring Causal Effects from Observational Data",
           "University of Pennsylvania"
          ],
          [
           "A Crash Course in Data Science",
           "Johns Hopkins University"
          ],
          [
           "A Law Student's Toolkit",
           "Yale University"
          ],
          [
           "A Life of Happiness and Fulfillment",
           "Indian School of Business"
          ],
          [
           "AI For Medical Treatment",
           "deeplearning.ai"
          ],
          [
           "AI for Medical Diagnosis",
           "deeplearning.ai"
          ],
          [
           "AI for Medical Prognosis",
           "deeplearning.ai"
          ],
          [
           "AI for Medicine",
           "deeplearning.ai"
          ],
          [
           "AWS Fundamentals: Migrating to the Cloud",
           "Amazon Web Services"
          ],
          [
           "Aboriginal Worldviews and Education",
           "University of Toronto"
          ],
          [
           "Accelerated Computer Science Fundamentals",
           "University of Illinois at Urbana-Champaign"
          ],
          [
           "Accounting Analytics",
           "University of Pennsylvania"
          ],
          [
           "Accounting for Decision Making",
           "University of Michigan"
          ],
          [
           "Actualización en el manejo del paciente con diabetes mellitus tipo 2",
           "Universidad Nacional Autónoma de México"
          ],
          [
           "Advanced Business Analytics",
           "University of Colorado Boulder"
          ],
          [
           "Advanced Data Science with IBM",
           "IBM"
          ],
          [
           "Advanced Machine Learning",
           "National Research University Higher School of Economics"
          ],
          [
           "Advanced Machine Learning with TensorFlow on Google Cloud Platform",
           "Google Cloud"
          ],
          [
           "Advanced Valuation and Strategy - M&A, Private Equity, and Venture Capital",
           "Erasmus University Rotterdam"
          ],
          [
           "Advertising and Society",
           "Duke University"
          ],
          [
           "Algorithmic Toolbox",
           "University of California San Diego"
          ],
          [
           "Algorithms",
           "Stanford University"
          ],
          [
           "Algorithms for Battery Management Systems",
           "University of Colorado System"
          ],
          [
           "Anatomy of the Chest, Abdomen, and Pelvis",
           "Yale University"
          ],
          [
           "Ancient Philosophy: Aristotle and His Successors",
           "University of Pennsylvania"
          ],
          [
           "Animal Behaviour and Welfare",
           "The University of Edinburgh"
          ],
          [
           "Antibiotic Stewardship",
           "Stanford University"
          ],
          [
           "Antimicrobial resistance - theory and methods",
           "Technical University of Denmark (DTU)"
          ],
          [
           "Applied Data Science Capstone",
           "IBM"
          ],
          [
           "Applied Data Science with Python",
           "University of Michigan"
          ],
          [
           "Applied Machine Learning in Python",
           "University of Michigan"
          ],
          [
           "Applied Plotting, Charting & Data Representation in Python",
           "University of Michigan"
          ],
          [
           "Aprender",
           "Universidad Nacional Autónoma de México"
          ],
          [
           "Architecting with Google Cloud Platform 日本語版",
           "Google Cloud"
          ],
          [
           "Architecting with Google Compute Engine",
           "Google Cloud"
          ],
          [
           "Art & Activity: Interactive Strategies for Engaging with Art",
           "The Museum of Modern Art"
          ],
          [
           "Art & Ideas: Teaching with Themes",
           "The Museum of Modern Art"
          ],
          [
           "Arts and Culture Strategy",
           "National Arts Strategies"
          ],
          [
           "Arts and Heritage Management",
           "Università Bocconi"
          ],
          [
           "Astrobiology and the Search for Extraterrestrial Life",
           "The University of Edinburgh"
          ],
          [
           "Atención Primaria en Salud: El desafío de las Enfermedades no Transmisibles",
           "Pontificia Universidad Católica de Chile"
          ],
          [
           "Autism Spectrum Disorder",
           "University of California, Davis"
          ],
          [
           "Autodesk CAD/CAM for Manufacturing",
           "Autodesk"
          ],
          [
           "Autodesk CAD/CAM/CAE for Mechanical Engineering",
           "Autodesk"
          ],
          [
           "Autodesk Certified Professional: AutoCAD for Design and Drafting Exam Prep",
           "Autodesk"
          ],
          [
           "Autodesk Certified Professional: Revit for Architectural Design Exam Prep",
           "Autodesk"
          ],
          [
           "Bayesian Statistics: From Concept to Data Analysis",
           "University of California, Santa Cruz"
          ],
          [
           "Bayesian Statistics: Techniques and Models",
           "University of California, Santa Cruz"
          ],
          [
           "Become a CBRS Certified Professional Installer by Google",
           "Google - Spectrum Sharing"
          ],
          [
           "Become a Sustainable Business Change Agent",
           "University of Colorado System"
          ],
          [
           "Behavioral Finance",
           "Duke University"
          ],
          [
           "Beyond the Sustainable Development Goals (SDGs): Addressing Sustainability and Development",
           "University of Michigan"
          ],
          [
           "Blended Language Learning: Design and Practice for Teachers",
           "University of Colorado Boulder"
          ],
          [
           "Blockchain",
           "University at Buffalo"
          ],
          [
           "Budgeting and Scheduling Projects",
           "University of California, Irvine"
          ],
          [
           "Build a Modern Computer from First Principles: From Nand to Tetris (Project-Centered Course)",
           "Hebrew University of Jerusalem"
          ],
          [
           "Building Batch Data Pipelines on GCP",
           "Google Cloud"
          ],
          [
           "Building Resilient Streaming Analytics Systems on GCP",
           "Google Cloud"
          ],
          [
           "Building Scalable Java Microservices with Spring Boot and Spring Cloud",
           "Google Cloud"
          ],
          [
           "Building Your Leadership Skills",
           "HEC Paris"
          ],
          [
           "Business English",
           "Arizona State University"
          ],
          [
           "Business English Communication Skills",
           "University of Washington"
          ],
          [
           "Business English: Networking",
           "University of Washington"
          ],
          [
           "Business Model Innovation",
           "HEC Paris"
          ],
          [
           "Cameras, Exposure, and Photography",
           "Michigan State University"
          ],
          [
           "Capstone: Retrieving, Processing, and Visualizing Data with Python",
           "University of Michigan"
          ],
          [
           "Chicken Behaviour and Welfare",
           "The University of Edinburgh"
          ],
          [
           "Classical Sociological Theory",
           "University of Amsterdam"
          ],
          [
           "Cloud Computing",
           "University of Illinois at Urbana-Champaign"
          ],
          [
           "Cloud Engineering with Google Cloud",
           "Google Cloud"
          ],
          [
           "Coaching Skills for Managers",
           "University of California, Davis"
          ],
          [
           "Competitive Strategy and Organization Design",
           "Ludwig-Maximilians-Universität München (LMU)"
          ],
          [
           "Control of Mobile Robots",
           "Georgia Institute of Technology"
          ],
          [
           "Convolutional Neural Networks",
           "deeplearning.ai"
          ],
          [
           "Convolutional Neural Networks in TensorFlow",
           "deeplearning.ai"
          ],
          [
           "Corporate & Commercial Law I: Contracts & Employment Law",
           "University of Illinois at Urbana-Champaign"
          ],
          [
           "Corporate Finance Essentials",
           "IESE Business School"
          ],
          [
           "Corporate Sustainability. Understanding and Seizing the Strategic Opportunity",
           "Università Bocconi"
          ],
          [
           "Costos para los Negocios",
           "Universidad de Chile"
          ],
          [
           "Creative Problem Solving",
           "University of Minnesota"
          ],
          [
           "Creative Writing: The Craft of Plot",
           "Wesleyan University"
          ],
          [
           "Cuidado de heridas en el ámbito hospitalario",
           "Universidad Nacional Autónoma de México"
          ],
          [
           "Cuidados y procedimientos generales en la atención del recién nacido",
           "Universidad de Chile"
          ],
          [
           "Cybersecurity",
           "University of Maryland, College Park"
          ],
          [
           "Dairy Production and Management",
           "The Pennsylvania State University"
          ],
          [
           "Data Collection and Processing with Python",
           "University of Michigan"
          ],
          [
           "Data Engineering on Google Cloud Platform 日本語版",
           "Google Cloud"
          ],
          [
           "Data Engineering with Google Cloud",
           "Google Cloud"
          ],
          [
           "Data Engineering, Big Data, and Machine Learning on GCP",
           "Google Cloud"
          ],
          [
           "Data Mining",
           "University of Illinois at Urbana-Champaign"
          ],
          [
           "Data Science: Statistics and Machine Learning",
           "Johns Hopkins University"
          ],
          [
           "Data Visualization and Communication with Tableau",
           "Duke University"
          ],
          [
           "Data Visualization with Python",
           "IBM"
          ],
          [
           "Data Warehousing for Business Intelligence",
           "University of Colorado System"
          ],
          [
           "Decision-Making and Scenarios",
           "University of Pennsylvania"
          ],
          [
           "Deep Learning",
           "deeplearning.ai"
          ],
          [
           "Design and Interpretation of Clinical Trials",
           "Johns Hopkins University"
          ],
          [
           "Design and Make Infographics (Project-Centered Course)",
           "Michigan State University"
          ],
          [
           "Design-Led Strategy: Design thinking for business strategy and entrepreneurship",
           "The University of Sydney"
          ],
          [
           "Developing APIs with Google Cloud's Apigee API Platform",
           "Google Cloud"
          ],
          [
           "Developing Applications with Google Cloud Platform",
           "Google Cloud"
          ],
          [
           "Developing Applications with Google Cloud Platform 日本語版",
           "Google Cloud"
          ],
          [
           "Developing Industrial Internet of Things",
           "University of Colorado Boulder"
          ],
          [
           "Developing Your Musicianship",
           "Berklee College of Music"
          ],
          [
           "Devenir entrepreneur du changement",
           "Ticket for Change"
          ],
          [
           "Digital Media and Marketing Strategies",
           "University of Illinois at Urbana-Champaign"
          ],
          [
           "Discrete Optimization",
           "The University of Melbourne"
          ],
          [
           "Divide and Conquer, Sorting and Searching, and Randomized Algorithms",
           "Stanford University"
          ],
          [
           "Dog Emotion and Cognition",
           "Duke University"
          ],
          [
           "Ecology: Ecosystem Dynamics and Conservation",
           "American Museum of Natural History"
          ],
          [
           "Econometrics: Methods and Applications",
           "Erasmus University Rotterdam"
          ],
          [
           "Economics of Money and Banking",
           "Columbia University"
          ],
          [
           "Ecosystem Services: a Method for Sustainable Development",
           "University of Geneva"
          ],
          [
           "Effective Compliance Programs",
           "University of Pennsylvania"
          ],
          [
           "Elastic Google Cloud Infrastructure: Scaling and Automation",
           "Google Cloud"
          ],
          [
           "Electronic Music Production",
           "Berklee College of Music"
          ],
          [
           "English for Career Development",
           "University of Pennsylvania"
          ],
          [
           "English for Journalism",
           "University of Pennsylvania"
          ],
          [
           "English for Research Publication Purposes",
           "Moscow Institute of Physics and Technology"
          ],
          [
           "Entrepreneurial Finance: Strategy and Innovation",
           "Duke University"
          ],
          [
           "Entrepreneurship 1: Developing the Opportunity",
           "University of Pennsylvania"
          ],
          [
           "Entrepreneurship 2: Launching your Start-Up",
           "University of Pennsylvania"
          ],
          [
           "Epidemics - the Dynamics of Infectious Diseases",
           "The Pennsylvania State University"
          ],
          [
           "Epidemics, Pandemics and Outbreaks",
           "University of Pittsburgh"
          ],
          [
           "Epidemiology: The Basic Science of Public Health",
           "The University of North Carolina at Chapel Hill"
          ],
          [
           "Epigenetic Control of Gene Expression",
           "The University of Melbourne"
          ],
          [
           "Essential Google Cloud Infrastructure: Core Services",
           "Google Cloud"
          ],
          [
           "Essential Google Cloud Infrastructure: Foundation",
           "Google Cloud"
          ],
          [
           "Essentials in Clinical Simulations Across the Health Professions",
           "The George Washington University"
          ],
          [
           "Essentials of Corporate Finance",
           "The University of Melbourne"
          ],
          [
           "Essentials of Global Health",
           "Yale University"
          ],
          [
           "Excel Skills for Business: Advanced",
           "Macquarie University"
          ],
          [
           "Excel Skills for Business: Intermediate I",
           "Macquarie University"
          ],
          [
           "Excel Skills for Business: Intermediate II",
           "Macquarie University"
          ],
          [
           "Finance for Non-Financial Managers",
           "Emory University"
          ],
          [
           "Financial Engineering and Risk Management Part I",
           "Columbia University"
          ],
          [
           "Financial Management",
           "University of Illinois at Urbana-Champaign"
          ],
          [
           "Financial Reporting",
           "University of Illinois at Urbana-Champaign"
          ],
          [
           "Financing and Investing in Infrastructure",
           "Università Bocconi"
          ],
          [
           "Finanzas corporativas",
           "Universidad Nacional Autónoma de México"
          ],
          [
           "Finanzas personales",
           "Universidad Nacional Autónoma de México"
          ],
          [
           "Food & Beverage Management",
           "Università Bocconi"
          ],
          [
           "Forensic Accounting and Fraud Examination",
           "West Virginia University"
          ],
          [
           "Formulación y evaluación de proyectos complejos",
           "Universidad de los Andes"
          ],
          [
           "Foundations of Everyday Leadership",
           "University of Illinois at Urbana-Champaign"
          ],
          [
           "Foundations of Marketing Analytics",
           "Emory University"
          ],
          [
           "Front-End Web Development with React",
           "The Hong Kong University of Science and Technology"
          ],
          [
           "Front-End Web UI Frameworks and Tools: Bootstrap 4",
           "The Hong Kong University of Science and Technology"
          ],
          [
           "Full Stack Web and Multiplatform Mobile App Development",
           "The Hong Kong University of Science and Technology"
          ],
          [
           "Full-Stack Web Development with React",
           "The Hong Kong University of Science and Technology"
          ],
          [
           "Functional Programming Principles in Scala",
           "École Polytechnique Fédérale de Lausanne"
          ],
          [
           "Functional Programming in Scala",
           "École Polytechnique Fédérale de Lausanne"
          ],
          [
           "Fundamentals of Engineering Exam Review",
           "Georgia Institute of Technology"
          ],
          [
           "Fundamentals of Immunology",
           "Rice University"
          ],
          [
           "Fundamentals of Immunology: Innate Immunity and B-Cell Function",
           "Rice University"
          ],
          [
           "Fundamentals of Quantitative Modeling",
           "University of Pennsylvania"
          ],
          [
           "Fundamentals of Reinforcement Learning",
           "University of Alberta"
          ],
          [
           "Game Design and Development",
           "Michigan State University"
          ],
          [
           "Gamification",
           "University of Pennsylvania"
          ],
          [
           "Genomic Data Science",
           "Johns Hopkins University"
          ],
          [
           "Geopolitics of Europe",
           "Sciences Po"
          ],
          [
           "Geopolítica y gobernanza global: riesgos y oportunidades",
           "ESADE Business and Law School"
          ],
          [
           "Gestión de organizaciones efectivas",
           "Pontificia Universidad Católica de Chile"
          ],
          [
           "Getting Started with AWS Machine Learning",
           "Amazon Web Services"
          ],
          [
           "Getting Started with Go",
           "University of California, Irvine"
          ],
          [
           "Getting Started with Google Kubernetes Engine",
           "Google Cloud"
          ],
          [
           "Global Diplomacy – Diplomacy in the Modern World",
           "SOAS University of London"
          ],
          [
           "Global Environmental Management",
           "Technical University of Denmark (DTU)"
          ],
          [
           "Global Financial Markets and Instruments",
           "Rice University"
          ],
          [
           "Global Financing Solutions  (by EDHEC and Société Générale)",
           "EDHEC Business School"
          ],
          [
           "Global Trends for Business and Society",
           "University of Pennsylvania"
          ],
          [
           "Globalization, Economic Growth and Stability",
           "IE Business School"
          ],
          [
           "Google Cloud Platform Big Data and Machine Learning Fundamentals",
           "Google Cloud"
          ],
          [
           "Google Cloud Platform Fundamentals for AWS Professionals",
           "Google Cloud"
          ],
          [
           "Grammar and Punctuation",
           "University of California, Irvine"
          ],
          [
           "Greek and Roman Mythology",
           "University of Pennsylvania"
          ],
          [
           "Guitar for Beginners",
           "Berklee College of Music"
          ],
          [
           "Gut Check: Exploring Your Microbiome",
           "University of California San Diego"
          ],
          [
           "HTML, CSS, and Javascript for Web Developers",
           "Johns Hopkins University"
          ],
          [
           "Hacia una práctica constructivista en el aula",
           "Pontificia Universidad Católica de Chile"
          ],
          [
           "Hardware Description Languages for FPGA Design",
           "University of Colorado Boulder"
          ],
          [
           "Healing with the Arts",
           "University of Florida"
          ],
          [
           "Health Information Literacy for Data Analytics",
           "University of California, Davis"
          ],
          [
           "Healthcare Law",
           "University of Pennsylvania"
          ],
          [
           "High Performance Collaboration: Leadership, Teamwork, and Negotiation",
           "Northwestern University"
          ],
          [
           "How Things Work: An Introduction to Physics",
           "University of Virginia"
          ],
          [
           "How To Create a Website in a Weekend! (Project-Centered Course)",
           "The State University of New York"
          ],
          [
           "IBM AI Engineering",
           "IBM"
          ],
          [
           "IBM AI Enterprise Workflow",
           "IBM"
          ],
          [
           "Indigenous Canada",
           "University of Alberta"
          ],
          [
           "Infectious Disease Modelling",
           "Imperial College London"
          ],
          [
           "Influencer Marketing Strategy",
           "Rutgers the State University of New Jersey"
          ],
          [
           "Initiating and Planning Projects",
           "University of California, Irvine"
          ],
          [
           "Inspired Leadership",
           "Case Western Reserve University"
          ],
          [
           "Inspiring and Motivating Individuals",
           "University of Michigan"
          ],
          [
           "Instructional Design Foundations and Applications",
           "University of Illinois at Urbana-Champaign"
          ],
          [
           "Instructional Methods in Health Professions Education",
           "University of Michigan"
          ],
          [
           "Intellectual Property Law",
           "University of Pennsylvania"
          ],
          [
           "Interaction Design",
           "University of California San Diego"
          ],
          [
           "International Business Essentials",
           "University of London"
          ],
          [
           "International Cyber Conflicts",
           "The State University of New York"
          ],
          [
           "International Law in Action: A Guide to the International Courts and Tribunals in The Hague",
           "Universiteit Leiden"
          ],
          [
           "International Law in Action: the Arbitration of International Disputes",
           "Universiteit Leiden"
          ],
          [
           "International Leadership and Organizational Behavior",
           "Università Bocconi"
          ],
          [
           "Internet Giants: The Law and Economics of Media Platforms",
           "The University of Chicago"
          ],
          [
           "Interviewing and Resume Writing in English",
           "University of Maryland, College Park"
          ],
          [
           "Introduction aux Droits de l’Homme",
           "University of Geneva"
          ],
          [
           "Introduction to Ableton Live",
           "Berklee College of Music"
          ],
          [
           "Introduction to Big Data",
           "University of California San Diego"
          ],
          [
           "Introduction to Breast Cancer",
           "Yale University"
          ],
          [
           "Introduction to Business Analytics: Communicating with Data",
           "University of Illinois at Urbana-Champaign"
          ],
          [
           "Introduction to CSS3",
           "University of Michigan"
          ],
          [
           "Introduction to Calculus",
           "The University of Sydney"
          ],
          [
           "Introduction to Classical Music",
           "Yale University"
          ],
          [
           "Introduction to Corporate Finance",
           "University of Pennsylvania"
          ],
          [
           "Introduction to Data Analysis Using Excel",
           "Rice University"
          ],
          [
           "Introduction to Data Science in Python",
           "University of Michigan"
          ],
          [
           "Introduction to Electronics",
           "Georgia Institute of Technology"
          ],
          [
           "Introduction to Embedded Systems Software and Development Environments",
           "University of Colorado Boulder"
          ],
          [
           "Introduction to Engineering Mechanics",
           "Georgia Institute of Technology"
          ],
          [
           "Introduction to Environmental Law and Policy",
           "The University of North Carolina at Chapel Hill"
          ],
          [
           "Introduction to Financial Accounting",
           "University of Pennsylvania"
          ],
          [
           "Introduction to Forensic Science",
           "Nanyang Technological University, Singapore"
          ],
          [
           "Introduction to Game Development",
           "Michigan State University"
          ],
          [
           "Introduction to Genetics and Evolution",
           "Duke University"
          ],
          [
           "Introduction to Genomic Technologies",
           "Johns Hopkins University"
          ],
          [
           "Introduction to HTML5",
           "University of Michigan"
          ],
          [
           "Introduction to International Criminal Law",
           "Case Western Reserve University"
          ],
          [
           "Introduction to Marketing",
           "University of Pennsylvania"
          ],
          [
           "Introduction to Mathematical Thinking",
           "Stanford University"
          ],
          [
           "Introduction to Operations Management",
           "University of Pennsylvania"
          ],
          [
           "Introduction to Philosophy",
           "The University of Edinburgh"
          ],
          [
           "Introduction to Portfolio Construction and Analysis with Python",
           "EDHEC Business School"
          ],
          [
           "Introduction to Self-Driving Cars",
           "University of Toronto"
          ],
          [
           "Introduction to Spreadsheets and Models",
           "University of Pennsylvania"
          ],
          [
           "Introduction to Sustainability",
           "University of Illinois at Urbana-Champaign"
          ],
          [
           "Introduction to Systematic Review and Meta-Analysis",
           "Johns Hopkins University"
          ],
          [
           "Introduction to Systems Engineering",
           "UNSW Sydney (The University of New South Wales)"
          ],
          [
           "Introduction to TensorFlow for Artificial Intelligence, Machine Learning, and Deep Learning",
           "deeplearning.ai"
          ],
          [
           "Introduction to Trading, Machine Learning & GCP",
           "New York Institute of Finance"
          ],
          [
           "Introductory Human Physiology",
           "Duke University"
          ],
          [
           "Kotlin for Java Developers",
           "JetBrains"
          ],
          [
           "Leadership in 21st Century Organizations",
           "Copenhagen Business School"
          ],
          [
           "Leading for Equity, Diversity and Inclusion in Higher Education",
           "University of Michigan"
          ],
          [
           "Leading: Human Resource Management and Leadership",
           "Macquarie University"
          ],
          [
           "Learn English: Advanced Academic Speaking and Listening",
           "University of California, Irvine"
          ],
          [
           "Learn English: Advanced Grammar and Punctuation",
           "University of California, Irvine"
          ],
          [
           "Learn English: Intermediate Grammar",
           "University of California, Irvine"
          ],
          [
           "Legal Tech & Startups",
           "IE Business School"
          ],
          [
           "Liderazgo efectivo para el siglo XXI",
           "Universidad de los Andes"
          ],
          [
           "Linear Circuits 1: DC Analysis",
           "Georgia Institute of Technology"
          ],
          [
           "Machine Learning",
           "University of Washington"
          ],
          [
           "Machine Learning",
           "Stanford University"
          ],
          [
           "Machine Learning Foundations: A Case Study Approach",
           "University of Washington"
          ],
          [
           "Machine Learning and Reinforcement Learning in Finance",
           "New York University"
          ],
          [
           "Machine Learning for Business Professionals",
           "Google Cloud"
          ],
          [
           "Machine Learning for Trading",
           "Google Cloud"
          ],
          [
           "Machine Learning with Python",
           "IBM"
          ],
          [
           "Machine Learning with TensorFlow on Google Cloud Platform",
           "Google Cloud"
          ],
          [
           "Management of Fashion and Luxury Companies",
           "Università Bocconi"
          ],
          [
           "Managing Project Risks and Changes",
           "University of California, Irvine"
          ],
          [
           "Marketing Gerencial",
           "Universidad de Chile"
          ],
          [
           "Marketing Verde",
           "Universidad de los Andes"
          ],
          [
           "Marketing con Redes Sociales",
           "Tecnológico de Monterrey"
          ],
          [
           "Mastering Data Analysis in Excel",
           "Duke University"
          ],
          [
           "Materials Science: 10 Things Every Engineer Should Know",
           "University of California, Davis"
          ],
          [
           "Mathematics for Machine Learning: PCA",
           "Imperial College London"
          ],
          [
           "Medical Neuroscience",
           "Duke University"
          ],
          [
           "Microeconomics: The Power of Markets",
           "University of Pennsylvania"
          ],
          [
           "Model Thinking",
           "University of Michigan"
          ],
          [
           "Modeling Risk and Realities",
           "University of Pennsylvania"
          ],
          [
           "Modern Robotics:  Mechanics, Planning, and Control",
           "Northwestern University"
          ],
          [
           "Modernizing Data Lakes and Data Warehouses with GCP",
           "Google Cloud"
          ],
          [
           "Moral Foundations of Politics",
           "Yale University"
          ],
          [
           "More Introduction to Financial Accounting",
           "University of Pennsylvania"
          ],
          [
           "Mountains 101",
           "University of Alberta"
          ],
          [
           "Municipal Solid Waste Management in Developing Countries",
           "École Polytechnique Fédérale de Lausanne"
          ],
          [
           "Music Business Foundations",
           "Berklee College of Music"
          ],
          [
           "Nanotechnology: A Maker’s Course",
           "Duke University"
          ],
          [
           "Natural Language Processing in TensorFlow",
           "deeplearning.ai"
          ],
          [
           "Negociación exitosa: Estrategias y habilidades esenciales (en español)",
           "University of Michigan"
          ],
          [
           "Networking and Security Architecture with VMware NSX",
           "VMware"
          ],
          [
           "Networking in Google Cloud",
           "Google Cloud"
          ],
          [
           "Neural Networks and Deep Learning",
           "deeplearning.ai"
          ],
          [
           "Neurolinguistics",
           "Saint Petersburg State University"
          ],
          [
           "Nutrition and Lifestyle in Pregnancy",
           "Ludwig-Maximilians-Universität München (LMU)"
          ],
          [
           "Object Oriented Java Programming: Data Structures and Beyond",
           "University of California San Diego"
          ],
          [
           "Object-Oriented Data Structures in C++",
           "University of Illinois at Urbana-Champaign"
          ],
          [
           "Object-Oriented Design",
           "University of Alberta"
          ],
          [
           "Oil & Gas Industry Operations and Markets",
           "Duke University"
          ],
          [
           "Operations Analytics",
           "University of Pennsylvania"
          ],
          [
           "Optical Engineering",
           "University of Colorado Boulder"
          ],
          [
           "Organizational Leadership",
           "Northwestern University"
          ],
          [
           "Parallel, Concurrent, and Distributed Programming in Java",
           "Rice University"
          ],
          [
           "Particle Physics: an Introduction",
           "University of Geneva"
          ],
          [
           "People Analytics",
           "University of Pennsylvania"
          ],
          [
           "Perfect Tenses and Modals",
           "University of California, Irvine"
          ],
          [
           "Positive Psychiatry and Mental Health",
           "The University of Sydney"
          ],
          [
           "Positive Psychology",
           "The University of North Carolina at Chapel Hill"
          ],
          [
           "Power Electronics",
           "University of Colorado Boulder"
          ],
          [
           "Practical Time Series Analysis",
           "The State University of New York"
          ],
          [
           "Preparing to Manage Human Resources",
           "University of Minnesota"
          ],
          [
           "Primeros Auxilios Psicológicos (PAP)",
           "Universitat Autònoma de Barcelona"
          ],
          [
           "Private Equity and Venture Capital",
           "Università Bocconi"
          ],
          [
           "Probabilistic Graphical Models 1: Representation",
           "Stanford University"
          ],
          [
           "Process Mining: Data science in Action",
           "Eindhoven University of Technology"
          ],
          [
           "Programming for Everybody (Getting Started with Python)",
           "University of Michigan"
          ],
          [
           "Programming with Google Go",
           "University of California, Irvine"
          ],
          [
           "Psychological First Aid",
           "Johns Hopkins University"
          ],
          [
           "Python Classes and Inheritance",
           "University of Michigan"
          ],
          [
           "Python Data Structures",
           "University of Michigan"
          ],
          [
           "Python and Statistics for Financial Analysis",
           "The Hong Kong University of Science and Technology"
          ],
          [
           "Quantitative Methods",
           "University of Amsterdam"
          ],
          [
           "R Programming",
           "Johns Hopkins University"
          ],
          [
           "Recommender Systems",
           "University of Minnesota"
          ],
          [
           "Recruiting, Hiring, and Onboarding Employees",
           "University of Minnesota"
          ],
          [
           "Reinforcement Learning",
           "University of Alberta"
          ],
          [
           "Research Data Management and Sharing",
           "The University of Edinburgh"
          ],
          [
           "Resilience in Children Exposed to Trauma, Disaster and War: Global Perspectives",
           "University of Minnesota"
          ],
          [
           "Rethinking International Tax Law",
           "Universiteit Leiden"
          ],
          [
           "Revisão Sistemática e Meta-análise",
           "Universidade Estadual de Campinas"
          ],
          [
           "Réussir le Changement",
           "ESSEC Business School"
          ],
          [
           "Sample-based Learning Methods",
           "University of Alberta"
          ],
          [
           "Scaling Operations: Linking Strategy and Execution",
           "Northwestern University"
          ],
          [
           "Search Engine Optimization Fundamentals",
           "University of California, Davis"
          ],
          [
           "Secure Coding Practices",
           "University of California, Davis"
          ],
          [
           "Security in Google Cloud Platform",
           "Google Cloud"
          ],
          [
           "Self-Driving Cars",
           "University of Toronto"
          ],
          [
           "Sequence Models",
           "deeplearning.ai"
          ],
          [
           "Site Reliability Engineering: Measuring and Managing Reliability",
           "Google Cloud"
          ],
          [
           "Six Sigma Green Belt",
           "University System of Georgia"
          ],
          [
           "Six Sigma and the Organization (Advanced)",
           "University System of Georgia"
          ],
          [
           "Social and Economic Networks:  Models and Analysis",
           "Stanford University"
          ],
          [
           "Software Development Lifecycle",
           "University of Minnesota"
          ],
          [
           "Software Processes and Agile Practices",
           "University of Alberta"
          ],
          [
           "Spacecraft Dynamics and Control",
           "University of Colorado Boulder"
          ],
          [
           "Speak English Professionally: In Person, Online & On the Phone",
           "Georgia Institute of Technology"
          ],
          [
           "Sports Marketing",
           "Northwestern University"
          ],
          [
           "Sports and Society",
           "Duke University"
          ],
          [
           "Stories of Infection",
           "Stanford University"
          ],
          [
           "Strategic Business Analytics",
           "ESSEC Business School"
          ],
          [
           "Strategic Management",
           "Copenhagen Business School"
          ],
          [
           "Strategic Sales Management",
           "Fundação Instituto de Administração"
          ],
          [
           "Strategising: Management for Global Competitive Advantage",
           "Macquarie University"
          ],
          [
           "Successful Negotiation: Essential Strategies and Skills",
           "University of Michigan"
          ],
          [
           "Supply Chain Finance and Blockchain Technology",
           "New York Institute of Finance"
          ],
          [
           "Supply Chain Principles",
           "Georgia Institute of Technology"
          ],
          [
           "Supporting children with difficulties in reading and writing",
           "UCL Institute of Education"
          ],
          [
           "Systems Biology and Biotechnology",
           "Icahn School of Medicine at Mount Sinai"
          ],
          [
           "Systems Thinking In Public Health",
           "Johns Hopkins University"
          ],
          [
           "Teach English Now! Foundational Principles",
           "Arizona State University"
          ],
          [
           "Teach English Now! Teaching Language Online",
           "Arizona State University"
          ],
          [
           "Teaching Character and Creating Positive Classrooms",
           "Relay Graduate School of Education"
          ],
          [
           "TensorFlow in Practice",
           "deeplearning.ai"
          ],
          [
           "TensorFlow: Data and Deployment",
           "deeplearning.ai"
          ],
          [
           "The Art of Music Production",
           "Berklee College of Music"
          ],
          [
           "The Changing Global Order",
           "Universiteit Leiden"
          ],
          [
           "The Data Scientist’s Toolbox",
           "Johns Hopkins University"
          ],
          [
           "The Economics of Health Care Delivery",
           "University of Pennsylvania"
          ],
          [
           "The Global Financial Crisis",
           "Yale University"
          ],
          [
           "The Horse Course: Introduction to Basic Care and Management",
           "University of Florida"
          ],
          [
           "The Manager's Toolkit: A Practical Guide to Managing People at Work",
           "Birkbeck, University of London"
          ],
          [
           "The Oral Cavity: Portal to Health and Disease",
           "University of Pennsylvania"
          ],
          [
           "The Power of Macroeconomics: Economic Principles in the Real World",
           "University of California, Irvine"
          ],
          [
           "The Power of Microeconomics: Economic Principles in the Real World",
           "University of California, Irvine"
          ],
          [
           "The Science of Gastronomy",
           "The Hong Kong University of Science and Technology"
          ],
          [
           "The Science of Stem Cells",
           "American Museum of Natural History"
          ],
          [
           "The Science of Well-Being",
           "Yale University"
          ],
          [
           "The Social Context of Mental Health and Illness",
           "University of Toronto"
          ],
          [
           "The Strategy of Content Marketing",
           "University of California, Davis"
          ],
          [
           "The Truth About Cats and Dogs",
           "The University of Edinburgh"
          ],
          [
           "Transmedia Storytelling: Narrative worlds, emerging technologies, and global audiences",
           "UNSW Sydney (The University of New South Wales)"
          ],
          [
           "Troubles du spectre de l'autisme : diagnostic",
           "University of Geneva"
          ],
          [
           "U.S. Federal Taxation",
           "University of Illinois at Urbana-Champaign"
          ],
          [
           "Understanding Clinical Research: Behind the Statistics",
           "University of Cape Town"
          ],
          [
           "Understanding Modern Finance",
           "American Institute of Business and Economics"
          ],
          [
           "Understanding Research Methods",
           "SOAS University of London"
          ],
          [
           "Unity Certified Programmer Exam Preparation",
           "Unity"
          ],
          [
           "Unraveling the Cycling City",
           "University of Amsterdam"
          ],
          [
           "User Interface Design",
           "University of Minnesota"
          ],
          [
           "Using Databases with Python",
           "University of Michigan"
          ],
          [
           "Using Python to Access Web Data",
           "University of Michigan"
          ],
          [
           "Value Chain Management",
           "University of Illinois at Urbana-Champaign"
          ],
          [
           "Version Control with Git",
           "Atlassian"
          ],
          [
           "Viral Marketing and How to Craft Contagious Content",
           "University of Pennsylvania"
          ],
          [
           "Vital Signs: Understanding What the Body Is Telling Us",
           "University of Pennsylvania"
          ],
          [
           "Web Applications for Everybody",
           "University of Michigan"
          ],
          [
           "What future for education?",
           "UCL Institute of Education"
          ],
          [
           "What is Compliance?",
           "University of Pennsylvania"
          ],
          [
           "What is Social?",
           "Northwestern University"
          ],
          [
           "Wonders of Ancient Egypt",
           "University of Pennsylvania"
          ],
          [
           "Write Professional Emails in English",
           "Georgia Institute of Technology"
          ],
          [
           "e-Learning Ecologies: Innovative Approaches to Teaching and Learning for the Digital Age",
           "University of Illinois at Urbana-Champaign"
          ],
          [
           "iOS App Development with Swift",
           "University of Toronto"
          ],
          [
           "Étudier en France: French Intermediate course B1-B2",
           "École Polytechnique"
          ],
          [
           "Искусство разработки на современном C++",
           "E-Learning Development Fund"
          ],
          [
           "Машинное обучение и анализ данных",
           "E-Learning Development Fund"
          ],
          [
           "Основы Digital Маркетинга",
           "National Research University Higher School of Economics"
          ],
          [
           "Основы разработки на C++: белый пояс",
           "E-Learning Development Fund"
          ],
          [
           "Погружение в Python",
           "Moscow Institute of Physics and Technology"
          ],
          [
           "Программирование на Python",
           "Mail.Ru Group"
          ],
          [
           "Психолингвистика (Psycholinguistics)",
           "Saint Petersburg State University"
          ],
          [
           "Разработка интерфейсов: вёрстка и JavaScript",
           "E-Learning Development Fund"
          ],
          [
           "Русский как иностранный",
           "Saint Petersburg State University"
          ]
         ],
         "hovertemplate": "Difficulty=Non-beginner<br>Nº of students enrolled=%{marker.size}<br>Rating=%{y}<br>course_title=%{customdata[0]}<br>course_organization=%{customdata[1]}<extra></extra>",
         "legendgroup": "Non-beginner",
         "marker": {
          "color": "#808000",
          "size": [
           17000,
           130000,
           91000,
           320000,
           2400,
           12000,
           4000,
           13000,
           13000,
           6600,
           22000,
           80000,
           9900,
           23000,
           78000,
           320000,
           190000,
           35000,
           29000,
           14000,
           220000,
           150000,
           14000,
           36000,
           8100,
           71000,
           11000,
           63000,
           42000,
           480000,
           150000,
           97000,
           200000,
           4200,
           310000,
           79000,
           31000,
           15000,
           15000,
           66000,
           33000,
           56000,
           7300,
           9200,
           22000,
           9700,
           91000,
           29000,
           210000,
           4200,
           55000,
           2300,
           1900,
           68000,
           84000,
           95000,
           7300,
           5800,
           24000,
           67000,
           38000,
           120000,
           77000,
           13000,
           130000,
           82000,
           19000,
           51000,
           110000,
           310000,
           37000,
           350000,
           49000,
           240000,
           46000,
           10000,
           56000,
           10000,
           43000,
           140000,
           120000,
           26000,
           22000,
           99000,
           23000,
           19000,
           3000,
           120000,
           120000,
           140000,
           210000,
           130000,
           66000,
           140000,
           31000,
           690000,
           67000,
           97000,
           19000,
           16000,
           300000,
           4000,
           8000,
           41000,
           54000,
           57000,
           40000,
           130000,
           150000,
           18000,
           110000,
           83000,
           16000,
           3400,
           57000,
           110000,
           760000,
           130000,
           42000,
           7900,
           86000,
           38000,
           45000,
           23000,
           130000,
           35000,
           68000,
           83000,
           4100,
           54000,
           31000,
           39000,
           76000,
           39000,
           12000,
           100000,
           76000,
           12000,
           24000,
           30000,
           310000,
           57000,
           42000,
           4400,
           62000,
           27000,
           45000,
           89000,
           150000,
           140000,
           170000,
           220000,
           49000,
           20000,
           18000,
           110000,
           22000,
           100000,
           110000,
           80000,
           19000,
           34000,
           47000,
           73000,
           59000,
           75000,
           79000,
           22000,
           37000,
           3600,
           7600,
           44000,
           120000,
           36000,
           430000,
           260000,
           210000,
           62000,
           240000,
           62000,
           7400,
           39000,
           5400,
           1700,
           46000,
           170000,
           140000,
           140000,
           3500,
           51000,
           1600,
           12000,
           180000,
           97000,
           85000,
           12000,
           9700,
           8700,
           150000,
           22000,
           25000,
           36000,
           19000,
           41000,
           38000,
           66000,
           46000,
           60000,
           160000,
           27000,
           14000,
           84000,
           53000,
           150000,
           130000,
           99000,
           390000,
           110000,
           41000,
           150000,
           34000,
           200000,
           47000,
           79000,
           74000,
           42000,
           220000,
           82000,
           220000,
           270000,
           87000,
           370000,
           11000,
           39000,
           76000,
           69000,
           67000,
           33000,
           150000,
           13000,
           270000,
           37000,
           34000,
           5900,
           16000,
           78000,
           52000,
           120000,
           7200,
           23000,
           29000,
           290000,
           3200000,
           240000,
           29000,
           58000,
           15000,
           120000,
           72000,
           120000,
           71000,
           49000,
           58000,
           60000,
           280000,
           48000,
           33000,
           170000,
           34000,
           130000,
           36000,
           21000,
           9100,
           100000,
           40000,
           44000,
           59000,
           34000,
           21000,
           40000,
           95000,
           17000,
           290000,
           630000,
           41000,
           35000,
           250000,
           21000,
           33000,
           57000,
           80000,
           6200,
           92000,
           30000,
           42000,
           84000,
           79000,
           72000,
           180000,
           67000,
           39000,
           68000,
           280000,
           79000,
           68000,
           39000,
           1300000,
           18000,
           190000,
           21000,
           420000,
           41000,
           69000,
           480000,
           29000,
           35000,
           23000,
           16000,
           15000,
           36000,
           17000,
           33000,
           6800,
           12000,
           47000,
           6400,
           300000,
           39000,
           14000,
           16000,
           18000,
           15000,
           42000,
           34000,
           60000,
           12000,
           430000,
           12000,
           16000,
           28000,
           60000,
           58000,
           9200,
           30000,
           750000,
           4900,
           29000,
           50000,
           48000,
           33000,
           81000,
           8500,
           53000,
           170000,
           12000,
           47000,
           23000,
           420000,
           7200,
           84000,
           29000,
           47000,
           9400,
           180000,
           120000,
           50000,
           12000,
           2500000,
           19000,
           100000,
           33000,
           45000,
           5400,
           12000,
           78000,
           11000,
           120000,
           6100,
           3900,
           43000,
           220000,
           310000,
           63000,
           40000,
           150000,
           190000,
           120000,
           35000,
           6200,
           94000,
           17000,
           270000,
           17000,
           76000,
           190000,
           68000,
           77000,
           19000,
           41000,
           45000,
           52000,
           21000,
           30000,
           9800
          ],
          "sizemode": "area",
          "sizeref": 8000,
          "symbol": "circle"
         },
         "mode": "markers",
         "name": "Non-beginner",
         "orientation": "v",
         "showlegend": true,
         "type": "scatter",
         "x": [
          17000,
          130000,
          91000,
          320000,
          2400,
          12000,
          4000,
          13000,
          13000,
          6600,
          22000,
          80000,
          9900,
          23000,
          78000,
          320000,
          190000,
          35000,
          29000,
          14000,
          220000,
          150000,
          14000,
          36000,
          8100,
          71000,
          11000,
          63000,
          42000,
          480000,
          150000,
          97000,
          200000,
          4200,
          310000,
          79000,
          31000,
          15000,
          15000,
          66000,
          33000,
          56000,
          7300,
          9200,
          22000,
          9700,
          91000,
          29000,
          210000,
          4200,
          55000,
          2300,
          1900,
          68000,
          84000,
          95000,
          7300,
          5800,
          24000,
          67000,
          38000,
          120000,
          77000,
          13000,
          130000,
          82000,
          19000,
          51000,
          110000,
          310000,
          37000,
          350000,
          49000,
          240000,
          46000,
          10000,
          56000,
          10000,
          43000,
          140000,
          120000,
          26000,
          22000,
          99000,
          23000,
          19000,
          3000,
          120000,
          120000,
          140000,
          210000,
          130000,
          66000,
          140000,
          31000,
          690000,
          67000,
          97000,
          19000,
          16000,
          300000,
          4000,
          8000,
          41000,
          54000,
          57000,
          40000,
          130000,
          150000,
          18000,
          110000,
          83000,
          16000,
          3400,
          57000,
          110000,
          760000,
          130000,
          42000,
          7900,
          86000,
          38000,
          45000,
          23000,
          130000,
          35000,
          68000,
          83000,
          4100,
          54000,
          31000,
          39000,
          76000,
          39000,
          12000,
          100000,
          76000,
          12000,
          24000,
          30000,
          310000,
          57000,
          42000,
          4400,
          62000,
          27000,
          45000,
          89000,
          150000,
          140000,
          170000,
          220000,
          49000,
          20000,
          18000,
          110000,
          22000,
          100000,
          110000,
          80000,
          19000,
          34000,
          47000,
          73000,
          59000,
          75000,
          79000,
          22000,
          37000,
          3600,
          7600,
          44000,
          120000,
          36000,
          430000,
          260000,
          210000,
          62000,
          240000,
          62000,
          7400,
          39000,
          5400,
          1700,
          46000,
          170000,
          140000,
          140000,
          3500,
          51000,
          1600,
          12000,
          180000,
          97000,
          85000,
          12000,
          9700,
          8700,
          150000,
          22000,
          25000,
          36000,
          19000,
          41000,
          38000,
          66000,
          46000,
          60000,
          160000,
          27000,
          14000,
          84000,
          53000,
          150000,
          130000,
          99000,
          390000,
          110000,
          41000,
          150000,
          34000,
          200000,
          47000,
          79000,
          74000,
          42000,
          220000,
          82000,
          220000,
          270000,
          87000,
          370000,
          11000,
          39000,
          76000,
          69000,
          67000,
          33000,
          150000,
          13000,
          270000,
          37000,
          34000,
          5900,
          16000,
          78000,
          52000,
          120000,
          7200,
          23000,
          29000,
          290000,
          3200000,
          240000,
          29000,
          58000,
          15000,
          120000,
          72000,
          120000,
          71000,
          49000,
          58000,
          60000,
          280000,
          48000,
          33000,
          170000,
          34000,
          130000,
          36000,
          21000,
          9100,
          100000,
          40000,
          44000,
          59000,
          34000,
          21000,
          40000,
          95000,
          17000,
          290000,
          630000,
          41000,
          35000,
          250000,
          21000,
          33000,
          57000,
          80000,
          6200,
          92000,
          30000,
          42000,
          84000,
          79000,
          72000,
          180000,
          67000,
          39000,
          68000,
          280000,
          79000,
          68000,
          39000,
          1300000,
          18000,
          190000,
          21000,
          420000,
          41000,
          69000,
          480000,
          29000,
          35000,
          23000,
          16000,
          15000,
          36000,
          17000,
          33000,
          6800,
          12000,
          47000,
          6400,
          300000,
          39000,
          14000,
          16000,
          18000,
          15000,
          42000,
          34000,
          60000,
          12000,
          430000,
          12000,
          16000,
          28000,
          60000,
          58000,
          9200,
          30000,
          750000,
          4900,
          29000,
          50000,
          48000,
          33000,
          81000,
          8500,
          53000,
          170000,
          12000,
          47000,
          23000,
          420000,
          7200,
          84000,
          29000,
          47000,
          9400,
          180000,
          120000,
          50000,
          12000,
          2500000,
          19000,
          100000,
          33000,
          45000,
          5400,
          12000,
          78000,
          11000,
          120000,
          6100,
          3900,
          43000,
          220000,
          310000,
          63000,
          40000,
          150000,
          190000,
          120000,
          35000,
          6200,
          94000,
          17000,
          270000,
          17000,
          76000,
          190000,
          68000,
          77000,
          19000,
          41000,
          45000,
          52000,
          21000,
          30000,
          9800
         ],
         "xaxis": "x",
         "y": [
          4.7,
          4.5,
          4.7,
          4.8,
          4.8,
          4.7,
          4.6,
          4.7,
          4.5,
          4.7,
          4.7,
          4.5,
          4.8,
          4.8,
          4.5,
          4.4,
          4.5,
          4.5,
          4.7,
          4.8,
          4.7,
          4.8,
          4.8,
          4.8,
          4.8,
          4.8,
          4.5,
          4.6,
          4.7,
          4.5,
          4.6,
          4.6,
          4.8,
          4.5,
          4.7,
          4.8,
          4.8,
          4.6,
          4.8,
          4.7,
          4.8,
          4.6,
          4.8,
          4.8,
          4.7,
          4.7,
          4.8,
          4.8,
          4.9,
          4.7,
          4.4,
          4.6,
          4.8,
          4.6,
          4.7,
          4.9,
          4.5,
          4.6,
          4.3,
          4.5,
          4.7,
          4.7,
          4.7,
          4.7,
          4.7,
          4.6,
          4.7,
          4.8,
          4.4,
          4.7,
          4.7,
          4.7,
          4.8,
          4.9,
          4.7,
          4.8,
          4.8,
          4.6,
          4.8,
          4.3,
          4.7,
          4.8,
          4.8,
          4.5,
          4.8,
          4.7,
          4.4,
          4.6,
          4.6,
          4.4,
          4.4,
          4.7,
          4.6,
          4.5,
          4.6,
          4.8,
          4.7,
          4.7,
          4.6,
          4.6,
          4.7,
          4.8,
          4.6,
          4.8,
          4.7,
          4.4,
          4.9,
          4.8,
          4.6,
          4.8,
          4.7,
          4.9,
          4.7,
          4.9,
          4.7,
          4.8,
          4.8,
          4.8,
          4.6,
          4.5,
          4.8,
          4.8,
          4.8,
          4.7,
          4.6,
          4.8,
          4.7,
          4.7,
          4.8,
          4.6,
          4.8,
          4.7,
          4.9,
          4.8,
          4.4,
          4.6,
          4.7,
          4.8,
          4.8,
          4.6,
          4.8,
          4.8,
          4.7,
          4.9,
          4.8,
          4.2,
          4.7,
          4.8,
          4.7,
          4.7,
          4.8,
          4.7,
          4.7,
          4.7,
          4.7,
          4.6,
          4.8,
          4.7,
          4.8,
          4.4,
          4.3,
          4.8,
          4.7,
          4.5,
          4.6,
          4.5,
          4.6,
          4.6,
          4.6,
          4.6,
          4.8,
          4.8,
          4.6,
          4.7,
          4.7,
          4.8,
          4.8,
          4.7,
          4.8,
          4.8,
          4.2,
          4.6,
          4.5,
          4.7,
          4.8,
          4.8,
          3.3,
          4.6,
          4.4,
          4.8,
          5,
          4.4,
          4.7,
          4.7,
          4.8,
          4.2,
          4.6,
          4.8,
          4.5,
          4.5,
          4.4,
          4.8,
          4.8,
          4.8,
          4.8,
          4.6,
          4.8,
          4.8,
          4.6,
          4.9,
          4.7,
          4.8,
          4.8,
          4.9,
          4.6,
          4.7,
          4.5,
          4.7,
          4.5,
          4.7,
          4.8,
          4.7,
          4.9,
          4.8,
          4.8,
          4.6,
          4.7,
          4.8,
          4.8,
          4.8,
          4.5,
          4.6,
          4.8,
          4.8,
          4.2,
          4.8,
          4.8,
          4.7,
          4.7,
          4,
          4.7,
          4.7,
          4.7,
          4.7,
          4.8,
          4.5,
          4.8,
          4.7,
          4.5,
          4.8,
          4.6,
          4.6,
          4.9,
          4.6,
          3.7,
          4.6,
          3.9,
          4.7,
          4.5,
          4.7,
          4.7,
          4.7,
          4.8,
          4.4,
          4.2,
          4.7,
          4,
          4.9,
          4.7,
          4.8,
          4.6,
          4.7,
          4.7,
          4.8,
          4.9,
          4.9,
          4.8,
          4.9,
          4.8,
          4.6,
          4.8,
          4.8,
          4.7,
          4.9,
          4.7,
          4.8,
          4.7,
          4.7,
          4.7,
          4.8,
          4.7,
          4.2,
          4.7,
          4.5,
          4.5,
          4.5,
          4.7,
          4.8,
          4.7,
          4.8,
          4.6,
          4.8,
          4.8,
          4.8,
          4.7,
          4.8,
          4.8,
          4.6,
          4.8,
          4.7,
          4.9,
          4.4,
          4.7,
          4.6,
          4.3,
          4.7,
          4.7,
          4.6,
          4.8,
          4.9,
          4.9,
          4.5,
          4.8,
          4.5,
          4.7,
          4.4,
          4.7,
          4.7,
          4.8,
          4.5,
          4.7,
          4.7,
          4.8,
          4.6,
          4.7,
          4.8,
          4.6,
          4.7,
          4.8,
          4.9,
          4.3,
          4.7,
          4.5,
          4.8,
          4.8,
          4.6,
          4.6,
          4.8,
          4.4,
          4.9,
          4.9,
          4.4,
          4.8,
          4.7,
          4.5,
          4.8,
          4.7,
          4.6,
          4.8,
          4.8,
          4.9,
          4.6,
          4.9,
          4.6,
          4.7,
          4.6,
          4.7,
          4.9,
          4.6,
          4.5,
          4.7,
          4.8,
          4.9,
          4.8,
          4.8,
          4.4,
          4.5,
          4.5,
          4.9,
          4.6,
          4.8,
          4.8,
          4.7,
          4.8,
          4.7,
          4.8,
          4.8,
          4.7,
          4.8,
          4.6,
          4.8,
          4.7,
          4.5,
          3.9,
          4.8,
          4.9,
          4.7,
          4.5,
          4.9,
          4.7,
          4.5,
          4.8,
          4.5,
          4.6
         ],
         "yaxis": "y"
        }
       ],
       "layout": {
        "legend": {
         "itemsizing": "constant",
         "title": {
          "text": "Difficulty"
         },
         "tracegroupgap": 0
        },
        "paper_bgcolor": "rgb(250, 250, 238)",
        "plot_bgcolor": "rgb(250, 250, 238)",
        "template": {
         "data": {
          "bar": [
           {
            "error_x": {
             "color": "#2a3f5f"
            },
            "error_y": {
             "color": "#2a3f5f"
            },
            "marker": {
             "line": {
              "color": "#E5ECF6",
              "width": 0.5
             },
             "pattern": {
              "fillmode": "overlay",
              "size": 10,
              "solidity": 0.2
             }
            },
            "type": "bar"
           }
          ],
          "barpolar": [
           {
            "marker": {
             "line": {
              "color": "#E5ECF6",
              "width": 0.5
             },
             "pattern": {
              "fillmode": "overlay",
              "size": 10,
              "solidity": 0.2
             }
            },
            "type": "barpolar"
           }
          ],
          "carpet": [
           {
            "aaxis": {
             "endlinecolor": "#2a3f5f",
             "gridcolor": "white",
             "linecolor": "white",
             "minorgridcolor": "white",
             "startlinecolor": "#2a3f5f"
            },
            "baxis": {
             "endlinecolor": "#2a3f5f",
             "gridcolor": "white",
             "linecolor": "white",
             "minorgridcolor": "white",
             "startlinecolor": "#2a3f5f"
            },
            "type": "carpet"
           }
          ],
          "choropleth": [
           {
            "colorbar": {
             "outlinewidth": 0,
             "ticks": ""
            },
            "type": "choropleth"
           }
          ],
          "contour": [
           {
            "colorbar": {
             "outlinewidth": 0,
             "ticks": ""
            },
            "colorscale": [
             [
              0,
              "#0d0887"
             ],
             [
              0.1111111111111111,
              "#46039f"
             ],
             [
              0.2222222222222222,
              "#7201a8"
             ],
             [
              0.3333333333333333,
              "#9c179e"
             ],
             [
              0.4444444444444444,
              "#bd3786"
             ],
             [
              0.5555555555555556,
              "#d8576b"
             ],
             [
              0.6666666666666666,
              "#ed7953"
             ],
             [
              0.7777777777777778,
              "#fb9f3a"
             ],
             [
              0.8888888888888888,
              "#fdca26"
             ],
             [
              1,
              "#f0f921"
             ]
            ],
            "type": "contour"
           }
          ],
          "contourcarpet": [
           {
            "colorbar": {
             "outlinewidth": 0,
             "ticks": ""
            },
            "type": "contourcarpet"
           }
          ],
          "heatmap": [
           {
            "colorbar": {
             "outlinewidth": 0,
             "ticks": ""
            },
            "colorscale": [
             [
              0,
              "#0d0887"
             ],
             [
              0.1111111111111111,
              "#46039f"
             ],
             [
              0.2222222222222222,
              "#7201a8"
             ],
             [
              0.3333333333333333,
              "#9c179e"
             ],
             [
              0.4444444444444444,
              "#bd3786"
             ],
             [
              0.5555555555555556,
              "#d8576b"
             ],
             [
              0.6666666666666666,
              "#ed7953"
             ],
             [
              0.7777777777777778,
              "#fb9f3a"
             ],
             [
              0.8888888888888888,
              "#fdca26"
             ],
             [
              1,
              "#f0f921"
             ]
            ],
            "type": "heatmap"
           }
          ],
          "heatmapgl": [
           {
            "colorbar": {
             "outlinewidth": 0,
             "ticks": ""
            },
            "colorscale": [
             [
              0,
              "#0d0887"
             ],
             [
              0.1111111111111111,
              "#46039f"
             ],
             [
              0.2222222222222222,
              "#7201a8"
             ],
             [
              0.3333333333333333,
              "#9c179e"
             ],
             [
              0.4444444444444444,
              "#bd3786"
             ],
             [
              0.5555555555555556,
              "#d8576b"
             ],
             [
              0.6666666666666666,
              "#ed7953"
             ],
             [
              0.7777777777777778,
              "#fb9f3a"
             ],
             [
              0.8888888888888888,
              "#fdca26"
             ],
             [
              1,
              "#f0f921"
             ]
            ],
            "type": "heatmapgl"
           }
          ],
          "histogram": [
           {
            "marker": {
             "pattern": {
              "fillmode": "overlay",
              "size": 10,
              "solidity": 0.2
             }
            },
            "type": "histogram"
           }
          ],
          "histogram2d": [
           {
            "colorbar": {
             "outlinewidth": 0,
             "ticks": ""
            },
            "colorscale": [
             [
              0,
              "#0d0887"
             ],
             [
              0.1111111111111111,
              "#46039f"
             ],
             [
              0.2222222222222222,
              "#7201a8"
             ],
             [
              0.3333333333333333,
              "#9c179e"
             ],
             [
              0.4444444444444444,
              "#bd3786"
             ],
             [
              0.5555555555555556,
              "#d8576b"
             ],
             [
              0.6666666666666666,
              "#ed7953"
             ],
             [
              0.7777777777777778,
              "#fb9f3a"
             ],
             [
              0.8888888888888888,
              "#fdca26"
             ],
             [
              1,
              "#f0f921"
             ]
            ],
            "type": "histogram2d"
           }
          ],
          "histogram2dcontour": [
           {
            "colorbar": {
             "outlinewidth": 0,
             "ticks": ""
            },
            "colorscale": [
             [
              0,
              "#0d0887"
             ],
             [
              0.1111111111111111,
              "#46039f"
             ],
             [
              0.2222222222222222,
              "#7201a8"
             ],
             [
              0.3333333333333333,
              "#9c179e"
             ],
             [
              0.4444444444444444,
              "#bd3786"
             ],
             [
              0.5555555555555556,
              "#d8576b"
             ],
             [
              0.6666666666666666,
              "#ed7953"
             ],
             [
              0.7777777777777778,
              "#fb9f3a"
             ],
             [
              0.8888888888888888,
              "#fdca26"
             ],
             [
              1,
              "#f0f921"
             ]
            ],
            "type": "histogram2dcontour"
           }
          ],
          "mesh3d": [
           {
            "colorbar": {
             "outlinewidth": 0,
             "ticks": ""
            },
            "type": "mesh3d"
           }
          ],
          "parcoords": [
           {
            "line": {
             "colorbar": {
              "outlinewidth": 0,
              "ticks": ""
             }
            },
            "type": "parcoords"
           }
          ],
          "pie": [
           {
            "automargin": true,
            "type": "pie"
           }
          ],
          "scatter": [
           {
            "fillpattern": {
             "fillmode": "overlay",
             "size": 10,
             "solidity": 0.2
            },
            "type": "scatter"
           }
          ],
          "scatter3d": [
           {
            "line": {
             "colorbar": {
              "outlinewidth": 0,
              "ticks": ""
             }
            },
            "marker": {
             "colorbar": {
              "outlinewidth": 0,
              "ticks": ""
             }
            },
            "type": "scatter3d"
           }
          ],
          "scattercarpet": [
           {
            "marker": {
             "colorbar": {
              "outlinewidth": 0,
              "ticks": ""
             }
            },
            "type": "scattercarpet"
           }
          ],
          "scattergeo": [
           {
            "marker": {
             "colorbar": {
              "outlinewidth": 0,
              "ticks": ""
             }
            },
            "type": "scattergeo"
           }
          ],
          "scattergl": [
           {
            "marker": {
             "colorbar": {
              "outlinewidth": 0,
              "ticks": ""
             }
            },
            "type": "scattergl"
           }
          ],
          "scattermapbox": [
           {
            "marker": {
             "colorbar": {
              "outlinewidth": 0,
              "ticks": ""
             }
            },
            "type": "scattermapbox"
           }
          ],
          "scatterpolar": [
           {
            "marker": {
             "colorbar": {
              "outlinewidth": 0,
              "ticks": ""
             }
            },
            "type": "scatterpolar"
           }
          ],
          "scatterpolargl": [
           {
            "marker": {
             "colorbar": {
              "outlinewidth": 0,
              "ticks": ""
             }
            },
            "type": "scatterpolargl"
           }
          ],
          "scatterternary": [
           {
            "marker": {
             "colorbar": {
              "outlinewidth": 0,
              "ticks": ""
             }
            },
            "type": "scatterternary"
           }
          ],
          "surface": [
           {
            "colorbar": {
             "outlinewidth": 0,
             "ticks": ""
            },
            "colorscale": [
             [
              0,
              "#0d0887"
             ],
             [
              0.1111111111111111,
              "#46039f"
             ],
             [
              0.2222222222222222,
              "#7201a8"
             ],
             [
              0.3333333333333333,
              "#9c179e"
             ],
             [
              0.4444444444444444,
              "#bd3786"
             ],
             [
              0.5555555555555556,
              "#d8576b"
             ],
             [
              0.6666666666666666,
              "#ed7953"
             ],
             [
              0.7777777777777778,
              "#fb9f3a"
             ],
             [
              0.8888888888888888,
              "#fdca26"
             ],
             [
              1,
              "#f0f921"
             ]
            ],
            "type": "surface"
           }
          ],
          "table": [
           {
            "cells": {
             "fill": {
              "color": "#EBF0F8"
             },
             "line": {
              "color": "white"
             }
            },
            "header": {
             "fill": {
              "color": "#C8D4E3"
             },
             "line": {
              "color": "white"
             }
            },
            "type": "table"
           }
          ]
         },
         "layout": {
          "annotationdefaults": {
           "arrowcolor": "#2a3f5f",
           "arrowhead": 0,
           "arrowwidth": 1
          },
          "autotypenumbers": "strict",
          "coloraxis": {
           "colorbar": {
            "outlinewidth": 0,
            "ticks": ""
           }
          },
          "colorscale": {
           "diverging": [
            [
             0,
             "#8e0152"
            ],
            [
             0.1,
             "#c51b7d"
            ],
            [
             0.2,
             "#de77ae"
            ],
            [
             0.3,
             "#f1b6da"
            ],
            [
             0.4,
             "#fde0ef"
            ],
            [
             0.5,
             "#f7f7f7"
            ],
            [
             0.6,
             "#e6f5d0"
            ],
            [
             0.7,
             "#b8e186"
            ],
            [
             0.8,
             "#7fbc41"
            ],
            [
             0.9,
             "#4d9221"
            ],
            [
             1,
             "#276419"
            ]
           ],
           "sequential": [
            [
             0,
             "#0d0887"
            ],
            [
             0.1111111111111111,
             "#46039f"
            ],
            [
             0.2222222222222222,
             "#7201a8"
            ],
            [
             0.3333333333333333,
             "#9c179e"
            ],
            [
             0.4444444444444444,
             "#bd3786"
            ],
            [
             0.5555555555555556,
             "#d8576b"
            ],
            [
             0.6666666666666666,
             "#ed7953"
            ],
            [
             0.7777777777777778,
             "#fb9f3a"
            ],
            [
             0.8888888888888888,
             "#fdca26"
            ],
            [
             1,
             "#f0f921"
            ]
           ],
           "sequentialminus": [
            [
             0,
             "#0d0887"
            ],
            [
             0.1111111111111111,
             "#46039f"
            ],
            [
             0.2222222222222222,
             "#7201a8"
            ],
            [
             0.3333333333333333,
             "#9c179e"
            ],
            [
             0.4444444444444444,
             "#bd3786"
            ],
            [
             0.5555555555555556,
             "#d8576b"
            ],
            [
             0.6666666666666666,
             "#ed7953"
            ],
            [
             0.7777777777777778,
             "#fb9f3a"
            ],
            [
             0.8888888888888888,
             "#fdca26"
            ],
            [
             1,
             "#f0f921"
            ]
           ]
          },
          "colorway": [
           "#636efa",
           "#EF553B",
           "#00cc96",
           "#ab63fa",
           "#FFA15A",
           "#19d3f3",
           "#FF6692",
           "#B6E880",
           "#FF97FF",
           "#FECB52"
          ],
          "font": {
           "color": "#2a3f5f"
          },
          "geo": {
           "bgcolor": "white",
           "lakecolor": "white",
           "landcolor": "#E5ECF6",
           "showlakes": true,
           "showland": true,
           "subunitcolor": "white"
          },
          "hoverlabel": {
           "align": "left"
          },
          "hovermode": "closest",
          "mapbox": {
           "style": "light"
          },
          "paper_bgcolor": "white",
          "plot_bgcolor": "#E5ECF6",
          "polar": {
           "angularaxis": {
            "gridcolor": "white",
            "linecolor": "white",
            "ticks": ""
           },
           "bgcolor": "#E5ECF6",
           "radialaxis": {
            "gridcolor": "white",
            "linecolor": "white",
            "ticks": ""
           }
          },
          "scene": {
           "xaxis": {
            "backgroundcolor": "#E5ECF6",
            "gridcolor": "white",
            "gridwidth": 2,
            "linecolor": "white",
            "showbackground": true,
            "ticks": "",
            "zerolinecolor": "white"
           },
           "yaxis": {
            "backgroundcolor": "#E5ECF6",
            "gridcolor": "white",
            "gridwidth": 2,
            "linecolor": "white",
            "showbackground": true,
            "ticks": "",
            "zerolinecolor": "white"
           },
           "zaxis": {
            "backgroundcolor": "#E5ECF6",
            "gridcolor": "white",
            "gridwidth": 2,
            "linecolor": "white",
            "showbackground": true,
            "ticks": "",
            "zerolinecolor": "white"
           }
          },
          "shapedefaults": {
           "line": {
            "color": "#2a3f5f"
           }
          },
          "ternary": {
           "aaxis": {
            "gridcolor": "white",
            "linecolor": "white",
            "ticks": ""
           },
           "baxis": {
            "gridcolor": "white",
            "linecolor": "white",
            "ticks": ""
           },
           "bgcolor": "#E5ECF6",
           "caxis": {
            "gridcolor": "white",
            "linecolor": "white",
            "ticks": ""
           }
          },
          "title": {
           "x": 0.05
          },
          "xaxis": {
           "automargin": true,
           "gridcolor": "white",
           "linecolor": "white",
           "ticks": "",
           "title": {
            "standoff": 15
           },
           "zerolinecolor": "white",
           "zerolinewidth": 2
          },
          "yaxis": {
           "automargin": true,
           "gridcolor": "white",
           "linecolor": "white",
           "ticks": "",
           "title": {
            "standoff": 15
           },
           "zerolinecolor": "white",
           "zerolinewidth": 2
          }
         }
        },
        "title": {
         "text": "Impact of ratings on rtudents enrolled by difficulty"
        },
        "xaxis": {
         "anchor": "y",
         "domain": [
          0,
          1
         ],
         "title": {
          "text": "Nº of students enrolled"
         }
        },
        "yaxis": {
         "anchor": "x",
         "domain": [
          0,
          1
         ],
         "title": {
          "text": "Rating"
         }
        }
       }
      }
     },
     "metadata": {},
     "output_type": "display_data"
    }
   ],
   "source": [
    "# Check for the rating being impacted by students enrolled, 3 features: beginner/non-beginner, rating, students enrolled\n",
    "fig = px.scatter(\n",
    "    df,\n",
    "    x='course_students_enrolled',\n",
    "    y='course_rating',\n",
    "    color='difficulty_groups',\n",
    "    title='Impact of ratings on rtudents enrolled by difficulty',\n",
    "    labels={'difficulty_groups': 'Difficulty', \n",
    "            'course_students_enrolled': 'Nº of students enrolled', \n",
    "            'course_rating': 'Rating'},\n",
    "    size='course_students_enrolled', \n",
    "    hover_data=['course_title',\n",
    "                'course_organization'],\n",
    "    color_discrete_map={\n",
    "        'Beginner': '#008080', \n",
    "        'Non-beginner': '#808000'})     \n",
    "\n",
    "\n",
    "\n",
    "fig.update_layout(paper_bgcolor='rgb(250, 250, 238)',  \n",
    "                  plot_bgcolor='rgb(250, 250, 238)')\n",
    "\n",
    "fig.show()\n"
   ]
  },
  {
   "cell_type": "code",
   "execution_count": 156,
   "metadata": {},
   "outputs": [
    {
     "data": {
      "application/vnd.plotly.v1+json": {
       "config": {
        "plotlyServerURL": "https://plot.ly"
       },
       "data": [
        {
         "customdata": [
          [
           "(ISC)² Systems Security Certified Practitioner (SSCP)",
           "(ISC)²"
          ],
          [
           "ADHD: Everyday Strategies for Elementary Students",
           "University at Buffalo"
          ],
          [
           "AI For Everyone",
           "deeplearning.ai"
          ],
          [
           "AI Foundations for Everyone",
           "IBM"
          ],
          [
           "AWS Fundamentals",
           "Amazon Web Services"
          ],
          [
           "AWS Fundamentals: Addressing Security Risk",
           "Amazon Web Services"
          ],
          [
           "AWS Fundamentals: Building Serverless Applications",
           "Amazon Web Services"
          ],
          [
           "AWS Fundamentals: Going Cloud-Native",
           "Amazon Web Services"
          ],
          [
           "Academic English: Writing",
           "University of California, Irvine"
          ],
          [
           "Access Controls",
           "(ISC)²"
          ],
          [
           "Achieving Personal and Professional Success",
           "University of Pennsylvania"
          ],
          [
           "Addiction Treatment: Clinical Skills for Healthcare Providers",
           "Yale University"
          ],
          [
           "Age of Cathedrals",
           "Yale University"
          ],
          [
           "Agile Development",
           "University of Virginia"
          ],
          [
           "Agile Meets Design Thinking",
           "University of Virginia"
          ],
          [
           "Agile with Atlassian Jira",
           "Atlassian"
          ],
          [
           "Agile и Scrum в работе над проектами и продуктами",
           "ScrumTrek"
          ],
          [
           "American Contract Law I",
           "Yale University"
          ],
          [
           "An Introduction to American Law",
           "University of Pennsylvania"
          ],
          [
           "An Introduction to Consumer Neuroscience & Neuromarketing",
           "Copenhagen Business School"
          ],
          [
           "An Introduction to Programming the Internet of Things (IOT)",
           "University of California, Irvine"
          ],
          [
           "Analysing: Numeric and digital literacies",
           "Macquarie University"
          ],
          [
           "Anatomy",
           "University of Michigan"
          ],
          [
           "Anatomy: Musculoskeletal and Integumentary Systems",
           "University of Michigan"
          ],
          [
           "Android App Development",
           "Vanderbilt University"
          ],
          [
           "Anticorrupción: Introducción a conceptos y perspectiva práctica",
           "Universidad Nacional Autónoma de México"
          ],
          [
           "Applied Data Science",
           "IBM"
          ],
          [
           "Aprende a programar con Python",
           "Universidad Austral"
          ],
          [
           "Aprendiendo a aprender: Poderosas herramientas mentales con las que podrás dominar temas difíciles (Learning How to Learn)",
           "University of California San Diego"
          ],
          [
           "Architecting with Google Kubernetes Engine 日本語版",
           "Google Cloud"
          ],
          [
           "Arizona State University TESOL",
           "Arizona State University"
          ],
          [
           "Aspectos básicos de la planificación y la gestión de proyectos",
           "University of Virginia"
          ],
          [
           "BIM Fundamentals for Engineers",
           "National Taiwan University"
          ],
          [
           "Basic Statistics",
           "University of Amsterdam"
          ],
          [
           "Become a Journalist: Report the News!",
           "Michigan State University"
          ],
          [
           "Becoming a Sports Agent",
           "Case Western Reserve University"
          ],
          [
           "Becoming a changemaker: Introduction to Social Innovation",
           "University of Cape Town"
          ],
          [
           "Big Data – Introducción al uso práctico de datos masivos",
           "Universitat Autònoma de Barcelona"
          ],
          [
           "Biohacking Your Brain's Health",
           "Emory University"
          ],
          [
           "Biology Meets Programming: Bioinformatics for Beginners",
           "University of California San Diego"
          ],
          [
           "Biostatistics in Public Health",
           "Johns Hopkins University"
          ],
          [
           "Blockchain Revolution",
           "INSEAD"
          ],
          [
           "Blockchain Revolution in Financial Services",
           "INSEAD"
          ],
          [
           "Blockchain: Foundations and Use Cases",
           "ConsenSys Academy"
          ],
          [
           "Boosting Creativity for Innovation",
           "HEC Paris"
          ],
          [
           "Brand Management: Aligning Business, Brand and Behaviour",
           "London Business School"
          ],
          [
           "Branding: The Creative Journey",
           "IE Business School"
          ],
          [
           "Bugs 101: Insect-Human Interactions",
           "University of Alberta"
          ],
          [
           "Building Conversational Experiences with Dialogflow",
           "Google Cloud"
          ],
          [
           "Business Analytics",
           "University of Pennsylvania"
          ],
          [
           "Business Foundations",
           "University of Pennsylvania"
          ],
          [
           "Business Statistics and Analysis",
           "Rice University"
          ],
          [
           "Business Strategies for A Better World",
           "University of Pennsylvania"
          ],
          [
           "Business Strategy",
           "University of Virginia"
          ],
          [
           "Business Technology Management",
           "Indian School of Business"
          ],
          [
           "Business Transformation with Google Cloud",
           "Google Cloud"
          ],
          [
           "Business Writing",
           "University of Colorado Boulder"
          ],
          [
           "Business and Financial Modeling",
           "University of Pennsylvania"
          ],
          [
           "C for Everyone: Programming Fundamentals",
           "University of California, Santa Cruz"
          ],
          [
           "C# Programming for Unity Game Development",
           "University of Colorado System"
          ],
          [
           "COVID-19 Contact Tracing",
           "Johns Hopkins University"
          ],
          [
           "COVID-19: What You Need to Know (CME Eligible)",
           "Osmosis"
          ],
          [
           "Camino a la Excelencia en Gestión de Proyectos",
           "Pontificia Universidad Católica de Chile"
          ],
          [
           "Career Success",
           "University of California, Irvine"
          ],
          [
           "Challenging Forensic Science: How Science Should Speak to Court",
           "University of Lausanne"
          ],
          [
           "Chemicals and Health",
           "Johns Hopkins University"
          ],
          [
           "Child Nutrition and Cooking",
           "Stanford University"
          ],
          [
           "Chinese for HSK 1",
           "Peking University"
          ],
          [
           "Cisco Networking Basics",
           "Cisco"
          ],
          [
           "Claves de la Dirección de Empresas",
           "IESE Business School"
          ],
          [
           "Climate Change and Health: From Science to Action",
           "Yale University"
          ],
          [
           "Clinical Terminology for International and U.S. Students",
           "University of Pittsburgh"
          ],
          [
           "Cloud Computing Basics (Cloud 101)",
           "LearnQuest"
          ],
          [
           "Code Yourself! An Introduction to Programming",
           "The University of Edinburgh"
          ],
          [
           "Communication Skills for Engineers",
           "Rice University"
          ],
          [
           "Communication Strategies for a Virtual Age",
           "University of Toronto"
          ],
          [
           "Compassionate Leadership Through Service Learning with Jane Goodall and Roots & Shoots",
           "University of Colorado Boulder"
          ],
          [
           "Competencias digitales. Herramientas de ofimática (Microsoft Word, Excel, Power Point)",
           "Universitat Autònoma de Barcelona"
          ],
          [
           "Computational Social Science",
           "University of California, Davis"
          ],
          [
           "Computational Thinking for Problem Solving",
           "University of Pennsylvania"
          ],
          [
           "Computer Security and Systems Management",
           "University of Colorado System"
          ],
          [
           "Conflict Management",
           "University of California, Irvine"
          ],
          [
           "Construction Cost Estimating and Cost Control",
           "Columbia University"
          ],
          [
           "Construction Management",
           "Columbia University"
          ],
          [
           "Construction Project Management",
           "Columbia University"
          ],
          [
           "Construction Scheduling",
           "Columbia University"
          ],
          [
           "Contabilidad para no contadores",
           "Universidad Nacional Autónoma de México"
          ],
          [
           "Content Strategy for Professionals",
           "Northwestern University"
          ],
          [
           "Continuous Delivery & DevOps",
           "University of Virginia"
          ],
          [
           "Corporate Strategy",
           "UCL School of Management"
          ],
          [
           "Corrección, estilo y  variaciones de la lengua española",
           "Universitat Autònoma de Barcelona"
          ],
          [
           "Cost and Economics in Pricing Strategy",
           "University of Virginia"
          ],
          [
           "Crash Course on Python",
           "Google"
          ],
          [
           "Creative Writing",
           "Wesleyan University"
          ],
          [
           "Creatividad, diseño e innovación: Técnicas y herramientas",
           "Arizona State University"
          ],
          [
           "Culture-Driven Team Building",
           "University of Pennsylvania"
          ],
          [
           "Curanderismo: Traditional Healing Using Plants",
           "University of New Mexico"
          ],
          [
           "Customer Segmentation and Prospecting",
           "Northwestern University"
          ],
          [
           "Cybersecurity and Its Ten Domains",
           "University System of Georgia"
          ],
          [
           "Cybersecurity for Business",
           "University of Colorado System"
          ],
          [
           "Cómo hablar bien en público",
           "Universitat Autònoma de Barcelona"
          ],
          [
           "Data Analysis and Interpretation",
           "Wesleyan University"
          ],
          [
           "Data Analysis and Presentation Skills: the PwC Approach",
           "PwC"
          ],
          [
           "Data Analysis with Python",
           "IBM"
          ],
          [
           "Data Analytics for Lean Six Sigma",
           "University of Amsterdam"
          ],
          [
           "Data Management for Clinical Research",
           "Vanderbilt University"
          ],
          [
           "Data Science",
           "Johns Hopkins University"
          ],
          [
           "Data Science Math Skills",
           "Duke University"
          ],
          [
           "Data Science Methodology",
           "IBM"
          ],
          [
           "Data Science: Foundations using R",
           "Johns Hopkins University"
          ],
          [
           "Data Visualization with Advanced Excel",
           "PwC"
          ],
          [
           "Data Visualization with Tableau",
           "University of California, Davis"
          ],
          [
           "Data and Health Indicators in Public Health Practice",
           "Johns Hopkins University"
          ],
          [
           "Data-driven Decision Making",
           "PwC"
          ],
          [
           "Databases and SQL for Data Science",
           "IBM"
          ],
          [
           "De-Mystifying Mindfulness",
           "Universiteit Leiden"
          ],
          [
           "Democracia y decisiones públicas. Introducción al análisis de políticas públicas",
           "Universitat Autònoma de Barcelona"
          ],
          [
           "Dentistry 101",
           "University of Michigan"
          ],
          [
           "Dermatology: Trip to skin",
           "Novosibirsk State University "
          ],
          [
           "Design Thinking for Innovation",
           "University of Virginia"
          ],
          [
           "Design Thinking for the Greater Good: Innovation in the Social Sector",
           "University of Virginia"
          ],
          [
           "Developing Your Musicianship",
           "Berklee College of Music"
          ],
          [
           "Digital Advertising Strategy",
           "University of Colorado Boulder"
          ],
          [
           "Digital Business Models",
           "Lund University"
          ],
          [
           "Digital Manufacturing & Design Technology",
           "University at Buffalo"
          ],
          [
           "Digital Marketing",
           "University of Illinois at Urbana-Champaign"
          ],
          [
           "Digital Product Management",
           "University of Virginia"
          ],
          [
           "Digital Product Management: Modern Fundamentals",
           "University of Virginia"
          ],
          [
           "Dino 101: Dinosaur Paleobiology",
           "University of Alberta"
          ],
          [
           "Diseño Instruccional: Aprendizaje activo y Pedagogía digital",
           "Tecnológico de Monterrey"
          ],
          [
           "Diseño y Creación de un Emprendimiento Social",
           "Pontificia Universidad Católica de Chile"
          ],
          [
           "Driving business towards the Sustainable Development Goals",
           "Erasmus University Rotterdam"
          ],
          [
           "Drug Commercialization",
           "University of California San Diego"
          ],
          [
           "Drug Discovery",
           "University of California San Diego"
          ],
          [
           "Dynamic Public Speaking",
           "University of Washington"
          ],
          [
           "EMT Foundations",
           "University of Colorado System"
          ],
          [
           "Egiptología (Egyptology)",
           "Universitat Autònoma de Barcelona"
          ],
          [
           "El Abogado del Futuro: Legaltech y la Transformación Digital del Derecho",
           "Universidad Austral"
          ],
          [
           "Electric Industry Operations and Markets",
           "Duke University"
          ],
          [
           "Emerging Technologies: From Smartphones to IoT to Big Data",
           "Yonsei University"
          ],
          [
           "Energy Production, Distribution & Safety",
           "University at Buffalo"
          ],
          [
           "Engineering Health: Introduction to Yoga and Physiology",
           "New York University"
          ],
          [
           "Engineering Project Management: Initiating and Planning",
           "Rice University"
          ],
          [
           "English Composition I",
           "Duke University"
          ],
          [
           "English for Business and Entrepreneurship",
           "University of Pennsylvania"
          ],
          [
           "English for Science, Technology, Engineering, and Mathematics",
           "University of Pennsylvania"
          ],
          [
           "Enterprise Architecture",
           "Peter the Great St. Petersburg Polytechnic University"
          ],
          [
           "Entrepreneurship",
           "University of Pennsylvania"
          ],
          [
           "Entrepreneurship 3: Growth Strategies",
           "University of Pennsylvania"
          ],
          [
           "Entrepreneurship Strategy: From Ideation to Exit",
           "HEC Paris"
          ],
          [
           "Entrepreneurship: Launching an Innovative Business",
           "University of Maryland, College Park"
          ],
          [
           "Epidemiology for Public Health",
           "Imperial College London"
          ],
          [
           "Epidemiology in Public Health Practice",
           "Johns Hopkins University"
          ],
          [
           "Equine Welfare and Management",
           "University of California, Davis"
          ],
          [
           "Esports",
           "University of California, Irvine"
          ],
          [
           "Essential Epidemiologic Tools for Public Health Practice",
           "Johns Hopkins University"
          ],
          [
           "Estadística y probabilidad",
           "Universidad Nacional Autónoma de México"
          ],
          [
           "Evaluación educativa",
           "Universidad Nacional Autónoma de México"
          ],
          [
           "Everyday Excel, Part 1",
           "University of Colorado Boulder"
          ],
          [
           "Everyday Parenting: The ABCs of Child Rearing",
           "Yale University"
          ],
          [
           "Excel Skills for Business",
           "Macquarie University"
          ],
          [
           "Excel Skills for Business: Essentials",
           "Macquarie University"
          ],
          [
           "Excel to MySQL: Analytic Techniques for Business",
           "Duke University"
          ],
          [
           "Excel/VBA for Creative Problem Solving",
           "University of Colorado Boulder"
          ],
          [
           "Excel/VBA for Creative Problem Solving, Part 1",
           "University of Colorado Boulder"
          ],
          [
           "Executive Data Science",
           "Johns Hopkins University"
          ],
          [
           "Explorando la Energía Sustentable",
           "Pontificia Universidad Católica de Chile"
          ],
          [
           "Fashion as Design",
           "The Museum of Modern Art"
          ],
          [
           "Feminism and Social Justice",
           "University of California, Santa Cruz"
          ],
          [
           "FinTech Law and Policy",
           "Duke University"
          ],
          [
           "FinTech: Finance Industry Transformation and Regulation",
           "The Hong Kong University of Science and Technology"
          ],
          [
           "FinTech: Foundations, Payments, and Regulations",
           "University of Pennsylvania"
          ],
          [
           "Finance & Quantitative Modeling for Analysts",
           "University of Pennsylvania"
          ],
          [
           "Finance for Non-Finance Professionals",
           "Rice University"
          ],
          [
           "Financial Accounting Fundamentals",
           "University of Virginia"
          ],
          [
           "Financial Acumen for Non-Financial Managers",
           "University of Pennsylvania"
          ],
          [
           "Financial Markets",
           "Yale University"
          ],
          [
           "Financial Markets and Investment Strategy",
           "Indian School of Business"
          ],
          [
           "Financial Technology (Fintech) Innovations",
           "University of Michigan"
          ],
          [
           "Finding Purpose and Meaning In Life: Living for What Matters Most",
           "University of Michigan"
          ],
          [
           "Fintech: Foundations & Applications of Financial Technology",
           "University of Pennsylvania"
          ],
          [
           "First Step Korean",
           "Yonsei University"
          ],
          [
           "Foundational Finance for Strategic Decision Making",
           "University of Michigan"
          ],
          [
           "Foundations of Business Strategy",
           "University of Virginia"
          ],
          [
           "Foundations of Global Health",
           "Johns Hopkins University"
          ],
          [
           "Foundations of Management",
           "IESE Business School"
          ],
          [
           "Foundations of Positive Psychology",
           "University of Pennsylvania"
          ],
          [
           "Foundations of Public Health Practice",
           "Imperial College London"
          ],
          [
           "From Data to Insights with Google Cloud Platform",
           "Google Cloud"
          ],
          [
           "From the Big Bang to Dark Energy",
           "The University of Tokyo"
          ],
          [
           "Fundamental Neuroscience for Neuroimaging",
           "Johns Hopkins University"
          ],
          [
           "Fundamentals of Accounting",
           "University of Illinois at Urbana-Champaign"
          ],
          [
           "Fundamentals of Computing",
           "Rice University"
          ],
          [
           "Fundamentals of GIS",
           "University of California, Davis"
          ],
          [
           "Fundamentals of Graphic Design",
           "California Institute of the Arts"
          ],
          [
           "Fundamentals of Music Theory",
           "The University of Edinburgh"
          ],
          [
           "Fundamentals of Project Planning and Management",
           "University of Virginia"
          ],
          [
           "Fundamentals of Visualization with Tableau",
           "University of California, Davis"
          ],
          [
           "Fundamentos Empresariales",
           "University of Pennsylvania"
          ],
          [
           "Fundamentos Estratégicos Empresariales",
           "Universidad Nacional Autónoma de México"
          ],
          [
           "Fundamentos de Excel para Negocios",
           "Universidad Austral"
          ],
          [
           "Fundamentos de Finanzas Empresariales",
           "Universidad de los Andes"
          ],
          [
           "Fundamentos de la escritura",
           "Tecnológico de Monterrey"
          ],
          [
           "Fundraising and Development",
           "University of California, Davis"
          ],
          [
           "Futures Thinking",
           "Institute for the Future"
          ],
          [
           "G Suite Administration",
           "Google Cloud"
          ],
          [
           "GIS, Mapping, and Spatial Analysis",
           "University of Toronto"
          ],
          [
           "Game Theory",
           "Stanford University"
          ],
          [
           "Gender and Sexuality: Diversity and Inclusion in the Workplace",
           "University of Pittsburgh"
          ],
          [
           "Geographic Information Systems  (GIS)",
           "University of California, Davis"
          ],
          [
           "Get Interactive: Practical Teaching with Technology",
           "Bloomsbury Learning Exchange"
          ],
          [
           "Getting Started With Music Theory",
           "Michigan State University"
          ],
          [
           "Getting Started with Google Sheets",
           "Google Cloud"
          ],
          [
           "Getting Started with SAS Programming",
           "SAS"
          ],
          [
           "Global Diplomacy: the United Nations in the World",
           "SOAS University of London"
          ],
          [
           "Global Energy and Climate Policy",
           "SOAS University of London"
          ],
          [
           "Good with Words: Writing and Editing",
           "University of Michigan"
          ],
          [
           "Google IT Automation with Python",
           "Google"
          ],
          [
           "Google IT Support",
           "Google"
          ],
          [
           "Graphic Design Elements for Non-Designers",
           "University of Colorado Boulder"
          ],
          [
           "Greening the Economy: Sustainable Cities",
           "Lund University"
          ],
          [
           "Habilidades Gerenciales",
           "Universidad Nacional Autónoma de México"
          ],
          [
           "Health Informatics",
           "Johns Hopkins University"
          ],
          [
           "Healthcare Marketplace",
           "University of Minnesota"
          ],
          [
           "Healthcare Organization Operations",
           "Rutgers the State University of New Jersey"
          ],
          [
           "Homeland Security and Cybersecurity",
           "University of Colorado System"
          ],
          [
           "Hotel Management: Distribution, Revenue and Demand Management",
           "ESSEC Business School"
          ],
          [
           "How to Start Your Own Business",
           "Michigan State University"
          ],
          [
           "Human Resource Management: HR for People Managers",
           "University of Minnesota"
          ],
          [
           "IBM Applied AI",
           "IBM"
          ],
          [
           "IBM Customer Engagement Specialist Professional Certificate",
           "IBM"
          ],
          [
           "IBM Data Science",
           "IBM"
          ],
          [
           "IT Fundamentals for Cybersecurity",
           "IBM"
          ],
          [
           "IT Security: Defense against the digital dark arts",
           "Google"
          ],
          [
           "Identifying, Monitoring, and Analyzing Risk and Incident Response and Recovery",
           "(ISC)²"
          ],
          [
           "Implementación del Marketing Mix",
           "IE Business School"
          ],
          [
           "Implementing RPA with Cognitive Automation and Analytics",
           "Automation Anywhere"
          ],
          [
           "Improve Your English Communication Skills",
           "Georgia Institute of Technology"
          ],
          [
           "Improving Deep Neural Networks: Hyperparameter tuning, Regularization and Optimization",
           "deeplearning.ai"
          ],
          [
           "Improving Leadership & Governance in Nonprofit Organizations",
           "Luther College at the University of Regina"
          ],
          [
           "In the Studio: Postwar Abstract Painting",
           "The Museum of Modern Art"
          ],
          [
           "Industrial IoT on Google Cloud Platform",
           "Google Cloud"
          ],
          [
           "Influencing: Storytelling, Change Management and Governance",
           "Macquarie University"
          ],
          [
           "Information Security: Context and Introduction",
           "Royal Holloway, University of London"
          ],
          [
           "Information Visualization",
           "New York University"
          ],
          [
           "Information​ ​Systems",
           "University of Minnesota"
          ],
          [
           "Innovation Management",
           "Erasmus University Rotterdam"
          ],
          [
           "Innovation Through Design: Think, Make, Break, Repeat",
           "The University of Sydney"
          ],
          [
           "Innovation: From Creativity to Entrepreneurship",
           "University of Illinois at Urbana-Champaign"
          ],
          [
           "Inspirational Leadership: Leading with Sense",
           "HEC Paris"
          ],
          [
           "Integrative Health and Medicine",
           "University of Minnesota"
          ],
          [
           "Intercultural Management",
           "ESCP Business School"
          ],
          [
           "International Humanitarian Law in Theory and Practice",
           "Kalshoven-Gieskes Forum"
          ],
          [
           "International Marketing & Cross Industry Growth",
           "Yonsei University"
          ],
          [
           "International Organizations Management",
           "University of Geneva"
          ],
          [
           "International Security Management",
           "Erasmus University Rotterdam"
          ],
          [
           "International Women's Health and Human Rights",
           "Stanford University"
          ],
          [
           "International migrations: a global issue",
           "Sciences Po"
          ],
          [
           "Internet Connection: How to Get Online?",
           "Cisco"
          ],
          [
           "Introducción a Data Science: Programación Estadística con R",
           "Universidad Nacional Autónoma de México"
          ],
          [
           "Introducción a la programación en Python I: Aprendiendo a programar con Python",
           "Pontificia Universidad Católica de Chile"
          ],
          [
           "Introduction to Artificial Intelligence (AI)",
           "IBM"
          ],
          [
           "Introduction to Blockchain Technologies",
           "INSEAD"
          ],
          [
           "Introduction to Chemistry:  Reactions and Ratios",
           "Duke University"
          ],
          [
           "Introduction to Cloud Computing",
           "IBM"
          ],
          [
           "Introduction to Computer Programming",
           "Goldsmiths, University of London"
          ],
          [
           "Introduction to Computer Science and Programming",
           "Goldsmiths, University of London"
          ],
          [
           "Introduction to Cyber Attacks",
           "New York University"
          ],
          [
           "Introduction to Cyber Security",
           "New York University"
          ],
          [
           "Introduction to Cybersecurity Tools & Cyber Attacks",
           "IBM"
          ],
          [
           "Introduction to Data Science",
           "IBM"
          ],
          [
           "Introduction to Dental Medicine",
           "University of Pennsylvania"
          ],
          [
           "Introduction to Discrete Mathematics for Computer Science",
           "National Research University Higher School of Economics"
          ],
          [
           "Introduction to Imagemaking",
           "California Institute of the Arts"
          ],
          [
           "Introduction to Intellectual Property",
           "University of Pennsylvania"
          ],
          [
           "Introduction to Personal Branding",
           "University of Virginia"
          ],
          [
           "Introduction to Probability and Data",
           "Duke University"
          ],
          [
           "Introduction to Programming in C",
           "Duke University"
          ],
          [
           "Introduction to Programming with MATLAB",
           "Vanderbilt University"
          ],
          [
           "Introduction to Psychology",
           "Yale University"
          ],
          [
           "Introduction to Scripting in Python",
           "Rice University"
          ],
          [
           "Introduction to Statistics & Data Analysis in Public Health",
           "Imperial College London"
          ],
          [
           "Introduction to Thermodynamics: Transferring Energy from Here to There",
           "University of Michigan"
          ],
          [
           "Introduction to Typography",
           "California Institute of the Arts"
          ],
          [
           "Introduction to User Experience Design",
           "Georgia Institute of Technology"
          ],
          [
           "Introduction to User Experience Principles and Processes",
           "University of Michigan"
          ],
          [
           "Introduction to Web Development",
           "University of California, Davis"
          ],
          [
           "Introduction to the Biology of Cancer",
           "Johns Hopkins University"
          ],
          [
           "Introdução aos Princípios e Práticas da Gestão De Projetos",
           "Universidade de São Paulo"
          ],
          [
           "Introdução à Ciência da Computação com Python Parte 1",
           "Universidade de São Paulo"
          ],
          [
           "Investment Management",
           "University of Geneva"
          ],
          [
           "Investment Management with Python and Machine Learning",
           "EDHEC Business School"
          ],
          [
           "Investment and Portfolio Management",
           "Rice University"
          ],
          [
           "Japanese for beginners 1",
           "Saint Petersburg State University"
          ],
          [
           "Java Programming and Software Engineering Fundamentals",
           "Duke University"
          ],
          [
           "Java Programming: Solving Problems with Software",
           "Duke University"
          ],
          [
           "Julia Scientific Programming",
           "University of Cape Town"
          ],
          [
           "L'excellence opérationnelle en pratique",
           "ESSEC Business School"
          ],
          [
           "L'impact investing, la finance qui change le monde",
           "ESSEC Business School"
          ],
          [
           "Leadership Development for Engineers",
           "Rice University"
          ],
          [
           "Leading Healthcare Quality and Safety",
           "The George Washington University"
          ],
          [
           "Leading People and Teams",
           "University of Michigan"
          ],
          [
           "Learn Chinese: HSK Test Preparation",
           "Peking University"
          ],
          [
           "Learn English",
           "Tsinghua University"
          ],
          [
           "Learn Mandarin Chinese",
           "Shanghai Jiao Tong University"
          ],
          [
           "Learn SQL Basics for Data Science",
           "University of California, Davis"
          ],
          [
           "Learn Spanish: Basic Spanish Vocabulary",
           "University of California, Davis"
          ],
          [
           "Learn to Program: The Fundamentals",
           "University of Toronto"
          ],
          [
           "Learn to Speak Korean 1",
           "Yonsei University"
          ],
          [
           "Learning to Teach Online",
           "UNSW Sydney (The University of New South Wales)"
          ],
          [
           "Les Fondamentaux de la Négociation",
           "ESSEC Business School"
          ],
          [
           "Love as a Force for Social Justice",
           "Stanford University"
          ],
          [
           "Machine Learning for All",
           "University of London"
          ],
          [
           "Magic in the Middle Ages",
           "Universitat de Barcelona"
          ],
          [
           "Making Architecture",
           "IE School of Architecture & Design"
          ],
          [
           "Managerial Accounting Fundamentals",
           "University of Virginia"
          ],
          [
           "Managerial Economics and Business Analysis",
           "University of Illinois at Urbana-Champaign"
          ],
          [
           "Managing Innovation and Design Thinking",
           "HEC Paris"
          ],
          [
           "Managing Social and Human Capital",
           "University of Pennsylvania"
          ],
          [
           "Managing Your Health: The Role of Physical Therapy and Exercise",
           "University of Toronto"
          ],
          [
           "Market Research",
           "University of California, Davis"
          ],
          [
           "Marketing Digital",
           "Universidade de São Paulo"
          ],
          [
           "Marketing Digital",
           "Universidad Austral"
          ],
          [
           "Marketing Mix Implementation",
           "IE Business School"
          ],
          [
           "Marketing Strategy",
           "IE Business School"
          ],
          [
           "Marketing in a Digital World",
           "University of Illinois at Urbana-Champaign"
          ],
          [
           "Mastering Final Cut Pro",
           "LearnQuest"
          ],
          [
           "Mastering Software Development in R",
           "Johns Hopkins University"
          ],
          [
           "Mathematics for Data Science",
           "National Research University Higher School of Economics"
          ],
          [
           "Mathematics for Machine Learning",
           "Imperial College London"
          ],
          [
           "Mathematics for Machine Learning: Linear Algebra",
           "Imperial College London"
          ],
          [
           "Mathematics for Machine Learning: Multivariate Calculus",
           "Imperial College London"
          ],
          [
           "Medical Cannabis: The Health Effects of THC and CBD",
           "University of Colorado Boulder"
          ],
          [
           "Memoir and Personal Essay: Write About Yourself",
           "Wesleyan University"
          ],
          [
           "Methods and Statistics in Social Sciences",
           "University of Amsterdam"
          ],
          [
           "Microeconomics Principles",
           "University of Illinois at Urbana-Champaign"
          ],
          [
           "Mindshift: Break Through Obstacles to Learning and Discover Your Hidden Potential",
           "McMaster University"
          ],
          [
           "Miracles of Human Language: An Introduction to Linguistics",
           "Universiteit Leiden"
          ],
          [
           "Modern Art & Ideas",
           "The Museum of Modern Art"
          ],
          [
           "Modern Big Data Analysis with SQL",
           "Cloudera"
          ],
          [
           "Music Business",
           "Berklee College of Music"
          ],
          [
           "Music Production",
           "Berklee College of Music"
          ],
          [
           "Negotiation, Mediation and Conflict Resolution",
           "ESSEC Business School"
          ],
          [
           "New Approaches to Countering Terror: Countering Violent Extremism",
           "University of Maryland, College Park"
          ],
          [
           "Newborn Baby Care",
           "University of Colorado System"
          ],
          [
           "Nutrición y obesidad: control de sobrepeso",
           "Universidad Nacional Autónoma de México"
          ],
          [
           "Object Oriented Programming in Java",
           "Duke University"
          ],
          [
           "Open Source Software Development, Linux and Git",
           "The Linux Foundation"
          ],
          [
           "Operating Systems and You: Becoming a Power User",
           "Google"
          ],
          [
           "Osteoarchaeology: The Truth in Our Bones",
           "Universiteit Leiden"
          ],
          [
           "Palliative Care: It's Not Just Hospice Anymore",
           "University of Colorado System"
          ],
          [
           "Palo Alto Networks Cybersecurity",
           "Palo Alto Networks"
          ],
          [
           "Patient Safety",
           "Johns Hopkins University"
          ],
          [
           "Patrocinio Deportivo",
           "Universitat Autònoma de Barcelona"
          ],
          [
           "Periodismo digital y combate a las fake news",
           "Universidad Nacional Autónoma de México"
          ],
          [
           "Photography Basics and Beyond: From Smartphone to DSLR",
           "Michigan State University"
          ],
          [
           "Plant Bioinformatic Methods",
           "University of Toronto"
          ],
          [
           "Politics and Economics of International Energy",
           "Sciences Po"
          ],
          [
           "Positive Psychology: Applications and Interventions",
           "University of Pennsylvania"
          ],
          [
           "Positive Psychology: Martin E. P. Seligman’s Visionary Science",
           "University of Pennsylvania"
          ],
          [
           "Positive Psychology: Resilience Skills",
           "University of Pennsylvania"
          ],
          [
           "Practical Data Science with MATLAB",
           "MathWorks"
          ],
          [
           "Preparing for the Google Cloud Associate Cloud Engineer Exam",
           "Google Cloud"
          ],
          [
           "Presentation Skills: Speechwriting, Slides and Delivery",
           "E-Learning Development Fund"
          ],
          [
           "Pricing Strategy Optimization",
           "BCG"
          ],
          [
           "Probability and Statistics: To p or not to p?",
           "University of London"
          ],
          [
           "Programming Foundations with JavaScript, HTML and CSS",
           "Duke University"
          ],
          [
           "Programming Fundamentals",
           "Duke University"
          ],
          [
           "Project Execution",
           "University of California, Irvine"
          ],
          [
           "Project Launch",
           "University of California, Irvine"
          ],
          [
           "Project Management & Other Tools for Career Development",
           "University of California, Irvine"
          ],
          [
           "Project Management Principles and Practices",
           "University of California, Irvine"
          ],
          [
           "Public Policy Challenges of the 21st Century",
           "University of Virginia"
          ],
          [
           "Python Basics",
           "University of Michigan"
          ],
          [
           "Python Functions, Files, and Dictionaries",
           "University of Michigan"
          ],
          [
           "Python for Data Science and AI",
           "IBM"
          ],
          [
           "Python for Everybody",
           "University of Michigan"
          ],
          [
           "Queering Identities: LGBTQ+ Sexuality and Gender Identity",
           "University of Colorado System"
          ],
          [
           "Ready, Set, Future! Introduction to Futures Thinking",
           "Institute for the Future"
          ],
          [
           "Renewable Energy and Green Building Entrepreneurship",
           "Duke University"
          ],
          [
           "Reporting extra-financier et stratégie RSE",
           "ESSEC Business School"
          ],
          [
           "Requirements Engineering: Secure Software  Specifications",
           "University of Colorado System"
          ],
          [
           "Responsive Website Development and Design",
           "Goldsmiths, University of London"
          ],
          [
           "Robotics",
           "University of Pennsylvania"
          ],
          [
           "Roman Architecture",
           "Yale University"
          ],
          [
           "Russian Alphabet",
           "Saint Petersburg State University"
          ],
          [
           "Russian for beginners А1. Русский язык: A1",
           "Saint Petersburg State University"
          ],
          [
           "SAS Programmer",
           "SAS"
          ],
          [
           "SAS Visual Business Analytics",
           "SAS"
          ],
          [
           "SQL for Data Science",
           "University of California, Davis"
          ],
          [
           "Sales Operations/Management",
           "West Virginia University"
          ],
          [
           "Sales Training for High Performing Teams",
           "HubSpot Academy"
          ],
          [
           "School Health for Children and Adolescents",
           "University of Colorado System"
          ],
          [
           "Science of Exercise",
           "University of Colorado Boulder"
          ],
          [
           "Security & Safety Challenges in a Globalized World",
           "Universiteit Leiden"
          ],
          [
           "Sexualidad...mucho más que sexo",
           "Universidad de los Andes"
          ],
          [
           "Sharpened Visions: A Poetry Workshop",
           "California Institute of the Arts"
          ],
          [
           "Sleep: Neurobiology, Medicine, and Society",
           "University of Michigan"
          ],
          [
           "Smart Cities – Management of Smart Urban Infrastructures",
           "École Polytechnique Fédérale de Lausanne"
          ],
          [
           "Social Entrepreneurship",
           "Copenhagen Business School"
          ],
          [
           "Social Media Marketing",
           "Northwestern University"
          ],
          [
           "Social Norms, Social Change I",
           "University of Pennsylvania"
          ],
          [
           "Social Policy for Social Services & Health Practitioners",
           "Columbia University"
          ],
          [
           "Social Psychology",
           "Wesleyan University"
          ],
          [
           "Software Design and Architecture",
           "University of Alberta"
          ],
          [
           "Software Product Management",
           "University of Alberta"
          ],
          [
           "Solar Energy Basics",
           "The State University of New York"
          ],
          [
           "Songwriting: Writing the Lyrics",
           "Berklee College of Music"
          ],
          [
           "Soporte de Tecnologías de la Información de Google",
           "Crece con Google"
          ],
          [
           "Spanish Vocabulary: Meeting People",
           "University of California, Davis"
          ],
          [
           "Stanford Introduction to Food and Health",
           "Stanford University"
          ],
          [
           "Stanford's Short Course on Breastfeeding",
           "Stanford University"
          ],
          [
           "Statistical Analysis with R for Public Health",
           "Imperial College London"
          ],
          [
           "Statistics with Python",
           "University of Michigan"
          ],
          [
           "Statistics with R",
           "Duke University"
          ],
          [
           "Strategic Business Management - Microeconomics",
           "University of California, Irvine"
          ],
          [
           "Strategic Leadership and Management",
           "University of Illinois at Urbana-Champaign"
          ],
          [
           "Strategic Management and Innovation",
           "Copenhagen Business School"
          ],
          [
           "Strategy and Sustainability",
           "IESE Business School"
          ],
          [
           "Structuring Machine Learning Projects",
           "deeplearning.ai"
          ],
          [
           "Success",
           "University of Pennsylvania"
          ],
          [
           "Summary Statistics in Public Health",
           "Johns Hopkins University"
          ],
          [
           "Supply Chain Analytics",
           "Rutgers the State University of New Jersey"
          ],
          [
           "Supply Chain Logistics",
           "Rutgers the State University of New Jersey"
          ],
          [
           "Supply Chain Management",
           "Rutgers the State University of New Jersey"
          ],
          [
           "Supply Chain Operations",
           "Rutgers the State University of New Jersey"
          ],
          [
           "Survey Data Collection and Analytics",
           "University of Maryland, College Park"
          ],
          [
           "Sustainable Tourism – promoting environmental public health",
           "University of Copenhagen"
          ],
          [
           "Swift 5 iOS Application Developer",
           "LearnQuest"
          ],
          [
           "System Administration and IT Infrastructure Services",
           "Google"
          ],
          [
           "TESOL Certificate, Part 1: Teach English Now!",
           "Arizona State University"
          ],
          [
           "TESOL Certificate, Part 2: Teach English Now!",
           "Arizona State University"
          ],
          [
           "Teamwork Skills: Communicating Effectively in Groups",
           "University of Colorado Boulder"
          ],
          [
           "Technical Support Fundamentals",
           "Google"
          ],
          [
           "Terrorism and Counterterrorism: Comparing Theory and Practice",
           "Universiteit Leiden"
          ],
          [
           "The Addicted Brain",
           "Emory University"
          ],
          [
           "The Art of Sales: Mastering the Selling Process",
           "Northwestern University"
          ],
          [
           "The Arts and Science of Relationships: Understanding Human Needs",
           "University of Toronto"
          ],
          [
           "The Bits and Bytes of Computer Networking",
           "Google"
          ],
          [
           "The Business of Health Care",
           "University of Pennsylvania"
          ],
          [
           "The Business of Music Production",
           "Berklee College of Music"
          ],
          [
           "The Cycle: Management of Successful Arts and Cultural Organizations",
           "University of Maryland, College Park"
          ],
          [
           "The DIY Musician",
           "Berklee College of Music"
          ],
          [
           "The Modern World, Part One: Global History from 1760 to 1910",
           "University of Virginia"
          ],
          [
           "The Modern World, Part Two: Global History since 1910",
           "University of Virginia"
          ],
          [
           "The Pronunciation of American English",
           "University of California, Irvine"
          ],
          [
           "The Science of Success: What Researchers Know that You Should Know",
           "University of Michigan"
          ],
          [
           "The Science of Training Young Athletes",
           "University of Florida"
          ],
          [
           "The Singer Songwriter",
           "Berklee College of Music"
          ],
          [
           "The Sustainable Development Goals – A global, transdisciplinary vision for the future",
           "University of Copenhagen"
          ],
          [
           "The Teacher and Social and Emotional Learning (SEL)",
           "University of Colorado Boulder"
          ],
          [
           "The Technology of Music Production",
           "Berklee College of Music"
          ],
          [
           "The hidden value – Lean in manufacturing and services",
           "École des Ponts ParisTech"
          ],
          [
           "Think Again I: How to Understand Arguments",
           "Duke University"
          ],
          [
           "Tools for Data Science",
           "IBM"
          ],
          [
           "Trading Strategies in Emerging Markets",
           "Indian School of Business"
          ],
          [
           "Tricky American English Pronunciation",
           "University of California, Irvine"
          ],
          [
           "UCI Project Management",
           "University of California, Irvine"
          ],
          [
           "UI / UX Design",
           "California Institute of the Arts"
          ],
          [
           "UX Design Fundamentals",
           "California Institute of the Arts"
          ],
          [
           "Understanding Cancer Metastasis",
           "Johns Hopkins University"
          ],
          [
           "Understanding Einstein: The Special Theory of Relativity",
           "Stanford University"
          ],
          [
           "Understanding Medical Research: Your Facebook Friend is Wrong",
           "Yale University"
          ],
          [
           "Understanding Plants - Part I: What a Plant Knows",
           "Tel Aviv University"
          ],
          [
           "Understanding and Visualizing Data with Python",
           "University of Michigan"
          ],
          [
           "Understanding the Brain: The Neurobiology of Everyday Life",
           "The University of Chicago"
          ],
          [
           "Unity XR: How to Build AR and VR Apps",
           "Unity"
          ],
          [
           "University Teaching",
           "The University of Hong Kong"
          ],
          [
           "User Experience Research and Design",
           "University of Michigan"
          ],
          [
           "Using Python to Interact with the Operating System",
           "Google"
          ],
          [
           "Virtual Reality",
           "Goldsmiths, University of London"
          ],
          [
           "Virtual Teacher",
           "University of California, Irvine"
          ],
          [
           "Web Design for Everybody: Basics of Web Development & Coding",
           "University of Michigan"
          ],
          [
           "Weight Management: Beyond Balancing Calories",
           "Emory University"
          ],
          [
           "What Is Contemporary Art?",
           "The Museum of Modern Art"
          ],
          [
           "What is Data Science?",
           "IBM"
          ],
          [
           "Wine Tasting: Sensory Techniques for Wine Analysis",
           "University of California, Davis"
          ],
          [
           "Write A Feature Length Screenplay For Film Or Television",
           "Michigan State University"
          ],
          [
           "Write Your First Novel",
           "Michigan State University"
          ],
          [
           "Writing in the Sciences",
           "Stanford University"
          ],
          [
           "¿Qué hacen los buenos directivos? Prioridades de la Alta Dirección",
           "IESE Business School"
          ],
          [
           "Éxito Profesional",
           "University of California, Irvine"
          ],
          [
           "Искусство ведения бизнеса",
           "Saint Petersburg State University"
          ],
          [
           "Корпоративные финансы и стоимость компании",
           "National Research University Higher School of Economics"
          ],
          [
           "Математика и Python для анализа данных",
           "E-Learning Development Fund"
          ],
          [
           "Основы программирования на Python",
           "National Research University Higher School of Economics"
          ],
          [
           "Финансовые инструменты для частного инвестора",
           "National Research University Higher School of Economics"
          ]
         ],
         "hovertemplate": "Difficulty=Beginner<br>Nº of students enrolled=%{x}<br>Rating=%{y}<br>course_title=%{customdata[0]}<br>course_organization=%{customdata[1]}<extra></extra>",
         "legendgroup": "Beginner",
         "marker": {
          "color": "#008080",
          "symbol": "circle"
         },
         "mode": "markers",
         "name": "Beginner",
         "orientation": "v",
         "showlegend": true,
         "type": "scatter",
         "x": [
          5300,
          39000,
          350000,
          61000,
          130000,
          11000,
          27000,
          110000,
          540000,
          2900,
          110000,
          9200,
          21000,
          94000,
          69000,
          40000,
          12000,
          18000,
          23000,
          69000,
          270000,
          7900,
          30000,
          20000,
          120000,
          11000,
          220000,
          6600,
          180000,
          3900,
          150000,
          10000,
          13000,
          180000,
          28000,
          6500,
          61000,
          8800,
          35000,
          88000,
          14000,
          21000,
          1600,
          31000,
          9500,
          57000,
          26000,
          15000,
          22000,
          280000,
          510000,
          110000,
          24000,
          89000,
          67000,
          10000,
          48000,
          160000,
          31000,
          36000,
          220000,
          32000,
          340000,
          790000,
          31000,
          23000,
          30000,
          22000,
          57000,
          51000,
          4800,
          32000,
          37000,
          120000,
          15000,
          43000,
          6400,
          43000,
          5800,
          33000,
          27000,
          66000,
          19000,
          61000,
          43000,
          15000,
          220000,
          27000,
          26000,
          7800,
          75000,
          15000,
          81000,
          140000,
          150000,
          17000,
          5500,
          18000,
          140000,
          23000,
          55000,
          100000,
          220000,
          110000,
          24000,
          42000,
          830000,
          140000,
          89000,
          740000,
          60000,
          96000,
          18000,
          120000,
          110000,
          150000,
          44000,
          4500,
          8200,
          240000,
          17000,
          54000,
          9000,
          21000,
          37000,
          380000,
          140000,
          58000,
          35000,
          4000,
          21000,
          5600,
          17000,
          39000,
          110000,
          7100,
          46000,
          1500,
          12000,
          17000,
          37000,
          14000,
          23000,
          200000,
          230000,
          110000,
          2400,
          110000,
          31000,
          20000,
          69000,
          6400,
          31000,
          7200,
          1800,
          14000,
          27000,
          13000,
          11000,
          86000,
          240000,
          200000,
          490000,
          56000,
          54000,
          170000,
          28000,
          180000,
          18000,
          9700,
          13000,
          12000,
          260000,
          69000,
          65000,
          10000,
          470000,
          60000,
          6500,
          36000,
          20000,
          400000,
          14000,
          63000,
          31000,
          64000,
          89000,
          3200,
          26000,
          52000,
          30000,
          39000,
          200000,
          86000,
          290000,
          180000,
          120000,
          81000,
          25000,
          56000,
          150000,
          110000,
          47000,
          4900,
          9400,
          10000,
          140000,
          260000,
          14000,
          97000,
          14000,
          59000,
          18000,
          22000,
          29000,
          10000,
          3800,
          93000,
          350000,
          10000,
          56000,
          43000,
          8100,
          36000,
          5500,
          5500,
          28000,
          34000,
          98000,
          220000,
          3300,
          480000,
          35000,
          62000,
          1700,
          23000,
          2200,
          610000,
          270000,
          18000,
          79000,
          34000,
          22000,
          32000,
          10000,
          16000,
          40000,
          10000,
          25000,
          72000,
          14000,
          6500,
          22000,
          26000,
          20000,
          2200,
          35000,
          11000,
          36000,
          140000,
          100000,
          44000,
          16000,
          46000,
          2600,
          20000,
          32000,
          27000,
          32000,
          30000,
          310000,
          25000,
          75000,
          54000,
          6000,
          140000,
          160000,
          82000,
          270000,
          270000,
          49000,
          12000,
          4100,
          72000,
          87000,
          16000,
          76000,
          110000,
          4500,
          120000,
          99000,
          14000,
          49000,
          4400,
          380000,
          160000,
          22000,
          8000,
          6300,
          17000,
          16000,
          220000,
          43000,
          22000,
          39000,
          160000,
          80000,
          180000,
          120000,
          68000,
          10000,
          14000,
          19000,
          78000,
          43000,
          11000,
          55000,
          23000,
          27000,
          47000,
          22000,
          81000,
          39000,
          93000,
          57000,
          310000,
          8400,
          52000,
          12000,
          150000,
          140000,
          51000,
          4800,
          13000,
          260000,
          73000,
          230000,
          120000,
          310000,
          14000,
          42000,
          70000,
          22000,
          12000,
          5300,
          100000,
          330000,
          13000,
          76000,
          22000,
          3200,
          9100,
          8800,
          12000,
          8900,
          160000,
          83000,
          34000,
          23000,
          50000,
          40000,
          10000,
          22000,
          47000,
          20000,
          36000,
          250000,
          19000,
          70000,
          190000,
          440000,
          230000,
          52000,
          110000,
          26000,
          170000,
          1500000,
          3000,
          7700,
          24000,
          5200,
          7200,
          170000,
          120000,
          30000,
          3200,
          7000,
          370000,
          2600,
          160000,
          5600,
          16000,
          9100,
          140000,
          14000,
          110000,
          61000,
          20000,
          22000,
          13000,
          130000,
          78000,
          4200,
          220000,
          60000,
          110000,
          17000,
          68000,
          8800,
          71000,
          370000,
          17000,
          16000,
          34000,
          220000,
          9500,
          100000,
          68000,
          11000,
          220000,
          38000,
          11000,
          7900,
          66000,
          82000,
          24000,
          45000,
          9400,
          3900,
          62000,
          100000,
          62000,
          49000,
          280000,
          90000,
          130000,
          23000,
          73000,
          130000,
          22000,
          84000,
          11000,
          120000,
          130000,
          47000,
          1700,
          59000,
          13000,
          320000,
          26000,
          5200,
          28000,
          14000,
          200000,
          120000,
          68000,
          110000,
          44000,
          68000,
          25000,
          29000,
          89000,
          24000,
          49000,
          30000,
          130000,
          12000,
          9500,
          23000,
          19000,
          37000,
          23000,
          280000,
          34000,
          120000,
          260000,
          32000,
          12000,
          18000,
          140000,
          25000,
          69000,
          14000,
          16000,
          67000,
          83000,
          38000
         ],
         "xaxis": "x",
         "y": [
          4.7,
          4.7,
          4.8,
          4.7,
          4.6,
          4.3,
          4.7,
          4.7,
          4.7,
          4.6,
          4.7,
          4.8,
          4.7,
          4.7,
          4.7,
          4.7,
          4.9,
          4.9,
          4.8,
          4.7,
          4.6,
          4.6,
          4.8,
          4.8,
          4.5,
          4.8,
          4.6,
          4.2,
          4.9,
          4.5,
          4.9,
          4.9,
          4.6,
          4.6,
          4.7,
          4.7,
          4.8,
          4.5,
          4.6,
          4.4,
          4.8,
          4.7,
          4.6,
          4.7,
          4.9,
          4.9,
          4.6,
          4.9,
          4.5,
          4.6,
          4.7,
          4.7,
          4.7,
          4.7,
          4.5,
          4.7,
          4.8,
          4.5,
          4.5,
          4.7,
          4.9,
          4.8,
          4.7,
          4.4,
          4.8,
          4.7,
          4.7,
          4.8,
          4.7,
          4.8,
          4.6,
          4.8,
          4.5,
          4.7,
          4.7,
          4.8,
          4.9,
          4.7,
          4.6,
          4.8,
          4.6,
          4.3,
          4.7,
          4.7,
          4.8,
          4.8,
          4.7,
          4.5,
          4.6,
          4.8,
          4.6,
          4.8,
          4.8,
          4.6,
          4.7,
          4.6,
          4.6,
          4.7,
          4.2,
          4.6,
          4.8,
          4.4,
          4.6,
          4.7,
          4.8,
          4.7,
          4.5,
          4.5,
          4.6,
          4.6,
          4.8,
          4.5,
          4.7,
          4.6,
          4.7,
          4.8,
          4.8,
          4.7,
          4.4,
          4.6,
          4.6,
          4.8,
          4.4,
          4.5,
          4.6,
          4.6,
          4.7,
          4.7,
          4.5,
          4.6,
          4.9,
          4.8,
          4.7,
          4.6,
          4.7,
          4.8,
          4.9,
          5,
          4.8,
          4.6,
          4.7,
          4.8,
          4.7,
          4.6,
          4.8,
          4.8,
          4.4,
          4.8,
          4.7,
          4.8,
          4.6,
          4.7,
          4.7,
          4.8,
          4.5,
          4.7,
          4.7,
          4.8,
          4.8,
          4.9,
          4.9,
          4.9,
          4.6,
          4.8,
          4.8,
          4.5,
          4.8,
          4.8,
          4.8,
          4.8,
          4.6,
          4.7,
          4.5,
          4.8,
          4.8,
          4.5,
          4.8,
          4.5,
          4.7,
          4.7,
          4.6,
          4.9,
          4.8,
          4.8,
          4.7,
          4.8,
          4.8,
          4.8,
          4.6,
          4.8,
          4.6,
          4.6,
          4.8,
          4.8,
          4.8,
          4.6,
          4.7,
          4.5,
          4.6,
          4.6,
          4.7,
          4.8,
          4.6,
          4.6,
          4.8,
          4.7,
          4.8,
          4.6,
          4.7,
          4.8,
          4.7,
          4.5,
          4.6,
          4.9,
          4.7,
          4.5,
          4.6,
          4.7,
          4.8,
          4.7,
          4.6,
          4.7,
          4.5,
          4.4,
          4.6,
          4.7,
          4.6,
          4.1,
          4.7,
          4.6,
          4.8,
          4.6,
          4.5,
          4.8,
          4.9,
          4.7,
          4.6,
          4.7,
          4.9,
          4.4,
          4.9,
          4.5,
          4.8,
          4.6,
          4.6,
          4.7,
          4.6,
          4.8,
          4.8,
          4.5,
          4.8,
          4.6,
          4.8,
          4.6,
          4.8,
          4.5,
          4.9,
          4.6,
          4.7,
          4.7,
          4.4,
          4.7,
          4.7,
          4.8,
          4.6,
          4.3,
          4.3,
          4.7,
          4.7,
          4.5,
          4.6,
          4.8,
          4.4,
          4.5,
          4.8,
          4.4,
          4.7,
          4.7,
          4.8,
          4.9,
          4.7,
          4.7,
          4.8,
          4.8,
          4.5,
          4.8,
          4.7,
          4.8,
          4.9,
          4.9,
          4.7,
          4.6,
          4.5,
          4.6,
          4.6,
          4.6,
          4.5,
          4.7,
          4.6,
          4.7,
          4.8,
          4.7,
          4.8,
          4.3,
          4.8,
          4.6,
          4.6,
          4.8,
          4.9,
          4.7,
          4.7,
          4.7,
          4.6,
          4.6,
          4.7,
          4.9,
          4.7,
          4.7,
          4.5,
          4.6,
          4.5,
          4.8,
          4.7,
          4.6,
          4.4,
          4.7,
          4.6,
          4.3,
          4.5,
          4.6,
          4.7,
          4.7,
          4.8,
          4.3,
          4.6,
          4.9,
          4.8,
          4.7,
          4.7,
          4.8,
          4.8,
          4.8,
          4.7,
          4.7,
          4.8,
          4.8,
          4.6,
          4.4,
          4.6,
          4.7,
          4.8,
          4.6,
          4.8,
          4.6,
          4.9,
          4.7,
          4.7,
          4.7,
          4.8,
          4.8,
          4.6,
          4.7,
          4.7,
          4.6,
          4.8,
          4.6,
          4.6,
          4.7,
          4.2,
          4.7,
          4.6,
          4.7,
          4.6,
          4.8,
          4.8,
          4.6,
          4.8,
          4.9,
          4.8,
          4.7,
          4.7,
          4.6,
          4.5,
          4.4,
          4.9,
          4.7,
          4.7,
          4.8,
          4.6,
          4.6,
          4.4,
          4.7,
          4.8,
          4.8,
          4.7,
          4.8,
          4.7,
          4.8,
          4.6,
          4.6,
          4.6,
          4.6,
          4.8,
          4.7,
          4.6,
          4.6,
          4.8,
          4.8,
          4.9,
          4.6,
          4.7,
          4.7,
          4.7,
          4.6,
          4.7,
          4.7,
          4.7,
          4.7,
          4.6,
          4.8,
          4.8,
          4.8,
          4.7,
          4.7,
          4.7,
          4.8,
          4.3,
          4.6,
          4.5,
          4.7,
          4.9,
          4.9,
          4.8,
          4.8,
          4.8,
          4.6,
          4.7,
          4.5,
          4.7,
          4.6,
          4.8,
          4.8,
          4.8,
          4.8,
          4.8,
          4.6,
          4.8,
          4.9,
          4.8,
          4.8,
          4.7,
          4.8,
          4.7,
          4.6,
          4.6,
          4.3,
          4.7,
          4.6,
          4.7,
          4.8,
          4.8,
          4.9,
          4.8,
          4.8,
          4.7,
          4.9,
          4.2,
          4.8,
          4.8,
          4.7,
          4.7,
          4.3,
          4.7,
          4.7,
          4.7,
          4.7,
          4.7,
          4.9,
          4.4,
          4.9,
          4.7,
          4.5,
          4.6,
          4.5,
          4.8,
          4.6,
          4.7
         ],
         "yaxis": "y"
        },
        {
         "customdata": [
          [
           "A Crash Course in Causality:  Inferring Causal Effects from Observational Data",
           "University of Pennsylvania"
          ],
          [
           "A Crash Course in Data Science",
           "Johns Hopkins University"
          ],
          [
           "A Law Student's Toolkit",
           "Yale University"
          ],
          [
           "A Life of Happiness and Fulfillment",
           "Indian School of Business"
          ],
          [
           "AI For Medical Treatment",
           "deeplearning.ai"
          ],
          [
           "AI for Medical Diagnosis",
           "deeplearning.ai"
          ],
          [
           "AI for Medical Prognosis",
           "deeplearning.ai"
          ],
          [
           "AI for Medicine",
           "deeplearning.ai"
          ],
          [
           "AWS Fundamentals: Migrating to the Cloud",
           "Amazon Web Services"
          ],
          [
           "Aboriginal Worldviews and Education",
           "University of Toronto"
          ],
          [
           "Accelerated Computer Science Fundamentals",
           "University of Illinois at Urbana-Champaign"
          ],
          [
           "Accounting Analytics",
           "University of Pennsylvania"
          ],
          [
           "Accounting for Decision Making",
           "University of Michigan"
          ],
          [
           "Actualización en el manejo del paciente con diabetes mellitus tipo 2",
           "Universidad Nacional Autónoma de México"
          ],
          [
           "Advanced Business Analytics",
           "University of Colorado Boulder"
          ],
          [
           "Advanced Data Science with IBM",
           "IBM"
          ],
          [
           "Advanced Machine Learning",
           "National Research University Higher School of Economics"
          ],
          [
           "Advanced Machine Learning with TensorFlow on Google Cloud Platform",
           "Google Cloud"
          ],
          [
           "Advanced Valuation and Strategy - M&A, Private Equity, and Venture Capital",
           "Erasmus University Rotterdam"
          ],
          [
           "Advertising and Society",
           "Duke University"
          ],
          [
           "Algorithmic Toolbox",
           "University of California San Diego"
          ],
          [
           "Algorithms",
           "Stanford University"
          ],
          [
           "Algorithms for Battery Management Systems",
           "University of Colorado System"
          ],
          [
           "Anatomy of the Chest, Abdomen, and Pelvis",
           "Yale University"
          ],
          [
           "Ancient Philosophy: Aristotle and His Successors",
           "University of Pennsylvania"
          ],
          [
           "Animal Behaviour and Welfare",
           "The University of Edinburgh"
          ],
          [
           "Antibiotic Stewardship",
           "Stanford University"
          ],
          [
           "Antimicrobial resistance - theory and methods",
           "Technical University of Denmark (DTU)"
          ],
          [
           "Applied Data Science Capstone",
           "IBM"
          ],
          [
           "Applied Data Science with Python",
           "University of Michigan"
          ],
          [
           "Applied Machine Learning in Python",
           "University of Michigan"
          ],
          [
           "Applied Plotting, Charting & Data Representation in Python",
           "University of Michigan"
          ],
          [
           "Aprender",
           "Universidad Nacional Autónoma de México"
          ],
          [
           "Architecting with Google Cloud Platform 日本語版",
           "Google Cloud"
          ],
          [
           "Architecting with Google Compute Engine",
           "Google Cloud"
          ],
          [
           "Art & Activity: Interactive Strategies for Engaging with Art",
           "The Museum of Modern Art"
          ],
          [
           "Art & Ideas: Teaching with Themes",
           "The Museum of Modern Art"
          ],
          [
           "Arts and Culture Strategy",
           "National Arts Strategies"
          ],
          [
           "Arts and Heritage Management",
           "Università Bocconi"
          ],
          [
           "Astrobiology and the Search for Extraterrestrial Life",
           "The University of Edinburgh"
          ],
          [
           "Atención Primaria en Salud: El desafío de las Enfermedades no Transmisibles",
           "Pontificia Universidad Católica de Chile"
          ],
          [
           "Autism Spectrum Disorder",
           "University of California, Davis"
          ],
          [
           "Autodesk CAD/CAM for Manufacturing",
           "Autodesk"
          ],
          [
           "Autodesk CAD/CAM/CAE for Mechanical Engineering",
           "Autodesk"
          ],
          [
           "Autodesk Certified Professional: AutoCAD for Design and Drafting Exam Prep",
           "Autodesk"
          ],
          [
           "Autodesk Certified Professional: Revit for Architectural Design Exam Prep",
           "Autodesk"
          ],
          [
           "Bayesian Statistics: From Concept to Data Analysis",
           "University of California, Santa Cruz"
          ],
          [
           "Bayesian Statistics: Techniques and Models",
           "University of California, Santa Cruz"
          ],
          [
           "Become a CBRS Certified Professional Installer by Google",
           "Google - Spectrum Sharing"
          ],
          [
           "Become a Sustainable Business Change Agent",
           "University of Colorado System"
          ],
          [
           "Behavioral Finance",
           "Duke University"
          ],
          [
           "Beyond the Sustainable Development Goals (SDGs): Addressing Sustainability and Development",
           "University of Michigan"
          ],
          [
           "Blended Language Learning: Design and Practice for Teachers",
           "University of Colorado Boulder"
          ],
          [
           "Blockchain",
           "University at Buffalo"
          ],
          [
           "Budgeting and Scheduling Projects",
           "University of California, Irvine"
          ],
          [
           "Build a Modern Computer from First Principles: From Nand to Tetris (Project-Centered Course)",
           "Hebrew University of Jerusalem"
          ],
          [
           "Building Batch Data Pipelines on GCP",
           "Google Cloud"
          ],
          [
           "Building Resilient Streaming Analytics Systems on GCP",
           "Google Cloud"
          ],
          [
           "Building Scalable Java Microservices with Spring Boot and Spring Cloud",
           "Google Cloud"
          ],
          [
           "Building Your Leadership Skills",
           "HEC Paris"
          ],
          [
           "Business English",
           "Arizona State University"
          ],
          [
           "Business English Communication Skills",
           "University of Washington"
          ],
          [
           "Business English: Networking",
           "University of Washington"
          ],
          [
           "Business Model Innovation",
           "HEC Paris"
          ],
          [
           "Cameras, Exposure, and Photography",
           "Michigan State University"
          ],
          [
           "Capstone: Retrieving, Processing, and Visualizing Data with Python",
           "University of Michigan"
          ],
          [
           "Chicken Behaviour and Welfare",
           "The University of Edinburgh"
          ],
          [
           "Classical Sociological Theory",
           "University of Amsterdam"
          ],
          [
           "Cloud Computing",
           "University of Illinois at Urbana-Champaign"
          ],
          [
           "Cloud Engineering with Google Cloud",
           "Google Cloud"
          ],
          [
           "Coaching Skills for Managers",
           "University of California, Davis"
          ],
          [
           "Competitive Strategy and Organization Design",
           "Ludwig-Maximilians-Universität München (LMU)"
          ],
          [
           "Control of Mobile Robots",
           "Georgia Institute of Technology"
          ],
          [
           "Convolutional Neural Networks",
           "deeplearning.ai"
          ],
          [
           "Convolutional Neural Networks in TensorFlow",
           "deeplearning.ai"
          ],
          [
           "Corporate & Commercial Law I: Contracts & Employment Law",
           "University of Illinois at Urbana-Champaign"
          ],
          [
           "Corporate Finance Essentials",
           "IESE Business School"
          ],
          [
           "Corporate Sustainability. Understanding and Seizing the Strategic Opportunity",
           "Università Bocconi"
          ],
          [
           "Costos para los Negocios",
           "Universidad de Chile"
          ],
          [
           "Creative Problem Solving",
           "University of Minnesota"
          ],
          [
           "Creative Writing: The Craft of Plot",
           "Wesleyan University"
          ],
          [
           "Cuidado de heridas en el ámbito hospitalario",
           "Universidad Nacional Autónoma de México"
          ],
          [
           "Cuidados y procedimientos generales en la atención del recién nacido",
           "Universidad de Chile"
          ],
          [
           "Cybersecurity",
           "University of Maryland, College Park"
          ],
          [
           "Dairy Production and Management",
           "The Pennsylvania State University"
          ],
          [
           "Data Collection and Processing with Python",
           "University of Michigan"
          ],
          [
           "Data Engineering on Google Cloud Platform 日本語版",
           "Google Cloud"
          ],
          [
           "Data Engineering with Google Cloud",
           "Google Cloud"
          ],
          [
           "Data Engineering, Big Data, and Machine Learning on GCP",
           "Google Cloud"
          ],
          [
           "Data Mining",
           "University of Illinois at Urbana-Champaign"
          ],
          [
           "Data Science: Statistics and Machine Learning",
           "Johns Hopkins University"
          ],
          [
           "Data Visualization and Communication with Tableau",
           "Duke University"
          ],
          [
           "Data Visualization with Python",
           "IBM"
          ],
          [
           "Data Warehousing for Business Intelligence",
           "University of Colorado System"
          ],
          [
           "Decision-Making and Scenarios",
           "University of Pennsylvania"
          ],
          [
           "Deep Learning",
           "deeplearning.ai"
          ],
          [
           "Design and Interpretation of Clinical Trials",
           "Johns Hopkins University"
          ],
          [
           "Design and Make Infographics (Project-Centered Course)",
           "Michigan State University"
          ],
          [
           "Design-Led Strategy: Design thinking for business strategy and entrepreneurship",
           "The University of Sydney"
          ],
          [
           "Developing APIs with Google Cloud's Apigee API Platform",
           "Google Cloud"
          ],
          [
           "Developing Applications with Google Cloud Platform",
           "Google Cloud"
          ],
          [
           "Developing Applications with Google Cloud Platform 日本語版",
           "Google Cloud"
          ],
          [
           "Developing Industrial Internet of Things",
           "University of Colorado Boulder"
          ],
          [
           "Developing Your Musicianship",
           "Berklee College of Music"
          ],
          [
           "Devenir entrepreneur du changement",
           "Ticket for Change"
          ],
          [
           "Digital Media and Marketing Strategies",
           "University of Illinois at Urbana-Champaign"
          ],
          [
           "Discrete Optimization",
           "The University of Melbourne"
          ],
          [
           "Divide and Conquer, Sorting and Searching, and Randomized Algorithms",
           "Stanford University"
          ],
          [
           "Dog Emotion and Cognition",
           "Duke University"
          ],
          [
           "Ecology: Ecosystem Dynamics and Conservation",
           "American Museum of Natural History"
          ],
          [
           "Econometrics: Methods and Applications",
           "Erasmus University Rotterdam"
          ],
          [
           "Economics of Money and Banking",
           "Columbia University"
          ],
          [
           "Ecosystem Services: a Method for Sustainable Development",
           "University of Geneva"
          ],
          [
           "Effective Compliance Programs",
           "University of Pennsylvania"
          ],
          [
           "Elastic Google Cloud Infrastructure: Scaling and Automation",
           "Google Cloud"
          ],
          [
           "Electronic Music Production",
           "Berklee College of Music"
          ],
          [
           "English for Career Development",
           "University of Pennsylvania"
          ],
          [
           "English for Journalism",
           "University of Pennsylvania"
          ],
          [
           "English for Research Publication Purposes",
           "Moscow Institute of Physics and Technology"
          ],
          [
           "Entrepreneurial Finance: Strategy and Innovation",
           "Duke University"
          ],
          [
           "Entrepreneurship 1: Developing the Opportunity",
           "University of Pennsylvania"
          ],
          [
           "Entrepreneurship 2: Launching your Start-Up",
           "University of Pennsylvania"
          ],
          [
           "Epidemics - the Dynamics of Infectious Diseases",
           "The Pennsylvania State University"
          ],
          [
           "Epidemics, Pandemics and Outbreaks",
           "University of Pittsburgh"
          ],
          [
           "Epidemiology: The Basic Science of Public Health",
           "The University of North Carolina at Chapel Hill"
          ],
          [
           "Epigenetic Control of Gene Expression",
           "The University of Melbourne"
          ],
          [
           "Essential Google Cloud Infrastructure: Core Services",
           "Google Cloud"
          ],
          [
           "Essential Google Cloud Infrastructure: Foundation",
           "Google Cloud"
          ],
          [
           "Essentials in Clinical Simulations Across the Health Professions",
           "The George Washington University"
          ],
          [
           "Essentials of Corporate Finance",
           "The University of Melbourne"
          ],
          [
           "Essentials of Global Health",
           "Yale University"
          ],
          [
           "Excel Skills for Business: Advanced",
           "Macquarie University"
          ],
          [
           "Excel Skills for Business: Intermediate I",
           "Macquarie University"
          ],
          [
           "Excel Skills for Business: Intermediate II",
           "Macquarie University"
          ],
          [
           "Finance for Non-Financial Managers",
           "Emory University"
          ],
          [
           "Financial Engineering and Risk Management Part I",
           "Columbia University"
          ],
          [
           "Financial Management",
           "University of Illinois at Urbana-Champaign"
          ],
          [
           "Financial Reporting",
           "University of Illinois at Urbana-Champaign"
          ],
          [
           "Financing and Investing in Infrastructure",
           "Università Bocconi"
          ],
          [
           "Finanzas corporativas",
           "Universidad Nacional Autónoma de México"
          ],
          [
           "Finanzas personales",
           "Universidad Nacional Autónoma de México"
          ],
          [
           "Food & Beverage Management",
           "Università Bocconi"
          ],
          [
           "Forensic Accounting and Fraud Examination",
           "West Virginia University"
          ],
          [
           "Formulación y evaluación de proyectos complejos",
           "Universidad de los Andes"
          ],
          [
           "Foundations of Everyday Leadership",
           "University of Illinois at Urbana-Champaign"
          ],
          [
           "Foundations of Marketing Analytics",
           "Emory University"
          ],
          [
           "Front-End Web Development with React",
           "The Hong Kong University of Science and Technology"
          ],
          [
           "Front-End Web UI Frameworks and Tools: Bootstrap 4",
           "The Hong Kong University of Science and Technology"
          ],
          [
           "Full Stack Web and Multiplatform Mobile App Development",
           "The Hong Kong University of Science and Technology"
          ],
          [
           "Full-Stack Web Development with React",
           "The Hong Kong University of Science and Technology"
          ],
          [
           "Functional Programming Principles in Scala",
           "École Polytechnique Fédérale de Lausanne"
          ],
          [
           "Functional Programming in Scala",
           "École Polytechnique Fédérale de Lausanne"
          ],
          [
           "Fundamentals of Engineering Exam Review",
           "Georgia Institute of Technology"
          ],
          [
           "Fundamentals of Immunology",
           "Rice University"
          ],
          [
           "Fundamentals of Immunology: Innate Immunity and B-Cell Function",
           "Rice University"
          ],
          [
           "Fundamentals of Quantitative Modeling",
           "University of Pennsylvania"
          ],
          [
           "Fundamentals of Reinforcement Learning",
           "University of Alberta"
          ],
          [
           "Game Design and Development",
           "Michigan State University"
          ],
          [
           "Gamification",
           "University of Pennsylvania"
          ],
          [
           "Genomic Data Science",
           "Johns Hopkins University"
          ],
          [
           "Geopolitics of Europe",
           "Sciences Po"
          ],
          [
           "Geopolítica y gobernanza global: riesgos y oportunidades",
           "ESADE Business and Law School"
          ],
          [
           "Gestión de organizaciones efectivas",
           "Pontificia Universidad Católica de Chile"
          ],
          [
           "Getting Started with AWS Machine Learning",
           "Amazon Web Services"
          ],
          [
           "Getting Started with Go",
           "University of California, Irvine"
          ],
          [
           "Getting Started with Google Kubernetes Engine",
           "Google Cloud"
          ],
          [
           "Global Diplomacy – Diplomacy in the Modern World",
           "SOAS University of London"
          ],
          [
           "Global Environmental Management",
           "Technical University of Denmark (DTU)"
          ],
          [
           "Global Financial Markets and Instruments",
           "Rice University"
          ],
          [
           "Global Financing Solutions  (by EDHEC and Société Générale)",
           "EDHEC Business School"
          ],
          [
           "Global Trends for Business and Society",
           "University of Pennsylvania"
          ],
          [
           "Globalization, Economic Growth and Stability",
           "IE Business School"
          ],
          [
           "Google Cloud Platform Big Data and Machine Learning Fundamentals",
           "Google Cloud"
          ],
          [
           "Google Cloud Platform Fundamentals for AWS Professionals",
           "Google Cloud"
          ],
          [
           "Grammar and Punctuation",
           "University of California, Irvine"
          ],
          [
           "Greek and Roman Mythology",
           "University of Pennsylvania"
          ],
          [
           "Guitar for Beginners",
           "Berklee College of Music"
          ],
          [
           "Gut Check: Exploring Your Microbiome",
           "University of California San Diego"
          ],
          [
           "HTML, CSS, and Javascript for Web Developers",
           "Johns Hopkins University"
          ],
          [
           "Hacia una práctica constructivista en el aula",
           "Pontificia Universidad Católica de Chile"
          ],
          [
           "Hardware Description Languages for FPGA Design",
           "University of Colorado Boulder"
          ],
          [
           "Healing with the Arts",
           "University of Florida"
          ],
          [
           "Health Information Literacy for Data Analytics",
           "University of California, Davis"
          ],
          [
           "Healthcare Law",
           "University of Pennsylvania"
          ],
          [
           "High Performance Collaboration: Leadership, Teamwork, and Negotiation",
           "Northwestern University"
          ],
          [
           "How Things Work: An Introduction to Physics",
           "University of Virginia"
          ],
          [
           "How To Create a Website in a Weekend! (Project-Centered Course)",
           "The State University of New York"
          ],
          [
           "IBM AI Engineering",
           "IBM"
          ],
          [
           "IBM AI Enterprise Workflow",
           "IBM"
          ],
          [
           "Indigenous Canada",
           "University of Alberta"
          ],
          [
           "Infectious Disease Modelling",
           "Imperial College London"
          ],
          [
           "Influencer Marketing Strategy",
           "Rutgers the State University of New Jersey"
          ],
          [
           "Initiating and Planning Projects",
           "University of California, Irvine"
          ],
          [
           "Inspired Leadership",
           "Case Western Reserve University"
          ],
          [
           "Inspiring and Motivating Individuals",
           "University of Michigan"
          ],
          [
           "Instructional Design Foundations and Applications",
           "University of Illinois at Urbana-Champaign"
          ],
          [
           "Instructional Methods in Health Professions Education",
           "University of Michigan"
          ],
          [
           "Intellectual Property Law",
           "University of Pennsylvania"
          ],
          [
           "Interaction Design",
           "University of California San Diego"
          ],
          [
           "International Business Essentials",
           "University of London"
          ],
          [
           "International Cyber Conflicts",
           "The State University of New York"
          ],
          [
           "International Law in Action: A Guide to the International Courts and Tribunals in The Hague",
           "Universiteit Leiden"
          ],
          [
           "International Law in Action: the Arbitration of International Disputes",
           "Universiteit Leiden"
          ],
          [
           "International Leadership and Organizational Behavior",
           "Università Bocconi"
          ],
          [
           "Internet Giants: The Law and Economics of Media Platforms",
           "The University of Chicago"
          ],
          [
           "Interviewing and Resume Writing in English",
           "University of Maryland, College Park"
          ],
          [
           "Introduction aux Droits de l’Homme",
           "University of Geneva"
          ],
          [
           "Introduction to Ableton Live",
           "Berklee College of Music"
          ],
          [
           "Introduction to Big Data",
           "University of California San Diego"
          ],
          [
           "Introduction to Breast Cancer",
           "Yale University"
          ],
          [
           "Introduction to Business Analytics: Communicating with Data",
           "University of Illinois at Urbana-Champaign"
          ],
          [
           "Introduction to CSS3",
           "University of Michigan"
          ],
          [
           "Introduction to Calculus",
           "The University of Sydney"
          ],
          [
           "Introduction to Classical Music",
           "Yale University"
          ],
          [
           "Introduction to Corporate Finance",
           "University of Pennsylvania"
          ],
          [
           "Introduction to Data Analysis Using Excel",
           "Rice University"
          ],
          [
           "Introduction to Data Science in Python",
           "University of Michigan"
          ],
          [
           "Introduction to Electronics",
           "Georgia Institute of Technology"
          ],
          [
           "Introduction to Embedded Systems Software and Development Environments",
           "University of Colorado Boulder"
          ],
          [
           "Introduction to Engineering Mechanics",
           "Georgia Institute of Technology"
          ],
          [
           "Introduction to Environmental Law and Policy",
           "The University of North Carolina at Chapel Hill"
          ],
          [
           "Introduction to Financial Accounting",
           "University of Pennsylvania"
          ],
          [
           "Introduction to Forensic Science",
           "Nanyang Technological University, Singapore"
          ],
          [
           "Introduction to Game Development",
           "Michigan State University"
          ],
          [
           "Introduction to Genetics and Evolution",
           "Duke University"
          ],
          [
           "Introduction to Genomic Technologies",
           "Johns Hopkins University"
          ],
          [
           "Introduction to HTML5",
           "University of Michigan"
          ],
          [
           "Introduction to International Criminal Law",
           "Case Western Reserve University"
          ],
          [
           "Introduction to Marketing",
           "University of Pennsylvania"
          ],
          [
           "Introduction to Mathematical Thinking",
           "Stanford University"
          ],
          [
           "Introduction to Operations Management",
           "University of Pennsylvania"
          ],
          [
           "Introduction to Philosophy",
           "The University of Edinburgh"
          ],
          [
           "Introduction to Portfolio Construction and Analysis with Python",
           "EDHEC Business School"
          ],
          [
           "Introduction to Self-Driving Cars",
           "University of Toronto"
          ],
          [
           "Introduction to Spreadsheets and Models",
           "University of Pennsylvania"
          ],
          [
           "Introduction to Sustainability",
           "University of Illinois at Urbana-Champaign"
          ],
          [
           "Introduction to Systematic Review and Meta-Analysis",
           "Johns Hopkins University"
          ],
          [
           "Introduction to Systems Engineering",
           "UNSW Sydney (The University of New South Wales)"
          ],
          [
           "Introduction to TensorFlow for Artificial Intelligence, Machine Learning, and Deep Learning",
           "deeplearning.ai"
          ],
          [
           "Introduction to Trading, Machine Learning & GCP",
           "New York Institute of Finance"
          ],
          [
           "Introductory Human Physiology",
           "Duke University"
          ],
          [
           "Kotlin for Java Developers",
           "JetBrains"
          ],
          [
           "Leadership in 21st Century Organizations",
           "Copenhagen Business School"
          ],
          [
           "Leading for Equity, Diversity and Inclusion in Higher Education",
           "University of Michigan"
          ],
          [
           "Leading: Human Resource Management and Leadership",
           "Macquarie University"
          ],
          [
           "Learn English: Advanced Academic Speaking and Listening",
           "University of California, Irvine"
          ],
          [
           "Learn English: Advanced Grammar and Punctuation",
           "University of California, Irvine"
          ],
          [
           "Learn English: Intermediate Grammar",
           "University of California, Irvine"
          ],
          [
           "Legal Tech & Startups",
           "IE Business School"
          ],
          [
           "Liderazgo efectivo para el siglo XXI",
           "Universidad de los Andes"
          ],
          [
           "Linear Circuits 1: DC Analysis",
           "Georgia Institute of Technology"
          ],
          [
           "Machine Learning",
           "University of Washington"
          ],
          [
           "Machine Learning",
           "Stanford University"
          ],
          [
           "Machine Learning Foundations: A Case Study Approach",
           "University of Washington"
          ],
          [
           "Machine Learning and Reinforcement Learning in Finance",
           "New York University"
          ],
          [
           "Machine Learning for Business Professionals",
           "Google Cloud"
          ],
          [
           "Machine Learning for Trading",
           "Google Cloud"
          ],
          [
           "Machine Learning with Python",
           "IBM"
          ],
          [
           "Machine Learning with TensorFlow on Google Cloud Platform",
           "Google Cloud"
          ],
          [
           "Management of Fashion and Luxury Companies",
           "Università Bocconi"
          ],
          [
           "Managing Project Risks and Changes",
           "University of California, Irvine"
          ],
          [
           "Marketing Gerencial",
           "Universidad de Chile"
          ],
          [
           "Marketing Verde",
           "Universidad de los Andes"
          ],
          [
           "Marketing con Redes Sociales",
           "Tecnológico de Monterrey"
          ],
          [
           "Mastering Data Analysis in Excel",
           "Duke University"
          ],
          [
           "Materials Science: 10 Things Every Engineer Should Know",
           "University of California, Davis"
          ],
          [
           "Mathematics for Machine Learning: PCA",
           "Imperial College London"
          ],
          [
           "Medical Neuroscience",
           "Duke University"
          ],
          [
           "Microeconomics: The Power of Markets",
           "University of Pennsylvania"
          ],
          [
           "Model Thinking",
           "University of Michigan"
          ],
          [
           "Modeling Risk and Realities",
           "University of Pennsylvania"
          ],
          [
           "Modern Robotics:  Mechanics, Planning, and Control",
           "Northwestern University"
          ],
          [
           "Modernizing Data Lakes and Data Warehouses with GCP",
           "Google Cloud"
          ],
          [
           "Moral Foundations of Politics",
           "Yale University"
          ],
          [
           "More Introduction to Financial Accounting",
           "University of Pennsylvania"
          ],
          [
           "Mountains 101",
           "University of Alberta"
          ],
          [
           "Municipal Solid Waste Management in Developing Countries",
           "École Polytechnique Fédérale de Lausanne"
          ],
          [
           "Music Business Foundations",
           "Berklee College of Music"
          ],
          [
           "Nanotechnology: A Maker’s Course",
           "Duke University"
          ],
          [
           "Natural Language Processing in TensorFlow",
           "deeplearning.ai"
          ],
          [
           "Negociación exitosa: Estrategias y habilidades esenciales (en español)",
           "University of Michigan"
          ],
          [
           "Networking and Security Architecture with VMware NSX",
           "VMware"
          ],
          [
           "Networking in Google Cloud",
           "Google Cloud"
          ],
          [
           "Neural Networks and Deep Learning",
           "deeplearning.ai"
          ],
          [
           "Neurolinguistics",
           "Saint Petersburg State University"
          ],
          [
           "Nutrition and Lifestyle in Pregnancy",
           "Ludwig-Maximilians-Universität München (LMU)"
          ],
          [
           "Object Oriented Java Programming: Data Structures and Beyond",
           "University of California San Diego"
          ],
          [
           "Object-Oriented Data Structures in C++",
           "University of Illinois at Urbana-Champaign"
          ],
          [
           "Object-Oriented Design",
           "University of Alberta"
          ],
          [
           "Oil & Gas Industry Operations and Markets",
           "Duke University"
          ],
          [
           "Operations Analytics",
           "University of Pennsylvania"
          ],
          [
           "Optical Engineering",
           "University of Colorado Boulder"
          ],
          [
           "Organizational Leadership",
           "Northwestern University"
          ],
          [
           "Parallel, Concurrent, and Distributed Programming in Java",
           "Rice University"
          ],
          [
           "Particle Physics: an Introduction",
           "University of Geneva"
          ],
          [
           "People Analytics",
           "University of Pennsylvania"
          ],
          [
           "Perfect Tenses and Modals",
           "University of California, Irvine"
          ],
          [
           "Positive Psychiatry and Mental Health",
           "The University of Sydney"
          ],
          [
           "Positive Psychology",
           "The University of North Carolina at Chapel Hill"
          ],
          [
           "Power Electronics",
           "University of Colorado Boulder"
          ],
          [
           "Practical Time Series Analysis",
           "The State University of New York"
          ],
          [
           "Preparing to Manage Human Resources",
           "University of Minnesota"
          ],
          [
           "Primeros Auxilios Psicológicos (PAP)",
           "Universitat Autònoma de Barcelona"
          ],
          [
           "Private Equity and Venture Capital",
           "Università Bocconi"
          ],
          [
           "Probabilistic Graphical Models 1: Representation",
           "Stanford University"
          ],
          [
           "Process Mining: Data science in Action",
           "Eindhoven University of Technology"
          ],
          [
           "Programming for Everybody (Getting Started with Python)",
           "University of Michigan"
          ],
          [
           "Programming with Google Go",
           "University of California, Irvine"
          ],
          [
           "Psychological First Aid",
           "Johns Hopkins University"
          ],
          [
           "Python Classes and Inheritance",
           "University of Michigan"
          ],
          [
           "Python Data Structures",
           "University of Michigan"
          ],
          [
           "Python and Statistics for Financial Analysis",
           "The Hong Kong University of Science and Technology"
          ],
          [
           "Quantitative Methods",
           "University of Amsterdam"
          ],
          [
           "R Programming",
           "Johns Hopkins University"
          ],
          [
           "Recommender Systems",
           "University of Minnesota"
          ],
          [
           "Recruiting, Hiring, and Onboarding Employees",
           "University of Minnesota"
          ],
          [
           "Reinforcement Learning",
           "University of Alberta"
          ],
          [
           "Research Data Management and Sharing",
           "The University of Edinburgh"
          ],
          [
           "Resilience in Children Exposed to Trauma, Disaster and War: Global Perspectives",
           "University of Minnesota"
          ],
          [
           "Rethinking International Tax Law",
           "Universiteit Leiden"
          ],
          [
           "Revisão Sistemática e Meta-análise",
           "Universidade Estadual de Campinas"
          ],
          [
           "Réussir le Changement",
           "ESSEC Business School"
          ],
          [
           "Sample-based Learning Methods",
           "University of Alberta"
          ],
          [
           "Scaling Operations: Linking Strategy and Execution",
           "Northwestern University"
          ],
          [
           "Search Engine Optimization Fundamentals",
           "University of California, Davis"
          ],
          [
           "Secure Coding Practices",
           "University of California, Davis"
          ],
          [
           "Security in Google Cloud Platform",
           "Google Cloud"
          ],
          [
           "Self-Driving Cars",
           "University of Toronto"
          ],
          [
           "Sequence Models",
           "deeplearning.ai"
          ],
          [
           "Site Reliability Engineering: Measuring and Managing Reliability",
           "Google Cloud"
          ],
          [
           "Six Sigma Green Belt",
           "University System of Georgia"
          ],
          [
           "Six Sigma and the Organization (Advanced)",
           "University System of Georgia"
          ],
          [
           "Social and Economic Networks:  Models and Analysis",
           "Stanford University"
          ],
          [
           "Software Development Lifecycle",
           "University of Minnesota"
          ],
          [
           "Software Processes and Agile Practices",
           "University of Alberta"
          ],
          [
           "Spacecraft Dynamics and Control",
           "University of Colorado Boulder"
          ],
          [
           "Speak English Professionally: In Person, Online & On the Phone",
           "Georgia Institute of Technology"
          ],
          [
           "Sports Marketing",
           "Northwestern University"
          ],
          [
           "Sports and Society",
           "Duke University"
          ],
          [
           "Stories of Infection",
           "Stanford University"
          ],
          [
           "Strategic Business Analytics",
           "ESSEC Business School"
          ],
          [
           "Strategic Management",
           "Copenhagen Business School"
          ],
          [
           "Strategic Sales Management",
           "Fundação Instituto de Administração"
          ],
          [
           "Strategising: Management for Global Competitive Advantage",
           "Macquarie University"
          ],
          [
           "Successful Negotiation: Essential Strategies and Skills",
           "University of Michigan"
          ],
          [
           "Supply Chain Finance and Blockchain Technology",
           "New York Institute of Finance"
          ],
          [
           "Supply Chain Principles",
           "Georgia Institute of Technology"
          ],
          [
           "Supporting children with difficulties in reading and writing",
           "UCL Institute of Education"
          ],
          [
           "Systems Biology and Biotechnology",
           "Icahn School of Medicine at Mount Sinai"
          ],
          [
           "Systems Thinking In Public Health",
           "Johns Hopkins University"
          ],
          [
           "Teach English Now! Foundational Principles",
           "Arizona State University"
          ],
          [
           "Teach English Now! Teaching Language Online",
           "Arizona State University"
          ],
          [
           "Teaching Character and Creating Positive Classrooms",
           "Relay Graduate School of Education"
          ],
          [
           "TensorFlow in Practice",
           "deeplearning.ai"
          ],
          [
           "TensorFlow: Data and Deployment",
           "deeplearning.ai"
          ],
          [
           "The Art of Music Production",
           "Berklee College of Music"
          ],
          [
           "The Changing Global Order",
           "Universiteit Leiden"
          ],
          [
           "The Data Scientist’s Toolbox",
           "Johns Hopkins University"
          ],
          [
           "The Economics of Health Care Delivery",
           "University of Pennsylvania"
          ],
          [
           "The Global Financial Crisis",
           "Yale University"
          ],
          [
           "The Horse Course: Introduction to Basic Care and Management",
           "University of Florida"
          ],
          [
           "The Manager's Toolkit: A Practical Guide to Managing People at Work",
           "Birkbeck, University of London"
          ],
          [
           "The Oral Cavity: Portal to Health and Disease",
           "University of Pennsylvania"
          ],
          [
           "The Power of Macroeconomics: Economic Principles in the Real World",
           "University of California, Irvine"
          ],
          [
           "The Power of Microeconomics: Economic Principles in the Real World",
           "University of California, Irvine"
          ],
          [
           "The Science of Gastronomy",
           "The Hong Kong University of Science and Technology"
          ],
          [
           "The Science of Stem Cells",
           "American Museum of Natural History"
          ],
          [
           "The Science of Well-Being",
           "Yale University"
          ],
          [
           "The Social Context of Mental Health and Illness",
           "University of Toronto"
          ],
          [
           "The Strategy of Content Marketing",
           "University of California, Davis"
          ],
          [
           "The Truth About Cats and Dogs",
           "The University of Edinburgh"
          ],
          [
           "Transmedia Storytelling: Narrative worlds, emerging technologies, and global audiences",
           "UNSW Sydney (The University of New South Wales)"
          ],
          [
           "Troubles du spectre de l'autisme : diagnostic",
           "University of Geneva"
          ],
          [
           "U.S. Federal Taxation",
           "University of Illinois at Urbana-Champaign"
          ],
          [
           "Understanding Clinical Research: Behind the Statistics",
           "University of Cape Town"
          ],
          [
           "Understanding Modern Finance",
           "American Institute of Business and Economics"
          ],
          [
           "Understanding Research Methods",
           "SOAS University of London"
          ],
          [
           "Unity Certified Programmer Exam Preparation",
           "Unity"
          ],
          [
           "Unraveling the Cycling City",
           "University of Amsterdam"
          ],
          [
           "User Interface Design",
           "University of Minnesota"
          ],
          [
           "Using Databases with Python",
           "University of Michigan"
          ],
          [
           "Using Python to Access Web Data",
           "University of Michigan"
          ],
          [
           "Value Chain Management",
           "University of Illinois at Urbana-Champaign"
          ],
          [
           "Version Control with Git",
           "Atlassian"
          ],
          [
           "Viral Marketing and How to Craft Contagious Content",
           "University of Pennsylvania"
          ],
          [
           "Vital Signs: Understanding What the Body Is Telling Us",
           "University of Pennsylvania"
          ],
          [
           "Web Applications for Everybody",
           "University of Michigan"
          ],
          [
           "What future for education?",
           "UCL Institute of Education"
          ],
          [
           "What is Compliance?",
           "University of Pennsylvania"
          ],
          [
           "What is Social?",
           "Northwestern University"
          ],
          [
           "Wonders of Ancient Egypt",
           "University of Pennsylvania"
          ],
          [
           "Write Professional Emails in English",
           "Georgia Institute of Technology"
          ],
          [
           "e-Learning Ecologies: Innovative Approaches to Teaching and Learning for the Digital Age",
           "University of Illinois at Urbana-Champaign"
          ],
          [
           "iOS App Development with Swift",
           "University of Toronto"
          ],
          [
           "Étudier en France: French Intermediate course B1-B2",
           "École Polytechnique"
          ],
          [
           "Искусство разработки на современном C++",
           "E-Learning Development Fund"
          ],
          [
           "Машинное обучение и анализ данных",
           "E-Learning Development Fund"
          ],
          [
           "Основы Digital Маркетинга",
           "National Research University Higher School of Economics"
          ],
          [
           "Основы разработки на C++: белый пояс",
           "E-Learning Development Fund"
          ],
          [
           "Погружение в Python",
           "Moscow Institute of Physics and Technology"
          ],
          [
           "Программирование на Python",
           "Mail.Ru Group"
          ],
          [
           "Психолингвистика (Psycholinguistics)",
           "Saint Petersburg State University"
          ],
          [
           "Разработка интерфейсов: вёрстка и JavaScript",
           "E-Learning Development Fund"
          ],
          [
           "Русский как иностранный",
           "Saint Petersburg State University"
          ]
         ],
         "hovertemplate": "Difficulty=Non-beginner<br>Nº of students enrolled=%{x}<br>Rating=%{y}<br>course_title=%{customdata[0]}<br>course_organization=%{customdata[1]}<extra></extra>",
         "legendgroup": "Non-beginner",
         "marker": {
          "color": "#808000",
          "symbol": "circle"
         },
         "mode": "markers",
         "name": "Non-beginner",
         "orientation": "v",
         "showlegend": true,
         "type": "scatter",
         "x": [
          17000,
          130000,
          91000,
          320000,
          2400,
          12000,
          4000,
          13000,
          13000,
          6600,
          22000,
          80000,
          9900,
          23000,
          78000,
          320000,
          190000,
          35000,
          29000,
          14000,
          220000,
          150000,
          14000,
          36000,
          8100,
          71000,
          11000,
          63000,
          42000,
          480000,
          150000,
          97000,
          200000,
          4200,
          310000,
          79000,
          31000,
          15000,
          15000,
          66000,
          33000,
          56000,
          7300,
          9200,
          22000,
          9700,
          91000,
          29000,
          210000,
          4200,
          55000,
          2300,
          1900,
          68000,
          84000,
          95000,
          7300,
          5800,
          24000,
          67000,
          38000,
          120000,
          77000,
          13000,
          130000,
          82000,
          19000,
          51000,
          110000,
          310000,
          37000,
          350000,
          49000,
          240000,
          46000,
          10000,
          56000,
          10000,
          43000,
          140000,
          120000,
          26000,
          22000,
          99000,
          23000,
          19000,
          3000,
          120000,
          120000,
          140000,
          210000,
          130000,
          66000,
          140000,
          31000,
          690000,
          67000,
          97000,
          19000,
          16000,
          300000,
          4000,
          8000,
          41000,
          54000,
          57000,
          40000,
          130000,
          150000,
          18000,
          110000,
          83000,
          16000,
          3400,
          57000,
          110000,
          760000,
          130000,
          42000,
          7900,
          86000,
          38000,
          45000,
          23000,
          130000,
          35000,
          68000,
          83000,
          4100,
          54000,
          31000,
          39000,
          76000,
          39000,
          12000,
          100000,
          76000,
          12000,
          24000,
          30000,
          310000,
          57000,
          42000,
          4400,
          62000,
          27000,
          45000,
          89000,
          150000,
          140000,
          170000,
          220000,
          49000,
          20000,
          18000,
          110000,
          22000,
          100000,
          110000,
          80000,
          19000,
          34000,
          47000,
          73000,
          59000,
          75000,
          79000,
          22000,
          37000,
          3600,
          7600,
          44000,
          120000,
          36000,
          430000,
          260000,
          210000,
          62000,
          240000,
          62000,
          7400,
          39000,
          5400,
          1700,
          46000,
          170000,
          140000,
          140000,
          3500,
          51000,
          1600,
          12000,
          180000,
          97000,
          85000,
          12000,
          9700,
          8700,
          150000,
          22000,
          25000,
          36000,
          19000,
          41000,
          38000,
          66000,
          46000,
          60000,
          160000,
          27000,
          14000,
          84000,
          53000,
          150000,
          130000,
          99000,
          390000,
          110000,
          41000,
          150000,
          34000,
          200000,
          47000,
          79000,
          74000,
          42000,
          220000,
          82000,
          220000,
          270000,
          87000,
          370000,
          11000,
          39000,
          76000,
          69000,
          67000,
          33000,
          150000,
          13000,
          270000,
          37000,
          34000,
          5900,
          16000,
          78000,
          52000,
          120000,
          7200,
          23000,
          29000,
          290000,
          3200000,
          240000,
          29000,
          58000,
          15000,
          120000,
          72000,
          120000,
          71000,
          49000,
          58000,
          60000,
          280000,
          48000,
          33000,
          170000,
          34000,
          130000,
          36000,
          21000,
          9100,
          100000,
          40000,
          44000,
          59000,
          34000,
          21000,
          40000,
          95000,
          17000,
          290000,
          630000,
          41000,
          35000,
          250000,
          21000,
          33000,
          57000,
          80000,
          6200,
          92000,
          30000,
          42000,
          84000,
          79000,
          72000,
          180000,
          67000,
          39000,
          68000,
          280000,
          79000,
          68000,
          39000,
          1300000,
          18000,
          190000,
          21000,
          420000,
          41000,
          69000,
          480000,
          29000,
          35000,
          23000,
          16000,
          15000,
          36000,
          17000,
          33000,
          6800,
          12000,
          47000,
          6400,
          300000,
          39000,
          14000,
          16000,
          18000,
          15000,
          42000,
          34000,
          60000,
          12000,
          430000,
          12000,
          16000,
          28000,
          60000,
          58000,
          9200,
          30000,
          750000,
          4900,
          29000,
          50000,
          48000,
          33000,
          81000,
          8500,
          53000,
          170000,
          12000,
          47000,
          23000,
          420000,
          7200,
          84000,
          29000,
          47000,
          9400,
          180000,
          120000,
          50000,
          12000,
          2500000,
          19000,
          100000,
          33000,
          45000,
          5400,
          12000,
          78000,
          11000,
          120000,
          6100,
          3900,
          43000,
          220000,
          310000,
          63000,
          40000,
          150000,
          190000,
          120000,
          35000,
          6200,
          94000,
          17000,
          270000,
          17000,
          76000,
          190000,
          68000,
          77000,
          19000,
          41000,
          45000,
          52000,
          21000,
          30000,
          9800
         ],
         "xaxis": "x2",
         "y": [
          4.7,
          4.5,
          4.7,
          4.8,
          4.8,
          4.7,
          4.6,
          4.7,
          4.5,
          4.7,
          4.7,
          4.5,
          4.8,
          4.8,
          4.5,
          4.4,
          4.5,
          4.5,
          4.7,
          4.8,
          4.7,
          4.8,
          4.8,
          4.8,
          4.8,
          4.8,
          4.5,
          4.6,
          4.7,
          4.5,
          4.6,
          4.6,
          4.8,
          4.5,
          4.7,
          4.8,
          4.8,
          4.6,
          4.8,
          4.7,
          4.8,
          4.6,
          4.8,
          4.8,
          4.7,
          4.7,
          4.8,
          4.8,
          4.9,
          4.7,
          4.4,
          4.6,
          4.8,
          4.6,
          4.7,
          4.9,
          4.5,
          4.6,
          4.3,
          4.5,
          4.7,
          4.7,
          4.7,
          4.7,
          4.7,
          4.6,
          4.7,
          4.8,
          4.4,
          4.7,
          4.7,
          4.7,
          4.8,
          4.9,
          4.7,
          4.8,
          4.8,
          4.6,
          4.8,
          4.3,
          4.7,
          4.8,
          4.8,
          4.5,
          4.8,
          4.7,
          4.4,
          4.6,
          4.6,
          4.4,
          4.4,
          4.7,
          4.6,
          4.5,
          4.6,
          4.8,
          4.7,
          4.7,
          4.6,
          4.6,
          4.7,
          4.8,
          4.6,
          4.8,
          4.7,
          4.4,
          4.9,
          4.8,
          4.6,
          4.8,
          4.7,
          4.9,
          4.7,
          4.9,
          4.7,
          4.8,
          4.8,
          4.8,
          4.6,
          4.5,
          4.8,
          4.8,
          4.8,
          4.7,
          4.6,
          4.8,
          4.7,
          4.7,
          4.8,
          4.6,
          4.8,
          4.7,
          4.9,
          4.8,
          4.4,
          4.6,
          4.7,
          4.8,
          4.8,
          4.6,
          4.8,
          4.8,
          4.7,
          4.9,
          4.8,
          4.2,
          4.7,
          4.8,
          4.7,
          4.7,
          4.8,
          4.7,
          4.7,
          4.7,
          4.7,
          4.6,
          4.8,
          4.7,
          4.8,
          4.4,
          4.3,
          4.8,
          4.7,
          4.5,
          4.6,
          4.5,
          4.6,
          4.6,
          4.6,
          4.6,
          4.8,
          4.8,
          4.6,
          4.7,
          4.7,
          4.8,
          4.8,
          4.7,
          4.8,
          4.8,
          4.2,
          4.6,
          4.5,
          4.7,
          4.8,
          4.8,
          3.3,
          4.6,
          4.4,
          4.8,
          5,
          4.4,
          4.7,
          4.7,
          4.8,
          4.2,
          4.6,
          4.8,
          4.5,
          4.5,
          4.4,
          4.8,
          4.8,
          4.8,
          4.8,
          4.6,
          4.8,
          4.8,
          4.6,
          4.9,
          4.7,
          4.8,
          4.8,
          4.9,
          4.6,
          4.7,
          4.5,
          4.7,
          4.5,
          4.7,
          4.8,
          4.7,
          4.9,
          4.8,
          4.8,
          4.6,
          4.7,
          4.8,
          4.8,
          4.8,
          4.5,
          4.6,
          4.8,
          4.8,
          4.2,
          4.8,
          4.8,
          4.7,
          4.7,
          4,
          4.7,
          4.7,
          4.7,
          4.7,
          4.8,
          4.5,
          4.8,
          4.7,
          4.5,
          4.8,
          4.6,
          4.6,
          4.9,
          4.6,
          3.7,
          4.6,
          3.9,
          4.7,
          4.5,
          4.7,
          4.7,
          4.7,
          4.8,
          4.4,
          4.2,
          4.7,
          4,
          4.9,
          4.7,
          4.8,
          4.6,
          4.7,
          4.7,
          4.8,
          4.9,
          4.9,
          4.8,
          4.9,
          4.8,
          4.6,
          4.8,
          4.8,
          4.7,
          4.9,
          4.7,
          4.8,
          4.7,
          4.7,
          4.7,
          4.8,
          4.7,
          4.2,
          4.7,
          4.5,
          4.5,
          4.5,
          4.7,
          4.8,
          4.7,
          4.8,
          4.6,
          4.8,
          4.8,
          4.8,
          4.7,
          4.8,
          4.8,
          4.6,
          4.8,
          4.7,
          4.9,
          4.4,
          4.7,
          4.6,
          4.3,
          4.7,
          4.7,
          4.6,
          4.8,
          4.9,
          4.9,
          4.5,
          4.8,
          4.5,
          4.7,
          4.4,
          4.7,
          4.7,
          4.8,
          4.5,
          4.7,
          4.7,
          4.8,
          4.6,
          4.7,
          4.8,
          4.6,
          4.7,
          4.8,
          4.9,
          4.3,
          4.7,
          4.5,
          4.8,
          4.8,
          4.6,
          4.6,
          4.8,
          4.4,
          4.9,
          4.9,
          4.4,
          4.8,
          4.7,
          4.5,
          4.8,
          4.7,
          4.6,
          4.8,
          4.8,
          4.9,
          4.6,
          4.9,
          4.6,
          4.7,
          4.6,
          4.7,
          4.9,
          4.6,
          4.5,
          4.7,
          4.8,
          4.9,
          4.8,
          4.8,
          4.4,
          4.5,
          4.5,
          4.9,
          4.6,
          4.8,
          4.8,
          4.7,
          4.8,
          4.7,
          4.8,
          4.8,
          4.7,
          4.8,
          4.6,
          4.8,
          4.7,
          4.5,
          3.9,
          4.8,
          4.9,
          4.7,
          4.5,
          4.9,
          4.7,
          4.5,
          4.8,
          4.5,
          4.6
         ],
         "yaxis": "y2"
        }
       ],
       "layout": {
        "annotations": [
         {
          "font": {},
          "showarrow": false,
          "text": "Difficulty=Beginner",
          "x": 0.245,
          "xanchor": "center",
          "xref": "paper",
          "y": 1,
          "yanchor": "bottom",
          "yref": "paper"
         },
         {
          "font": {},
          "showarrow": false,
          "text": "Difficulty=Non-beginner",
          "x": 0.755,
          "xanchor": "center",
          "xref": "paper",
          "y": 1,
          "yanchor": "bottom",
          "yref": "paper"
         }
        ],
        "legend": {
         "title": {
          "text": "Difficulty"
         },
         "tracegroupgap": 0
        },
        "paper_bgcolor": "rgb(250, 250, 238)",
        "plot_bgcolor": "rgb(250, 250, 238)",
        "template": {
         "data": {
          "bar": [
           {
            "error_x": {
             "color": "#2a3f5f"
            },
            "error_y": {
             "color": "#2a3f5f"
            },
            "marker": {
             "line": {
              "color": "#E5ECF6",
              "width": 0.5
             },
             "pattern": {
              "fillmode": "overlay",
              "size": 10,
              "solidity": 0.2
             }
            },
            "type": "bar"
           }
          ],
          "barpolar": [
           {
            "marker": {
             "line": {
              "color": "#E5ECF6",
              "width": 0.5
             },
             "pattern": {
              "fillmode": "overlay",
              "size": 10,
              "solidity": 0.2
             }
            },
            "type": "barpolar"
           }
          ],
          "carpet": [
           {
            "aaxis": {
             "endlinecolor": "#2a3f5f",
             "gridcolor": "white",
             "linecolor": "white",
             "minorgridcolor": "white",
             "startlinecolor": "#2a3f5f"
            },
            "baxis": {
             "endlinecolor": "#2a3f5f",
             "gridcolor": "white",
             "linecolor": "white",
             "minorgridcolor": "white",
             "startlinecolor": "#2a3f5f"
            },
            "type": "carpet"
           }
          ],
          "choropleth": [
           {
            "colorbar": {
             "outlinewidth": 0,
             "ticks": ""
            },
            "type": "choropleth"
           }
          ],
          "contour": [
           {
            "colorbar": {
             "outlinewidth": 0,
             "ticks": ""
            },
            "colorscale": [
             [
              0,
              "#0d0887"
             ],
             [
              0.1111111111111111,
              "#46039f"
             ],
             [
              0.2222222222222222,
              "#7201a8"
             ],
             [
              0.3333333333333333,
              "#9c179e"
             ],
             [
              0.4444444444444444,
              "#bd3786"
             ],
             [
              0.5555555555555556,
              "#d8576b"
             ],
             [
              0.6666666666666666,
              "#ed7953"
             ],
             [
              0.7777777777777778,
              "#fb9f3a"
             ],
             [
              0.8888888888888888,
              "#fdca26"
             ],
             [
              1,
              "#f0f921"
             ]
            ],
            "type": "contour"
           }
          ],
          "contourcarpet": [
           {
            "colorbar": {
             "outlinewidth": 0,
             "ticks": ""
            },
            "type": "contourcarpet"
           }
          ],
          "heatmap": [
           {
            "colorbar": {
             "outlinewidth": 0,
             "ticks": ""
            },
            "colorscale": [
             [
              0,
              "#0d0887"
             ],
             [
              0.1111111111111111,
              "#46039f"
             ],
             [
              0.2222222222222222,
              "#7201a8"
             ],
             [
              0.3333333333333333,
              "#9c179e"
             ],
             [
              0.4444444444444444,
              "#bd3786"
             ],
             [
              0.5555555555555556,
              "#d8576b"
             ],
             [
              0.6666666666666666,
              "#ed7953"
             ],
             [
              0.7777777777777778,
              "#fb9f3a"
             ],
             [
              0.8888888888888888,
              "#fdca26"
             ],
             [
              1,
              "#f0f921"
             ]
            ],
            "type": "heatmap"
           }
          ],
          "heatmapgl": [
           {
            "colorbar": {
             "outlinewidth": 0,
             "ticks": ""
            },
            "colorscale": [
             [
              0,
              "#0d0887"
             ],
             [
              0.1111111111111111,
              "#46039f"
             ],
             [
              0.2222222222222222,
              "#7201a8"
             ],
             [
              0.3333333333333333,
              "#9c179e"
             ],
             [
              0.4444444444444444,
              "#bd3786"
             ],
             [
              0.5555555555555556,
              "#d8576b"
             ],
             [
              0.6666666666666666,
              "#ed7953"
             ],
             [
              0.7777777777777778,
              "#fb9f3a"
             ],
             [
              0.8888888888888888,
              "#fdca26"
             ],
             [
              1,
              "#f0f921"
             ]
            ],
            "type": "heatmapgl"
           }
          ],
          "histogram": [
           {
            "marker": {
             "pattern": {
              "fillmode": "overlay",
              "size": 10,
              "solidity": 0.2
             }
            },
            "type": "histogram"
           }
          ],
          "histogram2d": [
           {
            "colorbar": {
             "outlinewidth": 0,
             "ticks": ""
            },
            "colorscale": [
             [
              0,
              "#0d0887"
             ],
             [
              0.1111111111111111,
              "#46039f"
             ],
             [
              0.2222222222222222,
              "#7201a8"
             ],
             [
              0.3333333333333333,
              "#9c179e"
             ],
             [
              0.4444444444444444,
              "#bd3786"
             ],
             [
              0.5555555555555556,
              "#d8576b"
             ],
             [
              0.6666666666666666,
              "#ed7953"
             ],
             [
              0.7777777777777778,
              "#fb9f3a"
             ],
             [
              0.8888888888888888,
              "#fdca26"
             ],
             [
              1,
              "#f0f921"
             ]
            ],
            "type": "histogram2d"
           }
          ],
          "histogram2dcontour": [
           {
            "colorbar": {
             "outlinewidth": 0,
             "ticks": ""
            },
            "colorscale": [
             [
              0,
              "#0d0887"
             ],
             [
              0.1111111111111111,
              "#46039f"
             ],
             [
              0.2222222222222222,
              "#7201a8"
             ],
             [
              0.3333333333333333,
              "#9c179e"
             ],
             [
              0.4444444444444444,
              "#bd3786"
             ],
             [
              0.5555555555555556,
              "#d8576b"
             ],
             [
              0.6666666666666666,
              "#ed7953"
             ],
             [
              0.7777777777777778,
              "#fb9f3a"
             ],
             [
              0.8888888888888888,
              "#fdca26"
             ],
             [
              1,
              "#f0f921"
             ]
            ],
            "type": "histogram2dcontour"
           }
          ],
          "mesh3d": [
           {
            "colorbar": {
             "outlinewidth": 0,
             "ticks": ""
            },
            "type": "mesh3d"
           }
          ],
          "parcoords": [
           {
            "line": {
             "colorbar": {
              "outlinewidth": 0,
              "ticks": ""
             }
            },
            "type": "parcoords"
           }
          ],
          "pie": [
           {
            "automargin": true,
            "type": "pie"
           }
          ],
          "scatter": [
           {
            "fillpattern": {
             "fillmode": "overlay",
             "size": 10,
             "solidity": 0.2
            },
            "type": "scatter"
           }
          ],
          "scatter3d": [
           {
            "line": {
             "colorbar": {
              "outlinewidth": 0,
              "ticks": ""
             }
            },
            "marker": {
             "colorbar": {
              "outlinewidth": 0,
              "ticks": ""
             }
            },
            "type": "scatter3d"
           }
          ],
          "scattercarpet": [
           {
            "marker": {
             "colorbar": {
              "outlinewidth": 0,
              "ticks": ""
             }
            },
            "type": "scattercarpet"
           }
          ],
          "scattergeo": [
           {
            "marker": {
             "colorbar": {
              "outlinewidth": 0,
              "ticks": ""
             }
            },
            "type": "scattergeo"
           }
          ],
          "scattergl": [
           {
            "marker": {
             "colorbar": {
              "outlinewidth": 0,
              "ticks": ""
             }
            },
            "type": "scattergl"
           }
          ],
          "scattermapbox": [
           {
            "marker": {
             "colorbar": {
              "outlinewidth": 0,
              "ticks": ""
             }
            },
            "type": "scattermapbox"
           }
          ],
          "scatterpolar": [
           {
            "marker": {
             "colorbar": {
              "outlinewidth": 0,
              "ticks": ""
             }
            },
            "type": "scatterpolar"
           }
          ],
          "scatterpolargl": [
           {
            "marker": {
             "colorbar": {
              "outlinewidth": 0,
              "ticks": ""
             }
            },
            "type": "scatterpolargl"
           }
          ],
          "scatterternary": [
           {
            "marker": {
             "colorbar": {
              "outlinewidth": 0,
              "ticks": ""
             }
            },
            "type": "scatterternary"
           }
          ],
          "surface": [
           {
            "colorbar": {
             "outlinewidth": 0,
             "ticks": ""
            },
            "colorscale": [
             [
              0,
              "#0d0887"
             ],
             [
              0.1111111111111111,
              "#46039f"
             ],
             [
              0.2222222222222222,
              "#7201a8"
             ],
             [
              0.3333333333333333,
              "#9c179e"
             ],
             [
              0.4444444444444444,
              "#bd3786"
             ],
             [
              0.5555555555555556,
              "#d8576b"
             ],
             [
              0.6666666666666666,
              "#ed7953"
             ],
             [
              0.7777777777777778,
              "#fb9f3a"
             ],
             [
              0.8888888888888888,
              "#fdca26"
             ],
             [
              1,
              "#f0f921"
             ]
            ],
            "type": "surface"
           }
          ],
          "table": [
           {
            "cells": {
             "fill": {
              "color": "#EBF0F8"
             },
             "line": {
              "color": "white"
             }
            },
            "header": {
             "fill": {
              "color": "#C8D4E3"
             },
             "line": {
              "color": "white"
             }
            },
            "type": "table"
           }
          ]
         },
         "layout": {
          "annotationdefaults": {
           "arrowcolor": "#2a3f5f",
           "arrowhead": 0,
           "arrowwidth": 1
          },
          "autotypenumbers": "strict",
          "coloraxis": {
           "colorbar": {
            "outlinewidth": 0,
            "ticks": ""
           }
          },
          "colorscale": {
           "diverging": [
            [
             0,
             "#8e0152"
            ],
            [
             0.1,
             "#c51b7d"
            ],
            [
             0.2,
             "#de77ae"
            ],
            [
             0.3,
             "#f1b6da"
            ],
            [
             0.4,
             "#fde0ef"
            ],
            [
             0.5,
             "#f7f7f7"
            ],
            [
             0.6,
             "#e6f5d0"
            ],
            [
             0.7,
             "#b8e186"
            ],
            [
             0.8,
             "#7fbc41"
            ],
            [
             0.9,
             "#4d9221"
            ],
            [
             1,
             "#276419"
            ]
           ],
           "sequential": [
            [
             0,
             "#0d0887"
            ],
            [
             0.1111111111111111,
             "#46039f"
            ],
            [
             0.2222222222222222,
             "#7201a8"
            ],
            [
             0.3333333333333333,
             "#9c179e"
            ],
            [
             0.4444444444444444,
             "#bd3786"
            ],
            [
             0.5555555555555556,
             "#d8576b"
            ],
            [
             0.6666666666666666,
             "#ed7953"
            ],
            [
             0.7777777777777778,
             "#fb9f3a"
            ],
            [
             0.8888888888888888,
             "#fdca26"
            ],
            [
             1,
             "#f0f921"
            ]
           ],
           "sequentialminus": [
            [
             0,
             "#0d0887"
            ],
            [
             0.1111111111111111,
             "#46039f"
            ],
            [
             0.2222222222222222,
             "#7201a8"
            ],
            [
             0.3333333333333333,
             "#9c179e"
            ],
            [
             0.4444444444444444,
             "#bd3786"
            ],
            [
             0.5555555555555556,
             "#d8576b"
            ],
            [
             0.6666666666666666,
             "#ed7953"
            ],
            [
             0.7777777777777778,
             "#fb9f3a"
            ],
            [
             0.8888888888888888,
             "#fdca26"
            ],
            [
             1,
             "#f0f921"
            ]
           ]
          },
          "colorway": [
           "#636efa",
           "#EF553B",
           "#00cc96",
           "#ab63fa",
           "#FFA15A",
           "#19d3f3",
           "#FF6692",
           "#B6E880",
           "#FF97FF",
           "#FECB52"
          ],
          "font": {
           "color": "#2a3f5f"
          },
          "geo": {
           "bgcolor": "white",
           "lakecolor": "white",
           "landcolor": "#E5ECF6",
           "showlakes": true,
           "showland": true,
           "subunitcolor": "white"
          },
          "hoverlabel": {
           "align": "left"
          },
          "hovermode": "closest",
          "mapbox": {
           "style": "light"
          },
          "paper_bgcolor": "white",
          "plot_bgcolor": "#E5ECF6",
          "polar": {
           "angularaxis": {
            "gridcolor": "white",
            "linecolor": "white",
            "ticks": ""
           },
           "bgcolor": "#E5ECF6",
           "radialaxis": {
            "gridcolor": "white",
            "linecolor": "white",
            "ticks": ""
           }
          },
          "scene": {
           "xaxis": {
            "backgroundcolor": "#E5ECF6",
            "gridcolor": "white",
            "gridwidth": 2,
            "linecolor": "white",
            "showbackground": true,
            "ticks": "",
            "zerolinecolor": "white"
           },
           "yaxis": {
            "backgroundcolor": "#E5ECF6",
            "gridcolor": "white",
            "gridwidth": 2,
            "linecolor": "white",
            "showbackground": true,
            "ticks": "",
            "zerolinecolor": "white"
           },
           "zaxis": {
            "backgroundcolor": "#E5ECF6",
            "gridcolor": "white",
            "gridwidth": 2,
            "linecolor": "white",
            "showbackground": true,
            "ticks": "",
            "zerolinecolor": "white"
           }
          },
          "shapedefaults": {
           "line": {
            "color": "#2a3f5f"
           }
          },
          "ternary": {
           "aaxis": {
            "gridcolor": "white",
            "linecolor": "white",
            "ticks": ""
           },
           "baxis": {
            "gridcolor": "white",
            "linecolor": "white",
            "ticks": ""
           },
           "bgcolor": "#E5ECF6",
           "caxis": {
            "gridcolor": "white",
            "linecolor": "white",
            "ticks": ""
           }
          },
          "title": {
           "x": 0.05
          },
          "xaxis": {
           "automargin": true,
           "gridcolor": "white",
           "linecolor": "white",
           "ticks": "",
           "title": {
            "standoff": 15
           },
           "zerolinecolor": "white",
           "zerolinewidth": 2
          },
          "yaxis": {
           "automargin": true,
           "gridcolor": "white",
           "linecolor": "white",
           "ticks": "",
           "title": {
            "standoff": 15
           },
           "zerolinecolor": "white",
           "zerolinewidth": 2
          }
         }
        },
        "title": {
         "text": "Impact of ratings on students enrolled by difficulty"
        },
        "xaxis": {
         "anchor": "y",
         "domain": [
          0,
          0.49
         ],
         "title": {
          "text": "Nº of students enrolled"
         }
        },
        "xaxis2": {
         "anchor": "y2",
         "domain": [
          0.51,
          1
         ],
         "matches": "x",
         "title": {
          "text": "Nº of students enrolled"
         }
        },
        "yaxis": {
         "anchor": "x",
         "domain": [
          0,
          1
         ],
         "title": {
          "text": "Rating"
         }
        },
        "yaxis2": {
         "anchor": "x2",
         "domain": [
          0,
          1
         ],
         "matches": "y",
         "showticklabels": false
        }
       }
      }
     },
     "metadata": {},
     "output_type": "display_data"
    }
   ],
   "source": [
    "fig = px.scatter(\n",
    "    df,\n",
    "    x='course_students_enrolled',\n",
    "    y='course_rating',\n",
    "    color='difficulty_groups',\n",
    "    facet_col='difficulty_groups',  \n",
    "    title='Impact of ratings on students enrolled by difficulty',\n",
    "    labels={'difficulty_groups': 'Difficulty',\n",
    "            'course_students_enrolled': 'Nº of students enrolled', \n",
    "            'course_rating': 'Rating'},\n",
    "    hover_data=['course_title', \n",
    "                'course_organization'],\n",
    "    color_discrete_map={'Beginner': '#008080', \n",
    "                        'Non-beginner': '#808000'})\n",
    "\n",
    "fig.update_layout(paper_bgcolor='rgb(250, 250, 238)',  \n",
    "    plot_bgcolor='rgb(250, 250, 238)')\n",
    "\n",
    "fig.show()"
   ]
  },
  {
   "cell_type": "code",
   "execution_count": 137,
   "metadata": {},
   "outputs": [
    {
     "name": "stdout",
     "output_type": "stream",
     "text": [
      "The 5 best-ranked courses are:\n",
      "Course Name: Machine Learning | Students Enrolled: 3200000 | Rating: 4.9 | Difficulty: Non-beginner\n",
      "Course Name: The Science of Well-Being | Students Enrolled: 2500000 | Rating: 4.9 | Difficulty: Non-beginner\n",
      "Course Name: Python for Everybody | Students Enrolled: 1500000 | Rating: 4.8 | Difficulty: Beginner\n",
      "Course Name: Programming for Everybody (Getting Started with Python) | Students Enrolled: 1300000 | Rating: 4.8 | Difficulty: Non-beginner\n",
      "Course Name: Data Science | Students Enrolled: 830000 | Rating: 4.5 | Difficulty: Beginner\n"
     ]
    }
   ],
   "source": [
    "#To check the top 5 courses in the data set, according to the students enrolled\n",
    "best_ranked_courses = df.sort_values(by='course_students_enrolled', \n",
    "                                     ascending=False).head(5)\n",
    "\n",
    "print(\"The 5 best-ranked courses are:\")\n",
    "for index, row in best_ranked_courses.iterrows():\n",
    "    print(f\"Course Name: {row['course_title']} | Students Enrolled: {row['course_students_enrolled']} | Rating: {row['course_rating']} | Difficulty: {row['difficulty_groups']}\")\n",
    "\n",
    "                     "
   ]
  },
  {
   "cell_type": "code",
   "execution_count": null,
   "metadata": {},
   "outputs": [
    {
     "name": "stdout",
     "output_type": "stream",
     "text": [
      "T-statistic: 0.722\n",
      "P-value: 0.4705\n"
     ]
    }
   ],
   "source": [
    "#T-test for course ratings between beginner and non beginner courses\n",
    "beginner_ratings = df[df['difficulty_groups'] == 'beginner']['course_rating']\n",
    "non_beginner_ratings = df[df['difficulty_groups'] == 'Non-beginner']['course_rating']\n",
    "\n",
    "t_stat, p_value = stats.ttest_ind(beginner_ratings,\n",
    "                                  non_beginner_ratings)\n",
    "\n",
    "\n",
    "t_stat_round = round(t_stat, 4)\n",
    "p_value_round = round(p_value, 4)\n",
    "\n",
    "\n",
    "print(f\"T-statistic: {t_stat_round}\")\n",
    "print(f\"P-value: {p_value_round}\")\n",
    "\n"
   ]
  },
  {
   "cell_type": "code",
   "execution_count": null,
   "metadata": {},
   "outputs": [
    {
     "name": "stdout",
     "output_type": "stream",
     "text": [
      "T-statistic: -1.5462\n",
      "P-value: 0.1224\n"
     ]
    }
   ],
   "source": [
    "#T-test for students enrolled between beginner and non beginner courses\n",
    "beginner_students = df[df['difficulty_groups'] == 'beginner']['course_students_enrolled']\n",
    "non_beginner_students = df[df['difficulty_groups'] == 'Non-beginner']['course_students_enrolled']\n",
    "\n",
    "t_stat, p_value = stats.ttest_ind(beginner_students,\n",
    "                                  non_beginner_students)\n",
    "\n",
    "t_stat_round = round(t_stat, 4)\n",
    "p_value_round = round(p_value, 4)\n",
    "\n",
    "print(f\"T-statistic: {t_stat_round}\")\n",
    "print(f\"P-value: {p_value_round}\")"
   ]
  },
  {
   "cell_type": "markdown",
   "metadata": {},
   "source": [
    "# Conclusion:\n",
    "##### With all the data and t-test completed, we cannot reject the null hypothesis, and come to the conclusion that there’s no statistical difference between beginner and non-beginner courses regarding to their popularity or their rating.\n"
   ]
  },
  {
   "cell_type": "markdown",
   "metadata": {},
   "source": [
    "## Ways to expand more this analysis\n",
    "- Can check if type of certification has an impact on the students enrolled and course rating\n",
    "- Are there any particular organizations that have better ratings compared to others\n",
    "- Look deeper into course themes that can be more popular in this data set"
   ]
  }
 ],
 "metadata": {
  "kernelspec": {
   "display_name": "tic_tac_toe",
   "language": "python",
   "name": "python3"
  },
  "language_info": {
   "codemirror_mode": {
    "name": "ipython",
    "version": 3
   },
   "file_extension": ".py",
   "mimetype": "text/x-python",
   "name": "python",
   "nbconvert_exporter": "python",
   "pygments_lexer": "ipython3",
   "version": "3.12.7"
  }
 },
 "nbformat": 4,
 "nbformat_minor": 2
}
